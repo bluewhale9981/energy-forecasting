{
 "cells": [
  {
   "cell_type": "code",
   "execution_count": 60,
   "metadata": {},
   "outputs": [],
   "source": [
    "%matplotlib inline\n",
    "\n",
    "# plotting\n",
    "import matplotlib as mpl\n",
    "mpl.style.use('ggplot')\n",
    "import matplotlib.pyplot as plt\n",
    "\n",
    "# math and data manipulation\n",
    "import numpy as np\n",
    "import pandas as pd\n",
    "\n",
    "# to handle paths\n",
    "from pathlib import Path\n",
    "\n",
    "# set random seeds \n",
    "from numpy.random import seed\n",
    "from tensorflow import set_random_seed\n",
    "\n",
    "# Tensorflow\n",
    "from tensorflow import keras \n",
    "import tensorflow as tf\n",
    "\n",
    "# progress bar\n",
    "from tqdm import tqdm\n",
    "\n",
    "from csef.utils import performance\n",
    "from sklearn.preprocessing import MinMaxScaler\n",
    "from math import sqrt\n",
    "from sklearn.metrics import mean_squared_error\n",
    "\n",
    "RANDOM_SEED = 2018\n",
    "seed(RANDOM_SEED)\n",
    "set_random_seed(RANDOM_SEED)"
   ]
  },
  {
   "cell_type": "markdown",
   "metadata": {},
   "source": [
    "## Data Loading"
   ]
  },
  {
   "cell_type": "code",
   "execution_count": 3,
   "metadata": {},
   "outputs": [],
   "source": [
    "data_path = Path('..', '..', 'data', 'raw')\n",
    "consumption_train = pd.read_csv(data_path / 'consumption_train.csv', \n",
    "                                index_col=0, parse_dates=['timestamp'])\n",
    "cold_start_test = pd.read_csv(data_path / 'cold_start_test.csv', \n",
    "                              index_col=0, parse_dates=['timestamp'])\n",
    "submission_format = pd.read_csv(data_path / 'submission_format.csv',\n",
    "                                index_col='pred_id',\n",
    "                                parse_dates=['timestamp'])"
   ]
  },
  {
   "cell_type": "code",
   "execution_count": 49,
   "metadata": {},
   "outputs": [],
   "source": [
    "# fit a model\n",
    "def model_build(config, loss='mean_absolute_error', optimizer='adam', stateful=True):\n",
    "    n_input, n_nodes, n_batch = config\n",
    "\n",
    "    # model parameters\n",
    "    # n_batch should be 1 \n",
    "    lag = n_input\n",
    "    batch_input_shape=(n_batch, 1, lag)\n",
    "\n",
    "    # instantiate a sequential model\n",
    "    model = keras.Sequential()\n",
    "\n",
    "    # add LSTM layer - stateful MUST be true here in \n",
    "    # order to learn the patterns within a series\n",
    "    model.add(keras.layers.LSTM(units=n_nodes, \n",
    "                  batch_input_shape=batch_input_shape, \n",
    "                  stateful=stateful))\n",
    "\n",
    "    # followed by a dense layer with a single output for regression\n",
    "    model.add(keras.layers.Dense(1))\n",
    "\n",
    "    # compile\n",
    "    model.compile(loss=loss, optimizer=optimizer)\n",
    "    \n",
    "    return model\n",
    "\n",
    "def model_fit(model, train_df, config, train_col='consumption', group_col='series_id'):\n",
    "    n_input, _, n_batch = config\n",
    "\n",
    "    for ser_id, ser_data in train_df.groupby(group_col):\n",
    "\n",
    "        # prepare the data\n",
    "        X, y, scaler = prepare_training_data(ser_data[train_col], n_input)\n",
    "\n",
    "        # fit the model: note that we don't shuffle batches (it would ruin the sequence)\n",
    "        # and that we reset states only after an entire X has been fit, instead of after\n",
    "        # each (size 1) batch, as is the case when stateful=False\n",
    "        model.fit(X, y, epochs=1, batch_size=n_batch, verbose=0, shuffle=False)\n",
    "        model.reset_states()\n",
    "\n",
    "    return model\n",
    "\n",
    "# forecast with a pre-fit model\n",
    "def model_predict(model, consumption, config, scaler, num_pred_hours=24, is_inverse_transform=True):\n",
    "    n_input, _, _ = config\n",
    "    \n",
    "    # allocate prediction frame\n",
    "    preds_scaled = np.zeros(num_pred_hours)\n",
    "    \n",
    "    # initial X is last lag values from the cold start\n",
    "    X = scaler.transform(consumption.values.reshape(-1, 1))[-n_input:]\n",
    "    \n",
    "    # forecast\n",
    "    for i in range(num_pred_hours):\n",
    "        # predict scaled value for next time step\n",
    "        yhat = model.predict(X.reshape(1, 1, n_input), batch_size=1)[0][0]\n",
    "        preds_scaled[i] = yhat\n",
    "        \n",
    "        # update X to be latest data plus prediction\n",
    "        X = pd.Series(X.ravel()).shift(-1).fillna(yhat).values\n",
    "\n",
    "    # revert scale back to original range\n",
    "    if is_inverse_transform:\n",
    "        hourly_preds = scaler.inverse_transform(preds_scaled.reshape(-1, 1)).ravel()\n",
    "    else:\n",
    "        hourly_preds = preds_scaled\n",
    "\n",
    "    return hourly_preds"
   ]
  },
  {
   "cell_type": "code",
   "execution_count": 74,
   "metadata": {},
   "outputs": [],
   "source": [
    "def create_lagged_features(df, lag=1):\n",
    "    if not type(df) == pd.DataFrame:\n",
    "        df = pd.DataFrame(df, columns=['consumption'])\n",
    "    \n",
    "    def _rename_lag(ser, j):\n",
    "        ser.name = ser.name + f'_{j}'\n",
    "        return ser\n",
    "        \n",
    "    # add a column lagged by `i` steps\n",
    "    for i in range(1, lag + 1):\n",
    "        df = df.join(df.consumption.shift(i).pipe(_rename_lag, i))\n",
    "\n",
    "    df.dropna(inplace=True)\n",
    "    return df\n",
    "\n",
    "def prepare_training_data(consumption_vals, lag):\n",
    "    \"\"\" Converts a series of consumption data into a\n",
    "        lagged, scaled sample.\n",
    "    \"\"\"\n",
    "    # convert consumption series to lagged features\n",
    "    consumption_lagged = create_lagged_features(consumption_vals, lag=lag)\n",
    "\n",
    "    # X, y format taking the first column (original time series) to be the y\n",
    "    X = consumption_lagged.drop('consumption', axis=1).values\n",
    "    y = consumption_lagged.consumption.values\n",
    "    \n",
    "    # keras expects 3 dimensional X\n",
    "    X = X.reshape(X.shape[0], 1, X.shape[1])\n",
    "    \n",
    "    return X, y, scaler\n",
    "\n",
    "# root mean squared error or rmse\n",
    "def measure_rmse(actual, predicted):\n",
    "    return sqrt(mean_squared_error(actual, predicted))\n",
    "\n",
    "# walk-forward validation for univariate data\n",
    "def walk_forward_validation(train, test, cfg, scaler, group_col='series_id'):\n",
    "    errors = []\n",
    "    \n",
    "    # fit model\n",
    "    model = model_build(cfg)\n",
    "    model = model_fit(model, train_df, cfg)\n",
    "        \n",
    "    for ser_id, ser_data in test.groupby(group_col):\n",
    "        yhat = model_predict(model, train[train.series_id == ser_id].consumption, cfg, scaler, is_inverse_transform=False)\n",
    "        errors.append(measure_rmse(ser_data.consumption, yhat))\n",
    "        model.reset_states()\n",
    "\n",
    "    # estimate prediction error\n",
    "    error = np.mean(errors)\n",
    "    print(' > %.3f' % error)\n",
    "    return error\n",
    "\n",
    "# repeat evaluation of a config\n",
    "def repeat_evaluate(train, test, config, scaler, n_repeats=30):\n",
    "    # fit and evaluate the model n times\n",
    "    scores = [walk_forward_validation(train, test, config, scaler) for _ in range(n_repeats)]\n",
    "    return scores\n",
    "\n",
    "# summarize model performance\n",
    "def summarize_scores(name, scores):\n",
    "    # print a summary\n",
    "    scores_m, score_std = np.mean(scores), np.std(scores)\n",
    "    print('%s: %.3f RMSE (+/- %.3f)' % (name, scores_m, score_std)) # box and whisker plot\n",
    "    plt.boxplot(scores)\n",
    "    plt.show()\n",
    "\n",
    "def sampling_data(df, frac=0.01):\n",
    "    rng = np.random.RandomState(seed=RANDOM_SEED)\n",
    "    series_ids = df.series_id.unique()\n",
    "    series_mask = rng.binomial(1, frac, size=series_ids.shape).astype(bool)\n",
    "\n",
    "    training_series = series_ids[series_mask]\n",
    "\n",
    "    # reduce training data to series subset\n",
    "    return df[df.series_id.isin(training_series)]\n",
    "\n",
    "def train_test_split(df, n_test=24, group_col='series_id'):\n",
    "    df = df.copy()\n",
    "    train_df = pd.DataFrame()\n",
    "    test_df = pd.DataFrame()\n",
    "\n",
    "    for ser_id, ser_data in df.groupby(group_col):\n",
    "        split_train, split_test = ser_data[:-n_test], ser_data[-n_test:]\n",
    "        \n",
    "        split_train[group_col] = ser_id\n",
    "        split_test[group_col] = ser_id\n",
    "        \n",
    "        train_df = train_df.append(split_train)\n",
    "        test_df = test_df.append(split_test)\n",
    "    \n",
    "    return train_df, test_df\n",
    "\n",
    "def describe_training_data(train_df):\n",
    "    num_training_series = train_df.series_id.nunique()\n",
    "    num_training_days = num_training_series * 28\n",
    "    num_training_hours = num_training_days * 24\n",
    "    \n",
    "    desc = f'There are {num_training_series} training ' \\\n",
    "           f'series totaling {num_training_days} days ' \\\n",
    "           f'({num_training_hours} hours) of consumption data.'\n",
    "    \n",
    "    print(desc)"
   ]
  },
  {
   "cell_type": "code",
   "execution_count": 6,
   "metadata": {},
   "outputs": [],
   "source": [
    "samp_df = sampling_data(consumption_train)"
   ]
  },
  {
   "cell_type": "code",
   "execution_count": 10,
   "metadata": {},
   "outputs": [
    {
     "name": "stdout",
     "output_type": "stream",
     "text": [
      "There are 10 training series totaling 280 days (6720 hours) of consumption data.\n"
     ]
    }
   ],
   "source": [
    "describe_training_data(samp_df)"
   ]
  },
  {
   "cell_type": "markdown",
   "metadata": {},
   "source": [
    "## Training"
   ]
  },
  {
   "cell_type": "code",
   "execution_count": 18,
   "metadata": {},
   "outputs": [
    {
     "name": "stderr",
     "output_type": "stream",
     "text": [
      "/home/thuongdinh/.virtualenvs/mlcsef/lib/python3.6/site-packages/ipykernel_launcher.py:3: SettingWithCopyWarning: \n",
      "A value is trying to be set on a copy of a slice from a DataFrame.\n",
      "Try using .loc[row_indexer,col_indexer] = value instead\n",
      "\n",
      "See the caveats in the documentation: http://pandas.pydata.org/pandas-docs/stable/indexing.html#indexing-view-versus-copy\n",
      "  This is separate from the ipykernel package so we can avoid doing imports until\n"
     ]
    }
   ],
   "source": [
    "# scale training data\n",
    "scaler = MinMaxScaler(feature_range=(-1, 1))\n",
    "samp_df['consumption'] = scaler.fit_transform(samp_df['consumption'].values.reshape(-1, 1))"
   ]
  },
  {
   "cell_type": "code",
   "execution_count": 19,
   "metadata": {},
   "outputs": [
    {
     "data": {
      "text/plain": [
       "7392    0.494236\n",
       "7393    0.589000\n",
       "7394    0.615719\n",
       "7395    0.592363\n",
       "7396    0.600871\n",
       "Name: consumption, dtype: float64"
      ]
     },
     "execution_count": 19,
     "metadata": {},
     "output_type": "execute_result"
    }
   ],
   "source": [
    "samp_df['consumption'].head()"
   ]
  },
  {
   "cell_type": "code",
   "execution_count": 20,
   "metadata": {},
   "outputs": [
    {
     "name": "stderr",
     "output_type": "stream",
     "text": [
      "/home/thuongdinh/.virtualenvs/mlcsef/lib/python3.6/site-packages/ipykernel_launcher.py:75: SettingWithCopyWarning: \n",
      "A value is trying to be set on a copy of a slice from a DataFrame.\n",
      "Try using .loc[row_indexer,col_indexer] = value instead\n",
      "\n",
      "See the caveats in the documentation: http://pandas.pydata.org/pandas-docs/stable/indexing.html#indexing-view-versus-copy\n",
      "/home/thuongdinh/.virtualenvs/mlcsef/lib/python3.6/site-packages/ipykernel_launcher.py:76: SettingWithCopyWarning: \n",
      "A value is trying to be set on a copy of a slice from a DataFrame.\n",
      "Try using .loc[row_indexer,col_indexer] = value instead\n",
      "\n",
      "See the caveats in the documentation: http://pandas.pydata.org/pandas-docs/stable/indexing.html#indexing-view-versus-copy\n"
     ]
    }
   ],
   "source": [
    "train_df, test_df = train_test_split(samp_df)"
   ]
  },
  {
   "cell_type": "code",
   "execution_count": 13,
   "metadata": {},
   "outputs": [
    {
     "name": "stdout",
     "output_type": "stream",
     "text": [
      "There are 10 training series totaling 280 days (6720 hours) of consumption data.\n"
     ]
    }
   ],
   "source": [
    "describe_training_data(train_df)"
   ]
  },
  {
   "cell_type": "code",
   "execution_count": 14,
   "metadata": {},
   "outputs": [
    {
     "name": "stdout",
     "output_type": "stream",
     "text": [
      "There are 10 training series totaling 280 days (6720 hours) of consumption data.\n"
     ]
    }
   ],
   "source": [
    "describe_training_data(test_df)"
   ]
  },
  {
   "cell_type": "code",
   "execution_count": 25,
   "metadata": {},
   "outputs": [],
   "source": [
    "config = [24, 24, 1]"
   ]
  },
  {
   "cell_type": "code",
   "execution_count": 70,
   "metadata": {},
   "outputs": [
    {
     "name": "stdout",
     "output_type": "stream",
     "text": [
      " > 0.291\n",
      " > 0.295\n",
      " > 0.284\n",
      " > 0.292\n",
      " > 0.287\n",
      " > 0.289\n",
      " > 0.293\n",
      " > 0.283\n",
      " > 0.289\n",
      " > 0.290\n",
      " > 0.301\n",
      " > 0.285\n",
      " > 0.288\n",
      " > 0.289\n",
      " > 0.291\n",
      " > 0.301\n",
      " > 0.296\n",
      " > 0.295\n",
      " > 0.297\n",
      " > 0.291\n",
      " > 0.297\n",
      " > 0.271\n",
      " > 0.294\n",
      " > 0.296\n",
      " > 0.287\n",
      " > 0.286\n",
      " > 0.296\n",
      " > 0.295\n",
      " > 0.294\n",
      " > 0.291\n"
     ]
    }
   ],
   "source": [
    "scores = repeat_evaluate(train_df, test_df, config, scaler)"
   ]
  },
  {
   "cell_type": "code",
   "execution_count": 75,
   "metadata": {},
   "outputs": [
    {
     "name": "stdout",
     "output_type": "stream",
     "text": [
      "lstm: 0.291 RMSE (+/- 0.006)\n"
     ]
    },
    {
     "data": {
      "image/png": "[encoded data removed]",
      "text/plain": [
       "<Figure size 432x288 with 1 Axes>"
      ]
     },
     "metadata": {},
     "output_type": "display_data"
    }
   ],
   "source": [
    "summarize_scores('lstm', scores)"
   ]
  },
  {
   "cell_type": "code",
   "execution_count": null,
   "metadata": {},
   "outputs": [],
   "source": []
  }
 ],
 "metadata": {
  "kernelspec": {
   "display_name": "Python 3",
   "language": "python",
   "name": "python3"
  },
  "language_info": {
   "codemirror_mode": {
    "name": "ipython",
    "version": 3
   },
   "file_extension": ".py",
   "mimetype": "text/x-python",
   "name": "python",
   "nbconvert_exporter": "python",
   "pygments_lexer": "ipython3",
   "version": "3.6.6"
  }
 },
 "nbformat": 4,
 "nbformat_minor": 2
}
