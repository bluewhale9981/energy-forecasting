{
 "cells": [
  {
   "cell_type": "markdown",
   "metadata": {},
   "source": [
    "## Summary"
   ]
  },
  {
   "cell_type": "markdown",
   "metadata": {},
   "source": [
    " - Baseline: 21602.538 RMSE (+/- 820.945)\n",
    " - Baseline, dropout 0.01: 21689.229 RMSE (+/- 1268.972)\n",
    " - Baseline, n_input*2: 24129.956 RMSE (+/- 1685.669)\n",
    " - Baseline, smaller input: 22559.187 RMSE (+/- 1413.026)\n",
    " - 1 level summary, dropout 0.1: 23338.893 RMSE (+/- 866.969)\n",
    " - 1 level summary, dropout 0.01 for both 2 layers: 22585.049 RMSE (+/- 1457.674)\n",
    " - 1 level summary, dropout 0.01 for both 2 layers and use tanh as activation: **21387.319 RMSE (+/- 1022.509)**\n",
    " - 2 level summary, dropout 0.01 for both 3 layers and use tanh as activation: 23709.684 RMSE (+/- 1366.114)\n",
    " - 1 level summary, dropout 0.01 for both 2 layers and use tanh as activation, for the output as well: 22669.199 RMSE (+/- 899.247)"
   ]
  },
  {
   "cell_type": "markdown",
   "metadata": {},
   "source": [
    "## Load libs"
   ]
  },
  {
   "cell_type": "code",
   "execution_count": 1,
   "metadata": {},
   "outputs": [],
   "source": [
    "%matplotlib inline\n",
    "\n",
    "# math and data manipulation\n",
    "import numpy as np\n",
    "import pandas as pd\n",
    "\n",
    "# to handle paths\n",
    "from pathlib import Path\n",
    "\n",
    "# set random seeds \n",
    "from numpy.random import seed\n",
    "from tensorflow import set_random_seed\n",
    "\n",
    "from sklearn.preprocessing import MinMaxScaler\n",
    "\n",
    "from csef.model import lstm\n",
    "from csef.data import preprocessing, load_data\n",
    "from csef.utils import performance\n",
    "from csef.model.base import GeneralModel\n",
    "\n",
    "RANDOM_SEED = 2018\n",
    "seed(RANDOM_SEED)\n",
    "set_random_seed(RANDOM_SEED)"
   ]
  },
  {
   "cell_type": "markdown",
   "metadata": {},
   "source": [
    "## Data Loading"
   ]
  },
  {
   "cell_type": "code",
   "execution_count": 2,
   "metadata": {},
   "outputs": [],
   "source": [
    "data_mapping = load_data.load_data()\n",
    "consumption_train = data_mapping['consumption_train']\n",
    "cold_start_test = data_mapping['cold_start_test']\n",
    "submission_format = data_mapping['submission_format']\n",
    "meta = data_mapping['meta']"
   ]
  },
  {
   "cell_type": "code",
   "execution_count": 3,
   "metadata": {},
   "outputs": [],
   "source": [
    "samp_df = load_data.sampling_data(consumption_train, frac=0.02)"
   ]
  },
  {
   "cell_type": "code",
   "execution_count": 4,
   "metadata": {},
   "outputs": [
    {
     "name": "stdout",
     "output_type": "stream",
     "text": [
      "There are 17 training series totaling 476 days (11424 hours) of consumption data.\n"
     ]
    }
   ],
   "source": [
    "load_data.describe_training_data(samp_df)"
   ]
  },
  {
   "cell_type": "markdown",
   "metadata": {},
   "source": [
    "## Training"
   ]
  },
  {
   "cell_type": "code",
   "execution_count": 5,
   "metadata": {},
   "outputs": [
    {
     "name": "stderr",
     "output_type": "stream",
     "text": [
      "/home/thuongdinh/ws/asnet-training/ml-training/ml-energy-forecasting/csef/data/load_data.py:49: SettingWithCopyWarning: \n",
      "A value is trying to be set on a copy of a slice from a DataFrame.\n",
      "Try using .loc[row_indexer,col_indexer] = value instead\n",
      "\n",
      "See the caveats in the documentation: http://pandas.pydata.org/pandas-docs/stable/indexing.html#indexing-view-versus-copy\n",
      "  split_train[group_col] = ser_id\n",
      "/home/thuongdinh/ws/asnet-training/ml-training/ml-energy-forecasting/csef/data/load_data.py:50: SettingWithCopyWarning: \n",
      "A value is trying to be set on a copy of a slice from a DataFrame.\n",
      "Try using .loc[row_indexer,col_indexer] = value instead\n",
      "\n",
      "See the caveats in the documentation: http://pandas.pydata.org/pandas-docs/stable/indexing.html#indexing-view-versus-copy\n",
      "  split_test[group_col] = ser_id\n"
     ]
    }
   ],
   "source": [
    "train_df, test_df = load_data.train_test_split(samp_df)"
   ]
  },
  {
   "cell_type": "code",
   "execution_count": 6,
   "metadata": {},
   "outputs": [
    {
     "name": "stdout",
     "output_type": "stream",
     "text": [
      "There are 17 training series totaling 476 days (11424 hours) of consumption data.\n"
     ]
    }
   ],
   "source": [
    "load_data.describe_training_data(train_df)"
   ]
  },
  {
   "cell_type": "code",
   "execution_count": 7,
   "metadata": {},
   "outputs": [],
   "source": [
    "# Default config\n",
    "n_batch = 1\n",
    "n_input = 24\n",
    "n_nodes = 24\n",
    "\n",
    "batch_input_shape = (n_batch, 1, n_input)"
   ]
  },
  {
   "cell_type": "markdown",
   "metadata": {},
   "source": [
    "## Baseline"
   ]
  },
  {
   "cell_type": "code",
   "execution_count": 10,
   "metadata": {},
   "outputs": [],
   "source": [
    "config = {\n",
    "    'n_input': n_input,\n",
    "    'n_nodes': n_nodes,\n",
    "    'n_batch': n_batch,\n",
    "    'model': [\n",
    "        {\n",
    "            'layer_type': 'LSTM',\n",
    "            'layer_config': {\n",
    "                'units': n_input,\n",
    "                'batch_input_shape': batch_input_shape,\n",
    "                'stateful': True\n",
    "            }\n",
    "        },\n",
    "        {\n",
    "            'layer_type': 'Dense',\n",
    "            'layer_config': {\n",
    "                'units': 1\n",
    "            }\n",
    "        }\n",
    "    ]\n",
    "}"
   ]
  },
  {
   "cell_type": "code",
   "execution_count": 11,
   "metadata": {},
   "outputs": [
    {
     "name": "stderr",
     "output_type": "stream",
     "text": [
      "Fitting the data: 100%|██████████| 17/17 [00:30<00:00,  1.71s/it]\n"
     ]
    },
    {
     "name": "stdout",
     "output_type": "stream",
     "text": [
      "Id: 100283, Error: 51477.76225067523\n",
      "Id: 100419, Error: 21662.251606591464\n",
      "Id: 100421, Error: 23245.445978141972\n",
      "Id: 100425, Error: 7583.343077772251\n",
      "Id: 100819, Error: 449.6558928292456\n",
      "Id: 100973, Error: 2305.1000217093165\n",
      "Id: 101211, Error: 7425.63019829345\n",
      "Id: 101321, Error: 3098.013203150132\n",
      "Id: 101569, Error: 16219.291891771407\n",
      "Id: 101751, Error: 12941.967609860445\n",
      "Id: 101819, Error: 4123.788489878422\n",
      "Id: 101980, Error: 196085.3309202393\n",
      "Id: 102008, Error: 16046.738036908666\n",
      "Id: 102093, Error: 1791.6328369786022\n",
      "Id: 102822, Error: 5096.363998816191\n",
      "Id: 102918, Error: 2242.5160173435056\n",
      "Id: 103320, Error: 1870.0038749163293\n",
      " > 21980.284\n"
     ]
    },
    {
     "name": "stderr",
     "output_type": "stream",
     "text": [
      "Fitting the data: 100%|██████████| 17/17 [00:30<00:00,  1.72s/it]\n"
     ]
    },
    {
     "name": "stdout",
     "output_type": "stream",
     "text": [
      "Id: 100283, Error: 41236.78781247816\n",
      "Id: 100419, Error: 19566.737611037206\n",
      "Id: 100421, Error: 23168.14933333441\n",
      "Id: 100425, Error: 7432.255258921716\n",
      "Id: 100819, Error: 377.83747850171386\n",
      "Id: 100973, Error: 2140.6996306607143\n",
      "Id: 101211, Error: 7272.141600550611\n",
      "Id: 101321, Error: 2264.6937757566766\n",
      "Id: 101569, Error: 16274.744499380424\n",
      "Id: 101751, Error: 13059.351428046246\n",
      "Id: 101819, Error: 3766.6332554447904\n",
      "Id: 101980, Error: 194445.07684879703\n",
      "Id: 102008, Error: 16372.34202506231\n",
      "Id: 102093, Error: 1469.1771701464422\n",
      "Id: 102822, Error: 4424.5381474467\n",
      "Id: 102918, Error: 1871.982830467546\n",
      "Id: 103320, Error: 1691.7974995194963\n",
      " > 20990.291\n"
     ]
    },
    {
     "name": "stderr",
     "output_type": "stream",
     "text": [
      "Fitting the data: 100%|██████████| 17/17 [00:31<00:00,  1.73s/it]\n"
     ]
    },
    {
     "name": "stdout",
     "output_type": "stream",
     "text": [
      "Id: 100283, Error: 52204.083310495334\n",
      "Id: 100419, Error: 19515.786197027028\n",
      "Id: 100421, Error: 21338.368296920988\n",
      "Id: 100425, Error: 8326.045394029861\n",
      "Id: 100819, Error: 396.0877163186962\n",
      "Id: 100973, Error: 2156.9269018088016\n",
      "Id: 101211, Error: 7136.005953168772\n",
      "Id: 101321, Error: 2209.7654273188687\n",
      "Id: 101569, Error: 16195.994188215087\n",
      "Id: 101751, Error: 13636.944444151333\n",
      "Id: 101819, Error: 4035.5989114253903\n",
      "Id: 101980, Error: 180361.57239374702\n",
      "Id: 102008, Error: 17927.607615845078\n",
      "Id: 102093, Error: 1310.058185497889\n",
      "Id: 102822, Error: 4818.903167008041\n",
      "Id: 102918, Error: 2251.890938112478\n",
      "Id: 103320, Error: 1528.933017643716\n",
      " > 20902.975\n"
     ]
    },
    {
     "name": "stderr",
     "output_type": "stream",
     "text": [
      "Fitting the data: 100%|██████████| 17/17 [00:31<00:00,  1.74s/it]\n"
     ]
    },
    {
     "name": "stdout",
     "output_type": "stream",
     "text": [
      "Id: 100283, Error: 62177.61910376844\n",
      "Id: 100419, Error: 23809.320596717556\n",
      "Id: 100421, Error: 27426.705222730205\n",
      "Id: 100425, Error: 7359.612714500651\n",
      "Id: 100819, Error: 383.3901694042955\n",
      "Id: 100973, Error: 2349.2651948735347\n",
      "Id: 101211, Error: 7223.67520149241\n",
      "Id: 101321, Error: 2687.7399013045515\n",
      "Id: 101569, Error: 16723.09950021989\n",
      "Id: 101751, Error: 13688.422622752056\n",
      "Id: 101819, Error: 4644.466848367749\n",
      "Id: 101980, Error: 160899.02766001315\n",
      "Id: 102008, Error: 18016.892151404307\n",
      "Id: 102093, Error: 1046.4019676162798\n",
      "Id: 102822, Error: 5523.75323539586\n",
      "Id: 102918, Error: 2250.9556939057134\n",
      "Id: 103320, Error: 2287.2556882701006\n",
      " > 21088.094\n"
     ]
    },
    {
     "name": "stderr",
     "output_type": "stream",
     "text": [
      "Fitting the data: 100%|██████████| 17/17 [00:31<00:00,  1.75s/it]\n"
     ]
    },
    {
     "name": "stdout",
     "output_type": "stream",
     "text": [
      "Id: 100283, Error: 64729.62297593523\n",
      "Id: 100419, Error: 21660.465440309817\n",
      "Id: 100421, Error: 20684.57020315459\n",
      "Id: 100425, Error: 8974.1821390259\n",
      "Id: 100819, Error: 419.9558182823641\n",
      "Id: 100973, Error: 2563.589872132918\n",
      "Id: 101211, Error: 7206.398839365903\n",
      "Id: 101321, Error: 4020.646624901139\n",
      "Id: 101569, Error: 16175.199117934593\n",
      "Id: 101751, Error: 13911.988954939201\n",
      "Id: 101819, Error: 3941.8475520546035\n",
      "Id: 101980, Error: 198799.9674257875\n",
      "Id: 102008, Error: 17780.779065012997\n",
      "Id: 102093, Error: 1533.9009017398432\n",
      "Id: 102822, Error: 5281.550132064466\n",
      "Id: 102918, Error: 2738.4669307053596\n",
      "Id: 103320, Error: 1444.635138370938\n",
      " > 23051.045\n"
     ]
    }
   ],
   "source": [
    "scores = performance.repeat_evaluate(GeneralModel, train_df, test_df, config, n_repeats=5)"
   ]
  },
  {
   "cell_type": "code",
   "execution_count": 12,
   "metadata": {},
   "outputs": [
    {
     "name": "stdout",
     "output_type": "stream",
     "text": [
      "lstm: 21602.538 RMSE (+/- 820.945)\n"
     ]
    },
    {
     "data": {
      "image/png": "[encoded data removed]",
      "text/plain": [
       "<Figure size 432x288 with 1 Axes>"
      ]
     },
     "metadata": {
      "needs_background": "light"
     },
     "output_type": "display_data"
    }
   ],
   "source": [
    "performance.summarize_scores('lstm', [score[0] for score in scores])"
   ]
  },
  {
   "cell_type": "markdown",
   "metadata": {},
   "source": [
    "## Dropout the baseline"
   ]
  },
  {
   "cell_type": "code",
   "execution_count": 8,
   "metadata": {},
   "outputs": [],
   "source": [
    "config = {\n",
    "    'n_input': n_input,\n",
    "    'n_nodes': n_nodes,\n",
    "    'n_batch': n_batch,\n",
    "    'model': [\n",
    "        {\n",
    "            'layer_type': 'LSTM',\n",
    "            'layer_config': {\n",
    "                'units': n_input,\n",
    "                'batch_input_shape': batch_input_shape,\n",
    "                'stateful': True\n",
    "            }\n",
    "        },\n",
    "        {\n",
    "            'layer_type': 'Dropout',\n",
    "            'layer_config': {\n",
    "                'rate': 0.1\n",
    "            }\n",
    "        },\n",
    "        {\n",
    "            'layer_type': 'Dense',\n",
    "            'layer_config': {\n",
    "                'units': 1\n",
    "            }\n",
    "        }\n",
    "    ]\n",
    "}"
   ]
  },
  {
   "cell_type": "code",
   "execution_count": 9,
   "metadata": {},
   "outputs": [
    {
     "name": "stderr",
     "output_type": "stream",
     "text": [
      "Fitting the data: 100%|██████████| 17/17 [00:29<00:00,  1.66s/it]\n"
     ]
    },
    {
     "name": "stdout",
     "output_type": "stream",
     "text": [
      "Id: 100283, Error: 60802.46291364583\n",
      "Id: 100419, Error: 21792.61115629104\n",
      "Id: 100421, Error: 29801.155275267094\n",
      "Id: 100425, Error: 9422.4323168187\n",
      "Id: 100819, Error: 431.20954718357183\n",
      "Id: 100973, Error: 2467.5874309760197\n",
      "Id: 101211, Error: 7250.976348298908\n",
      "Id: 101321, Error: 3722.3374825356314\n",
      "Id: 101569, Error: 16836.236008626747\n",
      "Id: 101751, Error: 13322.958122441409\n",
      "Id: 101819, Error: 4058.61211630244\n",
      "Id: 101980, Error: 192918.6814966998\n",
      "Id: 102008, Error: 17474.519888991577\n",
      "Id: 102093, Error: 1053.3282218009206\n",
      "Id: 102822, Error: 6027.180818299865\n",
      "Id: 102918, Error: 2230.5649427512926\n",
      "Id: 103320, Error: 1636.9087415609465\n",
      " > 23014.692\n"
     ]
    },
    {
     "name": "stderr",
     "output_type": "stream",
     "text": [
      "Fitting the data: 100%|██████████| 17/17 [00:29<00:00,  1.69s/it]\n"
     ]
    },
    {
     "name": "stdout",
     "output_type": "stream",
     "text": [
      "Id: 100283, Error: 78925.73532536374\n",
      "Id: 100419, Error: 17134.217642320804\n",
      "Id: 100421, Error: 19470.864710694783\n",
      "Id: 100425, Error: 6397.033303538744\n",
      "Id: 100819, Error: 384.36859570609755\n",
      "Id: 100973, Error: 2325.136444620521\n",
      "Id: 101211, Error: 7201.372533615016\n",
      "Id: 101321, Error: 3423.811079862173\n",
      "Id: 101569, Error: 16214.1735984692\n",
      "Id: 101751, Error: 13999.380622800114\n",
      "Id: 101819, Error: 2645.5340237946\n",
      "Id: 101980, Error: 194647.51503109455\n",
      "Id: 102008, Error: 18583.760025640287\n",
      "Id: 102093, Error: 1468.6516619992508\n",
      "Id: 102822, Error: 4703.436286057023\n",
      "Id: 102918, Error: 2492.957744207118\n",
      "Id: 103320, Error: 1725.818639196794\n",
      " > 23043.751\n"
     ]
    },
    {
     "name": "stderr",
     "output_type": "stream",
     "text": [
      "Fitting the data: 100%|██████████| 17/17 [00:29<00:00,  1.69s/it]\n"
     ]
    },
    {
     "name": "stdout",
     "output_type": "stream",
     "text": [
      "Id: 100283, Error: 63469.83149725242\n",
      "Id: 100419, Error: 21861.979748007707\n",
      "Id: 100421, Error: 22477.958921473346\n",
      "Id: 100425, Error: 6308.002946738813\n",
      "Id: 100819, Error: 394.72897356444855\n",
      "Id: 100973, Error: 2028.1923296241305\n",
      "Id: 101211, Error: 7204.925633502709\n",
      "Id: 101321, Error: 2155.434843452667\n",
      "Id: 101569, Error: 16517.197820660902\n",
      "Id: 101751, Error: 13556.735074664326\n",
      "Id: 101819, Error: 3315.0887632821064\n",
      "Id: 101980, Error: 163377.94694684652\n",
      "Id: 102008, Error: 17482.198395172174\n",
      "Id: 102093, Error: 1242.1074516897236\n",
      "Id: 102822, Error: 4131.001974841889\n",
      "Id: 102918, Error: 1850.2913865484188\n",
      "Id: 103320, Error: 2245.8797528785367\n",
      " > 20565.853\n"
     ]
    },
    {
     "name": "stderr",
     "output_type": "stream",
     "text": [
      "Fitting the data: 100%|██████████| 17/17 [00:30<00:00,  1.71s/it]\n"
     ]
    },
    {
     "name": "stdout",
     "output_type": "stream",
     "text": [
      "Id: 100283, Error: 38880.46430665862\n",
      "Id: 100419, Error: 18352.551839811695\n",
      "Id: 100421, Error: 21043.53364716299\n",
      "Id: 100425, Error: 7236.579634745681\n",
      "Id: 100819, Error: 364.2460106629754\n",
      "Id: 100973, Error: 1950.278782921395\n",
      "Id: 101211, Error: 7175.851963586744\n",
      "Id: 101321, Error: 2060.159820966513\n",
      "Id: 101569, Error: 16255.65726152451\n",
      "Id: 101751, Error: 12989.81196839749\n",
      "Id: 101819, Error: 2930.974948943995\n",
      "Id: 101980, Error: 183122.11467907167\n",
      "Id: 102008, Error: 16652.302970201505\n",
      "Id: 102093, Error: 1368.5543127840244\n",
      "Id: 102822, Error: 4893.615693374289\n",
      "Id: 102918, Error: 1900.2979409383188\n",
      "Id: 103320, Error: 1366.7180055944445\n",
      " > 19914.336\n"
     ]
    },
    {
     "name": "stderr",
     "output_type": "stream",
     "text": [
      "Fitting the data: 100%|██████████| 17/17 [00:30<00:00,  1.72s/it]\n"
     ]
    },
    {
     "name": "stdout",
     "output_type": "stream",
     "text": [
      "Id: 100283, Error: 55805.22131495459\n",
      "Id: 100419, Error: 16406.55154310299\n",
      "Id: 100421, Error: 21923.89594846501\n",
      "Id: 100425, Error: 7189.781462575735\n",
      "Id: 100819, Error: 386.14480641192694\n",
      "Id: 100973, Error: 2238.609756434989\n",
      "Id: 101211, Error: 7210.042886174283\n",
      "Id: 101321, Error: 2664.036488812119\n",
      "Id: 101569, Error: 16429.42576937447\n",
      "Id: 101751, Error: 14015.57623079764\n",
      "Id: 101819, Error: 3483.4820909792434\n",
      "Id: 101980, Error: 197432.88421745828\n",
      "Id: 102008, Error: 17881.698580651962\n",
      "Id: 102093, Error: 1343.312859940971\n",
      "Id: 102822, Error: 5228.690207658012\n",
      "Id: 102918, Error: 1450.9379717038257\n",
      "Id: 103320, Error: 1337.425771219927\n",
      " > 21907.513\n",
      "lstm: 21689.229 RMSE (+/- 1268.972)\n"
     ]
    },
    {
     "data": {
      "image/png": "[encoded data removed]",
      "text/plain": [
       "<Figure size 432x288 with 1 Axes>"
      ]
     },
     "metadata": {
      "needs_background": "light"
     },
     "output_type": "display_data"
    }
   ],
   "source": [
    "scores = performance.repeat_evaluate(GeneralModel, train_df, test_df, config, n_repeats=5)\n",
    "performance.summarize_scores('lstm', [score[0] for score in scores])"
   ]
  },
  {
   "cell_type": "markdown",
   "metadata": {},
   "source": [
    "## Baseline with bigger n_input"
   ]
  },
  {
   "cell_type": "code",
   "execution_count": 10,
   "metadata": {},
   "outputs": [],
   "source": [
    "config = {\n",
    "    'n_input': n_input,\n",
    "    'n_nodes': n_nodes,\n",
    "    'n_batch': n_batch,\n",
    "    'model': [\n",
    "        {\n",
    "            'layer_type': 'LSTM',\n",
    "            'layer_config': {\n",
    "                'units': n_input * 2,\n",
    "                'batch_input_shape': batch_input_shape,\n",
    "                'stateful': True\n",
    "            }\n",
    "        },\n",
    "        {\n",
    "            'layer_type': 'Dense',\n",
    "            'layer_config': {\n",
    "                'units': 1\n",
    "            }\n",
    "        }\n",
    "    ]\n",
    "}"
   ]
  },
  {
   "cell_type": "code",
   "execution_count": 11,
   "metadata": {},
   "outputs": [
    {
     "name": "stderr",
     "output_type": "stream",
     "text": [
      "Fitting the data: 100%|██████████| 17/17 [00:29<00:00,  1.68s/it]\n"
     ]
    },
    {
     "name": "stdout",
     "output_type": "stream",
     "text": [
      "Id: 100283, Error: 78520.90270773112\n",
      "Id: 100419, Error: 25579.245669423904\n",
      "Id: 100421, Error: 25647.282852170985\n",
      "Id: 100425, Error: 8650.53968779485\n",
      "Id: 100819, Error: 406.9403481859958\n",
      "Id: 100973, Error: 2353.007944440271\n",
      "Id: 101211, Error: 7253.336312937117\n",
      "Id: 101321, Error: 2814.791680347606\n",
      "Id: 101569, Error: 16087.99828543105\n",
      "Id: 101751, Error: 13307.898997576403\n",
      "Id: 101819, Error: 5401.508808445554\n",
      "Id: 101980, Error: 210922.53520017743\n",
      "Id: 102008, Error: 16950.945257441286\n",
      "Id: 102093, Error: 1412.3095010903817\n",
      "Id: 102822, Error: 5186.9361689608\n",
      "Id: 102918, Error: 1933.0791921389293\n",
      "Id: 103320, Error: 1633.1152710649865\n",
      " > 24944.846\n"
     ]
    },
    {
     "name": "stderr",
     "output_type": "stream",
     "text": [
      "Fitting the data: 100%|██████████| 17/17 [00:30<00:00,  1.69s/it]\n"
     ]
    },
    {
     "name": "stdout",
     "output_type": "stream",
     "text": [
      "Id: 100283, Error: 98694.02489088876\n",
      "Id: 100419, Error: 17251.1843093113\n",
      "Id: 100421, Error: 26266.77143748826\n",
      "Id: 100425, Error: 9229.79837215168\n",
      "Id: 100819, Error: 439.11344141273895\n",
      "Id: 100973, Error: 3178.7759743898355\n",
      "Id: 101211, Error: 7259.538719351344\n",
      "Id: 101321, Error: 4730.812155770809\n",
      "Id: 101569, Error: 16465.33553915178\n",
      "Id: 101751, Error: 13395.57466067699\n",
      "Id: 101819, Error: 2835.136727132851\n",
      "Id: 101980, Error: 199242.00318888287\n",
      "Id: 102008, Error: 16523.027440517773\n",
      "Id: 102093, Error: 1378.5439925452574\n",
      "Id: 102822, Error: 6392.852455186551\n",
      "Id: 102918, Error: 3033.910916220039\n",
      "Id: 103320, Error: 2303.7866890390355\n",
      " > 25212.952\n"
     ]
    },
    {
     "name": "stderr",
     "output_type": "stream",
     "text": [
      "Fitting the data: 100%|██████████| 17/17 [00:30<00:00,  1.69s/it]\n"
     ]
    },
    {
     "name": "stdout",
     "output_type": "stream",
     "text": [
      "Id: 100283, Error: 95761.45153512988\n",
      "Id: 100419, Error: 23797.25226349651\n",
      "Id: 100421, Error: 25252.608095355565\n",
      "Id: 100425, Error: 11584.573361989193\n",
      "Id: 100819, Error: 400.5453350419482\n",
      "Id: 100973, Error: 2663.9372874350825\n",
      "Id: 101211, Error: 7312.640828109383\n",
      "Id: 101321, Error: 4159.886387816055\n",
      "Id: 101569, Error: 16791.071469958966\n",
      "Id: 101751, Error: 13423.777511236221\n",
      "Id: 101819, Error: 3799.477618804125\n",
      "Id: 101980, Error: 212862.8493401961\n",
      "Id: 102008, Error: 16504.742997391066\n",
      "Id: 102093, Error: 1104.388801282146\n",
      "Id: 102822, Error: 4891.003146224942\n",
      "Id: 102918, Error: 2627.60426486295\n",
      "Id: 103320, Error: 1436.1079761795856\n",
      " > 26139.642\n"
     ]
    },
    {
     "name": "stderr",
     "output_type": "stream",
     "text": [
      "Fitting the data: 100%|██████████| 17/17 [00:30<00:00,  1.71s/it]\n"
     ]
    },
    {
     "name": "stdout",
     "output_type": "stream",
     "text": [
      "Id: 100283, Error: 90000.58473370857\n",
      "Id: 100419, Error: 17151.20882655545\n",
      "Id: 100421, Error: 14922.536552959253\n",
      "Id: 100425, Error: 7817.122569236445\n",
      "Id: 100819, Error: 399.06843674647797\n",
      "Id: 100973, Error: 2204.5007740916612\n",
      "Id: 101211, Error: 7285.151839543793\n",
      "Id: 101321, Error: 3358.7304011199535\n",
      "Id: 101569, Error: 16590.877406155618\n",
      "Id: 101751, Error: 13555.135264206234\n",
      "Id: 101819, Error: 2008.276912683915\n",
      "Id: 101980, Error: 184103.96758988555\n",
      "Id: 102008, Error: 17463.668961234467\n",
      "Id: 102093, Error: 1188.7483580719925\n",
      "Id: 102822, Error: 4584.706072726423\n",
      "Id: 102918, Error: 2554.861448598442\n",
      "Id: 103320, Error: 1841.969804991808\n",
      " > 22766.536\n"
     ]
    },
    {
     "name": "stderr",
     "output_type": "stream",
     "text": [
      "Fitting the data: 100%|██████████| 17/17 [00:31<00:00,  1.72s/it]\n"
     ]
    },
    {
     "name": "stdout",
     "output_type": "stream",
     "text": [
      "Id: 100283, Error: 63420.305622672306\n",
      "Id: 100419, Error: 16490.02746918537\n",
      "Id: 100421, Error: 18989.38843796194\n",
      "Id: 100425, Error: 7513.95763371309\n",
      "Id: 100819, Error: 453.5757439584466\n",
      "Id: 100973, Error: 1934.626107626152\n",
      "Id: 101211, Error: 7277.462142635163\n",
      "Id: 101321, Error: 2760.257065157965\n",
      "Id: 101569, Error: 15869.96132971809\n",
      "Id: 101751, Error: 12798.692661461982\n",
      "Id: 101819, Error: 3522.8655792638856\n",
      "Id: 101980, Error: 190246.76047992648\n",
      "Id: 102008, Error: 16034.360134666224\n",
      "Id: 102093, Error: 1835.9219760034066\n",
      "Id: 102822, Error: 3849.1157072986675\n",
      "Id: 102918, Error: 2649.6389815695716\n",
      "Id: 103320, Error: 1311.70877905388\n",
      " > 21585.802\n",
      "lstm: 24129.956 RMSE (+/- 1685.669)\n"
     ]
    },
    {
     "data": {
      "image/png": "[encoded data removed]",
      "text/plain": [
       "<Figure size 432x288 with 1 Axes>"
      ]
     },
     "metadata": {
      "needs_background": "light"
     },
     "output_type": "display_data"
    }
   ],
   "source": [
    "scores = performance.repeat_evaluate(GeneralModel, train_df, test_df, config, n_repeats=5)\n",
    "performance.summarize_scores('lstm', [score[0] for score in scores])"
   ]
  },
  {
   "cell_type": "markdown",
   "metadata": {},
   "source": [
    "## 1 level summary with smaller input"
   ]
  },
  {
   "cell_type": "code",
   "execution_count": 12,
   "metadata": {},
   "outputs": [],
   "source": [
    "config = {\n",
    "    'n_input': n_input,\n",
    "    'n_nodes': n_nodes,\n",
    "    'n_batch': n_batch,\n",
    "    'model': [\n",
    "        {\n",
    "            'layer_type': 'LSTM',\n",
    "            'layer_config': {\n",
    "                'units': n_input,\n",
    "                'batch_input_shape': batch_input_shape,\n",
    "                'stateful': True\n",
    "            }\n",
    "        },\n",
    "        {\n",
    "            'layer_type': 'Dense',\n",
    "            'layer_config': {\n",
    "                'units': int(n_input / 2),\n",
    "                'activation': 'relu'\n",
    "            }\n",
    "        },\n",
    "        {\n",
    "            'layer_type': 'Dropout',\n",
    "            'layer_config': {\n",
    "                'rate': 0.1\n",
    "            }\n",
    "        },\n",
    "        {\n",
    "            'layer_type': 'Dense',\n",
    "            'layer_config': {\n",
    "                'units': 1\n",
    "            }\n",
    "        }\n",
    "    ]\n",
    "}"
   ]
  },
  {
   "cell_type": "code",
   "execution_count": 13,
   "metadata": {},
   "outputs": [
    {
     "name": "stderr",
     "output_type": "stream",
     "text": [
      "Fitting the data: 100%|██████████| 17/17 [00:34<00:00,  1.94s/it]\n"
     ]
    },
    {
     "name": "stdout",
     "output_type": "stream",
     "text": [
      "Id: 100283, Error: 87243.94191822923\n",
      "Id: 100419, Error: 29122.515193409417\n",
      "Id: 100421, Error: 26232.883075132635\n",
      "Id: 100425, Error: 10187.723928593276\n",
      "Id: 100819, Error: 405.2699641673209\n",
      "Id: 100973, Error: 2310.3782759467217\n",
      "Id: 101211, Error: 7194.3822480697445\n",
      "Id: 101321, Error: 3625.285441635795\n",
      "Id: 101569, Error: 16284.459403395449\n",
      "Id: 101751, Error: 13914.453950169715\n",
      "Id: 101819, Error: 5020.0168696386\n",
      "Id: 101980, Error: 152112.7636406887\n",
      "Id: 102008, Error: 18317.060608752567\n",
      "Id: 102093, Error: 1349.4354215970445\n",
      "Id: 102822, Error: 5818.616693570762\n",
      "Id: 102918, Error: 2476.4562596989313\n",
      "Id: 103320, Error: 2655.3602547676337\n",
      " > 22604.177\n"
     ]
    },
    {
     "name": "stderr",
     "output_type": "stream",
     "text": [
      "Fitting the data: 100%|██████████| 17/17 [00:35<00:00,  1.94s/it]\n"
     ]
    },
    {
     "name": "stdout",
     "output_type": "stream",
     "text": [
      "Id: 100283, Error: 102648.64921520189\n",
      "Id: 100419, Error: 23485.795201974153\n",
      "Id: 100421, Error: 18109.110193281154\n",
      "Id: 100425, Error: 8777.898771534865\n",
      "Id: 100819, Error: 418.61120813085216\n",
      "Id: 100973, Error: 1910.9385747539684\n",
      "Id: 101211, Error: 7220.57621849183\n",
      "Id: 101321, Error: 3141.681013590665\n",
      "Id: 101569, Error: 15885.598795583644\n",
      "Id: 101751, Error: 11519.911713288699\n",
      "Id: 101819, Error: 3625.0370348053834\n",
      "Id: 101980, Error: 187781.8297543449\n",
      "Id: 102008, Error: 15104.394700692215\n",
      "Id: 102093, Error: 1751.7417858431352\n",
      "Id: 102822, Error: 5155.785648973483\n",
      "Id: 102918, Error: 2877.1267829999256\n",
      "Id: 103320, Error: 1905.9204099716626\n",
      " > 24195.330\n"
     ]
    },
    {
     "name": "stderr",
     "output_type": "stream",
     "text": [
      "Fitting the data: 100%|██████████| 17/17 [00:35<00:00,  1.98s/it]\n"
     ]
    },
    {
     "name": "stdout",
     "output_type": "stream",
     "text": [
      "Id: 100283, Error: 62622.419498538016\n",
      "Id: 100419, Error: 23673.74752512874\n",
      "Id: 100421, Error: 16006.955730159121\n",
      "Id: 100425, Error: 6920.902762283818\n",
      "Id: 100819, Error: 356.253369025527\n",
      "Id: 100973, Error: 2023.0083683373352\n",
      "Id: 101211, Error: 7260.544354088651\n",
      "Id: 101321, Error: 2802.1780832937125\n",
      "Id: 101569, Error: 16171.954078516164\n",
      "Id: 101751, Error: 13444.420688827304\n",
      "Id: 101819, Error: 2193.21636797991\n",
      "Id: 101980, Error: 175759.8085976978\n",
      "Id: 102008, Error: 17196.86354633054\n",
      "Id: 102093, Error: 1421.8086451696051\n",
      "Id: 102822, Error: 4038.767061235552\n",
      "Id: 102918, Error: 2400.969653876351\n",
      "Id: 103320, Error: 1858.8770876397746\n",
      " > 20950.159\n"
     ]
    },
    {
     "name": "stderr",
     "output_type": "stream",
     "text": [
      "Fitting the data: 100%|██████████| 17/17 [00:36<00:00,  1.99s/it]\n"
     ]
    },
    {
     "name": "stdout",
     "output_type": "stream",
     "text": [
      "Id: 100283, Error: 87024.65531161164\n",
      "Id: 100419, Error: 19517.286015210793\n",
      "Id: 100421, Error: 17896.53350799324\n",
      "Id: 100425, Error: 9813.960762144738\n",
      "Id: 100819, Error: 383.9395236120933\n",
      "Id: 100973, Error: 2547.6575673998104\n",
      "Id: 101211, Error: 7155.565190861586\n",
      "Id: 101321, Error: 4473.8048734048325\n",
      "Id: 101569, Error: 16189.226864434015\n",
      "Id: 101751, Error: 12092.528183409197\n",
      "Id: 101819, Error: 3033.0876027573468\n",
      "Id: 101980, Error: 201015.08527733677\n",
      "Id: 102008, Error: 15976.464209072825\n",
      "Id: 102093, Error: 1454.6071228798312\n",
      "Id: 102822, Error: 5519.882990156493\n",
      "Id: 102918, Error: 3121.6589907152497\n",
      "Id: 103320, Error: 1772.919614975711\n",
      " > 24058.168\n"
     ]
    },
    {
     "name": "stderr",
     "output_type": "stream",
     "text": [
      "Fitting the data: 100%|██████████| 17/17 [00:36<00:00,  2.00s/it]\n"
     ]
    },
    {
     "name": "stdout",
     "output_type": "stream",
     "text": [
      "Id: 100283, Error: 70971.71761033234\n",
      "Id: 100419, Error: 21064.149882345842\n",
      "Id: 100421, Error: 18558.77721530756\n",
      "Id: 100425, Error: 6848.976768144254\n",
      "Id: 100819, Error: 378.5516499888333\n",
      "Id: 100973, Error: 1986.7066350329303\n",
      "Id: 101211, Error: 7255.219232387331\n",
      "Id: 101321, Error: 2171.576519352846\n",
      "Id: 101569, Error: 15918.360122320111\n",
      "Id: 101751, Error: 12672.241453123564\n",
      "Id: 101819, Error: 3227.8583074026665\n",
      "Id: 101980, Error: 168236.91653819603\n",
      "Id: 102008, Error: 16270.628001478259\n",
      "Id: 102093, Error: 1617.6423962881515\n",
      "Id: 102822, Error: 5058.729376807493\n",
      "Id: 102918, Error: 2495.694313574395\n",
      "Id: 103320, Error: 2063.99125797385\n",
      " > 20988.102\n",
      "lstm: 22559.187 RMSE (+/- 1413.026)\n"
     ]
    },
    {
     "data": {
      "image/png": "[encoded data removed]",
      "text/plain": [
       "<Figure size 432x288 with 1 Axes>"
      ]
     },
     "metadata": {
      "needs_background": "light"
     },
     "output_type": "display_data"
    }
   ],
   "source": [
    "scores = performance.repeat_evaluate(GeneralModel, train_df, test_df, config, n_repeats=5)\n",
    "performance.summarize_scores('lstm', [score[0] for score in scores])"
   ]
  },
  {
   "cell_type": "markdown",
   "metadata": {},
   "source": [
    "## Summary 1 level"
   ]
  },
  {
   "cell_type": "code",
   "execution_count": 15,
   "metadata": {},
   "outputs": [],
   "source": [
    "config = {\n",
    "    'n_input': n_input,\n",
    "    'n_nodes': n_nodes,\n",
    "    'n_batch': n_batch,\n",
    "    'model': [\n",
    "        {\n",
    "            'layer_type': 'LSTM',\n",
    "            'layer_config': {\n",
    "                'units': n_input,\n",
    "                'batch_input_shape': batch_input_shape,\n",
    "                'stateful': True\n",
    "            }\n",
    "        },\n",
    "        {\n",
    "            'layer_type': 'Dense',\n",
    "            'layer_config': {\n",
    "                'units': n_input,\n",
    "                'activation': 'relu'\n",
    "            }\n",
    "        },\n",
    "        {\n",
    "            'layer_type': 'Dropout',\n",
    "            'layer_config': {\n",
    "                'rate': 0.1\n",
    "            }\n",
    "        },\n",
    "        {\n",
    "            'layer_type': 'Dense',\n",
    "            'layer_config': {\n",
    "                'units': 1\n",
    "            }\n",
    "        }\n",
    "    ]\n",
    "}"
   ]
  },
  {
   "cell_type": "code",
   "execution_count": 16,
   "metadata": {},
   "outputs": [
    {
     "name": "stderr",
     "output_type": "stream",
     "text": [
      "Fitting the data: 100%|██████████| 17/17 [00:33<00:00,  1.89s/it]\n"
     ]
    },
    {
     "name": "stdout",
     "output_type": "stream",
     "text": [
      "Id: 100283, Error: 95678.40208180957\n",
      "Id: 100419, Error: 23196.01886519484\n",
      "Id: 100421, Error: 16846.231360793998\n",
      "Id: 100425, Error: 7880.339205366631\n",
      "Id: 100819, Error: 376.4038581930466\n",
      "Id: 100973, Error: 2103.3533301774664\n",
      "Id: 101211, Error: 7140.437381887918\n",
      "Id: 101321, Error: 2638.8231123977316\n",
      "Id: 101569, Error: 15754.803971622407\n",
      "Id: 101751, Error: 12447.755673877937\n",
      "Id: 101819, Error: 2973.9060300559468\n",
      "Id: 101980, Error: 185834.8366437383\n",
      "Id: 102008, Error: 15955.252999034938\n",
      "Id: 102093, Error: 1672.5907066456264\n",
      "Id: 102822, Error: 4454.451100775261\n",
      "Id: 102918, Error: 2516.7039881629903\n",
      "Id: 103320, Error: 1903.3327767791372\n",
      " > 23492.567\n"
     ]
    },
    {
     "name": "stderr",
     "output_type": "stream",
     "text": [
      "Fitting the data: 100%|██████████| 17/17 [00:33<00:00,  1.90s/it]\n"
     ]
    },
    {
     "name": "stdout",
     "output_type": "stream",
     "text": [
      "Id: 100283, Error: 100424.42279740772\n",
      "Id: 100419, Error: 22351.371485187967\n",
      "Id: 100421, Error: 17176.93781974618\n",
      "Id: 100425, Error: 8390.343158496442\n",
      "Id: 100819, Error: 335.8773406813539\n",
      "Id: 100973, Error: 2245.0377580097243\n",
      "Id: 101211, Error: 7222.22482337142\n",
      "Id: 101321, Error: 3720.7854064657818\n",
      "Id: 101569, Error: 16042.741951993039\n",
      "Id: 101751, Error: 13269.244462006027\n",
      "Id: 101819, Error: 3250.9035881680343\n",
      "Id: 101980, Error: 186486.88580130937\n",
      "Id: 102008, Error: 17864.182379148388\n",
      "Id: 102093, Error: 1546.0021001688183\n",
      "Id: 102822, Error: 4674.607676014678\n",
      "Id: 102918, Error: 3198.3721780041838\n",
      "Id: 103320, Error: 2048.717403587489\n",
      " > 24132.274\n"
     ]
    },
    {
     "name": "stderr",
     "output_type": "stream",
     "text": [
      "Fitting the data: 100%|██████████| 17/17 [00:34<00:00,  1.92s/it]\n"
     ]
    },
    {
     "name": "stdout",
     "output_type": "stream",
     "text": [
      "Id: 100283, Error: 120168.39063844837\n",
      "Id: 100419, Error: 29685.904986376976\n",
      "Id: 100421, Error: 18069.734515463282\n",
      "Id: 100425, Error: 8338.792277934615\n",
      "Id: 100819, Error: 372.21319790972575\n",
      "Id: 100973, Error: 1930.77521189922\n",
      "Id: 101211, Error: 7150.553261310838\n",
      "Id: 101321, Error: 2587.597223760348\n",
      "Id: 101569, Error: 16218.239433876524\n",
      "Id: 101751, Error: 12661.136461492884\n",
      "Id: 101819, Error: 3384.32249957061\n",
      "Id: 101980, Error: 165661.13994411126\n",
      "Id: 102008, Error: 15618.150827236555\n",
      "Id: 102093, Error: 1337.900641860016\n",
      "Id: 102822, Error: 4508.375406976328\n",
      "Id: 102918, Error: 2520.669480351804\n",
      "Id: 103320, Error: 2576.0903854495127\n",
      " > 24281.764\n"
     ]
    },
    {
     "name": "stderr",
     "output_type": "stream",
     "text": [
      "Fitting the data: 100%|██████████| 17/17 [00:34<00:00,  1.93s/it]\n"
     ]
    },
    {
     "name": "stdout",
     "output_type": "stream",
     "text": [
      "Id: 100283, Error: 103307.35174068266\n",
      "Id: 100419, Error: 23345.34916329058\n",
      "Id: 100421, Error: 19015.0557444858\n",
      "Id: 100425, Error: 6756.294603699899\n",
      "Id: 100819, Error: 378.64450520502595\n",
      "Id: 100973, Error: 1713.6284415842008\n",
      "Id: 101211, Error: 7172.3742465543655\n",
      "Id: 101321, Error: 2351.383710915911\n",
      "Id: 101569, Error: 15869.138242210674\n",
      "Id: 101751, Error: 13325.703194970038\n",
      "Id: 101819, Error: 3860.7977308785994\n",
      "Id: 101980, Error: 161312.4486517147\n",
      "Id: 102008, Error: 17884.27430386595\n",
      "Id: 102093, Error: 1642.056792247661\n",
      "Id: 102822, Error: 5691.94222692271\n",
      "Id: 102918, Error: 2600.800547441899\n",
      "Id: 103320, Error: 2353.9706870919717\n",
      " > 22857.719\n"
     ]
    },
    {
     "name": "stderr",
     "output_type": "stream",
     "text": [
      "Fitting the data: 100%|██████████| 17/17 [00:35<00:00,  1.95s/it]\n"
     ]
    },
    {
     "name": "stdout",
     "output_type": "stream",
     "text": [
      "Id: 100283, Error: 69800.95218149589\n",
      "Id: 100419, Error: 20008.75114198372\n",
      "Id: 100421, Error: 20147.00876422194\n",
      "Id: 100425, Error: 7437.177940840845\n",
      "Id: 100819, Error: 373.98866474736934\n",
      "Id: 100973, Error: 1926.6101430002243\n",
      "Id: 101211, Error: 7314.406103853253\n",
      "Id: 101321, Error: 2174.5670245103242\n",
      "Id: 101569, Error: 16382.603465867249\n",
      "Id: 101751, Error: 14041.772852911286\n",
      "Id: 101819, Error: 3426.153441602364\n",
      "Id: 101980, Error: 181771.53252223425\n",
      "Id: 102008, Error: 18614.45549690214\n",
      "Id: 102093, Error: 1336.1183102842576\n",
      "Id: 102822, Error: 4060.407784450335\n",
      "Id: 102918, Error: 2022.699759311646\n",
      "Id: 103320, Error: 1973.2349851100162\n",
      " > 21930.144\n"
     ]
    }
   ],
   "source": [
    "scores = performance.repeat_evaluate(GeneralModel, train_df, test_df, config, n_repeats=5)"
   ]
  },
  {
   "cell_type": "code",
   "execution_count": 17,
   "metadata": {},
   "outputs": [
    {
     "name": "stdout",
     "output_type": "stream",
     "text": [
      "lstm: 23338.893 RMSE (+/- 866.969)\n"
     ]
    },
    {
     "data": {
      "image/png": "[encoded data removed]",
      "text/plain": [
       "<Figure size 432x288 with 1 Axes>"
      ]
     },
     "metadata": {
      "needs_background": "light"
     },
     "output_type": "display_data"
    }
   ],
   "source": [
    "performance.summarize_scores('lstm', [score[0] for score in scores])"
   ]
  },
  {
   "cell_type": "markdown",
   "metadata": {},
   "source": [
    "## Approach 2"
   ]
  },
  {
   "cell_type": "code",
   "execution_count": 8,
   "metadata": {},
   "outputs": [],
   "source": [
    "config = {\n",
    "    'n_input': n_input,\n",
    "    'n_nodes': n_nodes,\n",
    "    'n_batch': n_batch,\n",
    "    'model': [\n",
    "        {\n",
    "            'layer_type': 'LSTM',\n",
    "            'layer_config': {\n",
    "                'units': n_input,\n",
    "                'batch_input_shape': batch_input_shape,\n",
    "                'stateful': True\n",
    "            }\n",
    "        },\n",
    "        {\n",
    "            'layer_type': 'Dropout',\n",
    "            'layer_config': {\n",
    "                'rate': 0.01\n",
    "            }\n",
    "        },\n",
    "        {\n",
    "            'layer_type': 'Dense',\n",
    "            'layer_config': {\n",
    "                'units': n_input,\n",
    "                'activation': 'relu'\n",
    "            }\n",
    "        },\n",
    "        {\n",
    "            'layer_type': 'Dropout',\n",
    "            'layer_config': {\n",
    "                'rate': 0.01\n",
    "            }\n",
    "        },\n",
    "        {\n",
    "            'layer_type': 'Dense',\n",
    "            'layer_config': {\n",
    "                'units': 1\n",
    "            }\n",
    "        }\n",
    "    ]\n",
    "}"
   ]
  },
  {
   "cell_type": "code",
   "execution_count": 9,
   "metadata": {},
   "outputs": [
    {
     "name": "stderr",
     "output_type": "stream",
     "text": [
      "Fitting the data: 100%|██████████| 17/17 [00:33<00:00,  1.85s/it]\n"
     ]
    },
    {
     "name": "stdout",
     "output_type": "stream",
     "text": [
      "Id: 100283, Error: 70780.23477218207\n",
      "Id: 100419, Error: 17342.441296729925\n",
      "Id: 100421, Error: 14033.741112354963\n",
      "Id: 100425, Error: 7211.175586008278\n",
      "Id: 100819, Error: 400.7147841067646\n",
      "Id: 100973, Error: 1950.8996711738064\n",
      "Id: 101211, Error: 7045.663167705982\n",
      "Id: 101321, Error: 3118.8029345109658\n",
      "Id: 101569, Error: 15232.446671489794\n",
      "Id: 101751, Error: 11512.776655129288\n",
      "Id: 101819, Error: 2291.1573777297112\n",
      "Id: 101980, Error: 180781.07864599008\n",
      "Id: 102008, Error: 14931.449851152496\n",
      "Id: 102093, Error: 1996.2861965017873\n",
      "Id: 102822, Error: 5152.5869953576175\n",
      "Id: 102918, Error: 2807.8936120187313\n",
      "Id: 103320, Error: 2223.0713412197188\n",
      " > 21106.613\n"
     ]
    },
    {
     "name": "stderr",
     "output_type": "stream",
     "text": [
      "Fitting the data: 100%|██████████| 17/17 [00:32<00:00,  1.86s/it]\n"
     ]
    },
    {
     "name": "stdout",
     "output_type": "stream",
     "text": [
      "Id: 100283, Error: 82033.41520858926\n",
      "Id: 100419, Error: 20756.758725148327\n",
      "Id: 100421, Error: 22263.38535650338\n",
      "Id: 100425, Error: 7101.02455924395\n",
      "Id: 100819, Error: 390.9760736966894\n",
      "Id: 100973, Error: 1996.0268790798327\n",
      "Id: 101211, Error: 7202.364020604745\n",
      "Id: 101321, Error: 2125.022518892456\n",
      "Id: 101569, Error: 15835.090423947193\n",
      "Id: 101751, Error: 12818.742752266413\n",
      "Id: 101819, Error: 3590.098701796232\n",
      "Id: 101980, Error: 167034.0717163037\n",
      "Id: 102008, Error: 16920.033436801492\n",
      "Id: 102093, Error: 1759.7772238299178\n",
      "Id: 102822, Error: 5193.868002388452\n",
      "Id: 102918, Error: 2169.5538037774804\n",
      "Id: 103320, Error: 1993.8489926105383\n",
      " > 21834.356\n"
     ]
    },
    {
     "name": "stderr",
     "output_type": "stream",
     "text": [
      "Fitting the data: 100%|██████████| 17/17 [00:33<00:00,  1.87s/it]\n"
     ]
    },
    {
     "name": "stdout",
     "output_type": "stream",
     "text": [
      "Id: 100283, Error: 77735.57570342235\n",
      "Id: 100419, Error: 24359.52538462736\n",
      "Id: 100421, Error: 24497.324451343313\n",
      "Id: 100425, Error: 7567.802028947376\n",
      "Id: 100819, Error: 399.3117755097048\n",
      "Id: 100973, Error: 1553.8232872953292\n",
      "Id: 101211, Error: 7277.629729873751\n",
      "Id: 101321, Error: 2613.725019232581\n",
      "Id: 101569, Error: 16125.76956580495\n",
      "Id: 101751, Error: 13904.869772152335\n",
      "Id: 101819, Error: 4630.209436307305\n",
      "Id: 101980, Error: 155831.975387141\n",
      "Id: 102008, Error: 18945.537700758592\n",
      "Id: 102093, Error: 1394.0081621581892\n",
      "Id: 102822, Error: 5909.804812642747\n",
      "Id: 102918, Error: 2231.901758892324\n",
      "Id: 103320, Error: 2548.6402186840755\n",
      " > 21619.261\n"
     ]
    },
    {
     "name": "stderr",
     "output_type": "stream",
     "text": [
      "Fitting the data: 100%|██████████| 17/17 [00:33<00:00,  1.89s/it]\n"
     ]
    },
    {
     "name": "stdout",
     "output_type": "stream",
     "text": [
      "Id: 100283, Error: 102261.47433027405\n",
      "Id: 100419, Error: 27059.017246624357\n",
      "Id: 100421, Error: 25647.002043185097\n",
      "Id: 100425, Error: 5690.014050666905\n",
      "Id: 100819, Error: 366.09111228830807\n",
      "Id: 100973, Error: 1763.0293175674615\n",
      "Id: 101211, Error: 7206.141064246224\n",
      "Id: 101321, Error: 2340.624269773473\n",
      "Id: 101569, Error: 16180.192736638075\n",
      "Id: 101751, Error: 13053.592294662798\n",
      "Id: 101819, Error: 5472.979948796833\n",
      "Id: 101980, Error: 158167.5111116569\n",
      "Id: 102008, Error: 16838.95729129\n",
      "Id: 102093, Error: 1568.1354608206593\n",
      "Id: 102822, Error: 6248.7705009947795\n",
      "Id: 102918, Error: 2073.6050098022292\n",
      "Id: 103320, Error: 2867.442965855033\n",
      " > 23223.799\n"
     ]
    },
    {
     "name": "stderr",
     "output_type": "stream",
     "text": [
      "Fitting the data: 100%|██████████| 17/17 [00:33<00:00,  1.90s/it]\n"
     ]
    },
    {
     "name": "stdout",
     "output_type": "stream",
     "text": [
      "Id: 100283, Error: 121290.30840746163\n",
      "Id: 100419, Error: 19460.544969461444\n",
      "Id: 100421, Error: 14563.235170183636\n",
      "Id: 100425, Error: 6659.032011038954\n",
      "Id: 100819, Error: 357.9382513367634\n",
      "Id: 100973, Error: 2349.9619442337557\n",
      "Id: 101211, Error: 7236.962972905498\n",
      "Id: 101321, Error: 3021.386500382905\n",
      "Id: 101569, Error: 16092.863093312177\n",
      "Id: 101751, Error: 12586.273769839718\n",
      "Id: 101819, Error: 3003.8100016448893\n",
      "Id: 101980, Error: 192593.3940742337\n",
      "Id: 102008, Error: 16709.552419248426\n",
      "Id: 102093, Error: 1558.829933042233\n",
      "Id: 102822, Error: 4635.985019357316\n",
      "Id: 102918, Error: 2821.7706596021308\n",
      "Id: 103320, Error: 2458.8624606728768\n",
      " > 25141.218\n",
      "lstm: 22585.049 RMSE (+/- 1457.674)\n"
     ]
    },
    {
     "data": {
      "image/png": "[encoded data removed]",
      "text/plain": [
       "<Figure size 432x288 with 1 Axes>"
      ]
     },
     "metadata": {
      "needs_background": "light"
     },
     "output_type": "display_data"
    }
   ],
   "source": [
    "scores = performance.repeat_evaluate(GeneralModel, train_df, test_df, config, n_repeats=5)\n",
    "performance.summarize_scores('lstm', [score[0] for score in scores])"
   ]
  },
  {
   "cell_type": "markdown",
   "metadata": {},
   "source": [
    "## Approach 3 - use tanh"
   ]
  },
  {
   "cell_type": "code",
   "execution_count": 13,
   "metadata": {},
   "outputs": [],
   "source": [
    "config = {\n",
    "    'n_input': n_input,\n",
    "    'n_nodes': n_nodes,\n",
    "    'n_batch': n_batch,\n",
    "    'model': [\n",
    "        {\n",
    "            'layer_type': 'LSTM',\n",
    "            'layer_config': {\n",
    "                'units': n_input,\n",
    "                'batch_input_shape': batch_input_shape,\n",
    "                'stateful': True\n",
    "            }\n",
    "        },\n",
    "        {\n",
    "            'layer_type': 'Dropout',\n",
    "            'layer_config': {\n",
    "                'rate': 0.01\n",
    "            }\n",
    "        },\n",
    "        {\n",
    "            'layer_type': 'Dense',\n",
    "            'layer_config': {\n",
    "                'units': n_input,\n",
    "                'activation': 'tanh'\n",
    "            }\n",
    "        },\n",
    "        {\n",
    "            'layer_type': 'Dropout',\n",
    "            'layer_config': {\n",
    "                'rate': 0.01\n",
    "            }\n",
    "        },\n",
    "        {\n",
    "            'layer_type': 'Dense',\n",
    "            'layer_config': {\n",
    "                'units': 1\n",
    "            }\n",
    "        }\n",
    "    ]\n",
    "}"
   ]
  },
  {
   "cell_type": "code",
   "execution_count": 14,
   "metadata": {},
   "outputs": [
    {
     "name": "stderr",
     "output_type": "stream",
     "text": [
      "Fitting the data: 100%|██████████| 17/17 [00:36<00:00,  2.00s/it]\n"
     ]
    },
    {
     "name": "stdout",
     "output_type": "stream",
     "text": [
      "Id: 100283, Error: 86185.16406604365\n",
      "Id: 100419, Error: 30618.69268593761\n",
      "Id: 100421, Error: 29879.48151890529\n",
      "Id: 100425, Error: 7264.701518152404\n",
      "Id: 100819, Error: 365.44590768652716\n",
      "Id: 100973, Error: 2580.2972305351655\n",
      "Id: 101211, Error: 7181.757744507449\n",
      "Id: 101321, Error: 3387.586071795393\n",
      "Id: 101569, Error: 16219.847349004107\n",
      "Id: 101751, Error: 13183.780835793443\n",
      "Id: 101819, Error: 6006.620523666893\n",
      "Id: 101980, Error: 141617.79566253914\n",
      "Id: 102008, Error: 17427.096447941578\n",
      "Id: 102093, Error: 1364.557506743181\n",
      "Id: 102822, Error: 6607.67101294459\n",
      "Id: 102918, Error: 1875.5242154538253\n",
      "Id: 103320, Error: 3177.8764768381884\n",
      " > 22055.523\n"
     ]
    },
    {
     "name": "stderr",
     "output_type": "stream",
     "text": [
      "Fitting the data: 100%|██████████| 17/17 [00:36<00:00,  2.03s/it]\n"
     ]
    },
    {
     "name": "stdout",
     "output_type": "stream",
     "text": [
      "Id: 100283, Error: 53647.06732345734\n",
      "Id: 100419, Error: 21926.80674576011\n",
      "Id: 100421, Error: 22171.513646124386\n",
      "Id: 100425, Error: 7750.70075032927\n",
      "Id: 100819, Error: 413.52575725686\n",
      "Id: 100973, Error: 2160.3490074095953\n",
      "Id: 101211, Error: 7225.15545601826\n",
      "Id: 101321, Error: 2695.310512492125\n",
      "Id: 101569, Error: 15655.782840775333\n",
      "Id: 101751, Error: 12575.194527359474\n",
      "Id: 101819, Error: 4321.931928690282\n",
      "Id: 101980, Error: 161613.47471686336\n",
      "Id: 102008, Error: 16653.545397561673\n",
      "Id: 102093, Error: 1876.1111913621742\n",
      "Id: 102822, Error: 4935.358551383438\n",
      "Id: 102918, Error: 2578.7834161269993\n",
      "Id: 103320, Error: 2163.210019815725\n",
      " > 20021.401\n"
     ]
    },
    {
     "name": "stderr",
     "output_type": "stream",
     "text": [
      "Fitting the data: 100%|██████████| 17/17 [00:37<00:00,  2.05s/it]\n"
     ]
    },
    {
     "name": "stdout",
     "output_type": "stream",
     "text": [
      "Id: 100283, Error: 56571.14595548706\n",
      "Id: 100419, Error: 28914.39901420374\n",
      "Id: 100421, Error: 26015.61260752624\n",
      "Id: 100425, Error: 8600.330381558817\n",
      "Id: 100819, Error: 374.0890928177123\n",
      "Id: 100973, Error: 2511.3020291108483\n",
      "Id: 101211, Error: 7183.037697017567\n",
      "Id: 101321, Error: 4216.020569805511\n",
      "Id: 101569, Error: 15915.621606336426\n",
      "Id: 101751, Error: 13063.085973361207\n",
      "Id: 101819, Error: 4818.849763645251\n",
      "Id: 101980, Error: 146287.0800379292\n",
      "Id: 102008, Error: 16893.08375398942\n",
      "Id: 102093, Error: 1522.6598980350457\n",
      "Id: 102822, Error: 6292.0132139804655\n",
      "Id: 102918, Error: 2644.449068968297\n",
      "Id: 103320, Error: 2685.4802163519994\n",
      " > 20265.192\n"
     ]
    },
    {
     "name": "stderr",
     "output_type": "stream",
     "text": [
      "Fitting the data: 100%|██████████| 17/17 [00:37<00:00,  2.06s/it]\n"
     ]
    },
    {
     "name": "stdout",
     "output_type": "stream",
     "text": [
      "Id: 100283, Error: 81834.62905382185\n",
      "Id: 100419, Error: 20726.063812213\n",
      "Id: 100421, Error: 22433.152740424983\n",
      "Id: 100425, Error: 7989.675913710321\n",
      "Id: 100819, Error: 386.31375444404574\n",
      "Id: 100973, Error: 2141.493260299554\n",
      "Id: 101211, Error: 7392.031317238213\n",
      "Id: 101321, Error: 2182.1437167148515\n",
      "Id: 101569, Error: 16095.409537347545\n",
      "Id: 101751, Error: 12797.074498798878\n",
      "Id: 101819, Error: 3797.099202203755\n",
      "Id: 101980, Error: 172274.0601099604\n",
      "Id: 102008, Error: 17503.809734551964\n",
      "Id: 102093, Error: 1809.403858192425\n",
      "Id: 102822, Error: 5397.784432902782\n",
      "Id: 102918, Error: 2298.180861571792\n",
      "Id: 103320, Error: 2206.7431500172074\n",
      " > 22309.710\n"
     ]
    },
    {
     "name": "stderr",
     "output_type": "stream",
     "text": [
      "Fitting the data: 100%|██████████| 17/17 [00:37<00:00,  2.07s/it]\n"
     ]
    },
    {
     "name": "stdout",
     "output_type": "stream",
     "text": [
      "Id: 100283, Error: 75714.94180230422\n",
      "Id: 100419, Error: 28960.0476620368\n",
      "Id: 100421, Error: 25003.17186372205\n",
      "Id: 100425, Error: 9187.213188894466\n",
      "Id: 100819, Error: 400.19799517986786\n",
      "Id: 100973, Error: 2635.365888935721\n",
      "Id: 101211, Error: 7247.8770761438145\n",
      "Id: 101321, Error: 3549.0327254913586\n",
      "Id: 101569, Error: 16025.071290755928\n",
      "Id: 101751, Error: 13482.388711272319\n",
      "Id: 101819, Error: 4327.96624602809\n",
      "Id: 101980, Error: 162667.74982263858\n",
      "Id: 102008, Error: 17042.007744614883\n",
      "Id: 102093, Error: 1470.466590282751\n",
      "Id: 102822, Error: 6273.451025407169\n",
      "Id: 102918, Error: 2298.414724727632\n",
      "Id: 103320, Error: 2555.738343678648\n",
      " > 22284.771\n",
      "lstm: 21387.319 RMSE (+/- 1022.509)\n"
     ]
    },
    {
     "data": {
      "image/png": "[encoded data removed]",
      "text/plain": [
       "<Figure size 432x288 with 1 Axes>"
      ]
     },
     "metadata": {
      "needs_background": "light"
     },
     "output_type": "display_data"
    }
   ],
   "source": [
    "scores = performance.repeat_evaluate(GeneralModel, train_df, test_df, config, n_repeats=5)\n",
    "performance.summarize_scores('lstm', [score[0] for score in scores])"
   ]
  },
  {
   "cell_type": "markdown",
   "metadata": {},
   "source": [
    "## Approach 4 - use tanh & deeper"
   ]
  },
  {
   "cell_type": "code",
   "execution_count": 15,
   "metadata": {},
   "outputs": [],
   "source": [
    "config = {\n",
    "    'n_input': n_input,\n",
    "    'n_nodes': n_nodes,\n",
    "    'n_batch': n_batch,\n",
    "    'model': [\n",
    "        {\n",
    "            'layer_type': 'LSTM',\n",
    "            'layer_config': {\n",
    "                'units': n_input,\n",
    "                'batch_input_shape': batch_input_shape,\n",
    "                'stateful': True\n",
    "            }\n",
    "        },\n",
    "        {\n",
    "            'layer_type': 'Dropout',\n",
    "            'layer_config': {\n",
    "                'rate': 0.01\n",
    "            }\n",
    "        },\n",
    "        {\n",
    "            'layer_type': 'Dense',\n",
    "            'layer_config': {\n",
    "                'units': n_input,\n",
    "                'activation': 'tanh'\n",
    "            }\n",
    "        },\n",
    "        {\n",
    "            'layer_type': 'Dropout',\n",
    "            'layer_config': {\n",
    "                'rate': 0.01\n",
    "            }\n",
    "        },\n",
    "        {\n",
    "            'layer_type': 'Dense',\n",
    "            'layer_config': {\n",
    "                'units': n_input,\n",
    "                'activation': 'tanh'\n",
    "            }\n",
    "        },\n",
    "        {\n",
    "            'layer_type': 'Dropout',\n",
    "            'layer_config': {\n",
    "                'rate': 0.01\n",
    "            }\n",
    "        },\n",
    "        {\n",
    "            'layer_type': 'Dense',\n",
    "            'layer_config': {\n",
    "                'units': 1\n",
    "            }\n",
    "        }\n",
    "    ]\n",
    "}"
   ]
  },
  {
   "cell_type": "code",
   "execution_count": 16,
   "metadata": {},
   "outputs": [
    {
     "name": "stderr",
     "output_type": "stream",
     "text": [
      "Fitting the data: 100%|██████████| 17/17 [00:41<00:00,  2.26s/it]\n"
     ]
    },
    {
     "name": "stdout",
     "output_type": "stream",
     "text": [
      "Id: 100283, Error: 117431.55478753381\n",
      "Id: 100419, Error: 27365.334717545153\n",
      "Id: 100421, Error: 19724.45597964922\n",
      "Id: 100425, Error: 6710.966715358205\n",
      "Id: 100819, Error: 391.3057534565293\n",
      "Id: 100973, Error: 1921.7844547654797\n",
      "Id: 101211, Error: 7225.3762218229795\n",
      "Id: 101321, Error: 1763.276289814815\n",
      "Id: 101569, Error: 15960.236027260682\n",
      "Id: 101751, Error: 12090.977210124232\n",
      "Id: 101819, Error: 3924.027284169495\n",
      "Id: 101980, Error: 163685.39726235907\n",
      "Id: 102008, Error: 15374.165372680238\n",
      "Id: 102093, Error: 1676.9280439477582\n",
      "Id: 102822, Error: 5222.74234408391\n",
      "Id: 102918, Error: 2103.0428583648077\n",
      "Id: 103320, Error: 2617.7163250752396\n",
      " > 23834.664\n"
     ]
    },
    {
     "name": "stderr",
     "output_type": "stream",
     "text": [
      "Fitting the data: 100%|██████████| 17/17 [00:41<00:00,  2.29s/it]\n"
     ]
    },
    {
     "name": "stdout",
     "output_type": "stream",
     "text": [
      "Id: 100283, Error: 116625.72795829207\n",
      "Id: 100419, Error: 23399.1169421012\n",
      "Id: 100421, Error: 13737.606113041222\n",
      "Id: 100425, Error: 7199.018622294421\n",
      "Id: 100819, Error: 387.8316849335629\n",
      "Id: 100973, Error: 2041.9723962919581\n",
      "Id: 101211, Error: 7161.0540698614905\n",
      "Id: 101321, Error: 2687.21074644506\n",
      "Id: 101569, Error: 15725.598810397742\n",
      "Id: 101751, Error: 11844.441939632916\n",
      "Id: 101819, Error: 2603.8679342927803\n",
      "Id: 101980, Error: 182194.6069488018\n",
      "Id: 102008, Error: 14246.035610249826\n",
      "Id: 102093, Error: 1797.8472437806415\n",
      "Id: 102822, Error: 4509.147015586246\n",
      "Id: 102918, Error: 2602.40966881747\n",
      "Id: 103320, Error: 2276.4857711615023\n",
      " > 24178.822\n"
     ]
    },
    {
     "name": "stderr",
     "output_type": "stream",
     "text": [
      "Fitting the data: 100%|██████████| 17/17 [00:41<00:00,  2.28s/it]\n"
     ]
    },
    {
     "name": "stdout",
     "output_type": "stream",
     "text": [
      "Id: 100283, Error: 82970.54734222038\n",
      "Id: 100419, Error: 24841.88030974405\n",
      "Id: 100421, Error: 20614.71102703731\n",
      "Id: 100425, Error: 8424.87709080857\n",
      "Id: 100819, Error: 361.79900435234305\n",
      "Id: 100973, Error: 1947.205159328353\n",
      "Id: 101211, Error: 7259.034003323923\n",
      "Id: 101321, Error: 2963.3140632179966\n",
      "Id: 101569, Error: 15753.439500732027\n",
      "Id: 101751, Error: 13036.496266203618\n",
      "Id: 101819, Error: 3656.8778737529396\n",
      "Id: 101980, Error: 156005.17473764866\n",
      "Id: 102008, Error: 17087.337106053892\n",
      "Id: 102093, Error: 1777.0601222187324\n",
      "Id: 102822, Error: 5835.137692837885\n",
      "Id: 102918, Error: 2921.3664342311968\n",
      "Id: 103320, Error: 2499.984116890791\n",
      " > 21644.485\n"
     ]
    },
    {
     "name": "stderr",
     "output_type": "stream",
     "text": [
      "Fitting the data: 100%|██████████| 17/17 [00:43<00:00,  2.32s/it]\n"
     ]
    },
    {
     "name": "stdout",
     "output_type": "stream",
     "text": [
      "Id: 100283, Error: 135491.2189164094\n",
      "Id: 100419, Error: 26872.593594620674\n",
      "Id: 100421, Error: 14449.167702604886\n",
      "Id: 100425, Error: 7113.033035060226\n",
      "Id: 100819, Error: 386.1761045662374\n",
      "Id: 100973, Error: 2095.3971944938553\n",
      "Id: 101211, Error: 7226.407308863316\n",
      "Id: 101321, Error: 2608.505075062262\n",
      "Id: 101569, Error: 16194.21041953504\n",
      "Id: 101751, Error: 12269.702314804994\n",
      "Id: 101819, Error: 2664.369337698344\n",
      "Id: 101980, Error: 186324.70460701175\n",
      "Id: 102008, Error: 14741.547761935195\n",
      "Id: 102093, Error: 1912.1781581421917\n",
      "Id: 102822, Error: 4104.533288656724\n",
      "Id: 102918, Error: 2327.5406024040326\n",
      "Id: 103320, Error: 2061.2039987534386\n",
      " > 25814.264\n"
     ]
    },
    {
     "name": "stderr",
     "output_type": "stream",
     "text": [
      "Fitting the data: 100%|██████████| 17/17 [00:43<00:00,  2.34s/it]\n"
     ]
    },
    {
     "name": "stdout",
     "output_type": "stream",
     "text": [
      "Id: 100283, Error: 96736.1612436337\n",
      "Id: 100419, Error: 27667.149720727026\n",
      "Id: 100421, Error: 19126.68276694756\n",
      "Id: 100425, Error: 6957.128664448467\n",
      "Id: 100819, Error: 346.4300740105371\n",
      "Id: 100973, Error: 2074.879897583448\n",
      "Id: 101211, Error: 7164.029116373964\n",
      "Id: 101321, Error: 1787.7139176396752\n",
      "Id: 101569, Error: 15834.62267374337\n",
      "Id: 101751, Error: 12554.849083858166\n",
      "Id: 101819, Error: 4185.585412385643\n",
      "Id: 101980, Error: 169598.2983432619\n",
      "Id: 102008, Error: 16096.319415644735\n",
      "Id: 102093, Error: 1640.057033775418\n",
      "Id: 102822, Error: 5812.414909009848\n",
      "Id: 102918, Error: 2215.492733951416\n",
      "Id: 103320, Error: 2497.360980910536\n",
      " > 23076.187\n",
      "lstm: 23709.684 RMSE (+/- 1366.114)\n"
     ]
    },
    {
     "data": {
      "image/png": "[encoded data removed]",
      "text/plain": [
       "<Figure size 432x288 with 1 Axes>"
      ]
     },
     "metadata": {
      "needs_background": "light"
     },
     "output_type": "display_data"
    }
   ],
   "source": [
    "scores = performance.repeat_evaluate(GeneralModel, train_df, test_df, config, n_repeats=5)\n",
    "performance.summarize_scores('lstm', [score[0] for score in scores])"
   ]
  },
  {
   "cell_type": "markdown",
   "metadata": {},
   "source": [
    "## Approach 5 - use tanh at the final"
   ]
  },
  {
   "cell_type": "code",
   "execution_count": 17,
   "metadata": {},
   "outputs": [],
   "source": [
    "config = {\n",
    "    'n_input': n_input,\n",
    "    'n_nodes': n_nodes,\n",
    "    'n_batch': n_batch,\n",
    "    'model': [\n",
    "        {\n",
    "            'layer_type': 'LSTM',\n",
    "            'layer_config': {\n",
    "                'units': n_input,\n",
    "                'batch_input_shape': batch_input_shape,\n",
    "                'stateful': True\n",
    "            }\n",
    "        },\n",
    "        {\n",
    "            'layer_type': 'Dropout',\n",
    "            'layer_config': {\n",
    "                'rate': 0.01\n",
    "            }\n",
    "        },\n",
    "        {\n",
    "            'layer_type': 'Dense',\n",
    "            'layer_config': {\n",
    "                'units': n_input,\n",
    "                'activation': 'tanh'\n",
    "            }\n",
    "        },\n",
    "        {\n",
    "            'layer_type': 'Dropout',\n",
    "            'layer_config': {\n",
    "                'rate': 0.01\n",
    "            }\n",
    "        },\n",
    "        {\n",
    "            'layer_type': 'Dense',\n",
    "            'layer_config': {\n",
    "                'units': 1,\n",
    "                'activation': 'tanh'\n",
    "            }\n",
    "        }\n",
    "    ]\n",
    "}"
   ]
  },
  {
   "cell_type": "code",
   "execution_count": 18,
   "metadata": {},
   "outputs": [
    {
     "name": "stderr",
     "output_type": "stream",
     "text": [
      "Fitting the data: 100%|██████████| 17/17 [00:40<00:00,  2.19s/it]\n"
     ]
    },
    {
     "name": "stdout",
     "output_type": "stream",
     "text": [
      "Id: 100283, Error: 83465.53705969318\n",
      "Id: 100419, Error: 31245.281497882566\n",
      "Id: 100421, Error: 28206.819938789646\n",
      "Id: 100425, Error: 9606.23044223032\n",
      "Id: 100819, Error: 368.2165073009108\n",
      "Id: 100973, Error: 2169.4657507531206\n",
      "Id: 101211, Error: 7211.459345809085\n",
      "Id: 101321, Error: 2904.795967570401\n",
      "Id: 101569, Error: 16116.275847256446\n",
      "Id: 101751, Error: 13172.068044383339\n",
      "Id: 101819, Error: 5984.501534791915\n",
      "Id: 101980, Error: 148031.37852701984\n",
      "Id: 102008, Error: 17309.428736366663\n",
      "Id: 102093, Error: 1433.9017782485928\n",
      "Id: 102822, Error: 6113.785182212009\n",
      "Id: 102918, Error: 2299.269359340478\n",
      "Id: 103320, Error: 3429.707362085006\n",
      " > 22298.125\n"
     ]
    },
    {
     "name": "stderr",
     "output_type": "stream",
     "text": [
      "Fitting the data: 100%|██████████| 17/17 [00:40<00:00,  2.18s/it]\n"
     ]
    },
    {
     "name": "stdout",
     "output_type": "stream",
     "text": [
      "Id: 100283, Error: 98176.55012290756\n",
      "Id: 100419, Error: 33112.790898409505\n",
      "Id: 100421, Error: 22040.32590619763\n",
      "Id: 100425, Error: 7739.176241165839\n",
      "Id: 100819, Error: 366.6775442219619\n",
      "Id: 100973, Error: 2145.606143263513\n",
      "Id: 101211, Error: 7219.091193338961\n",
      "Id: 101321, Error: 1963.479601966789\n",
      "Id: 101569, Error: 16262.462518694141\n",
      "Id: 101751, Error: 12396.245604879508\n",
      "Id: 101819, Error: 4884.601245083108\n",
      "Id: 101980, Error: 160423.0617650122\n",
      "Id: 102008, Error: 15051.50745224086\n",
      "Id: 102093, Error: 1544.739579501563\n",
      "Id: 102822, Error: 5458.625659369485\n",
      "Id: 102918, Error: 2165.271238120357\n",
      "Id: 103320, Error: 3171.438193645597\n",
      " > 23183.627\n"
     ]
    },
    {
     "name": "stderr",
     "output_type": "stream",
     "text": [
      "Fitting the data: 100%|██████████| 17/17 [00:41<00:00,  2.21s/it]\n"
     ]
    },
    {
     "name": "stdout",
     "output_type": "stream",
     "text": [
      "Id: 100283, Error: 72505.52155360044\n",
      "Id: 100419, Error: 20875.704868294575\n",
      "Id: 100421, Error: 17082.97774681575\n",
      "Id: 100425, Error: 6455.8004779765315\n",
      "Id: 100819, Error: 344.3747218064015\n",
      "Id: 100973, Error: 2117.509690726802\n",
      "Id: 101211, Error: 6940.829603645208\n",
      "Id: 101321, Error: 2832.5944108497765\n",
      "Id: 101569, Error: 15375.81645514549\n",
      "Id: 101751, Error: 11986.223654158262\n",
      "Id: 101819, Error: 3282.022635571651\n",
      "Id: 101980, Error: 182211.63332179192\n",
      "Id: 102008, Error: 15753.785233480725\n",
      "Id: 102093, Error: 1770.6611449418003\n",
      "Id: 102822, Error: 4287.95445021342\n",
      "Id: 102918, Error: 2909.599619567991\n",
      "Id: 103320, Error: 2079.3304891514977\n",
      " > 21694.844\n"
     ]
    },
    {
     "name": "stderr",
     "output_type": "stream",
     "text": [
      "Fitting the data: 100%|██████████| 17/17 [00:42<00:00,  2.24s/it]\n"
     ]
    },
    {
     "name": "stdout",
     "output_type": "stream",
     "text": [
      "Id: 100283, Error: 79488.52534544094\n",
      "Id: 100419, Error: 21944.435976514043\n",
      "Id: 100421, Error: 22531.564563968295\n",
      "Id: 100425, Error: 7216.913708568342\n",
      "Id: 100819, Error: 410.0426027237307\n",
      "Id: 100973, Error: 1938.127607538546\n",
      "Id: 101211, Error: 7263.2525680092995\n",
      "Id: 101321, Error: 2437.495159792547\n",
      "Id: 101569, Error: 16104.80670151059\n",
      "Id: 101751, Error: 12406.614174446891\n",
      "Id: 101819, Error: 4867.262505733387\n",
      "Id: 101980, Error: 170237.44282484974\n",
      "Id: 102008, Error: 15822.127632968315\n",
      "Id: 102093, Error: 1836.1693395989232\n",
      "Id: 102822, Error: 5068.123031207689\n",
      "Id: 102918, Error: 2148.9987362116613\n",
      "Id: 103320, Error: 2305.183940565367\n",
      " > 22001.593\n"
     ]
    },
    {
     "name": "stderr",
     "output_type": "stream",
     "text": [
      "Fitting the data: 100%|██████████| 17/17 [00:42<00:00,  2.25s/it]\n"
     ]
    },
    {
     "name": "stdout",
     "output_type": "stream",
     "text": [
      "Id: 100283, Error: 115123.22665229964\n",
      "Id: 100419, Error: 37653.401368543055\n",
      "Id: 100421, Error: 24355.348396478865\n",
      "Id: 100425, Error: 7264.258793325896\n",
      "Id: 100819, Error: 435.12396215283866\n",
      "Id: 100973, Error: 2609.8187257611166\n",
      "Id: 101211, Error: 7174.855977610562\n",
      "Id: 101321, Error: 2557.4592961421163\n",
      "Id: 101569, Error: 15929.246284999836\n",
      "Id: 101751, Error: 11766.941703271283\n",
      "Id: 101819, Error: 5807.755147939349\n",
      "Id: 101980, Error: 151943.56118573845\n",
      "Id: 102008, Error: 13822.523172880212\n",
      "Id: 102093, Error: 1598.3099110422224\n",
      "Id: 102822, Error: 7254.730260567793\n",
      "Id: 102918, Error: 2136.771439781447\n",
      "Id: 103320, Error: 3419.38334504796\n",
      " > 24167.807\n",
      "lstm: 22669.199 RMSE (+/- 899.247)\n"
     ]
    },
    {
     "data": {
      "image/png": "[encoded data removed]",
      "text/plain": [
       "<Figure size 432x288 with 1 Axes>"
      ]
     },
     "metadata": {
      "needs_background": "light"
     },
     "output_type": "display_data"
    }
   ],
   "source": [
    "scores = performance.repeat_evaluate(GeneralModel, train_df, test_df, config, n_repeats=5)\n",
    "performance.summarize_scores('lstm', [score[0] for score in scores])"
   ]
  },
  {
   "cell_type": "code",
   "execution_count": null,
   "metadata": {},
   "outputs": [],
   "source": []
  }
 ],
 "metadata": {
  "kernelspec": {
   "display_name": "Python 3",
   "language": "python",
   "name": "python3"
  },
  "language_info": {
   "codemirror_mode": {
    "name": "ipython",
    "version": 3
   },
   "file_extension": ".py",
   "mimetype": "text/x-python",
   "name": "python",
   "nbconvert_exporter": "python",
   "pygments_lexer": "ipython3",
   "version": "3.6.2"
  }
 },
 "nbformat": 4,
 "nbformat_minor": 2
}
