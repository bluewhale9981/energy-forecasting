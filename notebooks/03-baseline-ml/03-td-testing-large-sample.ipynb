{
 "cells": [
  {
   "cell_type": "code",
   "execution_count": 1,
   "metadata": {},
   "outputs": [
    {
     "name": "stderr",
     "output_type": "stream",
     "text": [
      "/home/thuongdinh/.virtualenvs/mlcsef/lib/python3.6/site-packages/requests/__init__.py:91: RequestsDependencyWarning: urllib3 (1.24) or chardet (3.0.4) doesn't match a supported version!\n",
      "  RequestsDependencyWarning)\n"
     ]
    }
   ],
   "source": [
    "%matplotlib inline\n",
    "\n",
    "# math and data manipulation\n",
    "import numpy as np\n",
    "import pandas as pd\n",
    "\n",
    "# to handle paths\n",
    "from pathlib import Path\n",
    "\n",
    "# set random seeds \n",
    "from numpy.random import seed\n",
    "from tensorflow import set_random_seed\n",
    "\n",
    "from sklearn.preprocessing import MinMaxScaler\n",
    "\n",
    "from csef.model import lstm\n",
    "from csef.data import preprocessing, load_data\n",
    "from csef.utils import performance\n",
    "from csef.model.base import GeneralModel\n",
    "\n",
    "RANDOM_SEED = 2018\n",
    "seed(RANDOM_SEED)\n",
    "set_random_seed(RANDOM_SEED)"
   ]
  },
  {
   "cell_type": "markdown",
   "metadata": {},
   "source": [
    "## Data Loading"
   ]
  },
  {
   "cell_type": "code",
   "execution_count": 2,
   "metadata": {},
   "outputs": [],
   "source": [
    "data_mapping = load_data.load_data()\n",
    "consumption_train = data_mapping['consumption_train']\n",
    "cold_start_test = data_mapping['cold_start_test']\n",
    "submission_format = data_mapping['submission_format']\n",
    "meta = data_mapping['meta']"
   ]
  },
  {
   "cell_type": "code",
   "execution_count": 3,
   "metadata": {},
   "outputs": [],
   "source": [
    "samp_df = load_data.sampling_data(consumption_train, frac=0.1)"
   ]
  },
  {
   "cell_type": "code",
   "execution_count": 4,
   "metadata": {},
   "outputs": [
    {
     "name": "stdout",
     "output_type": "stream",
     "text": [
      "There are 81 training series totaling 2268 days (54432 hours) of consumption data.\n"
     ]
    }
   ],
   "source": [
    "load_data.describe_training_data(samp_df)"
   ]
  },
  {
   "cell_type": "markdown",
   "metadata": {},
   "source": [
    "## Training"
   ]
  },
  {
   "cell_type": "code",
   "execution_count": 5,
   "metadata": {},
   "outputs": [
    {
     "name": "stderr",
     "output_type": "stream",
     "text": [
      "/home/thuongdinh/ws/asnet-training/ml-training/ml-energy-forecasting/csef/data/load_data.py:49: SettingWithCopyWarning: \n",
      "A value is trying to be set on a copy of a slice from a DataFrame.\n",
      "Try using .loc[row_indexer,col_indexer] = value instead\n",
      "\n",
      "See the caveats in the documentation: http://pandas.pydata.org/pandas-docs/stable/indexing.html#indexing-view-versus-copy\n",
      "  split_train[group_col] = ser_id\n",
      "/home/thuongdinh/ws/asnet-training/ml-training/ml-energy-forecasting/csef/data/load_data.py:50: SettingWithCopyWarning: \n",
      "A value is trying to be set on a copy of a slice from a DataFrame.\n",
      "Try using .loc[row_indexer,col_indexer] = value instead\n",
      "\n",
      "See the caveats in the documentation: http://pandas.pydata.org/pandas-docs/stable/indexing.html#indexing-view-versus-copy\n",
      "  split_test[group_col] = ser_id\n"
     ]
    }
   ],
   "source": [
    "train_df, test_df = load_data.train_test_split(samp_df)"
   ]
  },
  {
   "cell_type": "code",
   "execution_count": 6,
   "metadata": {},
   "outputs": [
    {
     "name": "stdout",
     "output_type": "stream",
     "text": [
      "There are 81 training series totaling 2268 days (54432 hours) of consumption data.\n"
     ]
    }
   ],
   "source": [
    "load_data.describe_training_data(train_df)"
   ]
  },
  {
   "cell_type": "code",
   "execution_count": 7,
   "metadata": {},
   "outputs": [],
   "source": [
    "# Default config\n",
    "n_batch = 1\n",
    "n_input = 24\n",
    "n_nodes = 24\n",
    "\n",
    "batch_input_shape = (n_batch, 1, n_input)"
   ]
  },
  {
   "cell_type": "markdown",
   "metadata": {},
   "source": [
    "## Baseline"
   ]
  },
  {
   "cell_type": "code",
   "execution_count": 8,
   "metadata": {},
   "outputs": [],
   "source": [
    "config = {\n",
    "    'n_input': n_input,\n",
    "    'n_nodes': n_nodes,\n",
    "    'n_batch': n_batch,\n",
    "    'model': [\n",
    "        {\n",
    "            'layer_type': 'LSTM',\n",
    "            'layer_config': {\n",
    "                'units': n_input,\n",
    "                'batch_input_shape': batch_input_shape,\n",
    "                'stateful': True\n",
    "            }\n",
    "        },\n",
    "        {\n",
    "            'layer_type': 'Dense',\n",
    "            'layer_config': {\n",
    "                'units': 1\n",
    "            }\n",
    "        }\n",
    "    ]\n",
    "}"
   ]
  },
  {
   "cell_type": "code",
   "execution_count": 9,
   "metadata": {},
   "outputs": [
    {
     "name": "stderr",
     "output_type": "stream",
     "text": [
      "Fitting the data: 100%|██████████| 81/81 [01:51<00:00,  1.35s/it]\n"
     ]
    },
    {
     "name": "stdout",
     "output_type": "stream",
     "text": [
      "Id: 100040, Error: 105436.87695503794\n",
      "Id: 100200, Error: 12011.791545921073\n",
      "Id: 100214, Error: 11648.376242062062\n",
      "Id: 100244, Error: 39226.00125035294\n",
      "Id: 100283, Error: 71147.01618098469\n",
      "Id: 100288, Error: 8294.243328336845\n",
      "Id: 100363, Error: 14465.78699566355\n",
      "Id: 100419, Error: 24372.962954879156\n",
      "Id: 100421, Error: 30353.977230223973\n",
      "Id: 100425, Error: 6782.58843057948\n",
      "Id: 100490, Error: 1878.7490973356041\n",
      "Id: 100525, Error: 1837.6540101393314\n",
      "Id: 100532, Error: 4118.55547817711\n",
      "Id: 100534, Error: 5089.945933027598\n",
      "Id: 100607, Error: 107165.70700263647\n",
      "Id: 100632, Error: 11124.982995803775\n",
      "Id: 100684, Error: 152604.09575526914\n",
      "Id: 100709, Error: 15969.329928490632\n",
      "Id: 100737, Error: 14602.150603715803\n",
      "Id: 100819, Error: 498.70643349510755\n",
      "Id: 100841, Error: 3101.37254738168\n",
      "Id: 100854, Error: 2533.454396817879\n",
      "Id: 100887, Error: 1236.120562206424\n",
      "Id: 100973, Error: 2242.657812716512\n",
      "Id: 100998, Error: 1324.7106003795304\n",
      "Id: 101030, Error: 7039.867532073374\n",
      "Id: 101107, Error: 35327.36862931005\n",
      "Id: 101211, Error: 7424.8290433404545\n",
      "Id: 101291, Error: 9508.064357962294\n",
      "Id: 101321, Error: 3182.091833745248\n",
      "Id: 101348, Error: 3531.9497368981924\n",
      "Id: 101405, Error: 5379.953400363181\n",
      "Id: 101444, Error: 4871.8867235245425\n",
      "Id: 101569, Error: 17332.021158321586\n",
      "Id: 101612, Error: 9623.49084547902\n",
      "Id: 101633, Error: 10408.930961794968\n",
      "Id: 101681, Error: 314.1234322888807\n",
      "Id: 101751, Error: 15550.889280860478\n",
      "Id: 101819, Error: 3888.7263401166306\n",
      "Id: 101822, Error: 15486.37982913372\n",
      "Id: 101841, Error: 3319.675549886466\n",
      "Id: 101877, Error: 2020.109479980474\n",
      "Id: 101918, Error: 734.2033841219123\n",
      "Id: 101968, Error: 19895.71598587196\n",
      "Id: 101972, Error: 29185.125883663295\n",
      "Id: 101980, Error: 162871.81918912282\n",
      "Id: 101989, Error: 8290.546138400068\n",
      "Id: 102003, Error: 21023.26184736004\n",
      "Id: 102008, Error: 21083.988236938654\n",
      "Id: 102013, Error: 19263.04654788312\n",
      "Id: 102064, Error: 58000.60700302439\n",
      "Id: 102093, Error: 841.519085737497\n",
      "Id: 102141, Error: 416.4262253000383\n",
      "Id: 102197, Error: 19749.92356950595\n",
      "Id: 102212, Error: 4532.454320936508\n",
      "Id: 102255, Error: 4769.514183948343\n",
      "Id: 102362, Error: 71970.15912541002\n",
      "Id: 102449, Error: 2292.8879299092036\n",
      "Id: 102490, Error: 1606.6899443115865\n",
      "Id: 102492, Error: 50300.43653789134\n",
      "Id: 102642, Error: 2622.9119586659294\n",
      "Id: 102668, Error: 5709.941966539643\n",
      "Id: 102680, Error: 9969.037480593208\n",
      "Id: 102697, Error: 9993.63031083927\n",
      "Id: 102800, Error: 3268.0510213857488\n",
      "Id: 102822, Error: 5822.836482844844\n",
      "Id: 102864, Error: 56029.55773255231\n",
      "Id: 102887, Error: 24134.004954064178\n",
      "Id: 102903, Error: 28937.177202531937\n",
      "Id: 102918, Error: 2206.0639362792267\n",
      "Id: 102948, Error: 13343.860621609349\n",
      "Id: 102949, Error: 3042.6888534944464\n",
      "Id: 102981, Error: 9790.3687788171\n",
      "Id: 103026, Error: 4092.7515726230354\n",
      "Id: 103047, Error: 13329.972456441188\n",
      "Id: 103174, Error: 1750.191567904617\n",
      "Id: 103177, Error: 327.46431351963474\n",
      "Id: 103235, Error: 53214.22918758512\n",
      "Id: 103320, Error: 2467.069316963252\n",
      "Id: 103585, Error: 11729.575115295198\n"
     ]
    },
    {
     "name": "stderr",
     "output_type": "stream",
     "text": [
      "Fitting the data:   0%|          | 0/81 [00:00<?, ?it/s]"
     ]
    },
    {
     "name": "stdout",
     "output_type": "stream",
     "text": [
      "Id: 103625, Error: 23569.058731764042\n",
      " > 19573.542\n"
     ]
    },
    {
     "name": "stderr",
     "output_type": "stream",
     "text": [
      "Fitting the data: 100%|██████████| 81/81 [01:53<00:00,  1.46s/it]\n"
     ]
    },
    {
     "name": "stdout",
     "output_type": "stream",
     "text": [
      "Id: 100040, Error: 71512.91723064036\n",
      "Id: 100200, Error: 11321.161914357013\n",
      "Id: 100214, Error: 12074.40916041979\n",
      "Id: 100244, Error: 32179.59831592358\n",
      "Id: 100283, Error: 56710.89771234418\n",
      "Id: 100288, Error: 8211.068073675284\n",
      "Id: 100363, Error: 14476.050780799582\n",
      "Id: 100419, Error: 16545.40228786205\n",
      "Id: 100421, Error: 22280.51907048631\n",
      "Id: 100425, Error: 7141.1887288190965\n",
      "Id: 100490, Error: 1953.5386003212034\n",
      "Id: 100525, Error: 1793.2419774757745\n",
      "Id: 100532, Error: 4157.541815832507\n",
      "Id: 100534, Error: 6017.8644757516295\n",
      "Id: 100607, Error: 109888.77111689367\n",
      "Id: 100632, Error: 12853.112273471887\n",
      "Id: 100684, Error: 155824.3549041166\n",
      "Id: 100709, Error: 15854.55684321089\n",
      "Id: 100737, Error: 19144.25284449216\n",
      "Id: 100819, Error: 574.2893384897463\n",
      "Id: 100841, Error: 3186.4195329621784\n",
      "Id: 100854, Error: 2548.2912704658697\n",
      "Id: 100887, Error: 1238.1267902493803\n",
      "Id: 100973, Error: 2489.260233882412\n",
      "Id: 100998, Error: 1358.3316540021383\n",
      "Id: 101030, Error: 7559.487748063173\n",
      "Id: 101107, Error: 44011.01453197636\n",
      "Id: 101211, Error: 7621.18598194827\n",
      "Id: 101291, Error: 10262.57444706748\n",
      "Id: 101321, Error: 3270.029551506463\n",
      "Id: 101348, Error: 3683.9602923519706\n",
      "Id: 101405, Error: 4892.49945918196\n",
      "Id: 101444, Error: 4276.154044866825\n",
      "Id: 101569, Error: 17727.618404596844\n",
      "Id: 101612, Error: 11676.985216428277\n",
      "Id: 101633, Error: 8223.80478617503\n",
      "Id: 101681, Error: 252.14352297226796\n",
      "Id: 101751, Error: 16070.310266233093\n",
      "Id: 101819, Error: 3356.555550563649\n",
      "Id: 101822, Error: 14410.64431247818\n",
      "Id: 101841, Error: 2985.4929093925\n",
      "Id: 101877, Error: 2336.364401405003\n",
      "Id: 101918, Error: 745.6129585636717\n",
      "Id: 101968, Error: 14483.27597906874\n",
      "Id: 101972, Error: 29476.306420069275\n",
      "Id: 101980, Error: 173333.681215249\n",
      "Id: 101989, Error: 7598.237936156471\n",
      "Id: 102003, Error: 22546.23447668763\n",
      "Id: 102008, Error: 21896.982639164813\n",
      "Id: 102013, Error: 17567.942665189457\n",
      "Id: 102064, Error: 60429.876795686716\n",
      "Id: 102093, Error: 754.2689631474726\n",
      "Id: 102141, Error: 379.69708144633995\n",
      "Id: 102197, Error: 17293.55748486112\n",
      "Id: 102212, Error: 3620.1010838486886\n",
      "Id: 102255, Error: 4190.858647066846\n",
      "Id: 102362, Error: 81011.79460392121\n",
      "Id: 102449, Error: 2557.515723785309\n",
      "Id: 102490, Error: 1480.0741462708381\n",
      "Id: 102492, Error: 42035.38667889187\n",
      "Id: 102642, Error: 2540.203093267742\n",
      "Id: 102668, Error: 5821.619282670156\n",
      "Id: 102680, Error: 10731.699063452636\n",
      "Id: 102697, Error: 9505.705590790227\n",
      "Id: 102800, Error: 3056.7122118046427\n",
      "Id: 102822, Error: 4901.369014230392\n",
      "Id: 102864, Error: 42318.21466194836\n",
      "Id: 102887, Error: 20312.423754221076\n",
      "Id: 102903, Error: 24639.243804853002\n",
      "Id: 102918, Error: 2151.9657520046953\n",
      "Id: 102948, Error: 12872.379336059234\n",
      "Id: 102949, Error: 3715.062468838781\n",
      "Id: 102981, Error: 6924.170406936132\n",
      "Id: 103026, Error: 4652.031950187306\n",
      "Id: 103047, Error: 12948.724943174771\n",
      "Id: 103174, Error: 1932.7931893762943\n",
      "Id: 103177, Error: 337.66959158170107\n",
      "Id: 103235, Error: 53537.56468035409\n",
      "Id: 103320, Error: 1638.0822657943925\n",
      "Id: 103585, Error: 13369.67115439375\n",
      "Id: 103625, Error: 21960.32753943862\n",
      " > 18706.432\n"
     ]
    },
    {
     "name": "stderr",
     "output_type": "stream",
     "text": [
      "Fitting the data: 100%|██████████| 81/81 [01:57<00:00,  1.58s/it]\n"
     ]
    },
    {
     "name": "stdout",
     "output_type": "stream",
     "text": [
      "Id: 100040, Error: 75393.63706090699\n",
      "Id: 100200, Error: 8811.547206671012\n",
      "Id: 100214, Error: 12908.029461667713\n",
      "Id: 100244, Error: 41465.574933865464\n",
      "Id: 100283, Error: 67033.27220115419\n",
      "Id: 100288, Error: 8514.886518129793\n",
      "Id: 100363, Error: 14492.60281407088\n",
      "Id: 100419, Error: 18612.664561842656\n",
      "Id: 100421, Error: 25684.545730719474\n",
      "Id: 100425, Error: 7037.705488379969\n",
      "Id: 100490, Error: 1927.1202066548792\n",
      "Id: 100525, Error: 1668.3754756236085\n",
      "Id: 100532, Error: 4323.148319010815\n",
      "Id: 100534, Error: 5786.53702027023\n",
      "Id: 100607, Error: 111853.43558199238\n",
      "Id: 100632, Error: 13147.661440999022\n",
      "Id: 100684, Error: 157767.07108356754\n",
      "Id: 100709, Error: 15440.80780038436\n",
      "Id: 100737, Error: 17851.437803408306\n",
      "Id: 100819, Error: 609.3282774257515\n",
      "Id: 100841, Error: 3499.961914709695\n",
      "Id: 100854, Error: 2539.139957034555\n",
      "Id: 100887, Error: 1269.148158237974\n",
      "Id: 100973, Error: 2703.0374710407555\n",
      "Id: 100998, Error: 1411.1149949601913\n",
      "Id: 101030, Error: 7444.9487303368705\n",
      "Id: 101107, Error: 40947.6809822946\n",
      "Id: 101211, Error: 7645.773551715404\n",
      "Id: 101291, Error: 7662.365908448807\n",
      "Id: 101321, Error: 4023.5364974066683\n",
      "Id: 101348, Error: 3664.62900479871\n",
      "Id: 101405, Error: 5281.102773196712\n",
      "Id: 101444, Error: 4492.073978460926\n",
      "Id: 101569, Error: 17644.205933596564\n",
      "Id: 101612, Error: 9479.086863847375\n",
      "Id: 101633, Error: 8754.469513766417\n",
      "Id: 101681, Error: 299.6312355823831\n",
      "Id: 101751, Error: 16893.155764331983\n",
      "Id: 101819, Error: 3351.7180137689843\n",
      "Id: 101822, Error: 12662.368404775938\n",
      "Id: 101841, Error: 3175.777023010698\n",
      "Id: 101877, Error: 2003.7679136355328\n",
      "Id: 101918, Error: 743.5159906122644\n",
      "Id: 101968, Error: 19152.677927607037\n",
      "Id: 101972, Error: 29363.635373140674\n",
      "Id: 101980, Error: 174827.11157841608\n",
      "Id: 101989, Error: 7935.776899557998\n",
      "Id: 102003, Error: 18728.777056990144\n",
      "Id: 102008, Error: 23105.41141314912\n",
      "Id: 102013, Error: 18577.41636509053\n",
      "Id: 102064, Error: 60062.99467772483\n",
      "Id: 102093, Error: 661.0648863928825\n",
      "Id: 102141, Error: 357.74094861170005\n",
      "Id: 102197, Error: 21992.585984877423\n",
      "Id: 102212, Error: 4381.886000415726\n",
      "Id: 102255, Error: 4310.5775422376655\n",
      "Id: 102362, Error: 66742.34783951937\n",
      "Id: 102449, Error: 2827.4795551538955\n",
      "Id: 102490, Error: 1649.4457152296754\n",
      "Id: 102492, Error: 46872.89448996037\n",
      "Id: 102642, Error: 2637.439328005002\n",
      "Id: 102668, Error: 5817.526226616076\n",
      "Id: 102680, Error: 9622.48475110988\n",
      "Id: 102697, Error: 9157.608354394799\n",
      "Id: 102800, Error: 3429.879392374131\n",
      "Id: 102822, Error: 5866.538711444989\n",
      "Id: 102864, Error: 39962.456090818094\n",
      "Id: 102887, Error: 18933.607949848014\n",
      "Id: 102903, Error: 21901.072481161926\n",
      "Id: 102918, Error: 2397.647057189312\n",
      "Id: 102948, Error: 12762.670379544279\n",
      "Id: 102949, Error: 3763.5497323344293\n",
      "Id: 102981, Error: 7340.414653885011\n",
      "Id: 103026, Error: 4665.693506871002\n",
      "Id: 103047, Error: 11387.148148318081\n",
      "Id: 103174, Error: 1967.2805664758087\n",
      "Id: 103177, Error: 348.3669954392163\n",
      "Id: 103235, Error: 40170.38322334515\n",
      "Id: 103320, Error: 1528.3940724593997\n",
      "Id: 103585, Error: 14016.176678680646\n"
     ]
    },
    {
     "name": "stderr",
     "output_type": "stream",
     "text": [
      "Fitting the data:   0%|          | 0/81 [00:00<?, ?it/s]"
     ]
    },
    {
     "name": "stdout",
     "output_type": "stream",
     "text": [
      "Id: 103625, Error: 20389.012261762527\n",
      " > 18735.022\n"
     ]
    },
    {
     "name": "stderr",
     "output_type": "stream",
     "text": [
      "Fitting the data: 100%|██████████| 81/81 [01:52<00:00,  1.37s/it]\n"
     ]
    },
    {
     "name": "stdout",
     "output_type": "stream",
     "text": [
      "Id: 100040, Error: 86886.37361790975\n",
      "Id: 100200, Error: 8322.949559567287\n",
      "Id: 100214, Error: 12292.273805953133\n",
      "Id: 100244, Error: 39978.38139024549\n",
      "Id: 100283, Error: 113881.37205290627\n",
      "Id: 100288, Error: 7822.232852618319\n",
      "Id: 100363, Error: 14345.955279838745\n",
      "Id: 100419, Error: 20537.07085418823\n",
      "Id: 100421, Error: 31372.727764669256\n",
      "Id: 100425, Error: 6141.180626282291\n",
      "Id: 100490, Error: 2261.104080473824\n",
      "Id: 100525, Error: 1701.8237350098113\n",
      "Id: 100532, Error: 4321.438778004825\n",
      "Id: 100534, Error: 5590.787384291318\n",
      "Id: 100607, Error: 111538.36288143655\n",
      "Id: 100632, Error: 13449.320541383006\n",
      "Id: 100684, Error: 150529.56540367176\n",
      "Id: 100709, Error: 12789.728231951542\n",
      "Id: 100737, Error: 16222.472536770167\n",
      "Id: 100819, Error: 672.4087186527973\n",
      "Id: 100841, Error: 3817.9752906630943\n",
      "Id: 100854, Error: 2511.9045856825637\n",
      "Id: 100887, Error: 1332.858827627498\n",
      "Id: 100973, Error: 2643.0463441841825\n",
      "Id: 100998, Error: 1415.686926347297\n",
      "Id: 101030, Error: 8055.084225377133\n",
      "Id: 101107, Error: 45206.12004978522\n",
      "Id: 101211, Error: 7670.926877531884\n",
      "Id: 101291, Error: 6989.129489735694\n",
      "Id: 101321, Error: 3839.7734394463964\n",
      "Id: 101348, Error: 3507.922051106772\n",
      "Id: 101405, Error: 6064.266618708717\n",
      "Id: 101444, Error: 6161.450866550687\n",
      "Id: 101569, Error: 17538.763766396285\n",
      "Id: 101612, Error: 10627.542889325263\n",
      "Id: 101633, Error: 9662.42938168988\n",
      "Id: 101681, Error: 298.06669846579945\n",
      "Id: 101751, Error: 17310.819932570088\n",
      "Id: 101819, Error: 3305.418435181074\n",
      "Id: 101822, Error: 11709.37441077907\n",
      "Id: 101841, Error: 2985.781779767938\n",
      "Id: 101877, Error: 2132.745472122835\n",
      "Id: 101918, Error: 733.9929827805923\n",
      "Id: 101968, Error: 22891.24763425342\n",
      "Id: 101972, Error: 29431.03832560506\n",
      "Id: 101980, Error: 156312.51665909015\n",
      "Id: 101989, Error: 10128.574801032211\n",
      "Id: 102003, Error: 16490.52161808751\n",
      "Id: 102008, Error: 23319.96953878627\n",
      "Id: 102013, Error: 17040.251382270948\n",
      "Id: 102064, Error: 59474.588703698304\n",
      "Id: 102093, Error: 672.3269829319335\n",
      "Id: 102141, Error: 359.53459446917105\n",
      "Id: 102197, Error: 22574.598059183143\n",
      "Id: 102212, Error: 5215.157501843819\n",
      "Id: 102255, Error: 5008.863852686683\n",
      "Id: 102362, Error: 73148.25239153045\n",
      "Id: 102449, Error: 3171.620605272221\n",
      "Id: 102490, Error: 1882.3922867456356\n",
      "Id: 102492, Error: 54724.61546258442\n",
      "Id: 102642, Error: 2665.6944320764446\n",
      "Id: 102668, Error: 5680.056566837524\n",
      "Id: 102680, Error: 9720.159890935825\n",
      "Id: 102697, Error: 8545.852600498172\n",
      "Id: 102800, Error: 3868.3790107423956\n",
      "Id: 102822, Error: 6521.082035058065\n",
      "Id: 102864, Error: 50422.68224381774\n",
      "Id: 102887, Error: 19651.459191473776\n",
      "Id: 102903, Error: 23334.208886088123\n",
      "Id: 102918, Error: 2550.828573167581\n",
      "Id: 102948, Error: 14252.466471998147\n",
      "Id: 102949, Error: 3917.5474772343064\n",
      "Id: 102981, Error: 8298.798358707632\n",
      "Id: 103026, Error: 4730.657026827912\n",
      "Id: 103047, Error: 12284.915784979996\n",
      "Id: 103174, Error: 2527.214511074557\n",
      "Id: 103177, Error: 370.51568536384957\n",
      "Id: 103235, Error: 43889.8685608877\n",
      "Id: 103320, Error: 2018.2425511560075\n",
      "Id: 103585, Error: 14375.230523314865\n"
     ]
    },
    {
     "name": "stderr",
     "output_type": "stream",
     "text": [
      "Fitting the data:   0%|          | 0/81 [00:00<?, ?it/s]"
     ]
    },
    {
     "name": "stdout",
     "output_type": "stream",
     "text": [
      "Id: 103625, Error: 21299.99126419704\n",
      " > 19740.130\n"
     ]
    },
    {
     "name": "stderr",
     "output_type": "stream",
     "text": [
      "Fitting the data: 100%|██████████| 81/81 [01:55<00:00,  1.38s/it]\n"
     ]
    },
    {
     "name": "stdout",
     "output_type": "stream",
     "text": [
      "Id: 100040, Error: 68139.81809502572\n",
      "Id: 100200, Error: 10037.191573530472\n",
      "Id: 100214, Error: 12253.139633005483\n",
      "Id: 100244, Error: 35676.51260651145\n",
      "Id: 100283, Error: 74191.54207323998\n",
      "Id: 100288, Error: 9221.216121521255\n",
      "Id: 100363, Error: 14489.588802273458\n",
      "Id: 100419, Error: 14909.082069672773\n",
      "Id: 100421, Error: 26789.609063022053\n",
      "Id: 100425, Error: 7457.103235045183\n",
      "Id: 100490, Error: 1979.6354441851797\n",
      "Id: 100525, Error: 1736.1699195676363\n",
      "Id: 100532, Error: 3794.5524290805915\n",
      "Id: 100534, Error: 5058.509196168652\n",
      "Id: 100607, Error: 111848.29913806083\n",
      "Id: 100632, Error: 12437.009651918566\n",
      "Id: 100684, Error: 162838.9799354372\n",
      "Id: 100709, Error: 17619.208834207897\n",
      "Id: 100737, Error: 18574.2662303816\n",
      "Id: 100819, Error: 574.1446538035107\n",
      "Id: 100841, Error: 2895.7535347148773\n",
      "Id: 100854, Error: 2549.6670289445424\n",
      "Id: 100887, Error: 1217.7776626602547\n",
      "Id: 100973, Error: 2396.5163424378047\n",
      "Id: 100998, Error: 1394.2689183448813\n",
      "Id: 101030, Error: 7753.815080837706\n",
      "Id: 101107, Error: 38180.06375486875\n",
      "Id: 101211, Error: 7571.460137356943\n",
      "Id: 101291, Error: 9828.61982252043\n",
      "Id: 101321, Error: 3821.7841144926147\n",
      "Id: 101348, Error: 3684.100463399054\n",
      "Id: 101405, Error: 3722.0141837818032\n",
      "Id: 101444, Error: 4935.514611668207\n",
      "Id: 101569, Error: 17645.20429563077\n",
      "Id: 101612, Error: 11167.208187021935\n",
      "Id: 101633, Error: 6639.586618696264\n",
      "Id: 101681, Error: 245.30582238767533\n",
      "Id: 101751, Error: 16368.079648084284\n",
      "Id: 101819, Error: 3300.9681259285207\n",
      "Id: 101822, Error: 14196.645146535446\n",
      "Id: 101841, Error: 2805.0608513806346\n",
      "Id: 101877, Error: 2245.709708307341\n",
      "Id: 101918, Error: 748.8569227258864\n",
      "Id: 101968, Error: 12901.676276814678\n",
      "Id: 101972, Error: 29064.11603139807\n",
      "Id: 101980, Error: 184191.7947344575\n",
      "Id: 101989, Error: 7111.3782239080465\n",
      "Id: 102003, Error: 23808.954669985877\n",
      "Id: 102008, Error: 21824.593129555255\n",
      "Id: 102013, Error: 19174.038497089543\n",
      "Id: 102064, Error: 59576.373537701824\n",
      "Id: 102093, Error: 669.2907170852137\n",
      "Id: 102141, Error: 363.6624963591301\n",
      "Id: 102197, Error: 16752.722634688074\n",
      "Id: 102212, Error: 3724.340725204911\n",
      "Id: 102255, Error: 4958.082730658088\n",
      "Id: 102362, Error: 71981.48768761237\n",
      "Id: 102449, Error: 2524.2823326846997\n",
      "Id: 102490, Error: 1558.5034571643948\n",
      "Id: 102492, Error: 41668.581388366714\n",
      "Id: 102642, Error: 1990.7407574043154\n",
      "Id: 102668, Error: 5815.021861669637\n",
      "Id: 102680, Error: 10414.879604465825\n",
      "Id: 102697, Error: 8844.278164852425\n",
      "Id: 102800, Error: 3198.1881501153002\n",
      "Id: 102822, Error: 5833.362847789281\n",
      "Id: 102864, Error: 38758.24219423214\n",
      "Id: 102887, Error: 18610.56559305568\n",
      "Id: 102903, Error: 23328.253440310353\n",
      "Id: 102918, Error: 2661.6282943494725\n",
      "Id: 102948, Error: 10160.804384823163\n",
      "Id: 102949, Error: 3459.7282218564637\n",
      "Id: 102981, Error: 6640.045696020156\n",
      "Id: 103026, Error: 4786.843538755508\n",
      "Id: 103047, Error: 11117.47811865137\n",
      "Id: 103174, Error: 2232.4506891337146\n",
      "Id: 103177, Error: 326.34951623718445\n",
      "Id: 103235, Error: 56576.319115061204\n",
      "Id: 103320, Error: 1782.1796050520527\n",
      "Id: 103585, Error: 13831.84726180874\n",
      "Id: 103625, Error: 19814.67978814679\n",
      " > 18851.572\n"
     ]
    }
   ],
   "source": [
    "scores = performance.repeat_evaluate(GeneralModel, train_df, test_df, config, n_repeats=5)"
   ]
  },
  {
   "cell_type": "code",
   "execution_count": 10,
   "metadata": {},
   "outputs": [
    {
     "name": "stdout",
     "output_type": "stream",
     "text": [
      "lstm: 19121.340 RMSE (+/- 443.070)\n"
     ]
    },
    {
     "data": {
      "image/png": "[encoded data removed]",
      "text/plain": [
       "<Figure size 432x288 with 1 Axes>"
      ]
     },
     "metadata": {
      "needs_background": "light"
     },
     "output_type": "display_data"
    }
   ],
   "source": [
    "performance.summarize_scores('lstm', [score[0] for score in scores])"
   ]
  },
  {
   "cell_type": "code",
   "execution_count": null,
   "metadata": {},
   "outputs": [],
   "source": []
  }
 ],
 "metadata": {
  "kernelspec": {
   "display_name": "Python 3",
   "language": "python",
   "name": "python3"
  },
  "language_info": {
   "codemirror_mode": {
    "name": "ipython",
    "version": 3
   },
   "file_extension": ".py",
   "mimetype": "text/x-python",
   "name": "python",
   "nbconvert_exporter": "python",
   "pygments_lexer": "ipython3",
   "version": "3.6.6"
  }
 },
 "nbformat": 4,
 "nbformat_minor": 2
}
