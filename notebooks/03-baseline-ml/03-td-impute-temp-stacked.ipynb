{
 "cells": [
  {
   "cell_type": "code",
   "execution_count": 1,
   "metadata": {},
   "outputs": [
    {
     "name": "stderr",
     "output_type": "stream",
     "text": [
      "/home/thuongdinh/.virtualenvs/mlcsef/lib/python3.6/site-packages/requests/__init__.py:91: RequestsDependencyWarning: urllib3 (1.24) or chardet (3.0.4) doesn't match a supported version!\n",
      "  RequestsDependencyWarning)\n"
     ]
    }
   ],
   "source": [
    "%matplotlib inline\n",
    "\n",
    "# plotting\n",
    "import matplotlib as mpl\n",
    "mpl.style.use('ggplot')\n",
    "import matplotlib.pyplot as plt\n",
    "\n",
    "# math and data manipulation\n",
    "import numpy as np\n",
    "import pandas as pd\n",
    "\n",
    "# to handle paths\n",
    "from pathlib import Path\n",
    "\n",
    "# set random seeds \n",
    "from numpy.random import seed\n",
    "from tensorflow import set_random_seed\n",
    "from sklearn.preprocessing import Imputer\n",
    "from sklearn.preprocessing import LabelEncoder\n",
    "from sklearn.metrics import mean_squared_error\n",
    "\n",
    "# Tensorflow\n",
    "from tensorflow import keras \n",
    "import tensorflow as tf\n",
    "\n",
    "# progress bar\n",
    "from tqdm import tqdm\n",
    "import lightgbm as lgb\n",
    "\n",
    "from csef.utils import performance\n",
    "\n",
    "RANDOM_SEED = 2018\n",
    "seed(RANDOM_SEED)\n",
    "set_random_seed(RANDOM_SEED)"
   ]
  },
  {
   "cell_type": "markdown",
   "metadata": {},
   "source": [
    "## Data Loading"
   ]
  },
  {
   "cell_type": "code",
   "execution_count": 2,
   "metadata": {},
   "outputs": [],
   "source": [
    "data_path = Path('..', '..', 'data', 'raw')\n",
    "consumption_train = pd.read_csv(data_path / 'consumption_train.csv', \n",
    "                                index_col=0, parse_dates=['timestamp'])\n",
    "cold_start_test = pd.read_csv(data_path / 'cold_start_test.csv', \n",
    "                              index_col=0, parse_dates=['timestamp'])\n",
    "submission_format = pd.read_csv(data_path / 'submission_format.csv',\n",
    "                                index_col='pred_id',\n",
    "                                parse_dates=['timestamp'])\n",
    "\n",
    "meta = pd.read_csv(data_path / 'meta.csv')"
   ]
  },
  {
   "cell_type": "code",
   "execution_count": 3,
   "metadata": {},
   "outputs": [
    {
     "data": {
      "text/plain": [
       "Index(['series_id', 'timestamp', 'consumption', 'temperature'], dtype='object')"
      ]
     },
     "execution_count": 3,
     "metadata": {},
     "output_type": "execute_result"
    }
   ],
   "source": [
    "cold_start_test.columns"
   ]
  },
  {
   "cell_type": "code",
   "execution_count": 4,
   "metadata": {},
   "outputs": [
    {
     "data": {
      "text/plain": [
       "Index(['series_id', 'timestamp', 'consumption', 'temperature'], dtype='object')"
      ]
     },
     "execution_count": 4,
     "metadata": {},
     "output_type": "execute_result"
    }
   ],
   "source": [
    "consumption_train.columns"
   ]
  },
  {
   "cell_type": "code",
   "execution_count": 5,
   "metadata": {},
   "outputs": [
    {
     "data": {
      "text/plain": [
       "Index(['series_id', 'surface', 'base_temperature', 'monday_is_day_off',\n",
       "       'tuesday_is_day_off', 'wednesday_is_day_off', 'thursday_is_day_off',\n",
       "       'friday_is_day_off', 'saturday_is_day_off', 'sunday_is_day_off'],\n",
       "      dtype='object')"
      ]
     },
     "execution_count": 5,
     "metadata": {},
     "output_type": "execute_result"
    }
   ],
   "source": [
    "meta.columns"
   ]
  },
  {
   "cell_type": "code",
   "execution_count": 6,
   "metadata": {},
   "outputs": [],
   "source": [
    "def preprocessing(df, category_cols, meta):\n",
    "    train = df.copy()\n",
    "    \n",
    "    train = df.merge(meta, how = 'left', on = ['series_id'])\n",
    "    \n",
    "    train = train.set_index('timestamp')\n",
    "    \n",
    "    train['hour'] = train.index.hour\n",
    "    train['wday'] = train.index.dayofweek\n",
    "    train['mday'] = train.index.day\n",
    "    train['yday'] = train.index.dayofyear\n",
    "    train['month'] = train.index.month\n",
    "    train['year'] = train.index.year\n",
    "    \n",
    "    # Cyclical variable transformations\n",
    "    \n",
    "    # wday has period of 6\n",
    "    train['wday_sin'] = np.sin(2 * np.pi * train['wday'] / 6)\n",
    "    train['wday_cos'] = np.cos(2 * np.pi * train['wday'] / 6)\n",
    "\n",
    "    # yday has period of 365\n",
    "    train['yday_sin'] = np.sin(2 * np.pi * train['yday'] / 365)\n",
    "    train['yday_cos'] = np.cos(2 * np.pi * train['yday'] / 365)\n",
    "\n",
    "    # month has period of 12\n",
    "    train['month_sin'] = np.sin(2 * np.pi * train['month'] / 12)\n",
    "    train['month_cos'] = np.cos(2 * np.pi * train['month'] / 12)\n",
    "\n",
    "    # time has period of 24\n",
    "    train['time_sin'] = np.sin(2 * np.pi * train['hour'] / 24)\n",
    "    train['time_cos'] = np.cos(2 * np.pi * train['hour'] / 24)\n",
    "\n",
    "    # turn the index into a column\n",
    "    train = train.reset_index(level=0)\n",
    "    \n",
    "    for col in category_cols:\n",
    "        encoder = LabelEncoder()\n",
    "        train[col] = encoder.fit_transform(train[col])\n",
    "        \n",
    "    return train\n",
    "\n",
    "def prepare_temp_df(df):\n",
    "    # remove nan data\n",
    "    return df.dropna(subset=['temperature'])\n",
    "\n",
    "def predict_temp(df):\n",
    "    train = preprocessing(df, category_cols, meta)\n",
    "    return model.predict(train.drop(columns=['timestamp', 'series_id', 'temperature']))"
   ]
  },
  {
   "cell_type": "code",
   "execution_count": 7,
   "metadata": {},
   "outputs": [],
   "source": [
    "category_cols = [\n",
    "    'surface', 'base_temperature', 'monday_is_day_off', 'tuesday_is_day_off', 'wednesday_is_day_off',\n",
    "    'thursday_is_day_off', 'friday_is_day_off', 'saturday_is_day_off', 'sunday_is_day_off'\n",
    "]\n",
    "\n",
    "consumption_processed = preprocessing(consumption_train, category_cols, meta)\n",
    "cold_start_processed = preprocessing(cold_start_test, category_cols, meta)\n",
    "submission_processed = preprocessing(submission_format, category_cols, meta)"
   ]
  },
  {
   "cell_type": "code",
   "execution_count": 8,
   "metadata": {},
   "outputs": [],
   "source": [
    "consumption_ntemp = prepare_temp_df(consumption_processed)\n",
    "cold_ntemp = prepare_temp_df(cold_start_processed)\n",
    "submission_ntemp = prepare_temp_df(submission_processed)"
   ]
  },
  {
   "cell_type": "code",
   "execution_count": 9,
   "metadata": {},
   "outputs": [],
   "source": [
    "full_train = consumption_ntemp.append(cold_ntemp)"
   ]
  },
  {
   "cell_type": "code",
   "execution_count": 10,
   "metadata": {},
   "outputs": [
    {
     "data": {
      "text/plain": [
       "(347755, 27)"
      ]
     },
     "execution_count": 10,
     "metadata": {},
     "output_type": "execute_result"
    }
   ],
   "source": [
    "full_train.shape"
   ]
  },
  {
   "cell_type": "code",
   "execution_count": 11,
   "metadata": {},
   "outputs": [
    {
     "data": {
      "text/html": [
       "<div>\n",
       "<style scoped>\n",
       "    .dataframe tbody tr th:only-of-type {\n",
       "        vertical-align: middle;\n",
       "    }\n",
       "\n",
       "    .dataframe tbody tr th {\n",
       "        vertical-align: top;\n",
       "    }\n",
       "\n",
       "    .dataframe thead th {\n",
       "        text-align: right;\n",
       "    }\n",
       "</style>\n",
       "<table border=\"1\" class=\"dataframe\">\n",
       "  <thead>\n",
       "    <tr style=\"text-align: right;\">\n",
       "      <th></th>\n",
       "      <th>timestamp</th>\n",
       "      <th>series_id</th>\n",
       "      <th>consumption</th>\n",
       "      <th>temperature</th>\n",
       "      <th>surface</th>\n",
       "      <th>base_temperature</th>\n",
       "      <th>monday_is_day_off</th>\n",
       "      <th>tuesday_is_day_off</th>\n",
       "      <th>wednesday_is_day_off</th>\n",
       "      <th>thursday_is_day_off</th>\n",
       "      <th>...</th>\n",
       "      <th>month</th>\n",
       "      <th>year</th>\n",
       "      <th>wday_sin</th>\n",
       "      <th>wday_cos</th>\n",
       "      <th>yday_sin</th>\n",
       "      <th>yday_cos</th>\n",
       "      <th>month_sin</th>\n",
       "      <th>month_cos</th>\n",
       "      <th>time_sin</th>\n",
       "      <th>time_cos</th>\n",
       "    </tr>\n",
       "  </thead>\n",
       "  <tbody>\n",
       "    <tr>\n",
       "      <th>161</th>\n",
       "      <td>2014-12-30 17:00:00</td>\n",
       "      <td>103088</td>\n",
       "      <td>143709.717612</td>\n",
       "      <td>-4.675</td>\n",
       "      <td>4</td>\n",
       "      <td>1</td>\n",
       "      <td>0</td>\n",
       "      <td>0</td>\n",
       "      <td>0</td>\n",
       "      <td>0</td>\n",
       "      <td>...</td>\n",
       "      <td>12</td>\n",
       "      <td>2014</td>\n",
       "      <td>0.866025</td>\n",
       "      <td>0.5</td>\n",
       "      <td>-1.721336e-02</td>\n",
       "      <td>0.999852</td>\n",
       "      <td>-2.449294e-16</td>\n",
       "      <td>1.0</td>\n",
       "      <td>-0.965926</td>\n",
       "      <td>-2.588190e-01</td>\n",
       "    </tr>\n",
       "    <tr>\n",
       "      <th>162</th>\n",
       "      <td>2014-12-30 18:00:00</td>\n",
       "      <td>103088</td>\n",
       "      <td>157424.927949</td>\n",
       "      <td>-5.000</td>\n",
       "      <td>4</td>\n",
       "      <td>1</td>\n",
       "      <td>0</td>\n",
       "      <td>0</td>\n",
       "      <td>0</td>\n",
       "      <td>0</td>\n",
       "      <td>...</td>\n",
       "      <td>12</td>\n",
       "      <td>2014</td>\n",
       "      <td>0.866025</td>\n",
       "      <td>0.5</td>\n",
       "      <td>-1.721336e-02</td>\n",
       "      <td>0.999852</td>\n",
       "      <td>-2.449294e-16</td>\n",
       "      <td>1.0</td>\n",
       "      <td>-1.000000</td>\n",
       "      <td>-1.836970e-16</td>\n",
       "    </tr>\n",
       "    <tr>\n",
       "      <th>182</th>\n",
       "      <td>2014-12-31 14:00:00</td>\n",
       "      <td>103088</td>\n",
       "      <td>153370.363034</td>\n",
       "      <td>-4.400</td>\n",
       "      <td>4</td>\n",
       "      <td>1</td>\n",
       "      <td>0</td>\n",
       "      <td>0</td>\n",
       "      <td>0</td>\n",
       "      <td>0</td>\n",
       "      <td>...</td>\n",
       "      <td>12</td>\n",
       "      <td>2014</td>\n",
       "      <td>0.866025</td>\n",
       "      <td>-0.5</td>\n",
       "      <td>6.432491e-16</td>\n",
       "      <td>1.000000</td>\n",
       "      <td>-2.449294e-16</td>\n",
       "      <td>1.0</td>\n",
       "      <td>-0.500000</td>\n",
       "      <td>-8.660254e-01</td>\n",
       "    </tr>\n",
       "    <tr>\n",
       "      <th>183</th>\n",
       "      <td>2014-12-31 15:00:00</td>\n",
       "      <td>103088</td>\n",
       "      <td>137602.089769</td>\n",
       "      <td>-4.650</td>\n",
       "      <td>4</td>\n",
       "      <td>1</td>\n",
       "      <td>0</td>\n",
       "      <td>0</td>\n",
       "      <td>0</td>\n",
       "      <td>0</td>\n",
       "      <td>...</td>\n",
       "      <td>12</td>\n",
       "      <td>2014</td>\n",
       "      <td>0.866025</td>\n",
       "      <td>-0.5</td>\n",
       "      <td>6.432491e-16</td>\n",
       "      <td>1.000000</td>\n",
       "      <td>-2.449294e-16</td>\n",
       "      <td>1.0</td>\n",
       "      <td>-0.707107</td>\n",
       "      <td>-7.071068e-01</td>\n",
       "    </tr>\n",
       "    <tr>\n",
       "      <th>184</th>\n",
       "      <td>2014-12-31 16:00:00</td>\n",
       "      <td>103088</td>\n",
       "      <td>131771.016064</td>\n",
       "      <td>-5.100</td>\n",
       "      <td>4</td>\n",
       "      <td>1</td>\n",
       "      <td>0</td>\n",
       "      <td>0</td>\n",
       "      <td>0</td>\n",
       "      <td>0</td>\n",
       "      <td>...</td>\n",
       "      <td>12</td>\n",
       "      <td>2014</td>\n",
       "      <td>0.866025</td>\n",
       "      <td>-0.5</td>\n",
       "      <td>6.432491e-16</td>\n",
       "      <td>1.000000</td>\n",
       "      <td>-2.449294e-16</td>\n",
       "      <td>1.0</td>\n",
       "      <td>-0.866025</td>\n",
       "      <td>-5.000000e-01</td>\n",
       "    </tr>\n",
       "  </tbody>\n",
       "</table>\n",
       "<p>5 rows × 27 columns</p>\n",
       "</div>"
      ],
      "text/plain": [
       "              timestamp  series_id    consumption  temperature  surface  \\\n",
       "161 2014-12-30 17:00:00     103088  143709.717612       -4.675        4   \n",
       "162 2014-12-30 18:00:00     103088  157424.927949       -5.000        4   \n",
       "182 2014-12-31 14:00:00     103088  153370.363034       -4.400        4   \n",
       "183 2014-12-31 15:00:00     103088  137602.089769       -4.650        4   \n",
       "184 2014-12-31 16:00:00     103088  131771.016064       -5.100        4   \n",
       "\n",
       "     base_temperature  monday_is_day_off  tuesday_is_day_off  \\\n",
       "161                 1                  0                   0   \n",
       "162                 1                  0                   0   \n",
       "182                 1                  0                   0   \n",
       "183                 1                  0                   0   \n",
       "184                 1                  0                   0   \n",
       "\n",
       "     wednesday_is_day_off  thursday_is_day_off      ...       month  year  \\\n",
       "161                     0                    0      ...          12  2014   \n",
       "162                     0                    0      ...          12  2014   \n",
       "182                     0                    0      ...          12  2014   \n",
       "183                     0                    0      ...          12  2014   \n",
       "184                     0                    0      ...          12  2014   \n",
       "\n",
       "     wday_sin  wday_cos      yday_sin  yday_cos     month_sin  month_cos  \\\n",
       "161  0.866025       0.5 -1.721336e-02  0.999852 -2.449294e-16        1.0   \n",
       "162  0.866025       0.5 -1.721336e-02  0.999852 -2.449294e-16        1.0   \n",
       "182  0.866025      -0.5  6.432491e-16  1.000000 -2.449294e-16        1.0   \n",
       "183  0.866025      -0.5  6.432491e-16  1.000000 -2.449294e-16        1.0   \n",
       "184  0.866025      -0.5  6.432491e-16  1.000000 -2.449294e-16        1.0   \n",
       "\n",
       "     time_sin      time_cos  \n",
       "161 -0.965926 -2.588190e-01  \n",
       "162 -1.000000 -1.836970e-16  \n",
       "182 -0.500000 -8.660254e-01  \n",
       "183 -0.707107 -7.071068e-01  \n",
       "184 -0.866025 -5.000000e-01  \n",
       "\n",
       "[5 rows x 27 columns]"
      ]
     },
     "execution_count": 11,
     "metadata": {},
     "output_type": "execute_result"
    }
   ],
   "source": [
    "full_train.head()"
   ]
  },
  {
   "cell_type": "markdown",
   "metadata": {},
   "source": [
    "Merge meta to the full train"
   ]
  },
  {
   "cell_type": "code",
   "execution_count": 12,
   "metadata": {},
   "outputs": [],
   "source": [
    "X = full_train.drop(columns=['timestamp', 'series_id', 'temperature'])\n",
    "y = full_train.temperature"
   ]
  },
  {
   "cell_type": "code",
   "execution_count": 13,
   "metadata": {},
   "outputs": [
    {
     "data": {
      "text/plain": [
       "Index(['consumption', 'surface', 'base_temperature', 'monday_is_day_off',\n",
       "       'tuesday_is_day_off', 'wednesday_is_day_off', 'thursday_is_day_off',\n",
       "       'friday_is_day_off', 'saturday_is_day_off', 'sunday_is_day_off', 'hour',\n",
       "       'wday', 'mday', 'yday', 'month', 'year', 'wday_sin', 'wday_cos',\n",
       "       'yday_sin', 'yday_cos', 'month_sin', 'month_cos', 'time_sin',\n",
       "       'time_cos'],\n",
       "      dtype='object')"
      ]
     },
     "execution_count": 13,
     "metadata": {},
     "output_type": "execute_result"
    }
   ],
   "source": [
    "X.columns"
   ]
  },
  {
   "cell_type": "markdown",
   "metadata": {},
   "source": [
    "Make the LGB regressor to predict the temperature"
   ]
  },
  {
   "cell_type": "code",
   "execution_count": 14,
   "metadata": {},
   "outputs": [],
   "source": [
    "model = lgb.LGBMRegressor()"
   ]
  },
  {
   "cell_type": "code",
   "execution_count": 15,
   "metadata": {},
   "outputs": [
    {
     "name": "stderr",
     "output_type": "stream",
     "text": [
      "/home/thuongdinh/.virtualenvs/mlcsef/lib/python3.6/site-packages/lightgbm/basic.py:1188: UserWarning: categorical_feature in Dataset is overridden.\n",
      "New categorical_feature is ['base_temperature', 'friday_is_day_off', 'monday_is_day_off', 'saturday_is_day_off', 'sunday_is_day_off', 'surface', 'thursday_is_day_off', 'tuesday_is_day_off', 'wednesday_is_day_off']\n",
      "  'New categorical_feature is {}'.format(sorted(list(categorical_feature))))\n"
     ]
    },
    {
     "data": {
      "text/plain": [
       "LGBMRegressor(boosting_type='gbdt', class_weight=None, colsample_bytree=1.0,\n",
       "       importance_type='split', learning_rate=0.1, max_depth=-1,\n",
       "       min_child_samples=20, min_child_weight=0.001, min_split_gain=0.0,\n",
       "       n_estimators=100, n_jobs=-1, num_leaves=31, objective=None,\n",
       "       random_state=None, reg_alpha=0.0, reg_lambda=0.0, silent=True,\n",
       "       subsample=1.0, subsample_for_bin=200000, subsample_freq=0)"
      ]
     },
     "execution_count": 15,
     "metadata": {},
     "output_type": "execute_result"
    }
   ],
   "source": [
    "model.fit(X, y, verbose=1, categorical_feature=category_cols)"
   ]
  },
  {
   "cell_type": "code",
   "execution_count": 16,
   "metadata": {},
   "outputs": [
    {
     "data": {
      "text/plain": [
       "13.889488634493057"
      ]
     },
     "execution_count": 16,
     "metadata": {},
     "output_type": "execute_result"
    }
   ],
   "source": [
    "mean_squared_error(y, model.predict(X))"
   ]
  },
  {
   "cell_type": "code",
   "execution_count": 17,
   "metadata": {},
   "outputs": [],
   "source": [
    "na_temp_train = consumption_train[np.isnan(consumption_train.temperature)]\n",
    "na_temp_col = cold_start_test[np.isnan(cold_start_test.temperature)]\n",
    "na_temp_subs = submission_format[np.isnan(submission_format.temperature)]"
   ]
  },
  {
   "cell_type": "code",
   "execution_count": 19,
   "metadata": {},
   "outputs": [],
   "source": [
    "consumption_train.loc[na_temp_train.index, 'temperature'] = predict_temp(na_temp_train)\n",
    "cold_start_test.loc[na_temp_col.index, 'temperature'] = predict_temp(na_temp_col)"
   ]
  },
  {
   "cell_type": "code",
   "execution_count": 20,
   "metadata": {},
   "outputs": [
    {
     "data": {
      "text/html": [
       "<div>\n",
       "<style scoped>\n",
       "    .dataframe tbody tr th:only-of-type {\n",
       "        vertical-align: middle;\n",
       "    }\n",
       "\n",
       "    .dataframe tbody tr th {\n",
       "        vertical-align: top;\n",
       "    }\n",
       "\n",
       "    .dataframe thead th {\n",
       "        text-align: right;\n",
       "    }\n",
       "</style>\n",
       "<table border=\"1\" class=\"dataframe\">\n",
       "  <thead>\n",
       "    <tr style=\"text-align: right;\">\n",
       "      <th></th>\n",
       "      <th>series_id</th>\n",
       "      <th>timestamp</th>\n",
       "      <th>consumption</th>\n",
       "      <th>temperature</th>\n",
       "      <th>temp_predicted</th>\n",
       "    </tr>\n",
       "  </thead>\n",
       "  <tbody>\n",
       "    <tr>\n",
       "      <th>0</th>\n",
       "      <td>103088</td>\n",
       "      <td>2014-12-24 00:00:00</td>\n",
       "      <td>101842.233424</td>\n",
       "      <td>8.249142</td>\n",
       "      <td>0</td>\n",
       "    </tr>\n",
       "    <tr>\n",
       "      <th>1</th>\n",
       "      <td>103088</td>\n",
       "      <td>2014-12-24 01:00:00</td>\n",
       "      <td>105878.048906</td>\n",
       "      <td>8.219179</td>\n",
       "      <td>0</td>\n",
       "    </tr>\n",
       "    <tr>\n",
       "      <th>2</th>\n",
       "      <td>103088</td>\n",
       "      <td>2014-12-24 02:00:00</td>\n",
       "      <td>91619.105008</td>\n",
       "      <td>8.080098</td>\n",
       "      <td>0</td>\n",
       "    </tr>\n",
       "    <tr>\n",
       "      <th>3</th>\n",
       "      <td>103088</td>\n",
       "      <td>2014-12-24 03:00:00</td>\n",
       "      <td>94473.706203</td>\n",
       "      <td>7.758540</td>\n",
       "      <td>0</td>\n",
       "    </tr>\n",
       "    <tr>\n",
       "      <th>4</th>\n",
       "      <td>103088</td>\n",
       "      <td>2014-12-24 04:00:00</td>\n",
       "      <td>96976.755526</td>\n",
       "      <td>7.717005</td>\n",
       "      <td>0</td>\n",
       "    </tr>\n",
       "  </tbody>\n",
       "</table>\n",
       "</div>"
      ],
      "text/plain": [
       "   series_id           timestamp    consumption  temperature  temp_predicted\n",
       "0     103088 2014-12-24 00:00:00  101842.233424     8.249142               0\n",
       "1     103088 2014-12-24 01:00:00  105878.048906     8.219179               0\n",
       "2     103088 2014-12-24 02:00:00   91619.105008     8.080098               0\n",
       "3     103088 2014-12-24 03:00:00   94473.706203     7.758540               0\n",
       "4     103088 2014-12-24 04:00:00   96976.755526     7.717005               0"
      ]
     },
     "execution_count": 20,
     "metadata": {},
     "output_type": "execute_result"
    }
   ],
   "source": [
    "consumption_train.head()"
   ]
  },
  {
   "cell_type": "code",
   "execution_count": 21,
   "metadata": {},
   "outputs": [],
   "source": [
    "consumption_train.drop(columns=['temp_predicted'], inplace=True)\n",
    "cold_start_test.drop(columns=['temp_predicted'], inplace=True)"
   ]
  },
  {
   "cell_type": "code",
   "execution_count": 22,
   "metadata": {},
   "outputs": [],
   "source": [
    "consumption_train.to_csv(data_path / 'consumption_train_fix_temp.csv')\n",
    "cold_start_test.to_csv(data_path / 'cold_start_test_temp.csv')"
   ]
  },
  {
   "cell_type": "markdown",
   "metadata": {},
   "source": [
    "## Features"
   ]
  },
  {
   "cell_type": "code",
   "execution_count": 23,
   "metadata": {},
   "outputs": [],
   "source": [
    "from sklearn.preprocessing import MinMaxScaler\n",
    "\n",
    "def create_lagged_features(df, cols, lag=1):\n",
    "    if not type(df) == pd.DataFrame:\n",
    "        df = pd.DataFrame(df, columns=cols)\n",
    "    \n",
    "    def _rename_lag(ser, j):\n",
    "        ser.name = ser.name + f'_{j}'\n",
    "        return ser\n",
    "        \n",
    "    # add a column lagged by `i` steps\n",
    "    for i in range(1, lag + 1):\n",
    "        for col in cols:\n",
    "            df = df.join(df[col].shift(i).pipe(_rename_lag, i))\n",
    "\n",
    "    df.dropna(inplace=True)\n",
    "    return df\n",
    "\n",
    "def prepare_training_data(df, cols, lag):\n",
    "    \"\"\" Converts a series of consumption data into a\n",
    "        lagged, scaled sample.\n",
    "    \"\"\"\n",
    "    \n",
    "    scalers = {}\n",
    "    \n",
    "    # scale training data\n",
    "    df_vals = df.copy()\n",
    "    for col in cols:\n",
    "        scalers[col] = MinMaxScaler(feature_range=(-1, 1))\n",
    "        df_vals[col] = scalers[col].fit_transform(df[col].values.reshape(-1, 1))\n",
    "\n",
    "    # convert consumption series to lagged features\n",
    "    consumption_lagged = create_lagged_features(df_vals, cols, lag=lag)\n",
    "\n",
    "    # X, y format taking the first column (original time series) to be the y\n",
    "    X = consumption_lagged.drop(cols, axis=1).values\n",
    "    y = consumption_lagged[cols].values\n",
    "    \n",
    "    # keras expects 3 dimensional X\n",
    "    X = X.reshape(X.shape[0], 1, X.shape[1])\n",
    "    \n",
    "    return X, y, scalers"
   ]
  },
  {
   "cell_type": "code",
   "execution_count": 24,
   "metadata": {},
   "outputs": [],
   "source": [
    "sample_ser = (consumption_train\n",
    "                           .series_id\n",
    "                           .sample().values[0])\n",
    "sample_ser = 100025\n",
    "sample_df = consumption_train[consumption_train.series_id == sample_ser]\n",
    "sample_cold_df = cold_start_test[cold_start_test.series_id == sample_ser]\n",
    "sample_subs_df = submission_format[submission_format.series_id == sample_ser]"
   ]
  },
  {
   "cell_type": "code",
   "execution_count": 25,
   "metadata": {},
   "outputs": [
    {
     "data": {
      "text/html": [
       "<div>\n",
       "<style scoped>\n",
       "    .dataframe tbody tr th:only-of-type {\n",
       "        vertical-align: middle;\n",
       "    }\n",
       "\n",
       "    .dataframe tbody tr th {\n",
       "        vertical-align: top;\n",
       "    }\n",
       "\n",
       "    .dataframe thead th {\n",
       "        text-align: right;\n",
       "    }\n",
       "</style>\n",
       "<table border=\"1\" class=\"dataframe\">\n",
       "  <thead>\n",
       "    <tr style=\"text-align: right;\">\n",
       "      <th></th>\n",
       "      <th>series_id</th>\n",
       "      <th>timestamp</th>\n",
       "      <th>consumption</th>\n",
       "      <th>temperature</th>\n",
       "    </tr>\n",
       "  </thead>\n",
       "  <tbody>\n",
       "    <tr>\n",
       "      <th>14112</th>\n",
       "      <td>100025</td>\n",
       "      <td>2015-01-06 00:00:00</td>\n",
       "      <td>224223.214731</td>\n",
       "      <td>9.913043</td>\n",
       "    </tr>\n",
       "    <tr>\n",
       "      <th>14113</th>\n",
       "      <td>100025</td>\n",
       "      <td>2015-01-06 01:00:00</td>\n",
       "      <td>195686.338895</td>\n",
       "      <td>9.840936</td>\n",
       "    </tr>\n",
       "    <tr>\n",
       "      <th>14114</th>\n",
       "      <td>100025</td>\n",
       "      <td>2015-01-06 02:00:00</td>\n",
       "      <td>217511.281110</td>\n",
       "      <td>9.382517</td>\n",
       "    </tr>\n",
       "    <tr>\n",
       "      <th>14115</th>\n",
       "      <td>100025</td>\n",
       "      <td>2015-01-06 03:00:00</td>\n",
       "      <td>196026.227094</td>\n",
       "      <td>9.436780</td>\n",
       "    </tr>\n",
       "    <tr>\n",
       "      <th>14116</th>\n",
       "      <td>100025</td>\n",
       "      <td>2015-01-06 04:00:00</td>\n",
       "      <td>217133.627556</td>\n",
       "      <td>9.314447</td>\n",
       "    </tr>\n",
       "    <tr>\n",
       "      <th>14117</th>\n",
       "      <td>100025</td>\n",
       "      <td>2015-01-06 05:00:00</td>\n",
       "      <td>207633.924062</td>\n",
       "      <td>8.520787</td>\n",
       "    </tr>\n",
       "    <tr>\n",
       "      <th>14118</th>\n",
       "      <td>100025</td>\n",
       "      <td>2015-01-06 06:00:00</td>\n",
       "      <td>195130.158206</td>\n",
       "      <td>8.520787</td>\n",
       "    </tr>\n",
       "    <tr>\n",
       "      <th>14119</th>\n",
       "      <td>100025</td>\n",
       "      <td>2015-01-06 07:00:00</td>\n",
       "      <td>236692.648446</td>\n",
       "      <td>8.273646</td>\n",
       "    </tr>\n",
       "    <tr>\n",
       "      <th>14120</th>\n",
       "      <td>100025</td>\n",
       "      <td>2015-01-06 08:00:00</td>\n",
       "      <td>231662.989748</td>\n",
       "      <td>8.941600</td>\n",
       "    </tr>\n",
       "    <tr>\n",
       "      <th>14121</th>\n",
       "      <td>100025</td>\n",
       "      <td>2015-01-06 09:00:00</td>\n",
       "      <td>212055.903860</td>\n",
       "      <td>10.138492</td>\n",
       "    </tr>\n",
       "    <tr>\n",
       "      <th>14122</th>\n",
       "      <td>100025</td>\n",
       "      <td>2015-01-06 10:00:00</td>\n",
       "      <td>239834.039373</td>\n",
       "      <td>11.061604</td>\n",
       "    </tr>\n",
       "    <tr>\n",
       "      <th>14123</th>\n",
       "      <td>100025</td>\n",
       "      <td>2015-01-06 11:00:00</td>\n",
       "      <td>194326.786100</td>\n",
       "      <td>12.014375</td>\n",
       "    </tr>\n",
       "    <tr>\n",
       "      <th>14124</th>\n",
       "      <td>100025</td>\n",
       "      <td>2015-01-06 12:00:00</td>\n",
       "      <td>214036.868412</td>\n",
       "      <td>12.616521</td>\n",
       "    </tr>\n",
       "    <tr>\n",
       "      <th>14125</th>\n",
       "      <td>100025</td>\n",
       "      <td>2015-01-06 13:00:00</td>\n",
       "      <td>219588.375658</td>\n",
       "      <td>12.978532</td>\n",
       "    </tr>\n",
       "    <tr>\n",
       "      <th>14126</th>\n",
       "      <td>100025</td>\n",
       "      <td>2015-01-06 14:00:00</td>\n",
       "      <td>195006.562498</td>\n",
       "      <td>13.342048</td>\n",
       "    </tr>\n",
       "    <tr>\n",
       "      <th>14127</th>\n",
       "      <td>100025</td>\n",
       "      <td>2015-01-06 15:00:00</td>\n",
       "      <td>235679.850278</td>\n",
       "      <td>13.734911</td>\n",
       "    </tr>\n",
       "    <tr>\n",
       "      <th>14128</th>\n",
       "      <td>100025</td>\n",
       "      <td>2015-01-06 16:00:00</td>\n",
       "      <td>205584.295228</td>\n",
       "      <td>13.241038</td>\n",
       "    </tr>\n",
       "    <tr>\n",
       "      <th>14129</th>\n",
       "      <td>100025</td>\n",
       "      <td>2015-01-06 17:00:00</td>\n",
       "      <td>216289.056880</td>\n",
       "      <td>11.532200</td>\n",
       "    </tr>\n",
       "    <tr>\n",
       "      <th>14130</th>\n",
       "      <td>100025</td>\n",
       "      <td>2015-01-06 18:00:00</td>\n",
       "      <td>189891.073446</td>\n",
       "      <td>11.474450</td>\n",
       "    </tr>\n",
       "    <tr>\n",
       "      <th>14131</th>\n",
       "      <td>100025</td>\n",
       "      <td>2015-01-06 19:00:00</td>\n",
       "      <td>218541.245349</td>\n",
       "      <td>11.500049</td>\n",
       "    </tr>\n",
       "    <tr>\n",
       "      <th>14132</th>\n",
       "      <td>100025</td>\n",
       "      <td>2015-01-06 20:00:00</td>\n",
       "      <td>207860.516195</td>\n",
       "      <td>11.342394</td>\n",
       "    </tr>\n",
       "    <tr>\n",
       "      <th>14133</th>\n",
       "      <td>100025</td>\n",
       "      <td>2015-01-06 21:00:00</td>\n",
       "      <td>215341.489781</td>\n",
       "      <td>11.079089</td>\n",
       "    </tr>\n",
       "    <tr>\n",
       "      <th>14134</th>\n",
       "      <td>100025</td>\n",
       "      <td>2015-01-06 22:00:00</td>\n",
       "      <td>224072.153310</td>\n",
       "      <td>10.788963</td>\n",
       "    </tr>\n",
       "    <tr>\n",
       "      <th>14135</th>\n",
       "      <td>100025</td>\n",
       "      <td>2015-01-06 23:00:00</td>\n",
       "      <td>211049.972120</td>\n",
       "      <td>10.463277</td>\n",
       "    </tr>\n",
       "    <tr>\n",
       "      <th>14136</th>\n",
       "      <td>100025</td>\n",
       "      <td>2015-01-07 00:00:00</td>\n",
       "      <td>215938.869039</td>\n",
       "      <td>8.905338</td>\n",
       "    </tr>\n",
       "    <tr>\n",
       "      <th>14137</th>\n",
       "      <td>100025</td>\n",
       "      <td>2015-01-07 01:00:00</td>\n",
       "      <td>193423.850785</td>\n",
       "      <td>8.833231</td>\n",
       "    </tr>\n",
       "    <tr>\n",
       "      <th>14138</th>\n",
       "      <td>100025</td>\n",
       "      <td>2015-01-07 02:00:00</td>\n",
       "      <td>223893.626175</td>\n",
       "      <td>8.374812</td>\n",
       "    </tr>\n",
       "    <tr>\n",
       "      <th>14139</th>\n",
       "      <td>100025</td>\n",
       "      <td>2015-01-07 03:00:00</td>\n",
       "      <td>207544.660495</td>\n",
       "      <td>8.429075</td>\n",
       "    </tr>\n",
       "    <tr>\n",
       "      <th>14140</th>\n",
       "      <td>100025</td>\n",
       "      <td>2015-01-07 04:00:00</td>\n",
       "      <td>230591.826940</td>\n",
       "      <td>8.306742</td>\n",
       "    </tr>\n",
       "    <tr>\n",
       "      <th>14141</th>\n",
       "      <td>100025</td>\n",
       "      <td>2015-01-07 05:00:00</td>\n",
       "      <td>229760.989120</td>\n",
       "      <td>7.432284</td>\n",
       "    </tr>\n",
       "    <tr>\n",
       "      <th>...</th>\n",
       "      <td>...</td>\n",
       "      <td>...</td>\n",
       "      <td>...</td>\n",
       "      <td>...</td>\n",
       "    </tr>\n",
       "    <tr>\n",
       "      <th>14182</th>\n",
       "      <td>100025</td>\n",
       "      <td>2015-01-08 22:00:00</td>\n",
       "      <td>262259.794061</td>\n",
       "      <td>9.781258</td>\n",
       "    </tr>\n",
       "    <tr>\n",
       "      <th>14183</th>\n",
       "      <td>100025</td>\n",
       "      <td>2015-01-08 23:00:00</td>\n",
       "      <td>244413.947021</td>\n",
       "      <td>9.455572</td>\n",
       "    </tr>\n",
       "    <tr>\n",
       "      <th>14184</th>\n",
       "      <td>100025</td>\n",
       "      <td>2015-01-09 00:00:00</td>\n",
       "      <td>258249.799959</td>\n",
       "      <td>10.862034</td>\n",
       "    </tr>\n",
       "    <tr>\n",
       "      <th>14185</th>\n",
       "      <td>100025</td>\n",
       "      <td>2015-01-09 01:00:00</td>\n",
       "      <td>252609.029146</td>\n",
       "      <td>10.733185</td>\n",
       "    </tr>\n",
       "    <tr>\n",
       "      <th>14186</th>\n",
       "      <td>100025</td>\n",
       "      <td>2015-01-09 02:00:00</td>\n",
       "      <td>215334.623353</td>\n",
       "      <td>10.331508</td>\n",
       "    </tr>\n",
       "    <tr>\n",
       "      <th>14187</th>\n",
       "      <td>100025</td>\n",
       "      <td>2015-01-09 03:00:00</td>\n",
       "      <td>277657.759427</td>\n",
       "      <td>10.304972</td>\n",
       "    </tr>\n",
       "    <tr>\n",
       "      <th>14188</th>\n",
       "      <td>100025</td>\n",
       "      <td>2015-01-09 04:00:00</td>\n",
       "      <td>220759.101676</td>\n",
       "      <td>10.263437</td>\n",
       "    </tr>\n",
       "    <tr>\n",
       "      <th>14189</th>\n",
       "      <td>100025</td>\n",
       "      <td>2015-01-09 05:00:00</td>\n",
       "      <td>271539.771850</td>\n",
       "      <td>9.388980</td>\n",
       "    </tr>\n",
       "    <tr>\n",
       "      <th>14190</th>\n",
       "      <td>100025</td>\n",
       "      <td>2015-01-09 06:00:00</td>\n",
       "      <td>218894.866404</td>\n",
       "      <td>9.388980</td>\n",
       "    </tr>\n",
       "    <tr>\n",
       "      <th>14191</th>\n",
       "      <td>100025</td>\n",
       "      <td>2015-01-09 07:00:00</td>\n",
       "      <td>264254.491469</td>\n",
       "      <td>9.222637</td>\n",
       "    </tr>\n",
       "    <tr>\n",
       "      <th>14192</th>\n",
       "      <td>100025</td>\n",
       "      <td>2015-01-09 08:00:00</td>\n",
       "      <td>224312.478299</td>\n",
       "      <td>9.890590</td>\n",
       "    </tr>\n",
       "    <tr>\n",
       "      <th>14193</th>\n",
       "      <td>100025</td>\n",
       "      <td>2015-01-09 09:00:00</td>\n",
       "      <td>202896.088565</td>\n",
       "      <td>11.144225</td>\n",
       "    </tr>\n",
       "    <tr>\n",
       "      <th>14194</th>\n",
       "      <td>100025</td>\n",
       "      <td>2015-01-09 10:00:00</td>\n",
       "      <td>238615.248358</td>\n",
       "      <td>12.010595</td>\n",
       "    </tr>\n",
       "    <tr>\n",
       "      <th>14195</th>\n",
       "      <td>100025</td>\n",
       "      <td>2015-01-09 11:00:00</td>\n",
       "      <td>200657.632953</td>\n",
       "      <td>12.904784</td>\n",
       "    </tr>\n",
       "    <tr>\n",
       "      <th>14196</th>\n",
       "      <td>100025</td>\n",
       "      <td>2015-01-09 12:00:00</td>\n",
       "      <td>210112.704663</td>\n",
       "      <td>13.565512</td>\n",
       "    </tr>\n",
       "    <tr>\n",
       "      <th>14197</th>\n",
       "      <td>100025</td>\n",
       "      <td>2015-01-09 13:00:00</td>\n",
       "      <td>193039.330802</td>\n",
       "      <td>13.984265</td>\n",
       "    </tr>\n",
       "    <tr>\n",
       "      <th>14198</th>\n",
       "      <td>100025</td>\n",
       "      <td>2015-01-09 14:00:00</td>\n",
       "      <td>186650.119309</td>\n",
       "      <td>14.291039</td>\n",
       "    </tr>\n",
       "    <tr>\n",
       "      <th>14199</th>\n",
       "      <td>100025</td>\n",
       "      <td>2015-01-09 15:00:00</td>\n",
       "      <td>170205.023634</td>\n",
       "      <td>14.662280</td>\n",
       "    </tr>\n",
       "    <tr>\n",
       "      <th>14200</th>\n",
       "      <td>100025</td>\n",
       "      <td>2015-01-09 16:00:00</td>\n",
       "      <td>202793.092141</td>\n",
       "      <td>14.190028</td>\n",
       "    </tr>\n",
       "    <tr>\n",
       "      <th>14201</th>\n",
       "      <td>100025</td>\n",
       "      <td>2015-01-09 17:00:00</td>\n",
       "      <td>177507.470085</td>\n",
       "      <td>12.852432</td>\n",
       "    </tr>\n",
       "    <tr>\n",
       "      <th>14202</th>\n",
       "      <td>100025</td>\n",
       "      <td>2015-01-09 18:00:00</td>\n",
       "      <td>183519.028024</td>\n",
       "      <td>12.423441</td>\n",
       "    </tr>\n",
       "    <tr>\n",
       "      <th>14203</th>\n",
       "      <td>100025</td>\n",
       "      <td>2015-01-09 19:00:00</td>\n",
       "      <td>186790.881088</td>\n",
       "      <td>12.449040</td>\n",
       "    </tr>\n",
       "    <tr>\n",
       "      <th>14204</th>\n",
       "      <td>100025</td>\n",
       "      <td>2015-01-09 20:00:00</td>\n",
       "      <td>249690.797136</td>\n",
       "      <td>12.291385</td>\n",
       "    </tr>\n",
       "    <tr>\n",
       "      <th>14205</th>\n",
       "      <td>100025</td>\n",
       "      <td>2015-01-09 21:00:00</td>\n",
       "      <td>192723.475102</td>\n",
       "      <td>12.028079</td>\n",
       "    </tr>\n",
       "    <tr>\n",
       "      <th>14206</th>\n",
       "      <td>100025</td>\n",
       "      <td>2015-01-09 22:00:00</td>\n",
       "      <td>230186.707672</td>\n",
       "      <td>11.737953</td>\n",
       "    </tr>\n",
       "    <tr>\n",
       "      <th>14207</th>\n",
       "      <td>100025</td>\n",
       "      <td>2015-01-09 23:00:00</td>\n",
       "      <td>203270.308905</td>\n",
       "      <td>11.469009</td>\n",
       "    </tr>\n",
       "    <tr>\n",
       "      <th>14208</th>\n",
       "      <td>100025</td>\n",
       "      <td>2015-01-10 00:00:00</td>\n",
       "      <td>273393.707479</td>\n",
       "      <td>10.764330</td>\n",
       "    </tr>\n",
       "    <tr>\n",
       "      <th>14209</th>\n",
       "      <td>100025</td>\n",
       "      <td>2015-01-10 01:00:00</td>\n",
       "      <td>235291.897081</td>\n",
       "      <td>10.635481</td>\n",
       "    </tr>\n",
       "    <tr>\n",
       "      <th>14210</th>\n",
       "      <td>100025</td>\n",
       "      <td>2015-01-10 02:00:00</td>\n",
       "      <td>242165.191767</td>\n",
       "      <td>10.233804</td>\n",
       "    </tr>\n",
       "    <tr>\n",
       "      <th>14211</th>\n",
       "      <td>100025</td>\n",
       "      <td>2015-01-10 03:00:00</td>\n",
       "      <td>229379.902352</td>\n",
       "      <td>10.207268</td>\n",
       "    </tr>\n",
       "  </tbody>\n",
       "</table>\n",
       "<p>100 rows × 4 columns</p>\n",
       "</div>"
      ],
      "text/plain": [
       "       series_id           timestamp    consumption  temperature\n",
       "14112     100025 2015-01-06 00:00:00  224223.214731     9.913043\n",
       "14113     100025 2015-01-06 01:00:00  195686.338895     9.840936\n",
       "14114     100025 2015-01-06 02:00:00  217511.281110     9.382517\n",
       "14115     100025 2015-01-06 03:00:00  196026.227094     9.436780\n",
       "14116     100025 2015-01-06 04:00:00  217133.627556     9.314447\n",
       "14117     100025 2015-01-06 05:00:00  207633.924062     8.520787\n",
       "14118     100025 2015-01-06 06:00:00  195130.158206     8.520787\n",
       "14119     100025 2015-01-06 07:00:00  236692.648446     8.273646\n",
       "14120     100025 2015-01-06 08:00:00  231662.989748     8.941600\n",
       "14121     100025 2015-01-06 09:00:00  212055.903860    10.138492\n",
       "14122     100025 2015-01-06 10:00:00  239834.039373    11.061604\n",
       "14123     100025 2015-01-06 11:00:00  194326.786100    12.014375\n",
       "14124     100025 2015-01-06 12:00:00  214036.868412    12.616521\n",
       "14125     100025 2015-01-06 13:00:00  219588.375658    12.978532\n",
       "14126     100025 2015-01-06 14:00:00  195006.562498    13.342048\n",
       "14127     100025 2015-01-06 15:00:00  235679.850278    13.734911\n",
       "14128     100025 2015-01-06 16:00:00  205584.295228    13.241038\n",
       "14129     100025 2015-01-06 17:00:00  216289.056880    11.532200\n",
       "14130     100025 2015-01-06 18:00:00  189891.073446    11.474450\n",
       "14131     100025 2015-01-06 19:00:00  218541.245349    11.500049\n",
       "14132     100025 2015-01-06 20:00:00  207860.516195    11.342394\n",
       "14133     100025 2015-01-06 21:00:00  215341.489781    11.079089\n",
       "14134     100025 2015-01-06 22:00:00  224072.153310    10.788963\n",
       "14135     100025 2015-01-06 23:00:00  211049.972120    10.463277\n",
       "14136     100025 2015-01-07 00:00:00  215938.869039     8.905338\n",
       "14137     100025 2015-01-07 01:00:00  193423.850785     8.833231\n",
       "14138     100025 2015-01-07 02:00:00  223893.626175     8.374812\n",
       "14139     100025 2015-01-07 03:00:00  207544.660495     8.429075\n",
       "14140     100025 2015-01-07 04:00:00  230591.826940     8.306742\n",
       "14141     100025 2015-01-07 05:00:00  229760.989120     7.432284\n",
       "...          ...                 ...            ...          ...\n",
       "14182     100025 2015-01-08 22:00:00  262259.794061     9.781258\n",
       "14183     100025 2015-01-08 23:00:00  244413.947021     9.455572\n",
       "14184     100025 2015-01-09 00:00:00  258249.799959    10.862034\n",
       "14185     100025 2015-01-09 01:00:00  252609.029146    10.733185\n",
       "14186     100025 2015-01-09 02:00:00  215334.623353    10.331508\n",
       "14187     100025 2015-01-09 03:00:00  277657.759427    10.304972\n",
       "14188     100025 2015-01-09 04:00:00  220759.101676    10.263437\n",
       "14189     100025 2015-01-09 05:00:00  271539.771850     9.388980\n",
       "14190     100025 2015-01-09 06:00:00  218894.866404     9.388980\n",
       "14191     100025 2015-01-09 07:00:00  264254.491469     9.222637\n",
       "14192     100025 2015-01-09 08:00:00  224312.478299     9.890590\n",
       "14193     100025 2015-01-09 09:00:00  202896.088565    11.144225\n",
       "14194     100025 2015-01-09 10:00:00  238615.248358    12.010595\n",
       "14195     100025 2015-01-09 11:00:00  200657.632953    12.904784\n",
       "14196     100025 2015-01-09 12:00:00  210112.704663    13.565512\n",
       "14197     100025 2015-01-09 13:00:00  193039.330802    13.984265\n",
       "14198     100025 2015-01-09 14:00:00  186650.119309    14.291039\n",
       "14199     100025 2015-01-09 15:00:00  170205.023634    14.662280\n",
       "14200     100025 2015-01-09 16:00:00  202793.092141    14.190028\n",
       "14201     100025 2015-01-09 17:00:00  177507.470085    12.852432\n",
       "14202     100025 2015-01-09 18:00:00  183519.028024    12.423441\n",
       "14203     100025 2015-01-09 19:00:00  186790.881088    12.449040\n",
       "14204     100025 2015-01-09 20:00:00  249690.797136    12.291385\n",
       "14205     100025 2015-01-09 21:00:00  192723.475102    12.028079\n",
       "14206     100025 2015-01-09 22:00:00  230186.707672    11.737953\n",
       "14207     100025 2015-01-09 23:00:00  203270.308905    11.469009\n",
       "14208     100025 2015-01-10 00:00:00  273393.707479    10.764330\n",
       "14209     100025 2015-01-10 01:00:00  235291.897081    10.635481\n",
       "14210     100025 2015-01-10 02:00:00  242165.191767    10.233804\n",
       "14211     100025 2015-01-10 03:00:00  229379.902352    10.207268\n",
       "\n",
       "[100 rows x 4 columns]"
      ]
     },
     "execution_count": 25,
     "metadata": {},
     "output_type": "execute_result"
    }
   ],
   "source": [
    "sample_df.head(100)"
   ]
  },
  {
   "cell_type": "markdown",
   "metadata": {},
   "source": [
    "## Model fitting"
   ]
  },
  {
   "cell_type": "code",
   "execution_count": 26,
   "metadata": {},
   "outputs": [],
   "source": [
    "# lag of 24 to simulate smallest cold start window. Our series\n",
    "# will be converted to a num_timesteps x lag size matrix\n",
    "cols = ['consumption', 'temperature']\n",
    "n_cols = len(cols)\n",
    "n_features = n_cols\n",
    "lag = 24\n",
    "\n",
    "# model parameters\n",
    "num_neurons = lag * n_cols\n",
    "batch_size = 1  # this forces the lstm to step through each time-step one at a time\n",
    "batch_input_shape=(batch_size, 1, lag * n_cols)\n",
    "\n",
    "# instantiate a sequential model\n",
    "model = keras.Sequential()\n",
    "\n",
    "# add LSTM layer - stateful MUST be true here in \n",
    "# order to learn the patterns within a series\n",
    "model.add(keras.layers.LSTM(units=num_neurons, \n",
    "              batch_input_shape=batch_input_shape, \n",
    "              stateful=True, return_sequences=True))\n",
    "\n",
    "model.add(keras.layers.LSTM(units=num_neurons, stateful=True))\n",
    "\n",
    "# followed by a dense layer with a single output for regression\n",
    "model.add(keras.layers.Dense(n_features))\n",
    "\n",
    "# compile\n",
    "model.compile(loss='mean_absolute_error', optimizer='adam')"
   ]
  },
  {
   "cell_type": "code",
   "execution_count": 27,
   "metadata": {},
   "outputs": [
    {
     "name": "stderr",
     "output_type": "stream",
     "text": [
      "Learning Consumption Trends - Epoch: 100%|██████████| 758/758 [33:00<00:00,  2.60s/it]\n",
      "Learning Consumption Trends - Epoch:   0%|          | 0/758 [00:00<?, ?it/s]"
     ]
    },
    {
     "name": "stdout",
     "output_type": "stream",
     "text": [
      "Finish an epoch in 00:33:00\n"
     ]
    },
    {
     "name": "stderr",
     "output_type": "stream",
     "text": [
      "Learning Consumption Trends - Epoch: 100%|██████████| 758/758 [33:18<00:00,  2.64s/it]\n",
      "Learning Consumption Trends - Epoch:   0%|          | 0/758 [00:00<?, ?it/s]"
     ]
    },
    {
     "name": "stdout",
     "output_type": "stream",
     "text": [
      "Finish an epoch in 00:33:18\n"
     ]
    },
    {
     "name": "stderr",
     "output_type": "stream",
     "text": [
      "Learning Consumption Trends - Epoch: 100%|██████████| 758/758 [32:57<00:00,  2.52s/it]"
     ]
    },
    {
     "name": "stdout",
     "output_type": "stream",
     "text": [
      "Finish an epoch in 00:32:57\n"
     ]
    },
    {
     "name": "stderr",
     "output_type": "stream",
     "text": [
      "\n"
     ]
    }
   ],
   "source": [
    "num_training_series = consumption_train.series_id.nunique()\n",
    "num_passes_through_data = 3\n",
    "\n",
    "total_timer = performance.Timer()\n",
    "\n",
    "epoch_timers = []\n",
    "\n",
    "num_sers = consumption_train['series_id'].nunique()\n",
    "\n",
    "callbacks = [\n",
    "  # Write TensorBoard logs to `./logs` directory\n",
    "  keras.callbacks.TensorBoard(log_dir='./logs')\n",
    "]\n",
    "\n",
    "for i in range(num_passes_through_data):\n",
    "    \n",
    "    epoch_timer = performance.Timer()\n",
    "    \n",
    "    # reset the LSTM state for training on each series\n",
    "    for ser_id, ser_data in tqdm(consumption_train.groupby('series_id'),\n",
    "                                 total=num_sers,\n",
    "                                 desc='Learning Consumption Trends - Epoch'):\n",
    "\n",
    "        # prepare the data\n",
    "        X, y, scalers = prepare_training_data(ser_data[cols], cols, lag)\n",
    "\n",
    "        # fit the model: note that we don't shuffle batches (it would ruin the sequence)\n",
    "        # and that we reset states only after an entire X has been fit, instead of after\n",
    "        # each (size 1) batch, as is the case when stateful=False\n",
    "        model.fit(X, y, epochs=1, batch_size=batch_size, verbose=0, shuffle=False, callbacks=callbacks)\n",
    "        model.reset_states()\n",
    "    \n",
    "    epoch_timers.append(epoch_timer)\n",
    "    \n",
    "    print(f'Finish an epoch in {epoch_timer.get_time()}')\n",
    "\n",
    "total_end_timer = performance.Timer()"
   ]
  },
  {
   "cell_type": "code",
   "execution_count": 28,
   "metadata": {},
   "outputs": [
    {
     "data": {
      "text/plain": [
       "[<csef.utils.performance.Timer at 0x7fd31f6e5cf8>,\n",
       " <csef.utils.performance.Timer at 0x7fd31f6e5da0>,\n",
       " <csef.utils.performance.Timer at 0x7fd2f835ca58>]"
      ]
     },
     "execution_count": 28,
     "metadata": {},
     "output_type": "execute_result"
    }
   ],
   "source": [
    "epoch_timers"
   ]
  },
  {
   "cell_type": "code",
   "execution_count": 29,
   "metadata": {},
   "outputs": [],
   "source": [
    "model.save('../../data/model/multivariate-lstm-20181029-02.hdf5')"
   ]
  },
  {
   "cell_type": "markdown",
   "metadata": {},
   "source": [
    "## Predict "
   ]
  },
  {
   "cell_type": "code",
   "execution_count": 30,
   "metadata": {},
   "outputs": [],
   "source": [
    "# model2 = keras.models.load_model('../../data/model/multivariate-lstm-20181023-02.hdf5')\n",
    "my_submission = submission_format.copy()"
   ]
  },
  {
   "cell_type": "code",
   "execution_count": 31,
   "metadata": {},
   "outputs": [],
   "source": [
    "def generate_hourly_forecast(num_pred_hours, consumption, model, scalers, lag, cols):\n",
    "    \"\"\" Uses last hour's prediction to generate next for num_pred_hours, \n",
    "        initialized by most recent cold start prediction. Inverts scale of \n",
    "        predictions before return.\n",
    "    \"\"\"\n",
    "    # allocate prediction frame\n",
    "    preds_scaled = np.zeros(num_pred_hours)\n",
    "    \n",
    "    # initial X is last lag values from the cold start\n",
    "    X = consumption[cols].copy()\n",
    "    X = X.tail(lag)\n",
    "    for col in cols:\n",
    "        X[col] = scalers[col].transform(X[col].values.reshape(-1, 1))\n",
    "        \n",
    "    # forecast\n",
    "    for i in range(num_pred_hours):\n",
    "        # predict scaled value for next time step\n",
    "        yhat = model.predict(X.values.reshape(1, 1, lag*n_cols), batch_size=1)[0]\n",
    "        preds_scaled[i] = yhat[0]\n",
    "        \n",
    "        # update X to be latest data plus prediction\n",
    "        col_0 = pd.Series(X[cols[0]].values.ravel(), name=cols[0]).shift(-1).fillna(yhat[0])\n",
    "        col_1 = pd.Series(X[cols[1]].values.ravel(), name=cols[1]).shift(-1).fillna(yhat[1])\n",
    "        X = pd.concat([col_0, col_1], axis=1)\n",
    "        \n",
    "    # revert scale back to original range\n",
    "    hourly_preds = scalers[cols[0]].inverse_transform(preds_scaled.reshape(-1, 1)).ravel()\n",
    "    return hourly_preds"
   ]
  },
  {
   "cell_type": "code",
   "execution_count": 32,
   "metadata": {},
   "outputs": [
    {
     "name": "stderr",
     "output_type": "stream",
     "text": [
      "Forecasting from Cold Start Data: 100%|██████████| 625/625 [09:31<00:00,  1.04it/s]\n"
     ]
    }
   ],
   "source": [
    "pred_window_to_num_preds = {'hourly': 24, 'daily': 7, 'weekly': 2}\n",
    "pred_window_to_num_pred_hours = {'hourly': 24, 'daily': 7 * 24, 'weekly': 2 * 7 * 24}\n",
    "\n",
    "num_test_series = my_submission.series_id.nunique()\n",
    "\n",
    "model.reset_states()\n",
    "\n",
    "for ser_id, pred_df in tqdm(my_submission.groupby('series_id'), \n",
    "                            total=num_test_series, \n",
    "                            desc=\"Forecasting from Cold Start Data\"):\n",
    "        \n",
    "    # get info about this series' prediction window\n",
    "    pred_window = pred_df.prediction_window.unique()[0]\n",
    "    num_preds = pred_window_to_num_preds[pred_window]\n",
    "    num_pred_hours = pred_window_to_num_pred_hours[pred_window]\n",
    "    \n",
    "    # prepare cold start data\n",
    "    series_data = cold_start_test[cold_start_test.series_id == ser_id][cols]\n",
    "    series_data = series_data.fillna(0)\n",
    "    \n",
    "    cold_X, cold_y, scalers = prepare_training_data(series_data, cols, lag)\n",
    "    \n",
    "    # fine tune our lstm model to this site using cold start data    \n",
    "    model.fit(cold_X, cold_y, epochs=1, batch_size=batch_size, verbose=0, shuffle=False)\n",
    "    \n",
    "    # make hourly forecasts for duration of pred window\n",
    "    preds = generate_hourly_forecast(num_pred_hours, series_data, model, scalers, lag, cols)\n",
    "    \n",
    "    # reduce by taking sum over each sub window in pred window\n",
    "    reduced_preds = [pred.sum() for pred in np.split(preds, num_preds)]\n",
    "    \n",
    "    # store result in submission DataFrame\n",
    "    ser_id_mask = my_submission.series_id == ser_id\n",
    "    my_submission.loc[ser_id_mask, 'consumption'] = reduced_preds"
   ]
  },
  {
   "cell_type": "code",
   "execution_count": 33,
   "metadata": {},
   "outputs": [
    {
     "data": {
      "text/plain": [
       "count    5.808000e+03\n",
       "mean     1.650985e+05\n",
       "std      6.166480e+05\n",
       "min     -5.190038e+01\n",
       "25%      1.541941e+04\n",
       "50%      3.623565e+04\n",
       "75%      9.086336e+04\n",
       "max      5.194220e+06\n",
       "Name: consumption, dtype: float64"
      ]
     },
     "execution_count": 33,
     "metadata": {},
     "output_type": "execute_result"
    }
   ],
   "source": [
    "my_submission[my_submission.prediction_window == 'hourly'].consumption.describe()"
   ]
  },
  {
   "cell_type": "code",
   "execution_count": 34,
   "metadata": {},
   "outputs": [
    {
     "data": {
      "text/plain": [
       "count    1.337000e+03\n",
       "mean     3.282808e+06\n",
       "std      9.808439e+06\n",
       "min      4.164028e+03\n",
       "25%      3.679315e+05\n",
       "50%      8.425172e+05\n",
       "75%      2.590131e+06\n",
       "max      1.158570e+08\n",
       "Name: consumption, dtype: float64"
      ]
     },
     "execution_count": 34,
     "metadata": {},
     "output_type": "execute_result"
    }
   ],
   "source": [
    "my_submission[my_submission.prediction_window == 'daily'].consumption.describe()"
   ]
  },
  {
   "cell_type": "code",
   "execution_count": 35,
   "metadata": {},
   "outputs": [
    {
     "data": {
      "text/plain": [
       "count    3.840000e+02\n",
       "mean     2.325649e+07\n",
       "std      6.512767e+07\n",
       "min      2.599537e+04\n",
       "25%      2.794337e+06\n",
       "50%      7.342725e+06\n",
       "75%      1.922649e+07\n",
       "max      7.420071e+08\n",
       "Name: consumption, dtype: float64"
      ]
     },
     "execution_count": 35,
     "metadata": {},
     "output_type": "execute_result"
    }
   ],
   "source": [
    "my_submission[my_submission.prediction_window == 'weekly'].consumption.describe()"
   ]
  },
  {
   "cell_type": "code",
   "execution_count": 36,
   "metadata": {},
   "outputs": [
    {
     "data": {
      "text/plain": [
       "<matplotlib.axes._subplots.AxesSubplot at 0x7fd2f835c048>"
      ]
     },
     "execution_count": 36,
     "metadata": {},
     "output_type": "execute_result"
    },
    {
     "data": {
      "image/png": "[encoded data removed]",
      "text/plain": [
       "<Figure size 432x288 with 1 Axes>"
      ]
     },
     "metadata": {
      "needs_background": "light"
     },
     "output_type": "display_data"
    }
   ],
   "source": [
    "# plot samples\n",
    "sample_ser = (my_submission[my_submission.prediction_window == 'hourly']\n",
    "                           .series_id\n",
    "                           .sample().values[0])\n",
    "\n",
    "(my_submission[my_submission.series_id == sample_ser]\n",
    "              .plot(x='timestamp',\n",
    "                    y='consumption',\n",
    "                    title=sample_ser,\n",
    "                    rot=90))"
   ]
  },
  {
   "cell_type": "code",
   "execution_count": 37,
   "metadata": {},
   "outputs": [
    {
     "data": {
      "text/html": [
       "<div>\n",
       "<style scoped>\n",
       "    .dataframe tbody tr th:only-of-type {\n",
       "        vertical-align: middle;\n",
       "    }\n",
       "\n",
       "    .dataframe tbody tr th {\n",
       "        vertical-align: top;\n",
       "    }\n",
       "\n",
       "    .dataframe thead th {\n",
       "        text-align: right;\n",
       "    }\n",
       "</style>\n",
       "<table border=\"1\" class=\"dataframe\">\n",
       "  <thead>\n",
       "    <tr style=\"text-align: right;\">\n",
       "      <th></th>\n",
       "      <th>series_id</th>\n",
       "      <th>timestamp</th>\n",
       "      <th>temperature</th>\n",
       "      <th>consumption</th>\n",
       "      <th>prediction_window</th>\n",
       "    </tr>\n",
       "    <tr>\n",
       "      <th>pred_id</th>\n",
       "      <th></th>\n",
       "      <th></th>\n",
       "      <th></th>\n",
       "      <th></th>\n",
       "      <th></th>\n",
       "    </tr>\n",
       "  </thead>\n",
       "  <tbody>\n",
       "    <tr>\n",
       "      <th>0</th>\n",
       "      <td>102781</td>\n",
       "      <td>2013-03-03</td>\n",
       "      <td>19.931250</td>\n",
       "      <td>346065.964197</td>\n",
       "      <td>daily</td>\n",
       "    </tr>\n",
       "    <tr>\n",
       "      <th>1</th>\n",
       "      <td>102781</td>\n",
       "      <td>2013-03-04</td>\n",
       "      <td>20.034375</td>\n",
       "      <td>347362.538140</td>\n",
       "      <td>daily</td>\n",
       "    </tr>\n",
       "    <tr>\n",
       "      <th>2</th>\n",
       "      <td>102781</td>\n",
       "      <td>2013-03-05</td>\n",
       "      <td>19.189583</td>\n",
       "      <td>348421.500481</td>\n",
       "      <td>daily</td>\n",
       "    </tr>\n",
       "    <tr>\n",
       "      <th>3</th>\n",
       "      <td>102781</td>\n",
       "      <td>2013-03-06</td>\n",
       "      <td>18.397917</td>\n",
       "      <td>348888.583062</td>\n",
       "      <td>daily</td>\n",
       "    </tr>\n",
       "    <tr>\n",
       "      <th>4</th>\n",
       "      <td>102781</td>\n",
       "      <td>2013-03-07</td>\n",
       "      <td>20.762500</td>\n",
       "      <td>348826.481440</td>\n",
       "      <td>daily</td>\n",
       "    </tr>\n",
       "  </tbody>\n",
       "</table>\n",
       "</div>"
      ],
      "text/plain": [
       "         series_id  timestamp  temperature    consumption prediction_window\n",
       "pred_id                                                                    \n",
       "0           102781 2013-03-03    19.931250  346065.964197             daily\n",
       "1           102781 2013-03-04    20.034375  347362.538140             daily\n",
       "2           102781 2013-03-05    19.189583  348421.500481             daily\n",
       "3           102781 2013-03-06    18.397917  348888.583062             daily\n",
       "4           102781 2013-03-07    20.762500  348826.481440             daily"
      ]
     },
     "execution_count": 37,
     "metadata": {},
     "output_type": "execute_result"
    }
   ],
   "source": [
    "my_submission.head(5)"
   ]
  },
  {
   "cell_type": "code",
   "execution_count": 38,
   "metadata": {},
   "outputs": [],
   "source": [
    "save_path = Path('..', '..', 'data', 'submissions')\n",
    "save_path.mkdir(exist_ok=True, parents=True)\n",
    "\n",
    "my_submission.to_csv(save_path / \"multivariate-20181029-02.csv\", index_label='pred_id')"
   ]
  },
  {
   "cell_type": "markdown",
   "metadata": {},
   "source": [
    "The result is 0.5034"
   ]
  },
  {
   "cell_type": "code",
   "execution_count": null,
   "metadata": {},
   "outputs": [],
   "source": []
  }
 ],
 "metadata": {
  "kernelspec": {
   "display_name": "Python 3",
   "language": "python",
   "name": "python3"
  },
  "language_info": {
   "codemirror_mode": {
    "name": "ipython",
    "version": 3
   },
   "file_extension": ".py",
   "mimetype": "text/x-python",
   "name": "python",
   "nbconvert_exporter": "python",
   "pygments_lexer": "ipython3",
   "version": "3.6.6"
  }
 },
 "nbformat": 4,
 "nbformat_minor": 2
}
