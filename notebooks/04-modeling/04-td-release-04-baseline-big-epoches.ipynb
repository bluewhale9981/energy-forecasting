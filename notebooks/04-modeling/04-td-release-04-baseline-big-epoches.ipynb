{
 "cells": [
  {
   "cell_type": "code",
   "execution_count": 1,
   "metadata": {},
   "outputs": [],
   "source": [
    "%matplotlib inline\n",
    "\n",
    "import time\n",
    "\n",
    "# math and data manipulation\n",
    "import numpy as np\n",
    "import pandas as pd\n",
    "from tqdm import tqdm\n",
    "\n",
    "# to handle paths\n",
    "from pathlib import Path\n",
    "\n",
    "# set random seeds \n",
    "from numpy.random import seed\n",
    "from tensorflow import set_random_seed\n",
    "from tensorflow import keras\n",
    "\n",
    "from csef.model import lstm\n",
    "from csef.data import preprocessing, load_data\n",
    "from csef.utils import performance\n",
    "from csef.model.base import GeneralModel\n",
    "\n",
    "RANDOM_SEED = 2018\n",
    "seed(RANDOM_SEED)\n",
    "set_random_seed(RANDOM_SEED)"
   ]
  },
  {
   "cell_type": "markdown",
   "metadata": {},
   "source": [
    "## Data Loading"
   ]
  },
  {
   "cell_type": "code",
   "execution_count": 2,
   "metadata": {},
   "outputs": [],
   "source": [
    "data_mapping = load_data.load_data()\n",
    "consumption_train = data_mapping['consumption_train']\n",
    "cold_start_test = data_mapping['cold_start_test']\n",
    "submission_format = data_mapping['submission_format']\n",
    "meta = data_mapping['meta']"
   ]
  },
  {
   "cell_type": "markdown",
   "metadata": {},
   "source": [
    "## Training"
   ]
  },
  {
   "cell_type": "code",
   "execution_count": 3,
   "metadata": {},
   "outputs": [
    {
     "name": "stdout",
     "output_type": "stream",
     "text": [
      "There are 758 training series totaling 21224 days (509376 hours) of consumption data.\n"
     ]
    }
   ],
   "source": [
    "load_data.describe_training_data(consumption_train)"
   ]
  },
  {
   "cell_type": "code",
   "execution_count": 17,
   "metadata": {},
   "outputs": [],
   "source": [
    "# Default config\n",
    "n_batch = 1\n",
    "n_input = 24\n",
    "n_nodes = 24\n",
    "lag = n_input\n",
    "batch_input_shape = (n_batch, 1, n_input)"
   ]
  },
  {
   "cell_type": "markdown",
   "metadata": {},
   "source": [
    "### Baseline model but go with 40 epoches "
   ]
  },
  {
   "cell_type": "code",
   "execution_count": 5,
   "metadata": {},
   "outputs": [],
   "source": [
    "config = {\n",
    "    'n_input': n_input,\n",
    "    'n_nodes': n_nodes,\n",
    "    'n_batch': n_batch,\n",
    "    'model': [\n",
    "        {\n",
    "            'layer_type': 'LSTM',\n",
    "            'layer_config': {\n",
    "                'units': n_input,\n",
    "                'batch_input_shape': batch_input_shape,\n",
    "                'stateful': True\n",
    "            }\n",
    "        },\n",
    "        {\n",
    "            'layer_type': 'Dense',\n",
    "            'layer_config': {\n",
    "                'units': 1\n",
    "            }\n",
    "        }\n",
    "    ]\n",
    "}"
   ]
  },
  {
   "cell_type": "code",
   "execution_count": 6,
   "metadata": {},
   "outputs": [],
   "source": [
    "model = GeneralModel(config)"
   ]
  },
  {
   "cell_type": "code",
   "execution_count": null,
   "metadata": {},
   "outputs": [
    {
     "name": "stderr",
     "output_type": "stream",
     "text": [
      "Fitting the data:  71%|███████   | 540/758 [15:14<06:09,  1.69s/it]"
     ]
    }
   ],
   "source": [
    "num_training_series = consumption_train.series_id.nunique()\n",
    "num_passes_through_data = 40\n",
    "\n",
    "total_start_time = time.time()\n",
    "\n",
    "epoch_timers = []\n",
    "\n",
    "for i in range(num_passes_through_data):\n",
    "    epoch_start_time = time.time()\n",
    "    model.fit(consumption_train)\n",
    "    epoch_timers.append((epoch_start_time, time.time()))\n",
    "    \n",
    "total_end_time = time.time()"
   ]
  },
  {
   "cell_type": "code",
   "execution_count": 12,
   "metadata": {},
   "outputs": [
    {
     "data": {
      "text/plain": [
       "51361.016990184784"
      ]
     },
     "execution_count": 12,
     "metadata": {},
     "output_type": "execute_result"
    }
   ],
   "source": [
    "total_end_time - total_start_time"
   ]
  },
  {
   "cell_type": "code",
   "execution_count": null,
   "metadata": {},
   "outputs": [],
   "source": [
    "my_submission = model.make_submission(submission_format, cold_start_test)"
   ]
  },
  {
   "cell_type": "code",
   "execution_count": 13,
   "metadata": {},
   "outputs": [
    {
     "data": {
      "text/plain": [
       "<matplotlib.axes._subplots.AxesSubplot at 0x7f7f66582c88>"
      ]
     },
     "execution_count": 13,
     "metadata": {},
     "output_type": "execute_result"
    },
    {
     "data": {
      "image/png": "[encoded data removed]",
      "text/plain": [
       "<Figure size 432x288 with 1 Axes>"
      ]
     },
     "metadata": {
      "needs_background": "light"
     },
     "output_type": "display_data"
    }
   ],
   "source": [
    "# plot samples\n",
    "sample_ser = (my_submission[my_submission.prediction_window == 'hourly']\n",
    "                           .series_id\n",
    "                           .sample().values[0])\n",
    "\n",
    "(my_submission[my_submission.series_id == sample_ser]\n",
    "              .plot(x='timestamp',\n",
    "                    y='consumption',\n",
    "                    title=sample_ser,\n",
    "                    rot=90))"
   ]
  },
  {
   "cell_type": "code",
   "execution_count": 14,
   "metadata": {},
   "outputs": [],
   "source": [
    "save_path = Path('..', '..', 'data', 'submissions')\n",
    "save_path.mkdir(exist_ok=True, parents=True)\n",
    "my_submission.to_csv(save_path / \"release-004-01-20181023.csv\", index_label='pred_id')\n",
    "\n",
    "model_path = Path('..', '..', 'data', 'model')\n",
    "model_path.mkdir(exist_ok=True, parents=True)\n",
    "keras.models.save_model(\n",
    "    model.model,\n",
    "    model_path / 'release-004-01-20181024.hdf5'\n",
    ")"
   ]
  },
  {
   "cell_type": "markdown",
   "metadata": {},
   "source": [
    "LB: 0.4901"
   ]
  },
  {
   "cell_type": "markdown",
   "metadata": {},
   "source": [
    "## Fix the submission"
   ]
  },
  {
   "cell_type": "code",
   "execution_count": 39,
   "metadata": {},
   "outputs": [],
   "source": [
    "my_model = keras.models.load_model(model_path / 'release-004-01-20181024.hdf5')"
   ]
  },
  {
   "cell_type": "code",
   "execution_count": 40,
   "metadata": {},
   "outputs": [],
   "source": [
    "def generate_hourly_forecast(num_pred_hours, df, model, scaler, lag):\n",
    "    \"\"\" Uses last hour's prediction to generate next for num_pred_hours, \n",
    "        initialized by most recent cold start prediction. Inverts scale of \n",
    "        predictions before return.\n",
    "    \"\"\"\n",
    "    # allocate prediction frame\n",
    "    preds_scaled = np.zeros(num_pred_hours)\n",
    "    \n",
    "    # initial X is last lag values from the cold start\n",
    "    X = scaler.transform(df.values.reshape(-1, 1))[-n_input:]\n",
    "        \n",
    "    # forecast\n",
    "    for i in range(num_pred_hours):\n",
    "        # predict scaled value for next time step\n",
    "        X = np.flip(X.ravel(), axis=0)\n",
    "        yhat = model.predict(X.reshape(1, 1, n_input), batch_size=1)[0][0]\n",
    "        preds_scaled[i] = yhat\n",
    "        \n",
    "        # update X to be latest data plus prediction\n",
    "        X = pd.Series(X.ravel()).shift(-1).fillna(yhat).values\n",
    "        \n",
    "    # revert scale back to original range\n",
    "    hourly_preds = scaler.inverse_transform(preds_scaled.reshape(-1, 1)).ravel()\n",
    "    return hourly_preds"
   ]
  },
  {
   "cell_type": "code",
   "execution_count": null,
   "metadata": {},
   "outputs": [],
   "source": [
    "my_submission_df = submission_format.copy()\n",
    "\n",
    "pred_window_to_num_preds = {'hourly': 24, 'daily': 7, 'weekly': 2}\n",
    "pred_window_to_num_pred_hours = {'hourly': 24, 'daily': 7 * 24, 'weekly': 2 * 7 * 24}\n",
    "\n",
    "num_test_series = my_submission_df['series_id'].nunique()\n",
    "\n",
    "model.reset_states()\n",
    "\n",
    "for ser_id, pred_df in tqdm(my_submission_df.groupby('series_id'),\n",
    "                            total=num_test_series,\n",
    "                            desc=\"Forecasting from Cold Start Data\"):\n",
    "    # get info about this series' prediction window\n",
    "    pred_window = pred_df.prediction_window.unique()[0]\n",
    "    num_preds = pred_window_to_num_preds[pred_window]\n",
    "    num_pred_hours = pred_window_to_num_pred_hours[pred_window]\n",
    "\n",
    "    # prepare cold start data\n",
    "    series_data = cold_start_test[cold_start_test['series_id'] == ser_id]['consumption']\n",
    "    cold_X, cold_y, scaler = preprocessing.prepare_training_data(series_data, n_input)\n",
    "\n",
    "    # fine tune our lstm model to this site using cold start data\n",
    "    my_model.fit(cold_X, cold_y, epochs=1, batch_size=n_batch, verbose=0, shuffle=False)\n",
    "\n",
    "    # make hourly forecasts for duration of pred window\n",
    "    preds = generate_hourly_forecast(num_pred_hours, series_data, my_model, scaler, lag)\n",
    "\n",
    "    # reduce by taking sum over each sub window in pred window\n",
    "    reduced_preds = [pred.sum() for pred in np.split(preds, num_preds)]\n",
    "\n",
    "    # store result in submission DataFrame\n",
    "    ser_id_mask = my_submission_df['series_id'] == ser_id\n",
    "    my_submission_df.loc[ser_id_mask, 'consumption'] = reduced_preds"
   ]
  },
  {
   "cell_type": "code",
   "execution_count": 42,
   "metadata": {},
   "outputs": [
    {
     "data": {
      "text/plain": [
       "<matplotlib.axes._subplots.AxesSubplot at 0x7f7e5b3b1278>"
      ]
     },
     "execution_count": 42,
     "metadata": {},
     "output_type": "execute_result"
    },
    {
     "data": {
      "image/png": "[encoded data removed]",
      "text/plain": [
       "<Figure size 432x288 with 1 Axes>"
      ]
     },
     "metadata": {
      "needs_background": "light"
     },
     "output_type": "display_data"
    }
   ],
   "source": [
    "# plot samples\n",
    "sample_ser = (my_submission[my_submission.prediction_window == 'hourly']\n",
    "                           .series_id\n",
    "                           .sample().values[0])\n",
    "\n",
    "(my_submission[my_submission.series_id == sample_ser]\n",
    "              .plot(x='timestamp',\n",
    "                    y='consumption',\n",
    "                    title=sample_ser,\n",
    "                    rot=90))"
   ]
  },
  {
   "cell_type": "code",
   "execution_count": 43,
   "metadata": {},
   "outputs": [],
   "source": [
    "save_path = Path('..', '..', 'data', 'submissions')\n",
    "save_path.mkdir(exist_ok=True, parents=True)\n",
    "my_submission.to_csv(save_path / \"release-004-02-20181024.csv\", index_label='pred_id')\n",
    "\n",
    "model_path = Path('..', '..', 'data', 'model')\n",
    "model_path.mkdir(exist_ok=True, parents=True)\n",
    "keras.models.save_model(\n",
    "    model.model,\n",
    "    model_path / 'release-004-02-20181024.hdf5'\n",
    ")"
   ]
  },
  {
   "cell_type": "code",
   "execution_count": null,
   "metadata": {},
   "outputs": [],
   "source": []
  }
 ],
 "metadata": {
  "kernelspec": {
   "display_name": "Python 3",
   "language": "python",
   "name": "python3"
  },
  "language_info": {
   "codemirror_mode": {
    "name": "ipython",
    "version": 3
   },
   "file_extension": ".py",
   "mimetype": "text/x-python",
   "name": "python",
   "nbconvert_exporter": "python",
   "pygments_lexer": "ipython3",
   "version": "3.6.2"
  }
 },
 "nbformat": 4,
 "nbformat_minor": 2
}
