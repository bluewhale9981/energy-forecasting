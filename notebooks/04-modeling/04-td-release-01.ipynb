{
 "cells": [
  {
   "cell_type": "code",
   "execution_count": 1,
   "metadata": {},
   "outputs": [],
   "source": [
    "%matplotlib inline\n",
    "\n",
    "import time\n",
    "\n",
    "# math and data manipulation\n",
    "import numpy as np\n",
    "import pandas as pd\n",
    "from tqdm import tqdm\n",
    "\n",
    "# to handle paths\n",
    "from pathlib import Path\n",
    "\n",
    "# set random seeds \n",
    "from numpy.random import seed\n",
    "from tensorflow import set_random_seed\n",
    "from tensorflow import keras\n",
    "\n",
    "from sklearn.preprocessing import MinMaxScaler\n",
    "\n",
    "from csef.model import lstm\n",
    "from csef.data import preprocessing, load_data\n",
    "from csef.utils import performance\n",
    "from csef.model.base import BaseModel\n",
    "from csef.model.base import GeneralModel\n",
    "\n",
    "RANDOM_SEED = 2018\n",
    "seed(RANDOM_SEED)\n",
    "set_random_seed(RANDOM_SEED)"
   ]
  },
  {
   "cell_type": "markdown",
   "metadata": {},
   "source": [
    "## Data Loading"
   ]
  },
  {
   "cell_type": "code",
   "execution_count": 2,
   "metadata": {},
   "outputs": [],
   "source": [
    "data_mapping = load_data.load_data()\n",
    "consumption_train = data_mapping['consumption_train']\n",
    "cold_start_test = data_mapping['cold_start_test']\n",
    "submission_format = data_mapping['submission_format']\n",
    "meta = data_mapping['meta']"
   ]
  },
  {
   "cell_type": "markdown",
   "metadata": {},
   "source": [
    "## Training"
   ]
  },
  {
   "cell_type": "code",
   "execution_count": 3,
   "metadata": {},
   "outputs": [
    {
     "name": "stdout",
     "output_type": "stream",
     "text": [
      "There are 758 training series totaling 21224 days (509376 hours) of consumption data.\n"
     ]
    }
   ],
   "source": [
    "load_data.describe_training_data(consumption_train)"
   ]
  },
  {
   "cell_type": "code",
   "execution_count": 4,
   "metadata": {},
   "outputs": [],
   "source": [
    "# Default config\n",
    "n_batch = 1\n",
    "n_input = 24\n",
    "n_nodes = 24"
   ]
  },
  {
   "cell_type": "markdown",
   "metadata": {},
   "source": [
    "### Release architect 001"
   ]
  },
  {
   "cell_type": "code",
   "execution_count": 5,
   "metadata": {},
   "outputs": [],
   "source": [
    "batch_input_shape = (n_batch, 1, n_input)\n",
    "config = {\n",
    "    'n_input': n_input,\n",
    "    'n_nodes': n_nodes,\n",
    "    'n_batch': n_batch,\n",
    "    'model': [\n",
    "        {\n",
    "            'layer_type': 'LSTM',\n",
    "            'layer_config': {\n",
    "                'units': n_input,\n",
    "                'batch_input_shape': batch_input_shape,\n",
    "                'stateful': True\n",
    "            }\n",
    "        },\n",
    "        {\n",
    "            'layer_type': 'Dense',\n",
    "            'layer_config': {\n",
    "                'units': n_input,\n",
    "                'activation': 'relu'\n",
    "            }\n",
    "        },\n",
    "        {\n",
    "            'layer_type': 'Dropout',\n",
    "            'layer_config': {\n",
    "                'rate': 0.01\n",
    "            }\n",
    "        },\n",
    "        {\n",
    "            'layer_type': 'Dense',\n",
    "            'layer_config': {\n",
    "                'units': 12,\n",
    "                'activation': 'relu'\n",
    "            }\n",
    "        },\n",
    "        {\n",
    "            'layer_type': 'Dropout',\n",
    "            'layer_config': {\n",
    "                'rate': 0.01\n",
    "            }\n",
    "        },\n",
    "        {\n",
    "            'layer_type': 'Dense',\n",
    "            'layer_config': {\n",
    "                'units': 12,\n",
    "                'activation': 'relu'\n",
    "            }\n",
    "        },\n",
    "        {\n",
    "            'layer_type': 'Dropout',\n",
    "            'layer_config': {\n",
    "                'rate': 0.01\n",
    "            }\n",
    "        },\n",
    "        {\n",
    "            'layer_type': 'Dense',\n",
    "            'layer_config': {\n",
    "                'units': 6,\n",
    "                'activation': 'relu'\n",
    "            }\n",
    "        },\n",
    "        {\n",
    "            'layer_type': 'Dense',\n",
    "            'layer_config': {\n",
    "                'units': 1\n",
    "            }\n",
    "        }\n",
    "    ]\n",
    "}"
   ]
  },
  {
   "cell_type": "code",
   "execution_count": 6,
   "metadata": {},
   "outputs": [],
   "source": [
    "model = GeneralModel(config)"
   ]
  },
  {
   "cell_type": "code",
   "execution_count": 7,
   "metadata": {},
   "outputs": [
    {
     "name": "stderr",
     "output_type": "stream",
     "text": [
      "Fitting the data: 100%|██████████| 758/758 [31:01<00:00,  2.46s/it]\n",
      "Fitting the data: 100%|██████████| 758/758 [31:03<00:00,  2.46s/it]\n",
      "Fitting the data: 100%|██████████| 758/758 [31:04<00:00,  2.46s/it]\n"
     ]
    }
   ],
   "source": [
    "num_training_series = consumption_train.series_id.nunique()\n",
    "num_passes_through_data = 3\n",
    "\n",
    "total_start_time = time.time()\n",
    "\n",
    "epoch_timers = []\n",
    "\n",
    "for i in range(num_passes_through_data):\n",
    "    epoch_start_time = time.time()\n",
    "    model.fit(consumption_train)\n",
    "    epoch_timers.append((epoch_start_time, time.time()))\n",
    "    \n",
    "total_end_time = time.time()"
   ]
  },
  {
   "cell_type": "code",
   "execution_count": 8,
   "metadata": {},
   "outputs": [
    {
     "data": {
      "text/plain": [
       "5589.7215077877045"
      ]
     },
     "execution_count": 8,
     "metadata": {},
     "output_type": "execute_result"
    }
   ],
   "source": [
    "total_end_time - total_start_time"
   ]
  },
  {
   "cell_type": "code",
   "execution_count": 9,
   "metadata": {},
   "outputs": [
    {
     "data": {
      "text/plain": [
       "[(1539961189.5240922, 1539963051.4011917),\n",
       " (1539963051.401193, 1539964915.177256),\n",
       " (1539964915.1772573, 1539966779.2454407)]"
      ]
     },
     "execution_count": 9,
     "metadata": {},
     "output_type": "execute_result"
    }
   ],
   "source": [
    "epoch_timers"
   ]
  },
  {
   "cell_type": "markdown",
   "metadata": {},
   "source": [
    "## Make predict"
   ]
  },
  {
   "cell_type": "code",
   "execution_count": 11,
   "metadata": {},
   "outputs": [
    {
     "name": "stderr",
     "output_type": "stream",
     "text": [
      "Forecasting from Cold Start Data: 100%|██████████| 625/625 [08:43<00:00,  1.16it/s]\n"
     ]
    }
   ],
   "source": [
    "my_submission = model.make_submission(submission_format, cold_start_test)"
   ]
  },
  {
   "cell_type": "code",
   "execution_count": 12,
   "metadata": {},
   "outputs": [
    {
     "data": {
      "text/plain": [
       "count    5.808000e+03\n",
       "mean     1.671020e+05\n",
       "std      6.193105e+05\n",
       "min     -9.135058e+01\n",
       "25%      1.616238e+04\n",
       "50%      3.652105e+04\n",
       "75%      9.464016e+04\n",
       "max      5.163810e+06\n",
       "Name: consumption, dtype: float64"
      ]
     },
     "execution_count": 12,
     "metadata": {},
     "output_type": "execute_result"
    }
   ],
   "source": [
    "my_submission[my_submission.prediction_window == 'hourly'].consumption.describe()"
   ]
  },
  {
   "cell_type": "code",
   "execution_count": 13,
   "metadata": {},
   "outputs": [
    {
     "data": {
      "text/plain": [
       "count    1.337000e+03\n",
       "mean     3.418472e+06\n",
       "std      1.001328e+07\n",
       "min      4.082439e+03\n",
       "25%      4.234891e+05\n",
       "50%      8.957687e+05\n",
       "75%      2.729480e+06\n",
       "max      1.176524e+08\n",
       "Name: consumption, dtype: float64"
      ]
     },
     "execution_count": 13,
     "metadata": {},
     "output_type": "execute_result"
    }
   ],
   "source": [
    "my_submission[my_submission.prediction_window == 'daily'].consumption.describe()"
   ]
  },
  {
   "cell_type": "code",
   "execution_count": 14,
   "metadata": {},
   "outputs": [
    {
     "data": {
      "text/plain": [
       "<matplotlib.axes._subplots.AxesSubplot at 0x7fc3a46a0eb8>"
      ]
     },
     "execution_count": 14,
     "metadata": {},
     "output_type": "execute_result"
    },
    {
     "data": {
      "image/png": "[encoded data removed]",
      "text/plain": [
       "<Figure size 432x288 with 1 Axes>"
      ]
     },
     "metadata": {
      "needs_background": "light"
     },
     "output_type": "display_data"
    }
   ],
   "source": [
    "# plot samples\n",
    "sample_ser = (my_submission[my_submission.prediction_window == 'hourly']\n",
    "                           .series_id\n",
    "                           .sample().values[0])\n",
    "\n",
    "(my_submission[my_submission.series_id == sample_ser]\n",
    "              .plot(x='timestamp',\n",
    "                    y='consumption',\n",
    "                    title=sample_ser,\n",
    "                    rot=90))"
   ]
  },
  {
   "cell_type": "code",
   "execution_count": 15,
   "metadata": {},
   "outputs": [
    {
     "data": {
      "text/html": [
       "<div>\n",
       "<style scoped>\n",
       "    .dataframe tbody tr th:only-of-type {\n",
       "        vertical-align: middle;\n",
       "    }\n",
       "\n",
       "    .dataframe tbody tr th {\n",
       "        vertical-align: top;\n",
       "    }\n",
       "\n",
       "    .dataframe thead th {\n",
       "        text-align: right;\n",
       "    }\n",
       "</style>\n",
       "<table border=\"1\" class=\"dataframe\">\n",
       "  <thead>\n",
       "    <tr style=\"text-align: right;\">\n",
       "      <th></th>\n",
       "      <th>series_id</th>\n",
       "      <th>timestamp</th>\n",
       "      <th>temperature</th>\n",
       "      <th>consumption</th>\n",
       "      <th>prediction_window</th>\n",
       "    </tr>\n",
       "    <tr>\n",
       "      <th>pred_id</th>\n",
       "      <th></th>\n",
       "      <th></th>\n",
       "      <th></th>\n",
       "      <th></th>\n",
       "      <th></th>\n",
       "    </tr>\n",
       "  </thead>\n",
       "  <tbody>\n",
       "    <tr>\n",
       "      <th>0</th>\n",
       "      <td>102781</td>\n",
       "      <td>2013-03-03</td>\n",
       "      <td>19.931250</td>\n",
       "      <td>3.729989e+05</td>\n",
       "      <td>daily</td>\n",
       "    </tr>\n",
       "    <tr>\n",
       "      <th>1</th>\n",
       "      <td>102781</td>\n",
       "      <td>2013-03-04</td>\n",
       "      <td>20.034375</td>\n",
       "      <td>3.729989e+05</td>\n",
       "      <td>daily</td>\n",
       "    </tr>\n",
       "    <tr>\n",
       "      <th>2</th>\n",
       "      <td>102781</td>\n",
       "      <td>2013-03-05</td>\n",
       "      <td>19.189583</td>\n",
       "      <td>3.729989e+05</td>\n",
       "      <td>daily</td>\n",
       "    </tr>\n",
       "    <tr>\n",
       "      <th>3</th>\n",
       "      <td>102781</td>\n",
       "      <td>2013-03-06</td>\n",
       "      <td>18.397917</td>\n",
       "      <td>3.729989e+05</td>\n",
       "      <td>daily</td>\n",
       "    </tr>\n",
       "    <tr>\n",
       "      <th>4</th>\n",
       "      <td>102781</td>\n",
       "      <td>2013-03-07</td>\n",
       "      <td>20.762500</td>\n",
       "      <td>3.729989e+05</td>\n",
       "      <td>daily</td>\n",
       "    </tr>\n",
       "    <tr>\n",
       "      <th>5</th>\n",
       "      <td>102781</td>\n",
       "      <td>2013-03-08</td>\n",
       "      <td>19.800000</td>\n",
       "      <td>3.729989e+05</td>\n",
       "      <td>daily</td>\n",
       "    </tr>\n",
       "    <tr>\n",
       "      <th>6</th>\n",
       "      <td>102781</td>\n",
       "      <td>2013-03-09</td>\n",
       "      <td>20.466667</td>\n",
       "      <td>3.729989e+05</td>\n",
       "      <td>daily</td>\n",
       "    </tr>\n",
       "    <tr>\n",
       "      <th>7</th>\n",
       "      <td>103342</td>\n",
       "      <td>2013-06-26</td>\n",
       "      <td>10.486607</td>\n",
       "      <td>1.204608e+07</td>\n",
       "      <td>weekly</td>\n",
       "    </tr>\n",
       "    <tr>\n",
       "      <th>8</th>\n",
       "      <td>103342</td>\n",
       "      <td>2013-07-03</td>\n",
       "      <td>10.006548</td>\n",
       "      <td>1.256478e+07</td>\n",
       "      <td>weekly</td>\n",
       "    </tr>\n",
       "    <tr>\n",
       "      <th>9</th>\n",
       "      <td>102969</td>\n",
       "      <td>2013-12-15</td>\n",
       "      <td>20.214583</td>\n",
       "      <td>3.806196e+05</td>\n",
       "      <td>daily</td>\n",
       "    </tr>\n",
       "    <tr>\n",
       "      <th>10</th>\n",
       "      <td>102969</td>\n",
       "      <td>2013-12-16</td>\n",
       "      <td>20.056250</td>\n",
       "      <td>3.671674e+05</td>\n",
       "      <td>daily</td>\n",
       "    </tr>\n",
       "    <tr>\n",
       "      <th>11</th>\n",
       "      <td>102969</td>\n",
       "      <td>2013-12-17</td>\n",
       "      <td>19.956250</td>\n",
       "      <td>3.610238e+05</td>\n",
       "      <td>daily</td>\n",
       "    </tr>\n",
       "    <tr>\n",
       "      <th>12</th>\n",
       "      <td>102969</td>\n",
       "      <td>2013-12-18</td>\n",
       "      <td>18.352083</td>\n",
       "      <td>3.580210e+05</td>\n",
       "      <td>daily</td>\n",
       "    </tr>\n",
       "    <tr>\n",
       "      <th>13</th>\n",
       "      <td>102969</td>\n",
       "      <td>2013-12-19</td>\n",
       "      <td>18.252083</td>\n",
       "      <td>3.562161e+05</td>\n",
       "      <td>daily</td>\n",
       "    </tr>\n",
       "    <tr>\n",
       "      <th>14</th>\n",
       "      <td>102969</td>\n",
       "      <td>2013-12-20</td>\n",
       "      <td>17.779167</td>\n",
       "      <td>3.549400e+05</td>\n",
       "      <td>daily</td>\n",
       "    </tr>\n",
       "    <tr>\n",
       "      <th>15</th>\n",
       "      <td>102969</td>\n",
       "      <td>2013-12-21</td>\n",
       "      <td>17.918750</td>\n",
       "      <td>3.539621e+05</td>\n",
       "      <td>daily</td>\n",
       "    </tr>\n",
       "    <tr>\n",
       "      <th>16</th>\n",
       "      <td>102718</td>\n",
       "      <td>2015-01-06</td>\n",
       "      <td>19.733333</td>\n",
       "      <td>8.674467e+05</td>\n",
       "      <td>daily</td>\n",
       "    </tr>\n",
       "    <tr>\n",
       "      <th>17</th>\n",
       "      <td>102718</td>\n",
       "      <td>2015-01-07</td>\n",
       "      <td>20.152083</td>\n",
       "      <td>8.261926e+05</td>\n",
       "      <td>daily</td>\n",
       "    </tr>\n",
       "    <tr>\n",
       "      <th>18</th>\n",
       "      <td>102718</td>\n",
       "      <td>2015-01-08</td>\n",
       "      <td>19.583333</td>\n",
       "      <td>7.933436e+05</td>\n",
       "      <td>daily</td>\n",
       "    </tr>\n",
       "    <tr>\n",
       "      <th>19</th>\n",
       "      <td>102718</td>\n",
       "      <td>2015-01-09</td>\n",
       "      <td>20.279167</td>\n",
       "      <td>7.654115e+05</td>\n",
       "      <td>daily</td>\n",
       "    </tr>\n",
       "  </tbody>\n",
       "</table>\n",
       "</div>"
      ],
      "text/plain": [
       "         series_id  timestamp  temperature   consumption prediction_window\n",
       "pred_id                                                                   \n",
       "0           102781 2013-03-03    19.931250  3.729989e+05             daily\n",
       "1           102781 2013-03-04    20.034375  3.729989e+05             daily\n",
       "2           102781 2013-03-05    19.189583  3.729989e+05             daily\n",
       "3           102781 2013-03-06    18.397917  3.729989e+05             daily\n",
       "4           102781 2013-03-07    20.762500  3.729989e+05             daily\n",
       "5           102781 2013-03-08    19.800000  3.729989e+05             daily\n",
       "6           102781 2013-03-09    20.466667  3.729989e+05             daily\n",
       "7           103342 2013-06-26    10.486607  1.204608e+07            weekly\n",
       "8           103342 2013-07-03    10.006548  1.256478e+07            weekly\n",
       "9           102969 2013-12-15    20.214583  3.806196e+05             daily\n",
       "10          102969 2013-12-16    20.056250  3.671674e+05             daily\n",
       "11          102969 2013-12-17    19.956250  3.610238e+05             daily\n",
       "12          102969 2013-12-18    18.352083  3.580210e+05             daily\n",
       "13          102969 2013-12-19    18.252083  3.562161e+05             daily\n",
       "14          102969 2013-12-20    17.779167  3.549400e+05             daily\n",
       "15          102969 2013-12-21    17.918750  3.539621e+05             daily\n",
       "16          102718 2015-01-06    19.733333  8.674467e+05             daily\n",
       "17          102718 2015-01-07    20.152083  8.261926e+05             daily\n",
       "18          102718 2015-01-08    19.583333  7.933436e+05             daily\n",
       "19          102718 2015-01-09    20.279167  7.654115e+05             daily"
      ]
     },
     "execution_count": 15,
     "metadata": {},
     "output_type": "execute_result"
    }
   ],
   "source": [
    "my_submission.head(20)"
   ]
  },
  {
   "cell_type": "code",
   "execution_count": 16,
   "metadata": {},
   "outputs": [],
   "source": [
    "save_path = Path('..', '..', 'data', 'submissions')\n",
    "save_path.mkdir(exist_ok=True, parents=True)\n",
    "my_submission.to_csv(save_path / \"release-001-20181019.csv\", index_label='pred_id')"
   ]
  },
  {
   "cell_type": "markdown",
   "metadata": {},
   "source": [
    "Submitted on 2018-10-19: 0.4970"
   ]
  },
  {
   "cell_type": "code",
   "execution_count": 24,
   "metadata": {},
   "outputs": [],
   "source": [
    "model_path = Path('..', '..', 'data', 'model')\n",
    "model_path.mkdir(exist_ok=True, parents=True)\n",
    "keras.models.save_model(\n",
    "    model.model,\n",
    "    model_path / 'release-01-20181019.hdf5'\n",
    ")"
   ]
  },
  {
   "cell_type": "code",
   "execution_count": null,
   "metadata": {},
   "outputs": [],
   "source": []
  }
 ],
 "metadata": {
  "kernelspec": {
   "display_name": "Python 3",
   "language": "python",
   "name": "python3"
  },
  "language_info": {
   "codemirror_mode": {
    "name": "ipython",
    "version": 3
   },
   "file_extension": ".py",
   "mimetype": "text/x-python",
   "name": "python",
   "nbconvert_exporter": "python",
   "pygments_lexer": "ipython3",
   "version": "3.6.2"
  }
 },
 "nbformat": 4,
 "nbformat_minor": 2
}
