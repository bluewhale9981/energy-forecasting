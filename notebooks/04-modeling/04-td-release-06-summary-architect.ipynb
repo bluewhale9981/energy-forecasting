{
 "cells": [
  {
   "cell_type": "code",
   "execution_count": 1,
   "metadata": {},
   "outputs": [
    {
     "name": "stderr",
     "output_type": "stream",
     "text": [
      "/home/thuongdinh/.virtualenvs/mlcsef/lib/python3.6/site-packages/requests/__init__.py:91: RequestsDependencyWarning: urllib3 (1.24) or chardet (3.0.4) doesn't match a supported version!\n",
      "  RequestsDependencyWarning)\n"
     ]
    }
   ],
   "source": [
    "%matplotlib inline\n",
    "\n",
    "import time\n",
    "\n",
    "# math and data manipulation\n",
    "import numpy as np\n",
    "import pandas as pd\n",
    "from tqdm import tqdm\n",
    "\n",
    "# to handle paths\n",
    "from pathlib import Path\n",
    "\n",
    "# set random seeds \n",
    "from numpy.random import seed\n",
    "from tensorflow import set_random_seed\n",
    "from tensorflow import keras\n",
    "\n",
    "from csef.model import lstm\n",
    "from csef.data import preprocessing, load_data\n",
    "from csef.utils import performance\n",
    "from csef.model.base import GeneralModel\n",
    "\n",
    "RANDOM_SEED = 2018\n",
    "seed(RANDOM_SEED)\n",
    "set_random_seed(RANDOM_SEED)"
   ]
  },
  {
   "cell_type": "markdown",
   "metadata": {},
   "source": [
    "## Data Loading"
   ]
  },
  {
   "cell_type": "code",
   "execution_count": 2,
   "metadata": {},
   "outputs": [],
   "source": [
    "data_mapping = load_data.load_data()\n",
    "consumption_train = data_mapping['consumption_train']\n",
    "cold_start_test = data_mapping['cold_start_test']\n",
    "submission_format = data_mapping['submission_format']\n",
    "meta = data_mapping['meta']"
   ]
  },
  {
   "cell_type": "markdown",
   "metadata": {},
   "source": [
    "## Training"
   ]
  },
  {
   "cell_type": "code",
   "execution_count": 3,
   "metadata": {},
   "outputs": [
    {
     "name": "stdout",
     "output_type": "stream",
     "text": [
      "There are 758 training series totaling 21224 days (509376 hours) of consumption data.\n"
     ]
    }
   ],
   "source": [
    "load_data.describe_training_data(consumption_train)"
   ]
  },
  {
   "cell_type": "code",
   "execution_count": 4,
   "metadata": {},
   "outputs": [],
   "source": [
    "# Default config\n",
    "n_batch = 1\n",
    "n_input = 24\n",
    "n_nodes = 24\n",
    "lag = n_input\n",
    "batch_input_shape = (n_batch, 1, n_input)"
   ]
  },
  {
   "cell_type": "markdown",
   "metadata": {},
   "source": [
    "### Baseline model but go with 40 epoches "
   ]
  },
  {
   "cell_type": "code",
   "execution_count": 5,
   "metadata": {},
   "outputs": [],
   "source": [
    "config = {\n",
    "    'n_input': n_input,\n",
    "    'n_nodes': n_nodes,\n",
    "    'n_batch': n_batch,\n",
    "    'model': [\n",
    "        {\n",
    "            'layer_type': 'LSTM',\n",
    "            'layer_config': {\n",
    "                'units': n_input,\n",
    "                'batch_input_shape': batch_input_shape,\n",
    "                'stateful': True\n",
    "            }\n",
    "        },\n",
    "        {\n",
    "            'layer_type': 'Dropout',\n",
    "            'layer_config': {\n",
    "                'rate': 0.01\n",
    "            }\n",
    "        },\n",
    "        {\n",
    "            'layer_type': 'Dense',\n",
    "            'layer_config': {\n",
    "                'units': n_input,\n",
    "                'activation': 'tanh'\n",
    "            }\n",
    "        },\n",
    "        {\n",
    "            'layer_type': 'Dropout',\n",
    "            'layer_config': {\n",
    "                'rate': 0.01\n",
    "            }\n",
    "        },\n",
    "        {\n",
    "            'layer_type': 'Dense',\n",
    "            'layer_config': {\n",
    "                'units': 1\n",
    "            }\n",
    "        }\n",
    "    ]\n",
    "}"
   ]
  },
  {
   "cell_type": "code",
   "execution_count": 6,
   "metadata": {},
   "outputs": [],
   "source": [
    "model = GeneralModel(config)"
   ]
  },
  {
   "cell_type": "code",
   "execution_count": null,
   "metadata": {},
   "outputs": [
    {
     "name": "stderr",
     "output_type": "stream",
     "text": [
      "Fitting the data: 100%|██████████| 758/758 [19:55<00:00,  1.56s/it]\n",
      "Fitting the data: 100%|██████████| 758/758 [19:31<00:00,  1.52s/it]\n",
      "Fitting the data: 100%|██████████| 758/758 [19:20<00:00,  1.54s/it]\n",
      "Fitting the data:  68%|██████▊   | 516/758 [13:11<06:12,  1.54s/it]"
     ]
    }
   ],
   "source": [
    "num_training_series = consumption_train.series_id.nunique()\n",
    "num_passes_through_data = 5\n",
    "\n",
    "total_start_time = time.time()\n",
    "\n",
    "epoch_timers = []\n",
    "\n",
    "for i in range(num_passes_through_data):\n",
    "    epoch_start_time = time.time()\n",
    "    model.fit(consumption_train)\n",
    "    epoch_timers.append((epoch_start_time, time.time()))\n",
    "    \n",
    "total_end_time = time.time()"
   ]
  },
  {
   "cell_type": "code",
   "execution_count": 1,
   "metadata": {},
   "outputs": [
    {
     "ename": "NameError",
     "evalue": "name 'total_end_time' is not defined",
     "output_type": "error",
     "traceback": [
      "\u001b[0;31m---------------------------------------------------------------------------\u001b[0m",
      "\u001b[0;31mNameError\u001b[0m                                 Traceback (most recent call last)",
      "\u001b[0;32m<ipython-input-1-8a2f1bd66b14>\u001b[0m in \u001b[0;36m<module>\u001b[0;34m\u001b[0m\n\u001b[0;32m----> 1\u001b[0;31m \u001b[0mtotal_end_time\u001b[0m \u001b[0;34m-\u001b[0m \u001b[0mtotal_start_time\u001b[0m\u001b[0;34m\u001b[0m\u001b[0m\n\u001b[0m",
      "\u001b[0;31mNameError\u001b[0m: name 'total_end_time' is not defined"
     ]
    }
   ],
   "source": [
    "total_end_time - total_start_time"
   ]
  },
  {
   "cell_type": "code",
   "execution_count": 9,
   "metadata": {},
   "outputs": [],
   "source": [
    "model_path = Path('..', '..', 'data', 'model')\n",
    "model_path.mkdir(exist_ok=True, parents=True)\n",
    "keras.models.save_model(\n",
    "    model.model,\n",
    "    model_path / 'release-006-01-20181025.hdf5'\n",
    ")"
   ]
  },
  {
   "cell_type": "code",
   "execution_count": 10,
   "metadata": {},
   "outputs": [
    {
     "name": "stderr",
     "output_type": "stream",
     "text": [
      "Forecasting from Cold Start Data: 100%|██████████| 625/625 [07:09<00:00,  1.40it/s]\n"
     ]
    }
   ],
   "source": [
    "my_submission = model.make_submission(submission_format, cold_start_test)"
   ]
  },
  {
   "cell_type": "code",
   "execution_count": 12,
   "metadata": {},
   "outputs": [],
   "source": [
    "save_path = Path('..', '..', 'data', 'submissions')\n",
    "save_path.mkdir(exist_ok=True, parents=True)\n",
    "my_submission.to_csv(save_path / \"release-006-01-20181025.csv\", index_label='pred_id')"
   ]
  },
  {
   "cell_type": "code",
   "execution_count": 13,
   "metadata": {},
   "outputs": [
    {
     "data": {
      "text/plain": [
       "<matplotlib.axes._subplots.AxesSubplot at 0x7f16f07e5588>"
      ]
     },
     "execution_count": 13,
     "metadata": {},
     "output_type": "execute_result"
    },
    {
     "data": {
      "image/png": "[encoded data removed]",
      "text/plain": [
       "<Figure size 432x288 with 1 Axes>"
      ]
     },
     "metadata": {
      "needs_background": "light"
     },
     "output_type": "display_data"
    }
   ],
   "source": [
    "# plot samples\n",
    "sample_ser = (my_submission[my_submission.prediction_window == 'hourly']\n",
    "                           .series_id\n",
    "                           .sample().values[0])\n",
    "\n",
    "(my_submission[my_submission.series_id == sample_ser]\n",
    "              .plot(x='timestamp',\n",
    "                    y='consumption',\n",
    "                    title=sample_ser,\n",
    "                    rot=90))"
   ]
  },
  {
   "cell_type": "code",
   "execution_count": 14,
   "metadata": {},
   "outputs": [
    {
     "data": {
      "text/plain": [
       "<matplotlib.axes._subplots.AxesSubplot at 0x7f16f06f2358>"
      ]
     },
     "execution_count": 14,
     "metadata": {},
     "output_type": "execute_result"
    },
    {
     "data": {
      "image/png": "[encoded data removed]",
      "text/plain": [
       "<Figure size 432x288 with 1 Axes>"
      ]
     },
     "metadata": {
      "needs_background": "light"
     },
     "output_type": "display_data"
    }
   ],
   "source": [
    "# plot samples\n",
    "sample_ser = (my_submission[my_submission.prediction_window == 'daily']\n",
    "                           .series_id\n",
    "                           .sample().values[0])\n",
    "\n",
    "(my_submission[my_submission.series_id == sample_ser]\n",
    "              .plot(x='timestamp',\n",
    "                    y='consumption',\n",
    "                    title=sample_ser,\n",
    "                    rot=90))"
   ]
  },
  {
   "cell_type": "code",
   "execution_count": 15,
   "metadata": {},
   "outputs": [
    {
     "data": {
      "text/plain": [
       "<matplotlib.axes._subplots.AxesSubplot at 0x7f16f07238d0>"
      ]
     },
     "execution_count": 15,
     "metadata": {},
     "output_type": "execute_result"
    },
    {
     "data": {
      "image/png": "[encoded data removed]",
      "text/plain": [
       "<Figure size 432x288 with 1 Axes>"
      ]
     },
     "metadata": {
      "needs_background": "light"
     },
     "output_type": "display_data"
    }
   ],
   "source": [
    "# plot samples\n",
    "sample_ser = (my_submission[my_submission.prediction_window == 'weekly']\n",
    "                           .series_id\n",
    "                           .sample().values[0])\n",
    "\n",
    "(my_submission[my_submission.series_id == sample_ser]\n",
    "              .plot(x='timestamp',\n",
    "                    y='consumption',\n",
    "                    title=sample_ser,\n",
    "                    rot=90))"
   ]
  },
  {
   "cell_type": "code",
   "execution_count": 16,
   "metadata": {},
   "outputs": [
    {
     "data": {
      "text/html": [
       "<div>\n",
       "<style scoped>\n",
       "    .dataframe tbody tr th:only-of-type {\n",
       "        vertical-align: middle;\n",
       "    }\n",
       "\n",
       "    .dataframe tbody tr th {\n",
       "        vertical-align: top;\n",
       "    }\n",
       "\n",
       "    .dataframe thead th {\n",
       "        text-align: right;\n",
       "    }\n",
       "</style>\n",
       "<table border=\"1\" class=\"dataframe\">\n",
       "  <thead>\n",
       "    <tr style=\"text-align: right;\">\n",
       "      <th></th>\n",
       "      <th>series_id</th>\n",
       "      <th>timestamp</th>\n",
       "      <th>temperature</th>\n",
       "      <th>consumption</th>\n",
       "      <th>prediction_window</th>\n",
       "    </tr>\n",
       "    <tr>\n",
       "      <th>pred_id</th>\n",
       "      <th></th>\n",
       "      <th></th>\n",
       "      <th></th>\n",
       "      <th></th>\n",
       "      <th></th>\n",
       "    </tr>\n",
       "  </thead>\n",
       "  <tbody>\n",
       "    <tr>\n",
       "      <th>872</th>\n",
       "      <td>100380</td>\n",
       "      <td>2017-02-28</td>\n",
       "      <td>8.670238</td>\n",
       "      <td>7.077078e+06</td>\n",
       "      <td>weekly</td>\n",
       "    </tr>\n",
       "    <tr>\n",
       "      <th>873</th>\n",
       "      <td>100380</td>\n",
       "      <td>2017-03-07</td>\n",
       "      <td>7.772619</td>\n",
       "      <td>6.813566e+06</td>\n",
       "      <td>weekly</td>\n",
       "    </tr>\n",
       "  </tbody>\n",
       "</table>\n",
       "</div>"
      ],
      "text/plain": [
       "         series_id  timestamp  temperature   consumption prediction_window\n",
       "pred_id                                                                   \n",
       "872         100380 2017-02-28     8.670238  7.077078e+06            weekly\n",
       "873         100380 2017-03-07     7.772619  6.813566e+06            weekly"
      ]
     },
     "execution_count": 16,
     "metadata": {},
     "output_type": "execute_result"
    }
   ],
   "source": [
    "my_submission[my_submission.series_id == sample_ser]"
   ]
  },
  {
   "cell_type": "code",
   "execution_count": null,
   "metadata": {},
   "outputs": [],
   "source": []
  }
 ],
 "metadata": {
  "kernelspec": {
   "display_name": "Python 3",
   "language": "python",
   "name": "python3"
  },
  "language_info": {
   "codemirror_mode": {
    "name": "ipython",
    "version": 3
   },
   "file_extension": ".py",
   "mimetype": "text/x-python",
   "name": "python",
   "nbconvert_exporter": "python",
   "pygments_lexer": "ipython3",
   "version": "3.6.2"
  }
 },
 "nbformat": 4,
 "nbformat_minor": 2
}
