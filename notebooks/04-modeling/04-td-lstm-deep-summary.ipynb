{
 "cells": [
  {
   "cell_type": "code",
   "execution_count": 9,
   "metadata": {},
   "outputs": [],
   "source": [
    "%matplotlib inline\n",
    "\n",
    "# math and data manipulation\n",
    "import numpy as np\n",
    "import pandas as pd\n",
    "\n",
    "# to handle paths\n",
    "from pathlib import Path\n",
    "\n",
    "# set random seeds \n",
    "from numpy.random import seed\n",
    "from tensorflow import set_random_seed\n",
    "from tensorflow import keras\n",
    "\n",
    "from sklearn.preprocessing import MinMaxScaler\n",
    "\n",
    "from csef.model import lstm\n",
    "from csef.data import preprocessing, load_data\n",
    "from csef.utils import performance\n",
    "from csef.model.base import BaseModel\n",
    "from csef.model.base import GeneralModel\n",
    "\n",
    "RANDOM_SEED = 2018\n",
    "seed(RANDOM_SEED)\n",
    "set_random_seed(RANDOM_SEED)"
   ]
  },
  {
   "cell_type": "markdown",
   "metadata": {},
   "source": [
    "## Data Loading"
   ]
  },
  {
   "cell_type": "code",
   "execution_count": 2,
   "metadata": {},
   "outputs": [],
   "source": [
    "data_mapping = load_data.load_data()\n",
    "consumption_train = data_mapping['consumption_train']\n",
    "cold_start_test = data_mapping['cold_start_test']\n",
    "submission_format = data_mapping['submission_format']\n",
    "meta = data_mapping['meta']"
   ]
  },
  {
   "cell_type": "code",
   "execution_count": 3,
   "metadata": {},
   "outputs": [],
   "source": [
    "samp_df = load_data.sampling_data(consumption_train)"
   ]
  },
  {
   "cell_type": "code",
   "execution_count": 4,
   "metadata": {},
   "outputs": [
    {
     "name": "stdout",
     "output_type": "stream",
     "text": [
      "There are 10 training series totaling 280 days (6720 hours) of consumption data.\n"
     ]
    }
   ],
   "source": [
    "load_data.describe_training_data(samp_df)"
   ]
  },
  {
   "cell_type": "markdown",
   "metadata": {},
   "source": [
    "## Training"
   ]
  },
  {
   "cell_type": "code",
   "execution_count": 5,
   "metadata": {},
   "outputs": [
    {
     "name": "stderr",
     "output_type": "stream",
     "text": [
      "/home/thuongdinh/.virtualenvs/mlcsef/lib/python3.6/site-packages/ipykernel_launcher.py:3: SettingWithCopyWarning: \n",
      "A value is trying to be set on a copy of a slice from a DataFrame.\n",
      "Try using .loc[row_indexer,col_indexer] = value instead\n",
      "\n",
      "See the caveats in the documentation: http://pandas.pydata.org/pandas-docs/stable/indexing.html#indexing-view-versus-copy\n",
      "  This is separate from the ipykernel package so we can avoid doing imports until\n"
     ]
    }
   ],
   "source": [
    "# scale training data\n",
    "scaler = MinMaxScaler(feature_range=(-1, 1))\n",
    "samp_df['consumption'] = scaler.fit_transform(samp_df['consumption'].values.reshape(-1, 1))"
   ]
  },
  {
   "cell_type": "code",
   "execution_count": 6,
   "metadata": {},
   "outputs": [
    {
     "name": "stderr",
     "output_type": "stream",
     "text": [
      "/home/thuongdinh/ws/asnet-training/ml-training/ml-energy-forecasting/csef/data/load_data.py:49: SettingWithCopyWarning: \n",
      "A value is trying to be set on a copy of a slice from a DataFrame.\n",
      "Try using .loc[row_indexer,col_indexer] = value instead\n",
      "\n",
      "See the caveats in the documentation: http://pandas.pydata.org/pandas-docs/stable/indexing.html#indexing-view-versus-copy\n",
      "  split_train[group_col] = ser_id\n",
      "/home/thuongdinh/ws/asnet-training/ml-training/ml-energy-forecasting/csef/data/load_data.py:50: SettingWithCopyWarning: \n",
      "A value is trying to be set on a copy of a slice from a DataFrame.\n",
      "Try using .loc[row_indexer,col_indexer] = value instead\n",
      "\n",
      "See the caveats in the documentation: http://pandas.pydata.org/pandas-docs/stable/indexing.html#indexing-view-versus-copy\n",
      "  split_test[group_col] = ser_id\n"
     ]
    }
   ],
   "source": [
    "train_df, test_df = load_data.train_test_split(samp_df)"
   ]
  },
  {
   "cell_type": "code",
   "execution_count": 7,
   "metadata": {},
   "outputs": [
    {
     "name": "stdout",
     "output_type": "stream",
     "text": [
      "There are 10 training series totaling 280 days (6720 hours) of consumption data.\n"
     ]
    }
   ],
   "source": [
    "load_data.describe_training_data(train_df)"
   ]
  },
  {
   "cell_type": "code",
   "execution_count": 16,
   "metadata": {},
   "outputs": [],
   "source": [
    "# Default config\n",
    "n_batch = 1\n",
    "n_input = 24\n",
    "n_nodes = 24"
   ]
  },
  {
   "cell_type": "markdown",
   "metadata": {},
   "source": [
    "### First architect"
   ]
  },
  {
   "cell_type": "code",
   "execution_count": 8,
   "metadata": {},
   "outputs": [],
   "source": [
    "batch_input_shape = (n_batch, 1, n_input)\n",
    "config = {\n",
    "    'n_input': n_input,\n",
    "    'n_nodes': n_nodes,\n",
    "    'n_batch': n_batch,\n",
    "    'model': [\n",
    "        {\n",
    "            'layer_type': 'LSTM',\n",
    "            'layer_config': {\n",
    "                'units': n_input,\n",
    "                'batch_input_shape': batch_input_shape,\n",
    "                'stateful': True\n",
    "            }\n",
    "        },\n",
    "        {\n",
    "            'layer_type': 'Dense',\n",
    "            'layer_config': {\n",
    "                'units': n_input,\n",
    "                'activation': 'relu'\n",
    "            }\n",
    "        },\n",
    "        {\n",
    "            'layer_type': 'Dense',\n",
    "            'layer_config': {\n",
    "                'units': 12,\n",
    "                'activation': 'relu'\n",
    "            }\n",
    "        },\n",
    "        {\n",
    "            'layer_type': 'Dense',\n",
    "            'layer_config': {\n",
    "                'units': 6,\n",
    "                'activation': 'relu'\n",
    "            }\n",
    "        },\n",
    "        {\n",
    "            'layer_type': 'Dense',\n",
    "            'layer_config': {\n",
    "                'units': 1\n",
    "            }\n",
    "        }\n",
    "    ]\n",
    "}"
   ]
  },
  {
   "cell_type": "code",
   "execution_count": 14,
   "metadata": {},
   "outputs": [
    {
     "name": "stdout",
     "output_type": "stream",
     "text": [
      " > 0.291\n",
      " > 0.289\n",
      " > 0.287\n",
      " > 0.292\n",
      " > 0.299\n",
      " > 0.296\n",
      " > 0.292\n",
      " > 0.292\n",
      " > 0.294\n",
      " > 0.293\n",
      " > 0.295\n",
      " > 0.286\n",
      " > 0.289\n",
      " > 0.295\n",
      " > 0.298\n",
      " > 0.293\n",
      " > 0.291\n",
      " > 0.284\n",
      " > 0.293\n",
      " > 0.289\n"
     ]
    }
   ],
   "source": [
    "scores = performance.repeat_evaluate(GeneralModel, train_df, test_df, config, scaler, n_repeats=20)"
   ]
  },
  {
   "cell_type": "code",
   "execution_count": 15,
   "metadata": {},
   "outputs": [
    {
     "name": "stdout",
     "output_type": "stream",
     "text": [
      "lstm: 0.292 RMSE (+/- 0.004)\n"
     ]
    },
    {
     "data": {
      "image/png": "[encoded data removed]",
      "text/plain": [
       "<Figure size 432x288 with 1 Axes>"
      ]
     },
     "metadata": {
      "needs_background": "light"
     },
     "output_type": "display_data"
    }
   ],
   "source": [
    "performance.summarize_scores('lstm', scores)"
   ]
  },
  {
   "cell_type": "markdown",
   "metadata": {},
   "source": [
    "### Another architect with Dropout"
   ]
  },
  {
   "cell_type": "code",
   "execution_count": 18,
   "metadata": {},
   "outputs": [],
   "source": [
    "batch_input_shape = (n_batch, 1, n_input)\n",
    "config = {\n",
    "    'n_input': n_input,\n",
    "    'n_nodes': n_nodes,\n",
    "    'n_batch': n_batch,\n",
    "    'model': [\n",
    "        {\n",
    "            'layer_type': 'LSTM',\n",
    "            'layer_config': {\n",
    "                'units': n_input,\n",
    "                'batch_input_shape': batch_input_shape,\n",
    "                'stateful': True\n",
    "            }\n",
    "        },\n",
    "        {\n",
    "            'layer_type': 'Dense',\n",
    "            'layer_config': {\n",
    "                'units': n_input,\n",
    "                'activation': 'relu'\n",
    "            }\n",
    "        },\n",
    "        {\n",
    "            'layer_type': 'Dropout',\n",
    "            'layer_config': {\n",
    "                'rate': 0.01\n",
    "            }\n",
    "        },\n",
    "        {\n",
    "            'layer_type': 'Dense',\n",
    "            'layer_config': {\n",
    "                'units': 12,\n",
    "                'activation': 'relu'\n",
    "            }\n",
    "        },\n",
    "        {\n",
    "            'layer_type': 'Dropout',\n",
    "            'layer_config': {\n",
    "                'rate': 0.01\n",
    "            }\n",
    "        },\n",
    "        {\n",
    "            'layer_type': 'Dense',\n",
    "            'layer_config': {\n",
    "                'units': 12,\n",
    "                'activation': 'relu'\n",
    "            }\n",
    "        },\n",
    "        {\n",
    "            'layer_type': 'Dropout',\n",
    "            'layer_config': {\n",
    "                'rate': 0.01\n",
    "            }\n",
    "        },\n",
    "        {\n",
    "            'layer_type': 'Dense',\n",
    "            'layer_config': {\n",
    "                'units': 6,\n",
    "                'activation': 'relu'\n",
    "            }\n",
    "        },\n",
    "        {\n",
    "            'layer_type': 'Dense',\n",
    "            'layer_config': {\n",
    "                'units': 1\n",
    "            }\n",
    "        }\n",
    "    ]\n",
    "}"
   ]
  },
  {
   "cell_type": "code",
   "execution_count": 19,
   "metadata": {},
   "outputs": [
    {
     "name": "stdout",
     "output_type": "stream",
     "text": [
      " > 0.279\n",
      " > 0.284\n",
      " > 0.282\n",
      " > 0.276\n",
      " > 0.277\n",
      " > 0.281\n",
      " > 0.287\n",
      " > 0.287\n",
      " > 0.276\n",
      " > 0.284\n",
      " > 0.287\n",
      " > 0.292\n",
      " > 0.289\n",
      " > 0.286\n",
      " > 0.280\n",
      " > 0.291\n",
      " > 0.283\n",
      " > 0.290\n",
      " > 0.296\n",
      " > 0.280\n"
     ]
    }
   ],
   "source": [
    "scores = performance.repeat_evaluate(GeneralModel, train_df, test_df, config, scaler, n_repeats=20)"
   ]
  },
  {
   "cell_type": "code",
   "execution_count": 20,
   "metadata": {},
   "outputs": [
    {
     "name": "stdout",
     "output_type": "stream",
     "text": [
      "lstm: 0.284 RMSE (+/- 0.006)\n"
     ]
    },
    {
     "data": {
      "image/png": "[encoded data removed]",
      "text/plain": [
       "<Figure size 432x288 with 1 Axes>"
      ]
     },
     "metadata": {
      "needs_background": "light"
     },
     "output_type": "display_data"
    }
   ],
   "source": [
    "performance.summarize_scores('lstm', scores)"
   ]
  },
  {
   "cell_type": "code",
   "execution_count": null,
   "metadata": {},
   "outputs": [],
   "source": []
  }
 ],
 "metadata": {
  "kernelspec": {
   "display_name": "Python 3",
   "language": "python",
   "name": "python3"
  },
  "language_info": {
   "codemirror_mode": {
    "name": "ipython",
    "version": 3
   },
   "file_extension": ".py",
   "mimetype": "text/x-python",
   "name": "python",
   "nbconvert_exporter": "python",
   "pygments_lexer": "ipython3",
   "version": "3.6.2"
  }
 },
 "nbformat": 4,
 "nbformat_minor": 2
}
