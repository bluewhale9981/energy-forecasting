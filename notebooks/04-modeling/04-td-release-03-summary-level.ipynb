{
 "cells": [
  {
   "cell_type": "code",
   "execution_count": 1,
   "metadata": {},
   "outputs": [],
   "source": [
    "%matplotlib inline\n",
    "\n",
    "import time\n",
    "\n",
    "# math and data manipulation\n",
    "import numpy as np\n",
    "import pandas as pd\n",
    "from tqdm import tqdm\n",
    "\n",
    "# to handle paths\n",
    "from pathlib import Path\n",
    "\n",
    "# set random seeds \n",
    "from numpy.random import seed\n",
    "from tensorflow import set_random_seed\n",
    "from tensorflow import keras\n",
    "\n",
    "from csef.model import lstm\n",
    "from csef.data import preprocessing, load_data\n",
    "from csef.utils import performance\n",
    "from csef.model.base import GeneralModel\n",
    "\n",
    "RANDOM_SEED = 2018\n",
    "seed(RANDOM_SEED)\n",
    "set_random_seed(RANDOM_SEED)"
   ]
  },
  {
   "cell_type": "markdown",
   "metadata": {},
   "source": [
    "## Data Loading"
   ]
  },
  {
   "cell_type": "code",
   "execution_count": 2,
   "metadata": {},
   "outputs": [],
   "source": [
    "data_mapping = load_data.load_data()\n",
    "consumption_train = data_mapping['consumption_train']\n",
    "cold_start_test = data_mapping['cold_start_test']\n",
    "submission_format = data_mapping['submission_format']\n",
    "meta = data_mapping['meta']"
   ]
  },
  {
   "cell_type": "markdown",
   "metadata": {},
   "source": [
    "## Training"
   ]
  },
  {
   "cell_type": "code",
   "execution_count": 3,
   "metadata": {},
   "outputs": [
    {
     "name": "stdout",
     "output_type": "stream",
     "text": [
      "There are 758 training series totaling 21224 days (509376 hours) of consumption data.\n"
     ]
    }
   ],
   "source": [
    "load_data.describe_training_data(consumption_train)"
   ]
  },
  {
   "cell_type": "code",
   "execution_count": 4,
   "metadata": {},
   "outputs": [],
   "source": [
    "# Default config\n",
    "n_batch = 1\n",
    "n_input = 24\n",
    "n_nodes = 24\n",
    "batch_input_shape = (n_batch, 1, n_input)"
   ]
  },
  {
   "cell_type": "markdown",
   "metadata": {},
   "source": [
    "### Release architect 001"
   ]
  },
  {
   "cell_type": "code",
   "execution_count": 6,
   "metadata": {},
   "outputs": [],
   "source": [
    "config = {\n",
    "    'n_input': n_input,\n",
    "    'n_nodes': n_nodes,\n",
    "    'n_batch': n_batch,\n",
    "    'model': [\n",
    "        {\n",
    "            'layer_type': 'LSTM',\n",
    "            'layer_config': {\n",
    "                'units': n_input,\n",
    "                'batch_input_shape': batch_input_shape,\n",
    "                'stateful': True\n",
    "            }\n",
    "        },\n",
    "        {\n",
    "            'layer_type': 'Dense',\n",
    "            'layer_config': {\n",
    "                'units': n_input,\n",
    "                'activation': 'relu'\n",
    "            }\n",
    "        },\n",
    "        {\n",
    "            'layer_type': 'Dropout',\n",
    "            'layer_config': {\n",
    "                'rate': 0.1\n",
    "            }\n",
    "        },\n",
    "        {\n",
    "            'layer_type': 'Dense',\n",
    "            'layer_config': {\n",
    "                'units': 1\n",
    "            }\n",
    "        }\n",
    "    ]\n",
    "}"
   ]
  },
  {
   "cell_type": "code",
   "execution_count": 7,
   "metadata": {},
   "outputs": [],
   "source": [
    "model = GeneralModel(config)"
   ]
  },
  {
   "cell_type": "code",
   "execution_count": null,
   "metadata": {},
   "outputs": [
    {
     "name": "stderr",
     "output_type": "stream",
     "text": [
      "Fitting the data:   3%|▎         | 21/758 [00:40<22:52,  1.86s/it]"
     ]
    }
   ],
   "source": [
    "num_training_series = consumption_train.series_id.nunique()\n",
    "num_passes_through_data = 3\n",
    "\n",
    "total_start_time = time.time()\n",
    "\n",
    "epoch_timers = []\n",
    "\n",
    "for i in range(num_passes_through_data):\n",
    "    epoch_start_time = time.time()\n",
    "    model.fit(consumption_train)\n",
    "    epoch_timers.append((epoch_start_time, time.time()))\n",
    "    \n",
    "total_end_time = time.time()"
   ]
  },
  {
   "cell_type": "code",
   "execution_count": 9,
   "metadata": {},
   "outputs": [
    {
     "data": {
      "text/plain": [
       "5967.126497030258"
      ]
     },
     "execution_count": 9,
     "metadata": {},
     "output_type": "execute_result"
    }
   ],
   "source": [
    "total_end_time - total_start_time"
   ]
  },
  {
   "cell_type": "code",
   "execution_count": 10,
   "metadata": {},
   "outputs": [
    {
     "data": {
      "text/plain": [
       "[(1539969937.8258982, 1539971924.9270794),\n",
       " (1539971924.9270804, 1539973915.033192),\n",
       " (1539973915.0331929, 1539975904.9522426)]"
      ]
     },
     "execution_count": 10,
     "metadata": {},
     "output_type": "execute_result"
    }
   ],
   "source": [
    "epoch_timers"
   ]
  },
  {
   "cell_type": "markdown",
   "metadata": {},
   "source": [
    "#### Make predict"
   ]
  },
  {
   "cell_type": "code",
   "execution_count": null,
   "metadata": {},
   "outputs": [
    {
     "name": "stderr",
     "output_type": "stream",
     "text": [
      "Forecasting from Cold Start Data:   2%|▏         | 12/625 [00:12<09:41,  1.05it/s]"
     ]
    }
   ],
   "source": [
    "my_submission = model.make_submission(submission_format, cold_start_test)"
   ]
  },
  {
   "cell_type": "code",
   "execution_count": 12,
   "metadata": {},
   "outputs": [
    {
     "data": {
      "text/html": [
       "<div>\n",
       "<style scoped>\n",
       "    .dataframe tbody tr th:only-of-type {\n",
       "        vertical-align: middle;\n",
       "    }\n",
       "\n",
       "    .dataframe tbody tr th {\n",
       "        vertical-align: top;\n",
       "    }\n",
       "\n",
       "    .dataframe thead th {\n",
       "        text-align: right;\n",
       "    }\n",
       "</style>\n",
       "<table border=\"1\" class=\"dataframe\">\n",
       "  <thead>\n",
       "    <tr style=\"text-align: right;\">\n",
       "      <th></th>\n",
       "      <th>series_id</th>\n",
       "      <th>timestamp</th>\n",
       "      <th>temperature</th>\n",
       "      <th>consumption</th>\n",
       "      <th>prediction_window</th>\n",
       "    </tr>\n",
       "    <tr>\n",
       "      <th>pred_id</th>\n",
       "      <th></th>\n",
       "      <th></th>\n",
       "      <th></th>\n",
       "      <th></th>\n",
       "      <th></th>\n",
       "    </tr>\n",
       "  </thead>\n",
       "  <tbody>\n",
       "    <tr>\n",
       "      <th>0</th>\n",
       "      <td>102781</td>\n",
       "      <td>2013-03-03</td>\n",
       "      <td>19.931250</td>\n",
       "      <td>357836.736489</td>\n",
       "      <td>daily</td>\n",
       "    </tr>\n",
       "    <tr>\n",
       "      <th>1</th>\n",
       "      <td>102781</td>\n",
       "      <td>2013-03-04</td>\n",
       "      <td>20.034375</td>\n",
       "      <td>362172.414201</td>\n",
       "      <td>daily</td>\n",
       "    </tr>\n",
       "    <tr>\n",
       "      <th>2</th>\n",
       "      <td>102781</td>\n",
       "      <td>2013-03-05</td>\n",
       "      <td>19.189583</td>\n",
       "      <td>362717.728651</td>\n",
       "      <td>daily</td>\n",
       "    </tr>\n",
       "    <tr>\n",
       "      <th>3</th>\n",
       "      <td>102781</td>\n",
       "      <td>2013-03-06</td>\n",
       "      <td>18.397917</td>\n",
       "      <td>362785.286437</td>\n",
       "      <td>daily</td>\n",
       "    </tr>\n",
       "    <tr>\n",
       "      <th>4</th>\n",
       "      <td>102781</td>\n",
       "      <td>2013-03-07</td>\n",
       "      <td>20.762500</td>\n",
       "      <td>362793.782752</td>\n",
       "      <td>daily</td>\n",
       "    </tr>\n",
       "  </tbody>\n",
       "</table>\n",
       "</div>"
      ],
      "text/plain": [
       "         series_id  timestamp  temperature    consumption prediction_window\n",
       "pred_id                                                                    \n",
       "0           102781 2013-03-03    19.931250  357836.736489             daily\n",
       "1           102781 2013-03-04    20.034375  362172.414201             daily\n",
       "2           102781 2013-03-05    19.189583  362717.728651             daily\n",
       "3           102781 2013-03-06    18.397917  362785.286437             daily\n",
       "4           102781 2013-03-07    20.762500  362793.782752             daily"
      ]
     },
     "execution_count": 12,
     "metadata": {},
     "output_type": "execute_result"
    }
   ],
   "source": [
    "my_submission.head()"
   ]
  },
  {
   "cell_type": "code",
   "execution_count": 13,
   "metadata": {},
   "outputs": [
    {
     "data": {
      "text/plain": [
       "count    5.808000e+03\n",
       "mean     1.653496e+05\n",
       "std      6.152352e+05\n",
       "min     -2.628777e+03\n",
       "25%      1.659120e+04\n",
       "50%      3.638433e+04\n",
       "75%      9.086326e+04\n",
       "max      5.127419e+06\n",
       "Name: consumption, dtype: float64"
      ]
     },
     "execution_count": 13,
     "metadata": {},
     "output_type": "execute_result"
    }
   ],
   "source": [
    "my_submission[my_submission.prediction_window == 'hourly'].consumption.describe()"
   ]
  },
  {
   "cell_type": "code",
   "execution_count": 14,
   "metadata": {},
   "outputs": [
    {
     "data": {
      "text/plain": [
       "count    1.337000e+03\n",
       "mean     3.306756e+06\n",
       "std      9.876476e+06\n",
       "min     -2.860780e+03\n",
       "25%      3.978386e+05\n",
       "50%      8.799284e+05\n",
       "75%      2.502362e+06\n",
       "max      1.165045e+08\n",
       "Name: consumption, dtype: float64"
      ]
     },
     "execution_count": 14,
     "metadata": {},
     "output_type": "execute_result"
    }
   ],
   "source": [
    "my_submission[my_submission.prediction_window == 'daily'].consumption.describe()"
   ]
  },
  {
   "cell_type": "code",
   "execution_count": 15,
   "metadata": {},
   "outputs": [
    {
     "data": {
      "text/plain": [
       "<matplotlib.axes._subplots.AxesSubplot at 0x7f5830c96ef0>"
      ]
     },
     "execution_count": 15,
     "metadata": {},
     "output_type": "execute_result"
    },
    {
     "data": {
      "image/png": "[encoded data removed]",
      "text/plain": [
       "<Figure size 432x288 with 1 Axes>"
      ]
     },
     "metadata": {
      "needs_background": "light"
     },
     "output_type": "display_data"
    }
   ],
   "source": [
    "# plot samples\n",
    "sample_ser = (my_submission[my_submission.prediction_window == 'hourly']\n",
    "                           .series_id\n",
    "                           .sample().values[0])\n",
    "\n",
    "(my_submission[my_submission.series_id == sample_ser]\n",
    "              .plot(x='timestamp',\n",
    "                    y='consumption',\n",
    "                    title=sample_ser,\n",
    "                    rot=90))"
   ]
  },
  {
   "cell_type": "code",
   "execution_count": 16,
   "metadata": {},
   "outputs": [
    {
     "data": {
      "text/html": [
       "<div>\n",
       "<style scoped>\n",
       "    .dataframe tbody tr th:only-of-type {\n",
       "        vertical-align: middle;\n",
       "    }\n",
       "\n",
       "    .dataframe tbody tr th {\n",
       "        vertical-align: top;\n",
       "    }\n",
       "\n",
       "    .dataframe thead th {\n",
       "        text-align: right;\n",
       "    }\n",
       "</style>\n",
       "<table border=\"1\" class=\"dataframe\">\n",
       "  <thead>\n",
       "    <tr style=\"text-align: right;\">\n",
       "      <th></th>\n",
       "      <th>series_id</th>\n",
       "      <th>timestamp</th>\n",
       "      <th>temperature</th>\n",
       "      <th>consumption</th>\n",
       "      <th>prediction_window</th>\n",
       "    </tr>\n",
       "    <tr>\n",
       "      <th>pred_id</th>\n",
       "      <th></th>\n",
       "      <th></th>\n",
       "      <th></th>\n",
       "      <th></th>\n",
       "      <th></th>\n",
       "    </tr>\n",
       "  </thead>\n",
       "  <tbody>\n",
       "    <tr>\n",
       "      <th>0</th>\n",
       "      <td>102781</td>\n",
       "      <td>2013-03-03</td>\n",
       "      <td>19.931250</td>\n",
       "      <td>3.578367e+05</td>\n",
       "      <td>daily</td>\n",
       "    </tr>\n",
       "    <tr>\n",
       "      <th>1</th>\n",
       "      <td>102781</td>\n",
       "      <td>2013-03-04</td>\n",
       "      <td>20.034375</td>\n",
       "      <td>3.621724e+05</td>\n",
       "      <td>daily</td>\n",
       "    </tr>\n",
       "    <tr>\n",
       "      <th>2</th>\n",
       "      <td>102781</td>\n",
       "      <td>2013-03-05</td>\n",
       "      <td>19.189583</td>\n",
       "      <td>3.627177e+05</td>\n",
       "      <td>daily</td>\n",
       "    </tr>\n",
       "    <tr>\n",
       "      <th>3</th>\n",
       "      <td>102781</td>\n",
       "      <td>2013-03-06</td>\n",
       "      <td>18.397917</td>\n",
       "      <td>3.627853e+05</td>\n",
       "      <td>daily</td>\n",
       "    </tr>\n",
       "    <tr>\n",
       "      <th>4</th>\n",
       "      <td>102781</td>\n",
       "      <td>2013-03-07</td>\n",
       "      <td>20.762500</td>\n",
       "      <td>3.627938e+05</td>\n",
       "      <td>daily</td>\n",
       "    </tr>\n",
       "    <tr>\n",
       "      <th>5</th>\n",
       "      <td>102781</td>\n",
       "      <td>2013-03-08</td>\n",
       "      <td>19.800000</td>\n",
       "      <td>3.627948e+05</td>\n",
       "      <td>daily</td>\n",
       "    </tr>\n",
       "    <tr>\n",
       "      <th>6</th>\n",
       "      <td>102781</td>\n",
       "      <td>2013-03-09</td>\n",
       "      <td>20.466667</td>\n",
       "      <td>3.627950e+05</td>\n",
       "      <td>daily</td>\n",
       "    </tr>\n",
       "    <tr>\n",
       "      <th>7</th>\n",
       "      <td>103342</td>\n",
       "      <td>2013-06-26</td>\n",
       "      <td>10.486607</td>\n",
       "      <td>1.089590e+07</td>\n",
       "      <td>weekly</td>\n",
       "    </tr>\n",
       "    <tr>\n",
       "      <th>8</th>\n",
       "      <td>103342</td>\n",
       "      <td>2013-07-03</td>\n",
       "      <td>10.006548</td>\n",
       "      <td>1.070145e+07</td>\n",
       "      <td>weekly</td>\n",
       "    </tr>\n",
       "    <tr>\n",
       "      <th>9</th>\n",
       "      <td>102969</td>\n",
       "      <td>2013-12-15</td>\n",
       "      <td>20.214583</td>\n",
       "      <td>4.078004e+05</td>\n",
       "      <td>daily</td>\n",
       "    </tr>\n",
       "    <tr>\n",
       "      <th>10</th>\n",
       "      <td>102969</td>\n",
       "      <td>2013-12-16</td>\n",
       "      <td>20.056250</td>\n",
       "      <td>4.175029e+05</td>\n",
       "      <td>daily</td>\n",
       "    </tr>\n",
       "    <tr>\n",
       "      <th>11</th>\n",
       "      <td>102969</td>\n",
       "      <td>2013-12-17</td>\n",
       "      <td>19.956250</td>\n",
       "      <td>4.245488e+05</td>\n",
       "      <td>daily</td>\n",
       "    </tr>\n",
       "    <tr>\n",
       "      <th>12</th>\n",
       "      <td>102969</td>\n",
       "      <td>2013-12-18</td>\n",
       "      <td>18.352083</td>\n",
       "      <td>4.297254e+05</td>\n",
       "      <td>daily</td>\n",
       "    </tr>\n",
       "    <tr>\n",
       "      <th>13</th>\n",
       "      <td>102969</td>\n",
       "      <td>2013-12-19</td>\n",
       "      <td>18.252083</td>\n",
       "      <td>4.335422e+05</td>\n",
       "      <td>daily</td>\n",
       "    </tr>\n",
       "    <tr>\n",
       "      <th>14</th>\n",
       "      <td>102969</td>\n",
       "      <td>2013-12-20</td>\n",
       "      <td>17.779167</td>\n",
       "      <td>4.364151e+05</td>\n",
       "      <td>daily</td>\n",
       "    </tr>\n",
       "    <tr>\n",
       "      <th>15</th>\n",
       "      <td>102969</td>\n",
       "      <td>2013-12-21</td>\n",
       "      <td>17.918750</td>\n",
       "      <td>4.386005e+05</td>\n",
       "      <td>daily</td>\n",
       "    </tr>\n",
       "    <tr>\n",
       "      <th>16</th>\n",
       "      <td>102718</td>\n",
       "      <td>2015-01-06</td>\n",
       "      <td>19.733333</td>\n",
       "      <td>8.680141e+05</td>\n",
       "      <td>daily</td>\n",
       "    </tr>\n",
       "    <tr>\n",
       "      <th>17</th>\n",
       "      <td>102718</td>\n",
       "      <td>2015-01-07</td>\n",
       "      <td>20.152083</td>\n",
       "      <td>8.615622e+05</td>\n",
       "      <td>daily</td>\n",
       "    </tr>\n",
       "    <tr>\n",
       "      <th>18</th>\n",
       "      <td>102718</td>\n",
       "      <td>2015-01-08</td>\n",
       "      <td>19.583333</td>\n",
       "      <td>8.615560e+05</td>\n",
       "      <td>daily</td>\n",
       "    </tr>\n",
       "    <tr>\n",
       "      <th>19</th>\n",
       "      <td>102718</td>\n",
       "      <td>2015-01-09</td>\n",
       "      <td>20.279167</td>\n",
       "      <td>8.683719e+05</td>\n",
       "      <td>daily</td>\n",
       "    </tr>\n",
       "  </tbody>\n",
       "</table>\n",
       "</div>"
      ],
      "text/plain": [
       "         series_id  timestamp  temperature   consumption prediction_window\n",
       "pred_id                                                                   \n",
       "0           102781 2013-03-03    19.931250  3.578367e+05             daily\n",
       "1           102781 2013-03-04    20.034375  3.621724e+05             daily\n",
       "2           102781 2013-03-05    19.189583  3.627177e+05             daily\n",
       "3           102781 2013-03-06    18.397917  3.627853e+05             daily\n",
       "4           102781 2013-03-07    20.762500  3.627938e+05             daily\n",
       "5           102781 2013-03-08    19.800000  3.627948e+05             daily\n",
       "6           102781 2013-03-09    20.466667  3.627950e+05             daily\n",
       "7           103342 2013-06-26    10.486607  1.089590e+07            weekly\n",
       "8           103342 2013-07-03    10.006548  1.070145e+07            weekly\n",
       "9           102969 2013-12-15    20.214583  4.078004e+05             daily\n",
       "10          102969 2013-12-16    20.056250  4.175029e+05             daily\n",
       "11          102969 2013-12-17    19.956250  4.245488e+05             daily\n",
       "12          102969 2013-12-18    18.352083  4.297254e+05             daily\n",
       "13          102969 2013-12-19    18.252083  4.335422e+05             daily\n",
       "14          102969 2013-12-20    17.779167  4.364151e+05             daily\n",
       "15          102969 2013-12-21    17.918750  4.386005e+05             daily\n",
       "16          102718 2015-01-06    19.733333  8.680141e+05             daily\n",
       "17          102718 2015-01-07    20.152083  8.615622e+05             daily\n",
       "18          102718 2015-01-08    19.583333  8.615560e+05             daily\n",
       "19          102718 2015-01-09    20.279167  8.683719e+05             daily"
      ]
     },
     "execution_count": 16,
     "metadata": {},
     "output_type": "execute_result"
    }
   ],
   "source": [
    "my_submission.head(20)"
   ]
  },
  {
   "cell_type": "code",
   "execution_count": 17,
   "metadata": {},
   "outputs": [],
   "source": [
    "save_path = Path('..', '..', 'data', 'submissions')\n",
    "save_path.mkdir(exist_ok=True, parents=True)\n",
    "my_submission.to_csv(save_path / \"release-003-20181020.csv\", index_label='pred_id')"
   ]
  },
  {
   "cell_type": "markdown",
   "metadata": {},
   "source": [
    "Submitted on 2018-10-20: 0.5028"
   ]
  },
  {
   "cell_type": "code",
   "execution_count": 18,
   "metadata": {},
   "outputs": [],
   "source": [
    "model_path = Path('..', '..', 'data', 'model')\n",
    "model_path.mkdir(exist_ok=True, parents=True)\n",
    "keras.models.save_model(\n",
    "    model.model,\n",
    "    model_path / 'release-03-20181020.hdf5'\n",
    ")"
   ]
  },
  {
   "cell_type": "markdown",
   "metadata": {},
   "source": [
    "### Comeback with the baseline model but go with 10 epoches "
   ]
  },
  {
   "cell_type": "code",
   "execution_count": 5,
   "metadata": {},
   "outputs": [],
   "source": [
    "config = {\n",
    "    'n_input': n_input,\n",
    "    'n_nodes': n_nodes,\n",
    "    'n_batch': n_batch,\n",
    "    'model': [\n",
    "        {\n",
    "            'layer_type': 'LSTM',\n",
    "            'layer_config': {\n",
    "                'units': n_input,\n",
    "                'batch_input_shape': batch_input_shape,\n",
    "                'stateful': True\n",
    "            }\n",
    "        },\n",
    "        {\n",
    "            'layer_type': 'Dense',\n",
    "            'layer_config': {\n",
    "                'units': 1\n",
    "            }\n",
    "        }\n",
    "    ]\n",
    "}"
   ]
  },
  {
   "cell_type": "code",
   "execution_count": 6,
   "metadata": {},
   "outputs": [],
   "source": [
    "model = GeneralModel(config)"
   ]
  },
  {
   "cell_type": "code",
   "execution_count": null,
   "metadata": {},
   "outputs": [
    {
     "name": "stderr",
     "output_type": "stream",
     "text": [
      "Fitting the data:   9%|▉         | 70/758 [01:58<19:07,  1.67s/it]"
     ]
    }
   ],
   "source": [
    "num_training_series = consumption_train.series_id.nunique()\n",
    "num_passes_through_data = 10\n",
    "\n",
    "total_start_time = time.time()\n",
    "\n",
    "epoch_timers = []\n",
    "\n",
    "for i in range(num_passes_through_data):\n",
    "    epoch_start_time = time.time()\n",
    "    model.fit(consumption_train)\n",
    "    epoch_timers.append((epoch_start_time, time.time()))\n",
    "    \n",
    "total_end_time = time.time()"
   ]
  },
  {
   "cell_type": "code",
   "execution_count": 8,
   "metadata": {},
   "outputs": [
    {
     "data": {
      "text/plain": [
       "12687.072788715363"
      ]
     },
     "execution_count": 8,
     "metadata": {},
     "output_type": "execute_result"
    }
   ],
   "source": [
    "total_end_time - total_start_time"
   ]
  },
  {
   "cell_type": "code",
   "execution_count": null,
   "metadata": {},
   "outputs": [
    {
     "name": "stderr",
     "output_type": "stream",
     "text": [
      "Forecasting from Cold Start Data:  65%|██████▌   | 408/625 [04:05<01:48,  2.00it/s]"
     ]
    }
   ],
   "source": [
    "my_submission = model.make_submission(submission_format, cold_start_test)"
   ]
  },
  {
   "cell_type": "code",
   "execution_count": 11,
   "metadata": {},
   "outputs": [
    {
     "data": {
      "text/plain": [
       "<matplotlib.axes._subplots.AxesSubplot at 0x7fc0f6f9ca90>"
      ]
     },
     "execution_count": 11,
     "metadata": {},
     "output_type": "execute_result"
    },
    {
     "data": {
      "image/png": "[encoded data removed]",
      "text/plain": [
       "<Figure size 432x288 with 1 Axes>"
      ]
     },
     "metadata": {
      "needs_background": "light"
     },
     "output_type": "display_data"
    }
   ],
   "source": [
    "# plot samples\n",
    "sample_ser = (my_submission[my_submission.prediction_window == 'hourly']\n",
    "                           .series_id\n",
    "                           .sample().values[0])\n",
    "\n",
    "(my_submission[my_submission.series_id == sample_ser]\n",
    "              .plot(x='timestamp',\n",
    "                    y='consumption',\n",
    "                    title=sample_ser,\n",
    "                    rot=90))"
   ]
  },
  {
   "cell_type": "code",
   "execution_count": 12,
   "metadata": {},
   "outputs": [
    {
     "data": {
      "text/html": [
       "<div>\n",
       "<style scoped>\n",
       "    .dataframe tbody tr th:only-of-type {\n",
       "        vertical-align: middle;\n",
       "    }\n",
       "\n",
       "    .dataframe tbody tr th {\n",
       "        vertical-align: top;\n",
       "    }\n",
       "\n",
       "    .dataframe thead th {\n",
       "        text-align: right;\n",
       "    }\n",
       "</style>\n",
       "<table border=\"1\" class=\"dataframe\">\n",
       "  <thead>\n",
       "    <tr style=\"text-align: right;\">\n",
       "      <th></th>\n",
       "      <th>series_id</th>\n",
       "      <th>timestamp</th>\n",
       "      <th>temperature</th>\n",
       "      <th>consumption</th>\n",
       "      <th>prediction_window</th>\n",
       "    </tr>\n",
       "    <tr>\n",
       "      <th>pred_id</th>\n",
       "      <th></th>\n",
       "      <th></th>\n",
       "      <th></th>\n",
       "      <th></th>\n",
       "      <th></th>\n",
       "    </tr>\n",
       "  </thead>\n",
       "  <tbody>\n",
       "    <tr>\n",
       "      <th>0</th>\n",
       "      <td>102781</td>\n",
       "      <td>2013-03-03</td>\n",
       "      <td>19.931250</td>\n",
       "      <td>359814.203524</td>\n",
       "      <td>daily</td>\n",
       "    </tr>\n",
       "    <tr>\n",
       "      <th>1</th>\n",
       "      <td>102781</td>\n",
       "      <td>2013-03-04</td>\n",
       "      <td>20.034375</td>\n",
       "      <td>348923.028036</td>\n",
       "      <td>daily</td>\n",
       "    </tr>\n",
       "    <tr>\n",
       "      <th>2</th>\n",
       "      <td>102781</td>\n",
       "      <td>2013-03-05</td>\n",
       "      <td>19.189583</td>\n",
       "      <td>348816.240226</td>\n",
       "      <td>daily</td>\n",
       "    </tr>\n",
       "    <tr>\n",
       "      <th>3</th>\n",
       "      <td>102781</td>\n",
       "      <td>2013-03-06</td>\n",
       "      <td>18.397917</td>\n",
       "      <td>348882.388671</td>\n",
       "      <td>daily</td>\n",
       "    </tr>\n",
       "    <tr>\n",
       "      <th>4</th>\n",
       "      <td>102781</td>\n",
       "      <td>2013-03-07</td>\n",
       "      <td>20.762500</td>\n",
       "      <td>348881.267909</td>\n",
       "      <td>daily</td>\n",
       "    </tr>\n",
       "  </tbody>\n",
       "</table>\n",
       "</div>"
      ],
      "text/plain": [
       "         series_id  timestamp  temperature    consumption prediction_window\n",
       "pred_id                                                                    \n",
       "0           102781 2013-03-03    19.931250  359814.203524             daily\n",
       "1           102781 2013-03-04    20.034375  348923.028036             daily\n",
       "2           102781 2013-03-05    19.189583  348816.240226             daily\n",
       "3           102781 2013-03-06    18.397917  348882.388671             daily\n",
       "4           102781 2013-03-07    20.762500  348881.267909             daily"
      ]
     },
     "execution_count": 12,
     "metadata": {},
     "output_type": "execute_result"
    }
   ],
   "source": [
    "my_submission.head()"
   ]
  },
  {
   "cell_type": "code",
   "execution_count": 13,
   "metadata": {},
   "outputs": [
    {
     "data": {
      "text/plain": [
       "count    5.808000e+03\n",
       "mean     1.665301e+05\n",
       "std      6.170761e+05\n",
       "min     -3.516077e+04\n",
       "25%      1.618819e+04\n",
       "50%      3.654144e+04\n",
       "75%      9.293168e+04\n",
       "max      5.170093e+06\n",
       "Name: consumption, dtype: float64"
      ]
     },
     "execution_count": 13,
     "metadata": {},
     "output_type": "execute_result"
    }
   ],
   "source": [
    "my_submission[my_submission.prediction_window == 'hourly'].consumption.describe()"
   ]
  },
  {
   "cell_type": "code",
   "execution_count": 14,
   "metadata": {},
   "outputs": [],
   "source": [
    "save_path = Path('..', '..', 'data', 'submissions')\n",
    "save_path.mkdir(exist_ok=True, parents=True)\n",
    "my_submission.to_csv(save_path / \"release-003-02-20181020.csv\", index_label='pred_id')\n",
    "\n",
    "model_path = Path('..', '..', 'data', 'model')\n",
    "model_path.mkdir(exist_ok=True, parents=True)\n",
    "keras.models.save_model(\n",
    "    model.model,\n",
    "    model_path / 'release-003-02-20181020.hdf5'\n",
    ")"
   ]
  },
  {
   "cell_type": "markdown",
   "metadata": {},
   "source": [
    "Score: 0.4919"
   ]
  },
  {
   "cell_type": "markdown",
   "metadata": {},
   "source": [
    "### Baseline model but go with 25 epoches "
   ]
  },
  {
   "cell_type": "code",
   "execution_count": 5,
   "metadata": {},
   "outputs": [],
   "source": [
    "config = {\n",
    "    'n_input': n_input,\n",
    "    'n_nodes': n_nodes,\n",
    "    'n_batch': n_batch,\n",
    "    'model': [\n",
    "        {\n",
    "            'layer_type': 'LSTM',\n",
    "            'layer_config': {\n",
    "                'units': n_input,\n",
    "                'batch_input_shape': batch_input_shape,\n",
    "                'stateful': True\n",
    "            }\n",
    "        },\n",
    "        {\n",
    "            'layer_type': 'Dense',\n",
    "            'layer_config': {\n",
    "                'units': 1\n",
    "            }\n",
    "        }\n",
    "    ]\n",
    "}"
   ]
  },
  {
   "cell_type": "code",
   "execution_count": 6,
   "metadata": {},
   "outputs": [],
   "source": [
    "model = GeneralModel(config)"
   ]
  },
  {
   "cell_type": "code",
   "execution_count": null,
   "metadata": {},
   "outputs": [
    {
     "name": "stderr",
     "output_type": "stream",
     "text": [
      "Fitting the data:  18%|█▊        | 140/758 [03:59<17:30,  1.70s/it]"
     ]
    }
   ],
   "source": [
    "num_training_series = consumption_train.series_id.nunique()\n",
    "num_passes_through_data = 25\n",
    "\n",
    "total_start_time = time.time()\n",
    "\n",
    "epoch_timers = []\n",
    "\n",
    "for i in range(num_passes_through_data):\n",
    "    epoch_start_time = time.time()\n",
    "    model.fit(consumption_train)\n",
    "    epoch_timers.append((epoch_start_time, time.time()))\n",
    "    \n",
    "total_end_time = time.time()"
   ]
  },
  {
   "cell_type": "code",
   "execution_count": 11,
   "metadata": {},
   "outputs": [
    {
     "data": {
      "text/plain": [
       "32393.360016822815"
      ]
     },
     "execution_count": 11,
     "metadata": {},
     "output_type": "execute_result"
    }
   ],
   "source": [
    "total_end_time - total_start_time"
   ]
  },
  {
   "cell_type": "code",
   "execution_count": 13,
   "metadata": {},
   "outputs": [
    {
     "name": "stderr",
     "output_type": "stream",
     "text": [
      "Forecasting from Cold Start Data: 100%|██████████| 625/625 [06:31<00:00,  1.53it/s]\n"
     ]
    }
   ],
   "source": [
    "my_submission = model.make_submission(submission_format, cold_start_test)"
   ]
  },
  {
   "cell_type": "code",
   "execution_count": 14,
   "metadata": {},
   "outputs": [
    {
     "data": {
      "text/plain": [
       "<matplotlib.axes._subplots.AxesSubplot at 0x7f59ac245ac8>"
      ]
     },
     "execution_count": 14,
     "metadata": {},
     "output_type": "execute_result"
    },
    {
     "data": {
      "image/png": "[encoded data removed]",
      "text/plain": [
       "<Figure size 432x288 with 1 Axes>"
      ]
     },
     "metadata": {
      "needs_background": "light"
     },
     "output_type": "display_data"
    }
   ],
   "source": [
    "# plot samples\n",
    "sample_ser = (my_submission[my_submission.prediction_window == 'hourly']\n",
    "                           .series_id\n",
    "                           .sample().values[0])\n",
    "\n",
    "(my_submission[my_submission.series_id == sample_ser]\n",
    "              .plot(x='timestamp',\n",
    "                    y='consumption',\n",
    "                    title=sample_ser,\n",
    "                    rot=90))"
   ]
  },
  {
   "cell_type": "code",
   "execution_count": 15,
   "metadata": {},
   "outputs": [],
   "source": [
    "save_path = Path('..', '..', 'data', 'submissions')\n",
    "save_path.mkdir(exist_ok=True, parents=True)\n",
    "my_submission.to_csv(save_path / \"release-003-03-20181021.csv\", index_label='pred_id')\n",
    "\n",
    "model_path = Path('..', '..', 'data', 'model')\n",
    "model_path.mkdir(exist_ok=True, parents=True)\n",
    "keras.models.save_model(\n",
    "    model.model,\n",
    "    model_path / 'release-003-03-20181021.hdf5'\n",
    ")"
   ]
  },
  {
   "cell_type": "markdown",
   "metadata": {},
   "source": [
    "LB: 0.4901"
   ]
  },
  {
   "cell_type": "code",
   "execution_count": null,
   "metadata": {},
   "outputs": [],
   "source": []
  }
 ],
 "metadata": {
  "kernelspec": {
   "display_name": "Python 3",
   "language": "python",
   "name": "python3"
  },
  "language_info": {
   "codemirror_mode": {
    "name": "ipython",
    "version": 3
   },
   "file_extension": ".py",
   "mimetype": "text/x-python",
   "name": "python",
   "nbconvert_exporter": "python",
   "pygments_lexer": "ipython3",
   "version": "3.6.2"
  }
 },
 "nbformat": 4,
 "nbformat_minor": 2
}
