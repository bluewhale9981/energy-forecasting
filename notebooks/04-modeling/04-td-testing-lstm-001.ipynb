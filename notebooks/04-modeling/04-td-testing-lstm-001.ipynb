{
 "cells": [
  {
   "cell_type": "code",
   "execution_count": 1,
   "metadata": {},
   "outputs": [],
   "source": [
    "%matplotlib inline\n",
    "\n",
    "# math and data manipulation\n",
    "import numpy as np\n",
    "import pandas as pd\n",
    "\n",
    "# to handle paths\n",
    "from pathlib import Path\n",
    "\n",
    "# set random seeds \n",
    "from numpy.random import seed\n",
    "from tensorflow import set_random_seed\n",
    "\n",
    "from sklearn.preprocessing import MinMaxScaler\n",
    "\n",
    "from csef.model import lstm\n",
    "from csef.data import preprocessing, load_data\n",
    "from csef.utils import performance\n",
    "\n",
    "RANDOM_SEED = 2018\n",
    "seed(RANDOM_SEED)\n",
    "set_random_seed(RANDOM_SEED)"
   ]
  },
  {
   "cell_type": "markdown",
   "metadata": {},
   "source": [
    "## Data Loading"
   ]
  },
  {
   "cell_type": "code",
   "execution_count": 2,
   "metadata": {},
   "outputs": [],
   "source": [
    "data_mapping = load_data.load_data()\n",
    "consumption_train = data_mapping['consumption_train']\n",
    "cold_start_test = data_mapping['cold_start_test']\n",
    "submission_format = data_mapping['submission_format']\n",
    "meta = data_mapping['meta']"
   ]
  },
  {
   "cell_type": "code",
   "execution_count": 3,
   "metadata": {},
   "outputs": [],
   "source": [
    "samp_df = load_data.sampling_data(consumption_train)"
   ]
  },
  {
   "cell_type": "code",
   "execution_count": 4,
   "metadata": {},
   "outputs": [
    {
     "name": "stdout",
     "output_type": "stream",
     "text": [
      "There are 10 training series totaling 280 days (6720 hours) of consumption data.\n"
     ]
    }
   ],
   "source": [
    "load_data.describe_training_data(samp_df)"
   ]
  },
  {
   "cell_type": "markdown",
   "metadata": {},
   "source": [
    "## Training"
   ]
  },
  {
   "cell_type": "code",
   "execution_count": 5,
   "metadata": {},
   "outputs": [
    {
     "name": "stderr",
     "output_type": "stream",
     "text": [
      "/home/thuongdinh/.virtualenvs/mlcsef/lib/python3.6/site-packages/ipykernel_launcher.py:3: SettingWithCopyWarning: \n",
      "A value is trying to be set on a copy of a slice from a DataFrame.\n",
      "Try using .loc[row_indexer,col_indexer] = value instead\n",
      "\n",
      "See the caveats in the documentation: http://pandas.pydata.org/pandas-docs/stable/indexing.html#indexing-view-versus-copy\n",
      "  This is separate from the ipykernel package so we can avoid doing imports until\n"
     ]
    }
   ],
   "source": [
    "# scale training data\n",
    "scaler = MinMaxScaler(feature_range=(-1, 1))\n",
    "samp_df['consumption'] = scaler.fit_transform(samp_df['consumption'].values.reshape(-1, 1))"
   ]
  },
  {
   "cell_type": "code",
   "execution_count": 6,
   "metadata": {},
   "outputs": [
    {
     "name": "stderr",
     "output_type": "stream",
     "text": [
      "/home/thuongdinh/ws/asnet-training/ml-training/ml-energy-forecasting/csef/data/load_data.py:49: SettingWithCopyWarning: \n",
      "A value is trying to be set on a copy of a slice from a DataFrame.\n",
      "Try using .loc[row_indexer,col_indexer] = value instead\n",
      "\n",
      "See the caveats in the documentation: http://pandas.pydata.org/pandas-docs/stable/indexing.html#indexing-view-versus-copy\n",
      "  split_train[group_col] = ser_id\n",
      "/home/thuongdinh/ws/asnet-training/ml-training/ml-energy-forecasting/csef/data/load_data.py:50: SettingWithCopyWarning: \n",
      "A value is trying to be set on a copy of a slice from a DataFrame.\n",
      "Try using .loc[row_indexer,col_indexer] = value instead\n",
      "\n",
      "See the caveats in the documentation: http://pandas.pydata.org/pandas-docs/stable/indexing.html#indexing-view-versus-copy\n",
      "  split_test[group_col] = ser_id\n"
     ]
    }
   ],
   "source": [
    "train_df, test_df = load_data.train_test_split(samp_df)"
   ]
  },
  {
   "cell_type": "code",
   "execution_count": 7,
   "metadata": {},
   "outputs": [
    {
     "name": "stdout",
     "output_type": "stream",
     "text": [
      "There are 10 training series totaling 280 days (6720 hours) of consumption data.\n"
     ]
    }
   ],
   "source": [
    "load_data.describe_training_data(train_df)"
   ]
  },
  {
   "cell_type": "code",
   "execution_count": 8,
   "metadata": {},
   "outputs": [],
   "source": [
    "config = {\n",
    "    'n_input': 24,\n",
    "    'n_nodes': 24,\n",
    "    'n_batch': 1\n",
    "}"
   ]
  },
  {
   "cell_type": "markdown",
   "metadata": {},
   "source": [
    "### SummaryNodeLSTM"
   ]
  },
  {
   "cell_type": "code",
   "execution_count": 9,
   "metadata": {},
   "outputs": [
    {
     "name": "stdout",
     "output_type": "stream",
     "text": [
      " > 0.293\n",
      " > 0.291\n",
      " > 0.289\n",
      " > 0.285\n",
      " > 0.298\n",
      " > 0.296\n",
      " > 0.287\n",
      " > 0.288\n",
      " > 0.291\n",
      " > 0.303\n"
     ]
    }
   ],
   "source": [
    "scores = performance.repeat_evaluate(lstm.SummaryNodeLSTM, train_df, test_df, config, scaler, n_repeats=10)"
   ]
  },
  {
   "cell_type": "code",
   "execution_count": 10,
   "metadata": {},
   "outputs": [
    {
     "name": "stdout",
     "output_type": "stream",
     "text": [
      "lstm: 0.292 RMSE (+/- 0.005)\n"
     ]
    },
    {
     "data": {
      "image/png": "[encoded data removed]",
      "text/plain": [
       "<Figure size 432x288 with 1 Axes>"
      ]
     },
     "metadata": {
      "needs_background": "light"
     },
     "output_type": "display_data"
    }
   ],
   "source": [
    "performance.summarize_scores('lstm', scores)"
   ]
  },
  {
   "cell_type": "code",
   "execution_count": 11,
   "metadata": {},
   "outputs": [
    {
     "data": {
      "text/plain": [
       "array([100283, 100419, 100973, 101321, 101569, 101751, 101980, 102008,\n",
       "       102093, 103320])"
      ]
     },
     "execution_count": 11,
     "metadata": {},
     "output_type": "execute_result"
    }
   ],
   "source": [
    "test_df['series_id'].unique()"
   ]
  },
  {
   "cell_type": "code",
   "execution_count": 12,
   "metadata": {},
   "outputs": [
    {
     "data": {
      "text/html": [
       "<div>\n",
       "<style scoped>\n",
       "    .dataframe tbody tr th:only-of-type {\n",
       "        vertical-align: middle;\n",
       "    }\n",
       "\n",
       "    .dataframe tbody tr th {\n",
       "        vertical-align: top;\n",
       "    }\n",
       "\n",
       "    .dataframe thead th {\n",
       "        text-align: right;\n",
       "    }\n",
       "</style>\n",
       "<table border=\"1\" class=\"dataframe\">\n",
       "  <thead>\n",
       "    <tr style=\"text-align: right;\">\n",
       "      <th></th>\n",
       "      <th>series_id</th>\n",
       "      <th>timestamp</th>\n",
       "      <th>consumption</th>\n",
       "      <th>temperature</th>\n",
       "    </tr>\n",
       "  </thead>\n",
       "  <tbody>\n",
       "    <tr>\n",
       "      <th>116904</th>\n",
       "      <td>100973</td>\n",
       "      <td>2015-10-23 00:00:00</td>\n",
       "      <td>-0.955621</td>\n",
       "      <td>NaN</td>\n",
       "    </tr>\n",
       "    <tr>\n",
       "      <th>116905</th>\n",
       "      <td>100973</td>\n",
       "      <td>2015-10-23 01:00:00</td>\n",
       "      <td>-0.955647</td>\n",
       "      <td>NaN</td>\n",
       "    </tr>\n",
       "    <tr>\n",
       "      <th>116906</th>\n",
       "      <td>100973</td>\n",
       "      <td>2015-10-23 02:00:00</td>\n",
       "      <td>-0.955374</td>\n",
       "      <td>NaN</td>\n",
       "    </tr>\n",
       "    <tr>\n",
       "      <th>116907</th>\n",
       "      <td>100973</td>\n",
       "      <td>2015-10-23 03:00:00</td>\n",
       "      <td>-0.950269</td>\n",
       "      <td>NaN</td>\n",
       "    </tr>\n",
       "    <tr>\n",
       "      <th>116908</th>\n",
       "      <td>100973</td>\n",
       "      <td>2015-10-23 04:00:00</td>\n",
       "      <td>-0.944840</td>\n",
       "      <td>NaN</td>\n",
       "    </tr>\n",
       "    <tr>\n",
       "      <th>116909</th>\n",
       "      <td>100973</td>\n",
       "      <td>2015-10-23 05:00:00</td>\n",
       "      <td>-0.944371</td>\n",
       "      <td>NaN</td>\n",
       "    </tr>\n",
       "    <tr>\n",
       "      <th>116910</th>\n",
       "      <td>100973</td>\n",
       "      <td>2015-10-23 06:00:00</td>\n",
       "      <td>-0.925139</td>\n",
       "      <td>NaN</td>\n",
       "    </tr>\n",
       "    <tr>\n",
       "      <th>116911</th>\n",
       "      <td>100973</td>\n",
       "      <td>2015-10-23 07:00:00</td>\n",
       "      <td>-0.903602</td>\n",
       "      <td>6.083333</td>\n",
       "    </tr>\n",
       "    <tr>\n",
       "      <th>116912</th>\n",
       "      <td>100973</td>\n",
       "      <td>2015-10-23 08:00:00</td>\n",
       "      <td>-0.915699</td>\n",
       "      <td>6.800000</td>\n",
       "    </tr>\n",
       "    <tr>\n",
       "      <th>116913</th>\n",
       "      <td>100973</td>\n",
       "      <td>2015-10-23 09:00:00</td>\n",
       "      <td>-0.913498</td>\n",
       "      <td>8.250000</td>\n",
       "    </tr>\n",
       "    <tr>\n",
       "      <th>116914</th>\n",
       "      <td>100973</td>\n",
       "      <td>2015-10-23 10:00:00</td>\n",
       "      <td>-0.915022</td>\n",
       "      <td>11.250000</td>\n",
       "    </tr>\n",
       "    <tr>\n",
       "      <th>116915</th>\n",
       "      <td>100973</td>\n",
       "      <td>2015-10-23 11:00:00</td>\n",
       "      <td>-0.910673</td>\n",
       "      <td>14.000000</td>\n",
       "    </tr>\n",
       "    <tr>\n",
       "      <th>116916</th>\n",
       "      <td>100973</td>\n",
       "      <td>2015-10-23 12:00:00</td>\n",
       "      <td>-0.914019</td>\n",
       "      <td>15.083333</td>\n",
       "    </tr>\n",
       "    <tr>\n",
       "      <th>116917</th>\n",
       "      <td>100973</td>\n",
       "      <td>2015-10-23 13:00:00</td>\n",
       "      <td>-0.915243</td>\n",
       "      <td>16.083333</td>\n",
       "    </tr>\n",
       "    <tr>\n",
       "      <th>116918</th>\n",
       "      <td>100973</td>\n",
       "      <td>2015-10-23 14:00:00</td>\n",
       "      <td>-0.918863</td>\n",
       "      <td>17.200000</td>\n",
       "    </tr>\n",
       "    <tr>\n",
       "      <th>116919</th>\n",
       "      <td>100973</td>\n",
       "      <td>2015-10-23 15:00:00</td>\n",
       "      <td>-0.910008</td>\n",
       "      <td>18.166667</td>\n",
       "    </tr>\n",
       "    <tr>\n",
       "      <th>116920</th>\n",
       "      <td>100973</td>\n",
       "      <td>2015-10-23 16:00:00</td>\n",
       "      <td>-0.907417</td>\n",
       "      <td>19.916667</td>\n",
       "    </tr>\n",
       "    <tr>\n",
       "      <th>116921</th>\n",
       "      <td>100973</td>\n",
       "      <td>2015-10-23 17:00:00</td>\n",
       "      <td>-0.910282</td>\n",
       "      <td>19.000000</td>\n",
       "    </tr>\n",
       "    <tr>\n",
       "      <th>116922</th>\n",
       "      <td>100973</td>\n",
       "      <td>2015-10-23 18:00:00</td>\n",
       "      <td>-0.934371</td>\n",
       "      <td>15.666667</td>\n",
       "    </tr>\n",
       "    <tr>\n",
       "      <th>116923</th>\n",
       "      <td>100973</td>\n",
       "      <td>2015-10-23 19:00:00</td>\n",
       "      <td>-0.933576</td>\n",
       "      <td>NaN</td>\n",
       "    </tr>\n",
       "    <tr>\n",
       "      <th>116924</th>\n",
       "      <td>100973</td>\n",
       "      <td>2015-10-23 20:00:00</td>\n",
       "      <td>-0.942418</td>\n",
       "      <td>NaN</td>\n",
       "    </tr>\n",
       "    <tr>\n",
       "      <th>116925</th>\n",
       "      <td>100973</td>\n",
       "      <td>2015-10-23 21:00:00</td>\n",
       "      <td>-0.949827</td>\n",
       "      <td>NaN</td>\n",
       "    </tr>\n",
       "    <tr>\n",
       "      <th>116926</th>\n",
       "      <td>100973</td>\n",
       "      <td>2015-10-23 22:00:00</td>\n",
       "      <td>-0.943147</td>\n",
       "      <td>NaN</td>\n",
       "    </tr>\n",
       "    <tr>\n",
       "      <th>116927</th>\n",
       "      <td>100973</td>\n",
       "      <td>2015-10-23 23:00:00</td>\n",
       "      <td>-0.940217</td>\n",
       "      <td>NaN</td>\n",
       "    </tr>\n",
       "  </tbody>\n",
       "</table>\n",
       "</div>"
      ],
      "text/plain": [
       "        series_id           timestamp  consumption  temperature\n",
       "116904     100973 2015-10-23 00:00:00    -0.955621          NaN\n",
       "116905     100973 2015-10-23 01:00:00    -0.955647          NaN\n",
       "116906     100973 2015-10-23 02:00:00    -0.955374          NaN\n",
       "116907     100973 2015-10-23 03:00:00    -0.950269          NaN\n",
       "116908     100973 2015-10-23 04:00:00    -0.944840          NaN\n",
       "116909     100973 2015-10-23 05:00:00    -0.944371          NaN\n",
       "116910     100973 2015-10-23 06:00:00    -0.925139          NaN\n",
       "116911     100973 2015-10-23 07:00:00    -0.903602     6.083333\n",
       "116912     100973 2015-10-23 08:00:00    -0.915699     6.800000\n",
       "116913     100973 2015-10-23 09:00:00    -0.913498     8.250000\n",
       "116914     100973 2015-10-23 10:00:00    -0.915022    11.250000\n",
       "116915     100973 2015-10-23 11:00:00    -0.910673    14.000000\n",
       "116916     100973 2015-10-23 12:00:00    -0.914019    15.083333\n",
       "116917     100973 2015-10-23 13:00:00    -0.915243    16.083333\n",
       "116918     100973 2015-10-23 14:00:00    -0.918863    17.200000\n",
       "116919     100973 2015-10-23 15:00:00    -0.910008    18.166667\n",
       "116920     100973 2015-10-23 16:00:00    -0.907417    19.916667\n",
       "116921     100973 2015-10-23 17:00:00    -0.910282    19.000000\n",
       "116922     100973 2015-10-23 18:00:00    -0.934371    15.666667\n",
       "116923     100973 2015-10-23 19:00:00    -0.933576          NaN\n",
       "116924     100973 2015-10-23 20:00:00    -0.942418          NaN\n",
       "116925     100973 2015-10-23 21:00:00    -0.949827          NaN\n",
       "116926     100973 2015-10-23 22:00:00    -0.943147          NaN\n",
       "116927     100973 2015-10-23 23:00:00    -0.940217          NaN"
      ]
     },
     "execution_count": 12,
     "metadata": {},
     "output_type": "execute_result"
    }
   ],
   "source": [
    "test_df[test_df['series_id'] == 100973].head(100)"
   ]
  },
  {
   "cell_type": "markdown",
   "metadata": {},
   "source": [
    "### StackedLSTM"
   ]
  },
  {
   "cell_type": "code",
   "execution_count": null,
   "metadata": {},
   "outputs": [],
   "source": [
    "scores = repeat_evaluate(lstm.StackedLSTM, train_df, test_df, config, scaler, n_repeats=10)\n",
    "# performance.summarize_scores('lstm', scores)"
   ]
  },
  {
   "cell_type": "code",
   "execution_count": 14,
   "metadata": {},
   "outputs": [
    {
     "data": {
      "text/plain": [
       "[0.2733374232961312,\n",
       " 0.2835079583452075,\n",
       " nan,\n",
       " nan,\n",
       " 0.7671881835560315,\n",
       " 7.211318268550568,\n",
       " 0.27289467385306143,\n",
       " 0.2954605495593481,\n",
       " nan,\n",
       " 0.2932106019049768]"
      ]
     },
     "execution_count": 14,
     "metadata": {},
     "output_type": "execute_result"
    }
   ],
   "source": [
    "scores"
   ]
  },
  {
   "cell_type": "code",
   "execution_count": null,
   "metadata": {},
   "outputs": [],
   "source": []
  }
 ],
 "metadata": {
  "kernelspec": {
   "display_name": "Python 3",
   "language": "python",
   "name": "python3"
  },
  "language_info": {
   "codemirror_mode": {
    "name": "ipython",
    "version": 3
   },
   "file_extension": ".py",
   "mimetype": "text/x-python",
   "name": "python",
   "nbconvert_exporter": "python",
   "pygments_lexer": "ipython3",
   "version": "3.6.2"
  }
 },
 "nbformat": 4,
 "nbformat_minor": 2
}
