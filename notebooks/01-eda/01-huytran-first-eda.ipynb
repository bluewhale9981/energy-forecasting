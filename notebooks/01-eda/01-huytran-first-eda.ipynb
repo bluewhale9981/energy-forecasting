{
 "cells": [
  {
   "cell_type": "code",
   "execution_count": 74,
   "metadata": {},
   "outputs": [],
   "source": [
    "import pandas as pd\n",
    "from ml_utilities import ml_utilities\n",
    "import seaborn as sns\n",
    "import matplotlib.pyplot as plt\n",
    "from datetime import datetime\n",
    "\n",
    "%matplotlib inline\n",
    "\n",
    "# config for show max number of output lines\n",
    "pd.options.display.max_colwidth = 600\n",
    "pd.options.display.max_rows = 999\n",
    "pd.options.display.max_columns = 999"
   ]
  },
  {
   "cell_type": "code",
   "execution_count": 2,
   "metadata": {},
   "outputs": [],
   "source": [
    "def plot_distribution(data, feature, color='blue'):\n",
    "    plt.figure(figsize=(10,6))\n",
    "    plt.title(\"Distribution of %s\" % feature)\n",
    "    sns.distplot(data[feature].dropna(), color=color, kde=True,bins=100)\n",
    "    plt.show()"
   ]
  },
  {
   "cell_type": "markdown",
   "metadata": {},
   "source": [
    "## Meta "
   ]
  },
  {
   "cell_type": "code",
   "execution_count": 3,
   "metadata": {},
   "outputs": [],
   "source": [
    "meta = pd.read_csv('../../data/raw/meta.csv')"
   ]
  },
  {
   "cell_type": "code",
   "execution_count": 4,
   "metadata": {
    "scrolled": true
   },
   "outputs": [
    {
     "data": {
      "text/html": [
       "<div>\n",
       "<style scoped>\n",
       "    .dataframe tbody tr th:only-of-type {\n",
       "        vertical-align: middle;\n",
       "    }\n",
       "\n",
       "    .dataframe tbody tr th {\n",
       "        vertical-align: top;\n",
       "    }\n",
       "\n",
       "    .dataframe thead th {\n",
       "        text-align: right;\n",
       "    }\n",
       "</style>\n",
       "<table border=\"1\" class=\"dataframe\">\n",
       "  <thead>\n",
       "    <tr style=\"text-align: right;\">\n",
       "      <th></th>\n",
       "      <th>series_id</th>\n",
       "      <th>surface</th>\n",
       "      <th>base_temperature</th>\n",
       "      <th>monday_is_day_off</th>\n",
       "      <th>tuesday_is_day_off</th>\n",
       "      <th>wednesday_is_day_off</th>\n",
       "      <th>thursday_is_day_off</th>\n",
       "      <th>friday_is_day_off</th>\n",
       "      <th>saturday_is_day_off</th>\n",
       "      <th>sunday_is_day_off</th>\n",
       "    </tr>\n",
       "  </thead>\n",
       "  <tbody>\n",
       "    <tr>\n",
       "      <th>0</th>\n",
       "      <td>100003</td>\n",
       "      <td>x-large</td>\n",
       "      <td>low</td>\n",
       "      <td>False</td>\n",
       "      <td>False</td>\n",
       "      <td>False</td>\n",
       "      <td>False</td>\n",
       "      <td>False</td>\n",
       "      <td>True</td>\n",
       "      <td>True</td>\n",
       "    </tr>\n",
       "    <tr>\n",
       "      <th>1</th>\n",
       "      <td>100004</td>\n",
       "      <td>x-large</td>\n",
       "      <td>low</td>\n",
       "      <td>False</td>\n",
       "      <td>False</td>\n",
       "      <td>False</td>\n",
       "      <td>False</td>\n",
       "      <td>False</td>\n",
       "      <td>True</td>\n",
       "      <td>True</td>\n",
       "    </tr>\n",
       "    <tr>\n",
       "      <th>2</th>\n",
       "      <td>100006</td>\n",
       "      <td>x-small</td>\n",
       "      <td>low</td>\n",
       "      <td>False</td>\n",
       "      <td>False</td>\n",
       "      <td>False</td>\n",
       "      <td>False</td>\n",
       "      <td>False</td>\n",
       "      <td>True</td>\n",
       "      <td>True</td>\n",
       "    </tr>\n",
       "    <tr>\n",
       "      <th>3</th>\n",
       "      <td>100008</td>\n",
       "      <td>x-small</td>\n",
       "      <td>low</td>\n",
       "      <td>False</td>\n",
       "      <td>False</td>\n",
       "      <td>False</td>\n",
       "      <td>False</td>\n",
       "      <td>False</td>\n",
       "      <td>True</td>\n",
       "      <td>True</td>\n",
       "    </tr>\n",
       "    <tr>\n",
       "      <th>4</th>\n",
       "      <td>100010</td>\n",
       "      <td>x-small</td>\n",
       "      <td>low</td>\n",
       "      <td>False</td>\n",
       "      <td>False</td>\n",
       "      <td>False</td>\n",
       "      <td>False</td>\n",
       "      <td>False</td>\n",
       "      <td>True</td>\n",
       "      <td>True</td>\n",
       "    </tr>\n",
       "  </tbody>\n",
       "</table>\n",
       "</div>"
      ],
      "text/plain": [
       "   series_id  surface base_temperature  monday_is_day_off  tuesday_is_day_off  \\\n",
       "0     100003  x-large              low              False               False   \n",
       "1     100004  x-large              low              False               False   \n",
       "2     100006  x-small              low              False               False   \n",
       "3     100008  x-small              low              False               False   \n",
       "4     100010  x-small              low              False               False   \n",
       "\n",
       "   wednesday_is_day_off  thursday_is_day_off  friday_is_day_off  \\\n",
       "0                 False                False              False   \n",
       "1                 False                False              False   \n",
       "2                 False                False              False   \n",
       "3                 False                False              False   \n",
       "4                 False                False              False   \n",
       "\n",
       "   saturday_is_day_off  sunday_is_day_off  \n",
       "0                 True               True  \n",
       "1                 True               True  \n",
       "2                 True               True  \n",
       "3                 True               True  \n",
       "4                 True               True  "
      ]
     },
     "execution_count": 4,
     "metadata": {},
     "output_type": "execute_result"
    }
   ],
   "source": [
    "meta.head()"
   ]
  },
  {
   "cell_type": "code",
   "execution_count": 5,
   "metadata": {},
   "outputs": [],
   "source": [
    "meta_preview = ml_utilities.generate_preview(meta)"
   ]
  },
  {
   "cell_type": "code",
   "execution_count": 6,
   "metadata": {},
   "outputs": [
    {
     "data": {
      "text/html": [
       "<div>\n",
       "<style scoped>\n",
       "    .dataframe tbody tr th:only-of-type {\n",
       "        vertical-align: middle;\n",
       "    }\n",
       "\n",
       "    .dataframe tbody tr th {\n",
       "        vertical-align: top;\n",
       "    }\n",
       "\n",
       "    .dataframe thead th {\n",
       "        text-align: right;\n",
       "    }\n",
       "</style>\n",
       "<table border=\"1\" class=\"dataframe\">\n",
       "  <thead>\n",
       "    <tr style=\"text-align: right;\">\n",
       "      <th></th>\n",
       "      <th>index</th>\n",
       "      <th>dtypes</th>\n",
       "      <th>first_value</th>\n",
       "      <th>null_count</th>\n",
       "      <th>null_ratio</th>\n",
       "    </tr>\n",
       "  </thead>\n",
       "  <tbody>\n",
       "    <tr>\n",
       "      <th>0</th>\n",
       "      <td>series_id</td>\n",
       "      <td>int64</td>\n",
       "      <td>100003</td>\n",
       "      <td>0</td>\n",
       "      <td>0.0</td>\n",
       "    </tr>\n",
       "    <tr>\n",
       "      <th>1</th>\n",
       "      <td>surface</td>\n",
       "      <td>object</td>\n",
       "      <td>x-large</td>\n",
       "      <td>0</td>\n",
       "      <td>0.0</td>\n",
       "    </tr>\n",
       "    <tr>\n",
       "      <th>2</th>\n",
       "      <td>base_temperature</td>\n",
       "      <td>object</td>\n",
       "      <td>low</td>\n",
       "      <td>0</td>\n",
       "      <td>0.0</td>\n",
       "    </tr>\n",
       "    <tr>\n",
       "      <th>3</th>\n",
       "      <td>monday_is_day_off</td>\n",
       "      <td>bool</td>\n",
       "      <td>False</td>\n",
       "      <td>0</td>\n",
       "      <td>0.0</td>\n",
       "    </tr>\n",
       "    <tr>\n",
       "      <th>4</th>\n",
       "      <td>tuesday_is_day_off</td>\n",
       "      <td>bool</td>\n",
       "      <td>False</td>\n",
       "      <td>0</td>\n",
       "      <td>0.0</td>\n",
       "    </tr>\n",
       "    <tr>\n",
       "      <th>5</th>\n",
       "      <td>wednesday_is_day_off</td>\n",
       "      <td>bool</td>\n",
       "      <td>False</td>\n",
       "      <td>0</td>\n",
       "      <td>0.0</td>\n",
       "    </tr>\n",
       "    <tr>\n",
       "      <th>6</th>\n",
       "      <td>thursday_is_day_off</td>\n",
       "      <td>bool</td>\n",
       "      <td>False</td>\n",
       "      <td>0</td>\n",
       "      <td>0.0</td>\n",
       "    </tr>\n",
       "    <tr>\n",
       "      <th>7</th>\n",
       "      <td>friday_is_day_off</td>\n",
       "      <td>bool</td>\n",
       "      <td>False</td>\n",
       "      <td>0</td>\n",
       "      <td>0.0</td>\n",
       "    </tr>\n",
       "    <tr>\n",
       "      <th>8</th>\n",
       "      <td>saturday_is_day_off</td>\n",
       "      <td>bool</td>\n",
       "      <td>True</td>\n",
       "      <td>0</td>\n",
       "      <td>0.0</td>\n",
       "    </tr>\n",
       "    <tr>\n",
       "      <th>9</th>\n",
       "      <td>sunday_is_day_off</td>\n",
       "      <td>bool</td>\n",
       "      <td>True</td>\n",
       "      <td>0</td>\n",
       "      <td>0.0</td>\n",
       "    </tr>\n",
       "  </tbody>\n",
       "</table>\n",
       "</div>"
      ],
      "text/plain": [
       "                  index  dtypes first_value  null_count  null_ratio\n",
       "0             series_id   int64      100003           0         0.0\n",
       "1               surface  object     x-large           0         0.0\n",
       "2      base_temperature  object         low           0         0.0\n",
       "3     monday_is_day_off    bool       False           0         0.0\n",
       "4    tuesday_is_day_off    bool       False           0         0.0\n",
       "5  wednesday_is_day_off    bool       False           0         0.0\n",
       "6   thursday_is_day_off    bool       False           0         0.0\n",
       "7     friday_is_day_off    bool       False           0         0.0\n",
       "8   saturday_is_day_off    bool        True           0         0.0\n",
       "9     sunday_is_day_off    bool        True           0         0.0"
      ]
     },
     "execution_count": 6,
     "metadata": {},
     "output_type": "execute_result"
    }
   ],
   "source": [
    "meta_preview"
   ]
  },
  {
   "cell_type": "code",
   "execution_count": 7,
   "metadata": {},
   "outputs": [
    {
     "data": {
      "text/plain": [
       "(1383, 10)"
      ]
     },
     "execution_count": 7,
     "metadata": {},
     "output_type": "execute_result"
    }
   ],
   "source": [
    "meta.shape"
   ]
  },
  {
   "cell_type": "code",
   "execution_count": 8,
   "metadata": {},
   "outputs": [
    {
     "data": {
      "text/plain": [
       "array(['x-large', 'x-small', 'medium', 'large', 'xx-large', 'xx-small',\n",
       "       'small'], dtype=object)"
      ]
     },
     "execution_count": 8,
     "metadata": {},
     "output_type": "execute_result"
    }
   ],
   "source": [
    "meta['surface'].unique()"
   ]
  },
  {
   "cell_type": "code",
   "execution_count": 9,
   "metadata": {},
   "outputs": [
    {
     "data": {
      "text/plain": [
       "array(['low', 'high'], dtype=object)"
      ]
     },
     "execution_count": 9,
     "metadata": {},
     "output_type": "execute_result"
    }
   ],
   "source": [
    "meta['base_temperature'].unique()"
   ]
  },
  {
   "cell_type": "markdown",
   "metadata": {},
   "source": [
    "### Surface Distribution"
   ]
  },
  {
   "cell_type": "code",
   "execution_count": 10,
   "metadata": {},
   "outputs": [
    {
     "data": {
      "text/plain": [
       "<matplotlib.axes._subplots.AxesSubplot at 0x7f2ee97aaeb8>"
      ]
     },
     "execution_count": 10,
     "metadata": {},
     "output_type": "execute_result"
    },
    {
     "data": {
      "image/png": "[encoded data removed]",
      "text/plain": [
       "<Figure size 432x288 with 1 Axes>"
      ]
     },
     "metadata": {},
     "output_type": "display_data"
    }
   ],
   "source": [
    "sns.countplot(x='surface', data=meta)"
   ]
  },
  {
   "cell_type": "markdown",
   "metadata": {},
   "source": [
    "### Base Temperature Distribution"
   ]
  },
  {
   "cell_type": "code",
   "execution_count": 11,
   "metadata": {},
   "outputs": [
    {
     "data": {
      "text/plain": [
       "<matplotlib.axes._subplots.AxesSubplot at 0x7f2ee77032e8>"
      ]
     },
     "execution_count": 11,
     "metadata": {},
     "output_type": "execute_result"
    },
    {
     "data": {
      "image/png": "[encoded data removed]",
      "text/plain": [
       "<Figure size 432x288 with 1 Axes>"
      ]
     },
     "metadata": {},
     "output_type": "display_data"
    }
   ],
   "source": [
    "sns.countplot(x='base_temperature', data=meta)"
   ]
  },
  {
   "cell_type": "markdown",
   "metadata": {},
   "source": [
    "### Dayoff"
   ]
  },
  {
   "cell_type": "code",
   "execution_count": 12,
   "metadata": {
    "scrolled": true
   },
   "outputs": [],
   "source": [
    "days = [\n",
    "    'monday_is_day_off', 'tuesday_is_day_off', 'wednesday_is_day_off', 'thursday_is_day_off',\n",
    "    'friday_is_day_off', 'saturday_is_day_off', 'sunday_is_day_off'\n",
    "]"
   ]
  },
  {
   "cell_type": "code",
   "execution_count": 13,
   "metadata": {},
   "outputs": [
    {
     "data": {
      "text/plain": [
       "<matplotlib.axes._subplots.AxesSubplot at 0x7f2ee76dd4e0>"
      ]
     },
     "execution_count": 13,
     "metadata": {},
     "output_type": "execute_result"
    },
    {
     "data": {
      "image/png": "[encoded data removed]",
      "text/plain": [
       "<Figure size 432x288 with 1 Axes>"
      ]
     },
     "metadata": {},
     "output_type": "display_data"
    }
   ],
   "source": [
    "sns.countplot(x='monday_is_day_off', data=meta)"
   ]
  },
  {
   "cell_type": "code",
   "execution_count": 14,
   "metadata": {},
   "outputs": [
    {
     "data": {
      "text/plain": [
       "<matplotlib.axes._subplots.AxesSubplot at 0x7f2ee7629940>"
      ]
     },
     "execution_count": 14,
     "metadata": {},
     "output_type": "execute_result"
    },
    {
     "data": {
      "image/png": "[encoded data removed]",
      "text/plain": [
       "<Figure size 432x288 with 1 Axes>"
      ]
     },
     "metadata": {},
     "output_type": "display_data"
    }
   ],
   "source": [
    "sns.countplot(x='tuesday_is_day_off', data=meta)"
   ]
  },
  {
   "cell_type": "code",
   "execution_count": 15,
   "metadata": {},
   "outputs": [
    {
     "data": {
      "text/plain": [
       "<matplotlib.axes._subplots.AxesSubplot at 0x7f2ee7606780>"
      ]
     },
     "execution_count": 15,
     "metadata": {},
     "output_type": "execute_result"
    },
    {
     "data": {
      "image/png": "[encoded data removed]",
      "text/plain": [
       "<Figure size 432x288 with 1 Axes>"
      ]
     },
     "metadata": {},
     "output_type": "display_data"
    }
   ],
   "source": [
    "sns.countplot(x='wednesday_is_day_off', data=meta)"
   ]
  },
  {
   "cell_type": "code",
   "execution_count": 16,
   "metadata": {},
   "outputs": [
    {
     "data": {
      "text/plain": [
       "<matplotlib.axes._subplots.AxesSubplot at 0x7f2ee75d6860>"
      ]
     },
     "execution_count": 16,
     "metadata": {},
     "output_type": "execute_result"
    },
    {
     "data": {
      "image/png": "[encoded data removed]",
      "text/plain": [
       "<Figure size 432x288 with 1 Axes>"
      ]
     },
     "metadata": {},
     "output_type": "display_data"
    }
   ],
   "source": [
    "sns.countplot(x='thursday_is_day_off', data=meta)"
   ]
  },
  {
   "cell_type": "code",
   "execution_count": 17,
   "metadata": {},
   "outputs": [
    {
     "data": {
      "text/plain": [
       "<matplotlib.axes._subplots.AxesSubplot at 0x7f2ee75a33c8>"
      ]
     },
     "execution_count": 17,
     "metadata": {},
     "output_type": "execute_result"
    },
    {
     "data": {
      "image/png": "[encoded data removed]",
      "text/plain": [
       "<Figure size 432x288 with 1 Axes>"
      ]
     },
     "metadata": {},
     "output_type": "display_data"
    }
   ],
   "source": [
    "sns.countplot(x='friday_is_day_off', data=meta)"
   ]
  },
  {
   "cell_type": "code",
   "execution_count": 18,
   "metadata": {},
   "outputs": [
    {
     "data": {
      "text/plain": [
       "<matplotlib.axes._subplots.AxesSubplot at 0x7f2ee74f2cc0>"
      ]
     },
     "execution_count": 18,
     "metadata": {},
     "output_type": "execute_result"
    },
    {
     "data": {
      "image/png": "[encoded data removed]",
      "text/plain": [
       "<Figure size 432x288 with 1 Axes>"
      ]
     },
     "metadata": {},
     "output_type": "display_data"
    }
   ],
   "source": [
    "sns.countplot(x='saturday_is_day_off', data=meta)"
   ]
  },
  {
   "cell_type": "code",
   "execution_count": 19,
   "metadata": {},
   "outputs": [
    {
     "data": {
      "text/plain": [
       "<matplotlib.axes._subplots.AxesSubplot at 0x7f2ee74a84a8>"
      ]
     },
     "execution_count": 19,
     "metadata": {},
     "output_type": "execute_result"
    },
    {
     "data": {
      "image/png": "[encoded data removed]",
      "text/plain": [
       "<Figure size 432x288 with 1 Axes>"
      ]
     },
     "metadata": {},
     "output_type": "display_data"
    }
   ],
   "source": [
    "sns.countplot(x='sunday_is_day_off', data=meta)"
   ]
  },
  {
   "cell_type": "markdown",
   "metadata": {},
   "source": [
    "### Total off day"
   ]
  },
  {
   "cell_type": "code",
   "execution_count": 20,
   "metadata": {},
   "outputs": [],
   "source": [
    "for day in days:\n",
    "    meta[day] = meta[day].astype(int)"
   ]
  },
  {
   "cell_type": "code",
   "execution_count": 21,
   "metadata": {},
   "outputs": [
    {
     "data": {
      "text/html": [
       "<div>\n",
       "<style scoped>\n",
       "    .dataframe tbody tr th:only-of-type {\n",
       "        vertical-align: middle;\n",
       "    }\n",
       "\n",
       "    .dataframe tbody tr th {\n",
       "        vertical-align: top;\n",
       "    }\n",
       "\n",
       "    .dataframe thead th {\n",
       "        text-align: right;\n",
       "    }\n",
       "</style>\n",
       "<table border=\"1\" class=\"dataframe\">\n",
       "  <thead>\n",
       "    <tr style=\"text-align: right;\">\n",
       "      <th></th>\n",
       "      <th>series_id</th>\n",
       "      <th>surface</th>\n",
       "      <th>base_temperature</th>\n",
       "      <th>monday_is_day_off</th>\n",
       "      <th>tuesday_is_day_off</th>\n",
       "      <th>wednesday_is_day_off</th>\n",
       "      <th>thursday_is_day_off</th>\n",
       "      <th>friday_is_day_off</th>\n",
       "      <th>saturday_is_day_off</th>\n",
       "      <th>sunday_is_day_off</th>\n",
       "    </tr>\n",
       "  </thead>\n",
       "  <tbody>\n",
       "    <tr>\n",
       "      <th>0</th>\n",
       "      <td>100003</td>\n",
       "      <td>x-large</td>\n",
       "      <td>low</td>\n",
       "      <td>0</td>\n",
       "      <td>0</td>\n",
       "      <td>0</td>\n",
       "      <td>0</td>\n",
       "      <td>0</td>\n",
       "      <td>1</td>\n",
       "      <td>1</td>\n",
       "    </tr>\n",
       "    <tr>\n",
       "      <th>1</th>\n",
       "      <td>100004</td>\n",
       "      <td>x-large</td>\n",
       "      <td>low</td>\n",
       "      <td>0</td>\n",
       "      <td>0</td>\n",
       "      <td>0</td>\n",
       "      <td>0</td>\n",
       "      <td>0</td>\n",
       "      <td>1</td>\n",
       "      <td>1</td>\n",
       "    </tr>\n",
       "    <tr>\n",
       "      <th>2</th>\n",
       "      <td>100006</td>\n",
       "      <td>x-small</td>\n",
       "      <td>low</td>\n",
       "      <td>0</td>\n",
       "      <td>0</td>\n",
       "      <td>0</td>\n",
       "      <td>0</td>\n",
       "      <td>0</td>\n",
       "      <td>1</td>\n",
       "      <td>1</td>\n",
       "    </tr>\n",
       "    <tr>\n",
       "      <th>3</th>\n",
       "      <td>100008</td>\n",
       "      <td>x-small</td>\n",
       "      <td>low</td>\n",
       "      <td>0</td>\n",
       "      <td>0</td>\n",
       "      <td>0</td>\n",
       "      <td>0</td>\n",
       "      <td>0</td>\n",
       "      <td>1</td>\n",
       "      <td>1</td>\n",
       "    </tr>\n",
       "    <tr>\n",
       "      <th>4</th>\n",
       "      <td>100010</td>\n",
       "      <td>x-small</td>\n",
       "      <td>low</td>\n",
       "      <td>0</td>\n",
       "      <td>0</td>\n",
       "      <td>0</td>\n",
       "      <td>0</td>\n",
       "      <td>0</td>\n",
       "      <td>1</td>\n",
       "      <td>1</td>\n",
       "    </tr>\n",
       "  </tbody>\n",
       "</table>\n",
       "</div>"
      ],
      "text/plain": [
       "   series_id  surface base_temperature  monday_is_day_off  tuesday_is_day_off  \\\n",
       "0     100003  x-large              low                  0                   0   \n",
       "1     100004  x-large              low                  0                   0   \n",
       "2     100006  x-small              low                  0                   0   \n",
       "3     100008  x-small              low                  0                   0   \n",
       "4     100010  x-small              low                  0                   0   \n",
       "\n",
       "   wednesday_is_day_off  thursday_is_day_off  friday_is_day_off  \\\n",
       "0                     0                    0                  0   \n",
       "1                     0                    0                  0   \n",
       "2                     0                    0                  0   \n",
       "3                     0                    0                  0   \n",
       "4                     0                    0                  0   \n",
       "\n",
       "   saturday_is_day_off  sunday_is_day_off  \n",
       "0                    1                  1  \n",
       "1                    1                  1  \n",
       "2                    1                  1  \n",
       "3                    1                  1  \n",
       "4                    1                  1  "
      ]
     },
     "execution_count": 21,
     "metadata": {},
     "output_type": "execute_result"
    }
   ],
   "source": [
    "meta.head()"
   ]
  },
  {
   "cell_type": "code",
   "execution_count": 22,
   "metadata": {},
   "outputs": [],
   "source": [
    "meta['total_off_day'] = meta['monday_is_day_off'] + meta['tuesday_is_day_off'] + meta['wednesday_is_day_off'] + \\\n",
    "    meta['thursday_is_day_off'] + meta['friday_is_day_off'] + meta['saturday_is_day_off'] + meta['sunday_is_day_off']"
   ]
  },
  {
   "cell_type": "code",
   "execution_count": 23,
   "metadata": {},
   "outputs": [
    {
     "data": {
      "text/html": [
       "<div>\n",
       "<style scoped>\n",
       "    .dataframe tbody tr th:only-of-type {\n",
       "        vertical-align: middle;\n",
       "    }\n",
       "\n",
       "    .dataframe tbody tr th {\n",
       "        vertical-align: top;\n",
       "    }\n",
       "\n",
       "    .dataframe thead th {\n",
       "        text-align: right;\n",
       "    }\n",
       "</style>\n",
       "<table border=\"1\" class=\"dataframe\">\n",
       "  <thead>\n",
       "    <tr style=\"text-align: right;\">\n",
       "      <th></th>\n",
       "      <th>series_id</th>\n",
       "      <th>total_off_day</th>\n",
       "    </tr>\n",
       "  </thead>\n",
       "  <tbody>\n",
       "    <tr>\n",
       "      <th>0</th>\n",
       "      <td>100003</td>\n",
       "      <td>2</td>\n",
       "    </tr>\n",
       "    <tr>\n",
       "      <th>1</th>\n",
       "      <td>100004</td>\n",
       "      <td>2</td>\n",
       "    </tr>\n",
       "    <tr>\n",
       "      <th>2</th>\n",
       "      <td>100006</td>\n",
       "      <td>2</td>\n",
       "    </tr>\n",
       "    <tr>\n",
       "      <th>3</th>\n",
       "      <td>100008</td>\n",
       "      <td>2</td>\n",
       "    </tr>\n",
       "    <tr>\n",
       "      <th>4</th>\n",
       "      <td>100010</td>\n",
       "      <td>2</td>\n",
       "    </tr>\n",
       "  </tbody>\n",
       "</table>\n",
       "</div>"
      ],
      "text/plain": [
       "   series_id  total_off_day\n",
       "0     100003              2\n",
       "1     100004              2\n",
       "2     100006              2\n",
       "3     100008              2\n",
       "4     100010              2"
      ]
     },
     "execution_count": 23,
     "metadata": {},
     "output_type": "execute_result"
    }
   ],
   "source": [
    "meta[['series_id', 'total_off_day']].head()"
   ]
  },
  {
   "cell_type": "code",
   "execution_count": 24,
   "metadata": {},
   "outputs": [
    {
     "data": {
      "text/plain": [
       "0"
      ]
     },
     "execution_count": 24,
     "metadata": {},
     "output_type": "execute_result"
    }
   ],
   "source": [
    "meta['total_off_day'].min()"
   ]
  },
  {
   "cell_type": "code",
   "execution_count": 25,
   "metadata": {},
   "outputs": [
    {
     "data": {
      "text/plain": [
       "7"
      ]
     },
     "execution_count": 25,
     "metadata": {},
     "output_type": "execute_result"
    }
   ],
   "source": [
    "meta['total_off_day'].max()"
   ]
  },
  {
   "cell_type": "code",
   "execution_count": 26,
   "metadata": {},
   "outputs": [
    {
     "data": {
      "text/plain": [
       "<matplotlib.axes._subplots.AxesSubplot at 0x7f2ee7487cf8>"
      ]
     },
     "execution_count": 26,
     "metadata": {},
     "output_type": "execute_result"
    },
    {
     "data": {
      "image/png": "[encoded data removed]",
      "text/plain": [
       "<Figure size 432x288 with 1 Axes>"
      ]
     },
     "metadata": {},
     "output_type": "display_data"
    }
   ],
   "source": [
    "sns.countplot(x='total_off_day', data=meta)"
   ]
  },
  {
   "cell_type": "markdown",
   "metadata": {},
   "source": [
    "## Train and Test"
   ]
  },
  {
   "cell_type": "code",
   "execution_count": 27,
   "metadata": {},
   "outputs": [],
   "source": [
    "train = pd.read_csv('../../data/raw/consumption_train.csv')\n",
    "test = pd.read_csv('../../data/raw/cold_start_test.csv')"
   ]
  },
  {
   "cell_type": "markdown",
   "metadata": {},
   "source": [
    "## Train Data"
   ]
  },
  {
   "cell_type": "code",
   "execution_count": 28,
   "metadata": {},
   "outputs": [
    {
     "data": {
      "text/plain": [
       "(509376, 5)"
      ]
     },
     "execution_count": 28,
     "metadata": {},
     "output_type": "execute_result"
    }
   ],
   "source": [
    "train.shape"
   ]
  },
  {
   "cell_type": "code",
   "execution_count": 29,
   "metadata": {},
   "outputs": [],
   "source": [
    "train = train.drop('Unnamed: 0', axis=1)"
   ]
  },
  {
   "cell_type": "code",
   "execution_count": 52,
   "metadata": {},
   "outputs": [],
   "source": [
    "train['microsecond'] = train.timestamp.apply(lambda x: int(datetime.strptime(x, '%Y-%m-%d %H:%M:%S').strftime('%s')))"
   ]
  },
  {
   "cell_type": "code",
   "execution_count": 53,
   "metadata": {},
   "outputs": [
    {
     "data": {
      "text/html": [
       "<div>\n",
       "<style scoped>\n",
       "    .dataframe tbody tr th:only-of-type {\n",
       "        vertical-align: middle;\n",
       "    }\n",
       "\n",
       "    .dataframe tbody tr th {\n",
       "        vertical-align: top;\n",
       "    }\n",
       "\n",
       "    .dataframe thead th {\n",
       "        text-align: right;\n",
       "    }\n",
       "</style>\n",
       "<table border=\"1\" class=\"dataframe\">\n",
       "  <thead>\n",
       "    <tr style=\"text-align: right;\">\n",
       "      <th></th>\n",
       "      <th>series_id</th>\n",
       "      <th>timestamp</th>\n",
       "      <th>consumption</th>\n",
       "      <th>temperature</th>\n",
       "      <th>microsecond</th>\n",
       "    </tr>\n",
       "  </thead>\n",
       "  <tbody>\n",
       "    <tr>\n",
       "      <th>0</th>\n",
       "      <td>103088</td>\n",
       "      <td>2014-12-24 00:00:00</td>\n",
       "      <td>101842.233424</td>\n",
       "      <td>NaN</td>\n",
       "      <td>1419354000</td>\n",
       "    </tr>\n",
       "    <tr>\n",
       "      <th>1</th>\n",
       "      <td>103088</td>\n",
       "      <td>2014-12-24 01:00:00</td>\n",
       "      <td>105878.048906</td>\n",
       "      <td>NaN</td>\n",
       "      <td>1419357600</td>\n",
       "    </tr>\n",
       "    <tr>\n",
       "      <th>2</th>\n",
       "      <td>103088</td>\n",
       "      <td>2014-12-24 02:00:00</td>\n",
       "      <td>91619.105008</td>\n",
       "      <td>NaN</td>\n",
       "      <td>1419361200</td>\n",
       "    </tr>\n",
       "    <tr>\n",
       "      <th>3</th>\n",
       "      <td>103088</td>\n",
       "      <td>2014-12-24 03:00:00</td>\n",
       "      <td>94473.706203</td>\n",
       "      <td>NaN</td>\n",
       "      <td>1419364800</td>\n",
       "    </tr>\n",
       "    <tr>\n",
       "      <th>4</th>\n",
       "      <td>103088</td>\n",
       "      <td>2014-12-24 04:00:00</td>\n",
       "      <td>96976.755526</td>\n",
       "      <td>NaN</td>\n",
       "      <td>1419368400</td>\n",
       "    </tr>\n",
       "  </tbody>\n",
       "</table>\n",
       "</div>"
      ],
      "text/plain": [
       "   series_id            timestamp    consumption  temperature  microsecond\n",
       "0     103088  2014-12-24 00:00:00  101842.233424          NaN   1419354000\n",
       "1     103088  2014-12-24 01:00:00  105878.048906          NaN   1419357600\n",
       "2     103088  2014-12-24 02:00:00   91619.105008          NaN   1419361200\n",
       "3     103088  2014-12-24 03:00:00   94473.706203          NaN   1419364800\n",
       "4     103088  2014-12-24 04:00:00   96976.755526          NaN   1419368400"
      ]
     },
     "execution_count": 53,
     "metadata": {},
     "output_type": "execute_result"
    }
   ],
   "source": [
    "train.head()"
   ]
  },
  {
   "cell_type": "code",
   "execution_count": 54,
   "metadata": {},
   "outputs": [],
   "source": [
    "train_preview = ml_utilities.generate_preview(train)"
   ]
  },
  {
   "cell_type": "code",
   "execution_count": 55,
   "metadata": {
    "scrolled": true
   },
   "outputs": [
    {
     "data": {
      "text/html": [
       "<div>\n",
       "<style scoped>\n",
       "    .dataframe tbody tr th:only-of-type {\n",
       "        vertical-align: middle;\n",
       "    }\n",
       "\n",
       "    .dataframe tbody tr th {\n",
       "        vertical-align: top;\n",
       "    }\n",
       "\n",
       "    .dataframe thead th {\n",
       "        text-align: right;\n",
       "    }\n",
       "</style>\n",
       "<table border=\"1\" class=\"dataframe\">\n",
       "  <thead>\n",
       "    <tr style=\"text-align: right;\">\n",
       "      <th></th>\n",
       "      <th>index</th>\n",
       "      <th>dtypes</th>\n",
       "      <th>first_value</th>\n",
       "      <th>null_count</th>\n",
       "      <th>null_ratio</th>\n",
       "    </tr>\n",
       "  </thead>\n",
       "  <tbody>\n",
       "    <tr>\n",
       "      <th>0</th>\n",
       "      <td>series_id</td>\n",
       "      <td>int64</td>\n",
       "      <td>103088</td>\n",
       "      <td>0</td>\n",
       "      <td>0.000000</td>\n",
       "    </tr>\n",
       "    <tr>\n",
       "      <th>1</th>\n",
       "      <td>timestamp</td>\n",
       "      <td>object</td>\n",
       "      <td>2014-12-24 00:00:00</td>\n",
       "      <td>0</td>\n",
       "      <td>0.000000</td>\n",
       "    </tr>\n",
       "    <tr>\n",
       "      <th>2</th>\n",
       "      <td>consumption</td>\n",
       "      <td>float64</td>\n",
       "      <td>101842</td>\n",
       "      <td>0</td>\n",
       "      <td>0.000000</td>\n",
       "    </tr>\n",
       "    <tr>\n",
       "      <th>3</th>\n",
       "      <td>temperature</td>\n",
       "      <td>float64</td>\n",
       "      <td>NaN</td>\n",
       "      <td>228689</td>\n",
       "      <td>44.895912</td>\n",
       "    </tr>\n",
       "    <tr>\n",
       "      <th>4</th>\n",
       "      <td>microsecond</td>\n",
       "      <td>int64</td>\n",
       "      <td>1419354000</td>\n",
       "      <td>0</td>\n",
       "      <td>0.000000</td>\n",
       "    </tr>\n",
       "  </tbody>\n",
       "</table>\n",
       "</div>"
      ],
      "text/plain": [
       "         index   dtypes          first_value  null_count  null_ratio\n",
       "0    series_id    int64               103088           0    0.000000\n",
       "1    timestamp   object  2014-12-24 00:00:00           0    0.000000\n",
       "2  consumption  float64               101842           0    0.000000\n",
       "3  temperature  float64                  NaN      228689   44.895912\n",
       "4  microsecond    int64           1419354000           0    0.000000"
      ]
     },
     "execution_count": 55,
     "metadata": {},
     "output_type": "execute_result"
    }
   ],
   "source": [
    "train_preview"
   ]
  },
  {
   "cell_type": "code",
   "execution_count": 35,
   "metadata": {},
   "outputs": [
    {
     "data": {
      "image/png": "[encoded data removed]",
      "text/plain": [
       "<Figure size 720x432 with 1 Axes>"
      ]
     },
     "metadata": {},
     "output_type": "display_data"
    }
   ],
   "source": [
    "plot_distribution(train, 'consumption')"
   ]
  },
  {
   "cell_type": "code",
   "execution_count": 36,
   "metadata": {},
   "outputs": [
    {
     "data": {
      "image/png": "[encoded data removed]",
      "text/plain": [
       "<Figure size 720x432 with 1 Axes>"
      ]
     },
     "metadata": {},
     "output_type": "display_data"
    }
   ],
   "source": [
    "plot_distribution(train, 'temperature')"
   ]
  },
  {
   "cell_type": "code",
   "execution_count": 56,
   "metadata": {},
   "outputs": [
    {
     "data": {
      "image/png": "[encoded data removed]",
      "text/plain": [
       "<Figure size 720x432 with 1 Axes>"
      ]
     },
     "metadata": {},
     "output_type": "display_data"
    }
   ],
   "source": [
    "plot_distribution(train, 'microsecond')"
   ]
  },
  {
   "cell_type": "markdown",
   "metadata": {},
   "source": [
    "## Test Data"
   ]
  },
  {
   "cell_type": "code",
   "execution_count": 57,
   "metadata": {},
   "outputs": [
    {
     "data": {
      "text/plain": [
       "(111984, 4)"
      ]
     },
     "execution_count": 57,
     "metadata": {},
     "output_type": "execute_result"
    }
   ],
   "source": [
    "test.shape"
   ]
  },
  {
   "cell_type": "code",
   "execution_count": null,
   "metadata": {},
   "outputs": [],
   "source": [
    "test = test.drop('Unnamed: 0', axis=1)"
   ]
  },
  {
   "cell_type": "code",
   "execution_count": 59,
   "metadata": {},
   "outputs": [],
   "source": [
    "test['microsecond'] = test.timestamp.apply(lambda x: int(datetime.strptime(x, '%Y-%m-%d %H:%M:%S').strftime('%s')))"
   ]
  },
  {
   "cell_type": "code",
   "execution_count": 60,
   "metadata": {},
   "outputs": [
    {
     "data": {
      "text/html": [
       "<div>\n",
       "<style scoped>\n",
       "    .dataframe tbody tr th:only-of-type {\n",
       "        vertical-align: middle;\n",
       "    }\n",
       "\n",
       "    .dataframe tbody tr th {\n",
       "        vertical-align: top;\n",
       "    }\n",
       "\n",
       "    .dataframe thead th {\n",
       "        text-align: right;\n",
       "    }\n",
       "</style>\n",
       "<table border=\"1\" class=\"dataframe\">\n",
       "  <thead>\n",
       "    <tr style=\"text-align: right;\">\n",
       "      <th></th>\n",
       "      <th>series_id</th>\n",
       "      <th>timestamp</th>\n",
       "      <th>consumption</th>\n",
       "      <th>temperature</th>\n",
       "      <th>microsecond</th>\n",
       "    </tr>\n",
       "  </thead>\n",
       "  <tbody>\n",
       "    <tr>\n",
       "      <th>0</th>\n",
       "      <td>102781</td>\n",
       "      <td>2013-02-27 00:00:00</td>\n",
       "      <td>15295.740389</td>\n",
       "      <td>17.00</td>\n",
       "      <td>1361898000</td>\n",
       "    </tr>\n",
       "    <tr>\n",
       "      <th>1</th>\n",
       "      <td>102781</td>\n",
       "      <td>2013-02-27 01:00:00</td>\n",
       "      <td>15163.209562</td>\n",
       "      <td>18.25</td>\n",
       "      <td>1361901600</td>\n",
       "    </tr>\n",
       "    <tr>\n",
       "      <th>2</th>\n",
       "      <td>102781</td>\n",
       "      <td>2013-02-27 02:00:00</td>\n",
       "      <td>15022.264079</td>\n",
       "      <td>18.00</td>\n",
       "      <td>1361905200</td>\n",
       "    </tr>\n",
       "    <tr>\n",
       "      <th>3</th>\n",
       "      <td>102781</td>\n",
       "      <td>2013-02-27 03:00:00</td>\n",
       "      <td>15370.420458</td>\n",
       "      <td>17.00</td>\n",
       "      <td>1361908800</td>\n",
       "    </tr>\n",
       "    <tr>\n",
       "      <th>4</th>\n",
       "      <td>102781</td>\n",
       "      <td>2013-02-27 04:00:00</td>\n",
       "      <td>15303.103213</td>\n",
       "      <td>16.90</td>\n",
       "      <td>1361912400</td>\n",
       "    </tr>\n",
       "  </tbody>\n",
       "</table>\n",
       "</div>"
      ],
      "text/plain": [
       "   series_id            timestamp   consumption  temperature  microsecond\n",
       "0     102781  2013-02-27 00:00:00  15295.740389        17.00   1361898000\n",
       "1     102781  2013-02-27 01:00:00  15163.209562        18.25   1361901600\n",
       "2     102781  2013-02-27 02:00:00  15022.264079        18.00   1361905200\n",
       "3     102781  2013-02-27 03:00:00  15370.420458        17.00   1361908800\n",
       "4     102781  2013-02-27 04:00:00  15303.103213        16.90   1361912400"
      ]
     },
     "execution_count": 60,
     "metadata": {},
     "output_type": "execute_result"
    }
   ],
   "source": [
    "test.head()"
   ]
  },
  {
   "cell_type": "code",
   "execution_count": 61,
   "metadata": {},
   "outputs": [],
   "source": [
    "test_preview = ml_utilities.generate_preview(test)"
   ]
  },
  {
   "cell_type": "code",
   "execution_count": 62,
   "metadata": {},
   "outputs": [
    {
     "data": {
      "text/html": [
       "<div>\n",
       "<style scoped>\n",
       "    .dataframe tbody tr th:only-of-type {\n",
       "        vertical-align: middle;\n",
       "    }\n",
       "\n",
       "    .dataframe tbody tr th {\n",
       "        vertical-align: top;\n",
       "    }\n",
       "\n",
       "    .dataframe thead th {\n",
       "        text-align: right;\n",
       "    }\n",
       "</style>\n",
       "<table border=\"1\" class=\"dataframe\">\n",
       "  <thead>\n",
       "    <tr style=\"text-align: right;\">\n",
       "      <th></th>\n",
       "      <th>index</th>\n",
       "      <th>dtypes</th>\n",
       "      <th>first_value</th>\n",
       "      <th>null_count</th>\n",
       "      <th>null_ratio</th>\n",
       "    </tr>\n",
       "  </thead>\n",
       "  <tbody>\n",
       "    <tr>\n",
       "      <th>0</th>\n",
       "      <td>series_id</td>\n",
       "      <td>int64</td>\n",
       "      <td>102781</td>\n",
       "      <td>0</td>\n",
       "      <td>0.000000</td>\n",
       "    </tr>\n",
       "    <tr>\n",
       "      <th>1</th>\n",
       "      <td>timestamp</td>\n",
       "      <td>object</td>\n",
       "      <td>2013-02-27 00:00:00</td>\n",
       "      <td>0</td>\n",
       "      <td>0.000000</td>\n",
       "    </tr>\n",
       "    <tr>\n",
       "      <th>2</th>\n",
       "      <td>consumption</td>\n",
       "      <td>float64</td>\n",
       "      <td>15295.7</td>\n",
       "      <td>0</td>\n",
       "      <td>0.000000</td>\n",
       "    </tr>\n",
       "    <tr>\n",
       "      <th>3</th>\n",
       "      <td>temperature</td>\n",
       "      <td>float64</td>\n",
       "      <td>17</td>\n",
       "      <td>44916</td>\n",
       "      <td>40.109301</td>\n",
       "    </tr>\n",
       "    <tr>\n",
       "      <th>4</th>\n",
       "      <td>microsecond</td>\n",
       "      <td>int64</td>\n",
       "      <td>1361898000</td>\n",
       "      <td>0</td>\n",
       "      <td>0.000000</td>\n",
       "    </tr>\n",
       "  </tbody>\n",
       "</table>\n",
       "</div>"
      ],
      "text/plain": [
       "         index   dtypes          first_value  null_count  null_ratio\n",
       "0    series_id    int64               102781           0    0.000000\n",
       "1    timestamp   object  2013-02-27 00:00:00           0    0.000000\n",
       "2  consumption  float64              15295.7           0    0.000000\n",
       "3  temperature  float64                   17       44916   40.109301\n",
       "4  microsecond    int64           1361898000           0    0.000000"
      ]
     },
     "execution_count": 62,
     "metadata": {},
     "output_type": "execute_result"
    }
   ],
   "source": [
    "test_preview"
   ]
  },
  {
   "cell_type": "code",
   "execution_count": 43,
   "metadata": {},
   "outputs": [
    {
     "data": {
      "image/png": "[encoded data removed]",
      "text/plain": [
       "<Figure size 720x432 with 1 Axes>"
      ]
     },
     "metadata": {},
     "output_type": "display_data"
    }
   ],
   "source": [
    "plot_distribution(test, 'consumption')"
   ]
  },
  {
   "cell_type": "code",
   "execution_count": 44,
   "metadata": {},
   "outputs": [
    {
     "data": {
      "image/png": "[encoded data removed]",
      "text/plain": [
       "<Figure size 720x432 with 1 Axes>"
      ]
     },
     "metadata": {},
     "output_type": "display_data"
    }
   ],
   "source": [
    "plot_distribution(test, 'temperature')"
   ]
  },
  {
   "cell_type": "code",
   "execution_count": 63,
   "metadata": {},
   "outputs": [
    {
     "data": {
      "image/png": "[encoded data removed]",
      "text/plain": [
       "<Figure size 720x432 with 1 Axes>"
      ]
     },
     "metadata": {},
     "output_type": "display_data"
    }
   ],
   "source": [
    "plot_distribution(test, 'microsecond')"
   ]
  },
  {
   "cell_type": "markdown",
   "metadata": {},
   "source": [
    "## Sample Submission"
   ]
  },
  {
   "cell_type": "code",
   "execution_count": 64,
   "metadata": {},
   "outputs": [],
   "source": [
    "submission = pd.read_csv('../../data/raw/submission_format.csv')"
   ]
  },
  {
   "cell_type": "code",
   "execution_count": 67,
   "metadata": {},
   "outputs": [
    {
     "data": {
      "text/plain": [
       "(7529, 6)"
      ]
     },
     "execution_count": 67,
     "metadata": {},
     "output_type": "execute_result"
    }
   ],
   "source": [
    "submission.shape"
   ]
  },
  {
   "cell_type": "code",
   "execution_count": 65,
   "metadata": {},
   "outputs": [
    {
     "data": {
      "text/html": [
       "<div>\n",
       "<style scoped>\n",
       "    .dataframe tbody tr th:only-of-type {\n",
       "        vertical-align: middle;\n",
       "    }\n",
       "\n",
       "    .dataframe tbody tr th {\n",
       "        vertical-align: top;\n",
       "    }\n",
       "\n",
       "    .dataframe thead th {\n",
       "        text-align: right;\n",
       "    }\n",
       "</style>\n",
       "<table border=\"1\" class=\"dataframe\">\n",
       "  <thead>\n",
       "    <tr style=\"text-align: right;\">\n",
       "      <th></th>\n",
       "      <th>pred_id</th>\n",
       "      <th>series_id</th>\n",
       "      <th>timestamp</th>\n",
       "      <th>temperature</th>\n",
       "      <th>consumption</th>\n",
       "      <th>prediction_window</th>\n",
       "    </tr>\n",
       "  </thead>\n",
       "  <tbody>\n",
       "    <tr>\n",
       "      <th>0</th>\n",
       "      <td>0</td>\n",
       "      <td>102781</td>\n",
       "      <td>2013-03-03 00:00:00</td>\n",
       "      <td>19.931250</td>\n",
       "      <td>0.0</td>\n",
       "      <td>daily</td>\n",
       "    </tr>\n",
       "    <tr>\n",
       "      <th>1</th>\n",
       "      <td>1</td>\n",
       "      <td>102781</td>\n",
       "      <td>2013-03-04 00:00:00</td>\n",
       "      <td>20.034375</td>\n",
       "      <td>0.0</td>\n",
       "      <td>daily</td>\n",
       "    </tr>\n",
       "    <tr>\n",
       "      <th>2</th>\n",
       "      <td>2</td>\n",
       "      <td>102781</td>\n",
       "      <td>2013-03-05 00:00:00</td>\n",
       "      <td>19.189583</td>\n",
       "      <td>0.0</td>\n",
       "      <td>daily</td>\n",
       "    </tr>\n",
       "    <tr>\n",
       "      <th>3</th>\n",
       "      <td>3</td>\n",
       "      <td>102781</td>\n",
       "      <td>2013-03-06 00:00:00</td>\n",
       "      <td>18.397917</td>\n",
       "      <td>0.0</td>\n",
       "      <td>daily</td>\n",
       "    </tr>\n",
       "    <tr>\n",
       "      <th>4</th>\n",
       "      <td>4</td>\n",
       "      <td>102781</td>\n",
       "      <td>2013-03-07 00:00:00</td>\n",
       "      <td>20.762500</td>\n",
       "      <td>0.0</td>\n",
       "      <td>daily</td>\n",
       "    </tr>\n",
       "  </tbody>\n",
       "</table>\n",
       "</div>"
      ],
      "text/plain": [
       "   pred_id  series_id            timestamp  temperature  consumption  \\\n",
       "0        0     102781  2013-03-03 00:00:00    19.931250          0.0   \n",
       "1        1     102781  2013-03-04 00:00:00    20.034375          0.0   \n",
       "2        2     102781  2013-03-05 00:00:00    19.189583          0.0   \n",
       "3        3     102781  2013-03-06 00:00:00    18.397917          0.0   \n",
       "4        4     102781  2013-03-07 00:00:00    20.762500          0.0   \n",
       "\n",
       "  prediction_window  \n",
       "0             daily  \n",
       "1             daily  \n",
       "2             daily  \n",
       "3             daily  \n",
       "4             daily  "
      ]
     },
     "execution_count": 65,
     "metadata": {},
     "output_type": "execute_result"
    }
   ],
   "source": [
    "submission.head()"
   ]
  },
  {
   "cell_type": "code",
   "execution_count": 68,
   "metadata": {},
   "outputs": [
    {
     "data": {
      "text/html": [
       "<div>\n",
       "<style scoped>\n",
       "    .dataframe tbody tr th:only-of-type {\n",
       "        vertical-align: middle;\n",
       "    }\n",
       "\n",
       "    .dataframe tbody tr th {\n",
       "        vertical-align: top;\n",
       "    }\n",
       "\n",
       "    .dataframe thead th {\n",
       "        text-align: right;\n",
       "    }\n",
       "</style>\n",
       "<table border=\"1\" class=\"dataframe\">\n",
       "  <thead>\n",
       "    <tr style=\"text-align: right;\">\n",
       "      <th></th>\n",
       "      <th>pred_id</th>\n",
       "      <th>series_id</th>\n",
       "      <th>timestamp</th>\n",
       "      <th>temperature</th>\n",
       "      <th>consumption</th>\n",
       "      <th>prediction_window</th>\n",
       "    </tr>\n",
       "  </thead>\n",
       "  <tbody>\n",
       "    <tr>\n",
       "      <th>7524</th>\n",
       "      <td>7524</td>\n",
       "      <td>102154</td>\n",
       "      <td>2017-08-27 19:00:00</td>\n",
       "      <td>32.666667</td>\n",
       "      <td>0.0</td>\n",
       "      <td>hourly</td>\n",
       "    </tr>\n",
       "    <tr>\n",
       "      <th>7525</th>\n",
       "      <td>7525</td>\n",
       "      <td>102154</td>\n",
       "      <td>2017-08-27 20:00:00</td>\n",
       "      <td>29.900000</td>\n",
       "      <td>0.0</td>\n",
       "      <td>hourly</td>\n",
       "    </tr>\n",
       "    <tr>\n",
       "      <th>7526</th>\n",
       "      <td>7526</td>\n",
       "      <td>102154</td>\n",
       "      <td>2017-08-27 21:00:00</td>\n",
       "      <td>28.000000</td>\n",
       "      <td>0.0</td>\n",
       "      <td>hourly</td>\n",
       "    </tr>\n",
       "    <tr>\n",
       "      <th>7527</th>\n",
       "      <td>7527</td>\n",
       "      <td>102154</td>\n",
       "      <td>2017-08-27 22:00:00</td>\n",
       "      <td>26.666667</td>\n",
       "      <td>0.0</td>\n",
       "      <td>hourly</td>\n",
       "    </tr>\n",
       "    <tr>\n",
       "      <th>7528</th>\n",
       "      <td>7528</td>\n",
       "      <td>102154</td>\n",
       "      <td>2017-08-27 23:00:00</td>\n",
       "      <td>27.300000</td>\n",
       "      <td>0.0</td>\n",
       "      <td>hourly</td>\n",
       "    </tr>\n",
       "  </tbody>\n",
       "</table>\n",
       "</div>"
      ],
      "text/plain": [
       "      pred_id  series_id            timestamp  temperature  consumption  \\\n",
       "7524     7524     102154  2017-08-27 19:00:00    32.666667          0.0   \n",
       "7525     7525     102154  2017-08-27 20:00:00    29.900000          0.0   \n",
       "7526     7526     102154  2017-08-27 21:00:00    28.000000          0.0   \n",
       "7527     7527     102154  2017-08-27 22:00:00    26.666667          0.0   \n",
       "7528     7528     102154  2017-08-27 23:00:00    27.300000          0.0   \n",
       "\n",
       "     prediction_window  \n",
       "7524            hourly  \n",
       "7525            hourly  \n",
       "7526            hourly  \n",
       "7527            hourly  \n",
       "7528            hourly  "
      ]
     },
     "execution_count": 68,
     "metadata": {},
     "output_type": "execute_result"
    }
   ],
   "source": [
    "submission.tail()"
   ]
  },
  {
   "cell_type": "code",
   "execution_count": 69,
   "metadata": {},
   "outputs": [
    {
     "data": {
      "text/plain": [
       "array(['daily', 'weekly', 'hourly'], dtype=object)"
      ]
     },
     "execution_count": 69,
     "metadata": {},
     "output_type": "execute_result"
    }
   ],
   "source": [
    "submission['prediction_window'].unique()"
   ]
  },
  {
   "cell_type": "code",
   "execution_count": 70,
   "metadata": {},
   "outputs": [
    {
     "data": {
      "text/html": [
       "<div>\n",
       "<style scoped>\n",
       "    .dataframe tbody tr th:only-of-type {\n",
       "        vertical-align: middle;\n",
       "    }\n",
       "\n",
       "    .dataframe tbody tr th {\n",
       "        vertical-align: top;\n",
       "    }\n",
       "\n",
       "    .dataframe thead th {\n",
       "        text-align: right;\n",
       "    }\n",
       "</style>\n",
       "<table border=\"1\" class=\"dataframe\">\n",
       "  <thead>\n",
       "    <tr style=\"text-align: right;\">\n",
       "      <th></th>\n",
       "      <th>pred_id</th>\n",
       "      <th>series_id</th>\n",
       "      <th>timestamp</th>\n",
       "      <th>temperature</th>\n",
       "      <th>consumption</th>\n",
       "      <th>prediction_window</th>\n",
       "    </tr>\n",
       "  </thead>\n",
       "  <tbody>\n",
       "    <tr>\n",
       "      <th>0</th>\n",
       "      <td>0</td>\n",
       "      <td>102781</td>\n",
       "      <td>2013-03-03 00:00:00</td>\n",
       "      <td>19.931250</td>\n",
       "      <td>0.0</td>\n",
       "      <td>daily</td>\n",
       "    </tr>\n",
       "    <tr>\n",
       "      <th>1</th>\n",
       "      <td>1</td>\n",
       "      <td>102781</td>\n",
       "      <td>2013-03-04 00:00:00</td>\n",
       "      <td>20.034375</td>\n",
       "      <td>0.0</td>\n",
       "      <td>daily</td>\n",
       "    </tr>\n",
       "    <tr>\n",
       "      <th>2</th>\n",
       "      <td>2</td>\n",
       "      <td>102781</td>\n",
       "      <td>2013-03-05 00:00:00</td>\n",
       "      <td>19.189583</td>\n",
       "      <td>0.0</td>\n",
       "      <td>daily</td>\n",
       "    </tr>\n",
       "    <tr>\n",
       "      <th>3</th>\n",
       "      <td>3</td>\n",
       "      <td>102781</td>\n",
       "      <td>2013-03-06 00:00:00</td>\n",
       "      <td>18.397917</td>\n",
       "      <td>0.0</td>\n",
       "      <td>daily</td>\n",
       "    </tr>\n",
       "    <tr>\n",
       "      <th>4</th>\n",
       "      <td>4</td>\n",
       "      <td>102781</td>\n",
       "      <td>2013-03-07 00:00:00</td>\n",
       "      <td>20.762500</td>\n",
       "      <td>0.0</td>\n",
       "      <td>daily</td>\n",
       "    </tr>\n",
       "    <tr>\n",
       "      <th>5</th>\n",
       "      <td>5</td>\n",
       "      <td>102781</td>\n",
       "      <td>2013-03-08 00:00:00</td>\n",
       "      <td>19.800000</td>\n",
       "      <td>0.0</td>\n",
       "      <td>daily</td>\n",
       "    </tr>\n",
       "    <tr>\n",
       "      <th>6</th>\n",
       "      <td>6</td>\n",
       "      <td>102781</td>\n",
       "      <td>2013-03-09 00:00:00</td>\n",
       "      <td>20.466667</td>\n",
       "      <td>0.0</td>\n",
       "      <td>daily</td>\n",
       "    </tr>\n",
       "  </tbody>\n",
       "</table>\n",
       "</div>"
      ],
      "text/plain": [
       "   pred_id  series_id            timestamp  temperature  consumption  \\\n",
       "0        0     102781  2013-03-03 00:00:00    19.931250          0.0   \n",
       "1        1     102781  2013-03-04 00:00:00    20.034375          0.0   \n",
       "2        2     102781  2013-03-05 00:00:00    19.189583          0.0   \n",
       "3        3     102781  2013-03-06 00:00:00    18.397917          0.0   \n",
       "4        4     102781  2013-03-07 00:00:00    20.762500          0.0   \n",
       "5        5     102781  2013-03-08 00:00:00    19.800000          0.0   \n",
       "6        6     102781  2013-03-09 00:00:00    20.466667          0.0   \n",
       "\n",
       "  prediction_window  \n",
       "0             daily  \n",
       "1             daily  \n",
       "2             daily  \n",
       "3             daily  \n",
       "4             daily  \n",
       "5             daily  \n",
       "6             daily  "
      ]
     },
     "execution_count": 70,
     "metadata": {},
     "output_type": "execute_result"
    }
   ],
   "source": [
    "submission[submission.series_id == 102781]"
   ]
  },
  {
   "cell_type": "code",
   "execution_count": 71,
   "metadata": {},
   "outputs": [
    {
     "data": {
      "text/html": [
       "<div>\n",
       "<style scoped>\n",
       "    .dataframe tbody tr th:only-of-type {\n",
       "        vertical-align: middle;\n",
       "    }\n",
       "\n",
       "    .dataframe tbody tr th {\n",
       "        vertical-align: top;\n",
       "    }\n",
       "\n",
       "    .dataframe thead th {\n",
       "        text-align: right;\n",
       "    }\n",
       "</style>\n",
       "<table border=\"1\" class=\"dataframe\">\n",
       "  <thead>\n",
       "    <tr style=\"text-align: right;\">\n",
       "      <th></th>\n",
       "      <th>series_id</th>\n",
       "      <th>surface</th>\n",
       "      <th>base_temperature</th>\n",
       "      <th>monday_is_day_off</th>\n",
       "      <th>tuesday_is_day_off</th>\n",
       "      <th>wednesday_is_day_off</th>\n",
       "      <th>thursday_is_day_off</th>\n",
       "      <th>friday_is_day_off</th>\n",
       "      <th>saturday_is_day_off</th>\n",
       "      <th>sunday_is_day_off</th>\n",
       "      <th>total_off_day</th>\n",
       "    </tr>\n",
       "  </thead>\n",
       "  <tbody>\n",
       "    <tr>\n",
       "      <th>1042</th>\n",
       "      <td>102781</td>\n",
       "      <td>large</td>\n",
       "      <td>low</td>\n",
       "      <td>0</td>\n",
       "      <td>0</td>\n",
       "      <td>0</td>\n",
       "      <td>0</td>\n",
       "      <td>0</td>\n",
       "      <td>1</td>\n",
       "      <td>1</td>\n",
       "      <td>2</td>\n",
       "    </tr>\n",
       "  </tbody>\n",
       "</table>\n",
       "</div>"
      ],
      "text/plain": [
       "      series_id surface base_temperature  monday_is_day_off  \\\n",
       "1042     102781   large              low                  0   \n",
       "\n",
       "      tuesday_is_day_off  wednesday_is_day_off  thursday_is_day_off  \\\n",
       "1042                   0                     0                    0   \n",
       "\n",
       "      friday_is_day_off  saturday_is_day_off  sunday_is_day_off  total_off_day  \n",
       "1042                  0                    1                  1              2  "
      ]
     },
     "execution_count": 71,
     "metadata": {},
     "output_type": "execute_result"
    }
   ],
   "source": [
    "meta[meta.series_id == 102781]"
   ]
  },
  {
   "cell_type": "code",
   "execution_count": 72,
   "metadata": {},
   "outputs": [
    {
     "data": {
      "text/html": [
       "<div>\n",
       "<style scoped>\n",
       "    .dataframe tbody tr th:only-of-type {\n",
       "        vertical-align: middle;\n",
       "    }\n",
       "\n",
       "    .dataframe tbody tr th {\n",
       "        vertical-align: top;\n",
       "    }\n",
       "\n",
       "    .dataframe thead th {\n",
       "        text-align: right;\n",
       "    }\n",
       "</style>\n",
       "<table border=\"1\" class=\"dataframe\">\n",
       "  <thead>\n",
       "    <tr style=\"text-align: right;\">\n",
       "      <th></th>\n",
       "      <th>series_id</th>\n",
       "      <th>timestamp</th>\n",
       "      <th>consumption</th>\n",
       "      <th>temperature</th>\n",
       "      <th>microsecond</th>\n",
       "    </tr>\n",
       "  </thead>\n",
       "  <tbody>\n",
       "  </tbody>\n",
       "</table>\n",
       "</div>"
      ],
      "text/plain": [
       "Empty DataFrame\n",
       "Columns: [series_id, timestamp, consumption, temperature, microsecond]\n",
       "Index: []"
      ]
     },
     "execution_count": 72,
     "metadata": {},
     "output_type": "execute_result"
    }
   ],
   "source": [
    "train[train.series_id == 102781]"
   ]
  },
  {
   "cell_type": "code",
   "execution_count": 75,
   "metadata": {
    "scrolled": false
   },
   "outputs": [
    {
     "data": {
      "text/html": [
       "<div>\n",
       "<style scoped>\n",
       "    .dataframe tbody tr th:only-of-type {\n",
       "        vertical-align: middle;\n",
       "    }\n",
       "\n",
       "    .dataframe tbody tr th {\n",
       "        vertical-align: top;\n",
       "    }\n",
       "\n",
       "    .dataframe thead th {\n",
       "        text-align: right;\n",
       "    }\n",
       "</style>\n",
       "<table border=\"1\" class=\"dataframe\">\n",
       "  <thead>\n",
       "    <tr style=\"text-align: right;\">\n",
       "      <th></th>\n",
       "      <th>series_id</th>\n",
       "      <th>timestamp</th>\n",
       "      <th>consumption</th>\n",
       "      <th>temperature</th>\n",
       "      <th>microsecond</th>\n",
       "    </tr>\n",
       "  </thead>\n",
       "  <tbody>\n",
       "    <tr>\n",
       "      <th>0</th>\n",
       "      <td>102781</td>\n",
       "      <td>2013-02-27 00:00:00</td>\n",
       "      <td>15295.740389</td>\n",
       "      <td>17.000</td>\n",
       "      <td>1361898000</td>\n",
       "    </tr>\n",
       "    <tr>\n",
       "      <th>1</th>\n",
       "      <td>102781</td>\n",
       "      <td>2013-02-27 01:00:00</td>\n",
       "      <td>15163.209562</td>\n",
       "      <td>18.250</td>\n",
       "      <td>1361901600</td>\n",
       "    </tr>\n",
       "    <tr>\n",
       "      <th>2</th>\n",
       "      <td>102781</td>\n",
       "      <td>2013-02-27 02:00:00</td>\n",
       "      <td>15022.264079</td>\n",
       "      <td>18.000</td>\n",
       "      <td>1361905200</td>\n",
       "    </tr>\n",
       "    <tr>\n",
       "      <th>3</th>\n",
       "      <td>102781</td>\n",
       "      <td>2013-02-27 03:00:00</td>\n",
       "      <td>15370.420458</td>\n",
       "      <td>17.000</td>\n",
       "      <td>1361908800</td>\n",
       "    </tr>\n",
       "    <tr>\n",
       "      <th>4</th>\n",
       "      <td>102781</td>\n",
       "      <td>2013-02-27 04:00:00</td>\n",
       "      <td>15303.103213</td>\n",
       "      <td>16.900</td>\n",
       "      <td>1361912400</td>\n",
       "    </tr>\n",
       "    <tr>\n",
       "      <th>5</th>\n",
       "      <td>102781</td>\n",
       "      <td>2013-02-27 05:00:00</td>\n",
       "      <td>14553.147024</td>\n",
       "      <td>17.000</td>\n",
       "      <td>1361916000</td>\n",
       "    </tr>\n",
       "    <tr>\n",
       "      <th>6</th>\n",
       "      <td>102781</td>\n",
       "      <td>2013-02-27 06:00:00</td>\n",
       "      <td>40747.970202</td>\n",
       "      <td>17.000</td>\n",
       "      <td>1361919600</td>\n",
       "    </tr>\n",
       "    <tr>\n",
       "      <th>7</th>\n",
       "      <td>102781</td>\n",
       "      <td>2013-02-27 07:00:00</td>\n",
       "      <td>91624.030364</td>\n",
       "      <td>16.900</td>\n",
       "      <td>1361923200</td>\n",
       "    </tr>\n",
       "    <tr>\n",
       "      <th>8</th>\n",
       "      <td>102781</td>\n",
       "      <td>2013-02-27 08:00:00</td>\n",
       "      <td>99778.883564</td>\n",
       "      <td>17.000</td>\n",
       "      <td>1361926800</td>\n",
       "    </tr>\n",
       "    <tr>\n",
       "      <th>9</th>\n",
       "      <td>102781</td>\n",
       "      <td>2013-02-27 09:00:00</td>\n",
       "      <td>104295.450008</td>\n",
       "      <td>19.000</td>\n",
       "      <td>1361930400</td>\n",
       "    </tr>\n",
       "    <tr>\n",
       "      <th>10</th>\n",
       "      <td>102781</td>\n",
       "      <td>2013-02-27 10:00:00</td>\n",
       "      <td>109748.146899</td>\n",
       "      <td>21.050</td>\n",
       "      <td>1361934000</td>\n",
       "    </tr>\n",
       "    <tr>\n",
       "      <th>11</th>\n",
       "      <td>102781</td>\n",
       "      <td>2013-02-27 11:00:00</td>\n",
       "      <td>108301.877951</td>\n",
       "      <td>21.000</td>\n",
       "      <td>1361937600</td>\n",
       "    </tr>\n",
       "    <tr>\n",
       "      <th>12</th>\n",
       "      <td>102781</td>\n",
       "      <td>2013-02-27 12:00:00</td>\n",
       "      <td>110916.732208</td>\n",
       "      <td>23.000</td>\n",
       "      <td>1361941200</td>\n",
       "    </tr>\n",
       "    <tr>\n",
       "      <th>13</th>\n",
       "      <td>102781</td>\n",
       "      <td>2013-02-27 13:00:00</td>\n",
       "      <td>108521.710831</td>\n",
       "      <td>24.100</td>\n",
       "      <td>1361944800</td>\n",
       "    </tr>\n",
       "    <tr>\n",
       "      <th>14</th>\n",
       "      <td>102781</td>\n",
       "      <td>2013-02-27 14:00:00</td>\n",
       "      <td>106486.415985</td>\n",
       "      <td>25.000</td>\n",
       "      <td>1361948400</td>\n",
       "    </tr>\n",
       "    <tr>\n",
       "      <th>15</th>\n",
       "      <td>102781</td>\n",
       "      <td>2013-02-27 15:00:00</td>\n",
       "      <td>105664.935223</td>\n",
       "      <td>25.000</td>\n",
       "      <td>1361952000</td>\n",
       "    </tr>\n",
       "    <tr>\n",
       "      <th>16</th>\n",
       "      <td>102781</td>\n",
       "      <td>2013-02-27 16:00:00</td>\n",
       "      <td>105741.718956</td>\n",
       "      <td>24.200</td>\n",
       "      <td>1361955600</td>\n",
       "    </tr>\n",
       "    <tr>\n",
       "      <th>17</th>\n",
       "      <td>102781</td>\n",
       "      <td>2013-02-27 17:00:00</td>\n",
       "      <td>88365.454946</td>\n",
       "      <td>23.000</td>\n",
       "      <td>1361959200</td>\n",
       "    </tr>\n",
       "    <tr>\n",
       "      <th>18</th>\n",
       "      <td>102781</td>\n",
       "      <td>2013-02-27 18:00:00</td>\n",
       "      <td>70688.366996</td>\n",
       "      <td>24.000</td>\n",
       "      <td>1361962800</td>\n",
       "    </tr>\n",
       "    <tr>\n",
       "      <th>19</th>\n",
       "      <td>102781</td>\n",
       "      <td>2013-02-27 19:00:00</td>\n",
       "      <td>24803.249492</td>\n",
       "      <td>21.700</td>\n",
       "      <td>1361966400</td>\n",
       "    </tr>\n",
       "    <tr>\n",
       "      <th>20</th>\n",
       "      <td>102781</td>\n",
       "      <td>2013-02-27 20:00:00</td>\n",
       "      <td>18551.160311</td>\n",
       "      <td>21.000</td>\n",
       "      <td>1361970000</td>\n",
       "    </tr>\n",
       "    <tr>\n",
       "      <th>21</th>\n",
       "      <td>102781</td>\n",
       "      <td>2013-02-27 21:00:00</td>\n",
       "      <td>14275.463386</td>\n",
       "      <td>19.000</td>\n",
       "      <td>1361973600</td>\n",
       "    </tr>\n",
       "    <tr>\n",
       "      <th>22</th>\n",
       "      <td>102781</td>\n",
       "      <td>2013-02-27 22:00:00</td>\n",
       "      <td>13638.053217</td>\n",
       "      <td>18.200</td>\n",
       "      <td>1361977200</td>\n",
       "    </tr>\n",
       "    <tr>\n",
       "      <th>23</th>\n",
       "      <td>102781</td>\n",
       "      <td>2013-02-27 23:00:00</td>\n",
       "      <td>12617.776214</td>\n",
       "      <td>19.000</td>\n",
       "      <td>1361980800</td>\n",
       "    </tr>\n",
       "    <tr>\n",
       "      <th>24</th>\n",
       "      <td>102781</td>\n",
       "      <td>2013-02-28 00:00:00</td>\n",
       "      <td>15790.101411</td>\n",
       "      <td>19.000</td>\n",
       "      <td>1361984400</td>\n",
       "    </tr>\n",
       "    <tr>\n",
       "      <th>25</th>\n",
       "      <td>102781</td>\n",
       "      <td>2013-02-28 01:00:00</td>\n",
       "      <td>17232.163031</td>\n",
       "      <td>17.950</td>\n",
       "      <td>1361988000</td>\n",
       "    </tr>\n",
       "    <tr>\n",
       "      <th>26</th>\n",
       "      <td>102781</td>\n",
       "      <td>2013-02-28 02:00:00</td>\n",
       "      <td>16065.681385</td>\n",
       "      <td>17.000</td>\n",
       "      <td>1361991600</td>\n",
       "    </tr>\n",
       "    <tr>\n",
       "      <th>27</th>\n",
       "      <td>102781</td>\n",
       "      <td>2013-02-28 03:00:00</td>\n",
       "      <td>15454.567015</td>\n",
       "      <td>17.000</td>\n",
       "      <td>1361995200</td>\n",
       "    </tr>\n",
       "    <tr>\n",
       "      <th>28</th>\n",
       "      <td>102781</td>\n",
       "      <td>2013-02-28 04:00:00</td>\n",
       "      <td>15405.130913</td>\n",
       "      <td>16.150</td>\n",
       "      <td>1361998800</td>\n",
       "    </tr>\n",
       "    <tr>\n",
       "      <th>29</th>\n",
       "      <td>102781</td>\n",
       "      <td>2013-02-28 05:00:00</td>\n",
       "      <td>16162.449926</td>\n",
       "      <td>17.000</td>\n",
       "      <td>1362002400</td>\n",
       "    </tr>\n",
       "    <tr>\n",
       "      <th>30</th>\n",
       "      <td>102781</td>\n",
       "      <td>2013-02-28 06:00:00</td>\n",
       "      <td>30250.687223</td>\n",
       "      <td>16.000</td>\n",
       "      <td>1362006000</td>\n",
       "    </tr>\n",
       "    <tr>\n",
       "      <th>31</th>\n",
       "      <td>102781</td>\n",
       "      <td>2013-02-28 07:00:00</td>\n",
       "      <td>106333.900350</td>\n",
       "      <td>16.200</td>\n",
       "      <td>1362009600</td>\n",
       "    </tr>\n",
       "    <tr>\n",
       "      <th>32</th>\n",
       "      <td>102781</td>\n",
       "      <td>2013-02-28 08:00:00</td>\n",
       "      <td>111332.205833</td>\n",
       "      <td>17.000</td>\n",
       "      <td>1362013200</td>\n",
       "    </tr>\n",
       "    <tr>\n",
       "      <th>33</th>\n",
       "      <td>102781</td>\n",
       "      <td>2013-02-28 09:00:00</td>\n",
       "      <td>118859.115352</td>\n",
       "      <td>18.000</td>\n",
       "      <td>1362016800</td>\n",
       "    </tr>\n",
       "    <tr>\n",
       "      <th>34</th>\n",
       "      <td>102781</td>\n",
       "      <td>2013-02-28 10:00:00</td>\n",
       "      <td>119989.834711</td>\n",
       "      <td>19.400</td>\n",
       "      <td>1362020400</td>\n",
       "    </tr>\n",
       "    <tr>\n",
       "      <th>35</th>\n",
       "      <td>102781</td>\n",
       "      <td>2013-02-28 11:00:00</td>\n",
       "      <td>124084.616539</td>\n",
       "      <td>21.000</td>\n",
       "      <td>1362024000</td>\n",
       "    </tr>\n",
       "    <tr>\n",
       "      <th>36</th>\n",
       "      <td>102781</td>\n",
       "      <td>2013-02-28 12:00:00</td>\n",
       "      <td>121735.875768</td>\n",
       "      <td>21.000</td>\n",
       "      <td>1362027600</td>\n",
       "    </tr>\n",
       "    <tr>\n",
       "      <th>37</th>\n",
       "      <td>102781</td>\n",
       "      <td>2013-02-28 13:00:00</td>\n",
       "      <td>119073.689072</td>\n",
       "      <td>21.850</td>\n",
       "      <td>1362031200</td>\n",
       "    </tr>\n",
       "    <tr>\n",
       "      <th>38</th>\n",
       "      <td>102781</td>\n",
       "      <td>2013-02-28 14:00:00</td>\n",
       "      <td>115123.008224</td>\n",
       "      <td>24.000</td>\n",
       "      <td>1362034800</td>\n",
       "    </tr>\n",
       "    <tr>\n",
       "      <th>39</th>\n",
       "      <td>102781</td>\n",
       "      <td>2013-02-28 15:00:00</td>\n",
       "      <td>115535.326353</td>\n",
       "      <td>23.325</td>\n",
       "      <td>1362038400</td>\n",
       "    </tr>\n",
       "    <tr>\n",
       "      <th>40</th>\n",
       "      <td>102781</td>\n",
       "      <td>2013-02-28 16:00:00</td>\n",
       "      <td>109239.060229</td>\n",
       "      <td>22.650</td>\n",
       "      <td>1362042000</td>\n",
       "    </tr>\n",
       "    <tr>\n",
       "      <th>41</th>\n",
       "      <td>102781</td>\n",
       "      <td>2013-02-28 17:00:00</td>\n",
       "      <td>88411.735553</td>\n",
       "      <td>23.000</td>\n",
       "      <td>1362045600</td>\n",
       "    </tr>\n",
       "    <tr>\n",
       "      <th>42</th>\n",
       "      <td>102781</td>\n",
       "      <td>2013-02-28 18:00:00</td>\n",
       "      <td>64843.336784</td>\n",
       "      <td>22.000</td>\n",
       "      <td>1362049200</td>\n",
       "    </tr>\n",
       "    <tr>\n",
       "      <th>43</th>\n",
       "      <td>102781</td>\n",
       "      <td>2013-02-28 19:00:00</td>\n",
       "      <td>19683.983334</td>\n",
       "      <td>20.900</td>\n",
       "      <td>1362052800</td>\n",
       "    </tr>\n",
       "    <tr>\n",
       "      <th>44</th>\n",
       "      <td>102781</td>\n",
       "      <td>2013-02-28 20:00:00</td>\n",
       "      <td>15065.389189</td>\n",
       "      <td>20.000</td>\n",
       "      <td>1362056400</td>\n",
       "    </tr>\n",
       "    <tr>\n",
       "      <th>45</th>\n",
       "      <td>102781</td>\n",
       "      <td>2013-02-28 21:00:00</td>\n",
       "      <td>12626.190870</td>\n",
       "      <td>19.000</td>\n",
       "      <td>1362060000</td>\n",
       "    </tr>\n",
       "    <tr>\n",
       "      <th>46</th>\n",
       "      <td>102781</td>\n",
       "      <td>2013-02-28 22:00:00</td>\n",
       "      <td>12021.387492</td>\n",
       "      <td>18.950</td>\n",
       "      <td>1362063600</td>\n",
       "    </tr>\n",
       "    <tr>\n",
       "      <th>47</th>\n",
       "      <td>102781</td>\n",
       "      <td>2013-02-28 23:00:00</td>\n",
       "      <td>11490.212351</td>\n",
       "      <td>19.000</td>\n",
       "      <td>1362067200</td>\n",
       "    </tr>\n",
       "    <tr>\n",
       "      <th>48</th>\n",
       "      <td>102781</td>\n",
       "      <td>2013-03-01 00:00:00</td>\n",
       "      <td>15000.175608</td>\n",
       "      <td>19.000</td>\n",
       "      <td>1362070800</td>\n",
       "    </tr>\n",
       "    <tr>\n",
       "      <th>49</th>\n",
       "      <td>102781</td>\n",
       "      <td>2013-03-01 01:00:00</td>\n",
       "      <td>16490.621498</td>\n",
       "      <td>19.150</td>\n",
       "      <td>1362074400</td>\n",
       "    </tr>\n",
       "    <tr>\n",
       "      <th>50</th>\n",
       "      <td>102781</td>\n",
       "      <td>2013-03-01 02:00:00</td>\n",
       "      <td>14932.858362</td>\n",
       "      <td>20.000</td>\n",
       "      <td>1362078000</td>\n",
       "    </tr>\n",
       "    <tr>\n",
       "      <th>51</th>\n",
       "      <td>102781</td>\n",
       "      <td>2013-03-01 03:00:00</td>\n",
       "      <td>14393.268566</td>\n",
       "      <td>20.000</td>\n",
       "      <td>1362081600</td>\n",
       "    </tr>\n",
       "    <tr>\n",
       "      <th>52</th>\n",
       "      <td>102781</td>\n",
       "      <td>2013-03-01 04:00:00</td>\n",
       "      <td>13882.078232</td>\n",
       "      <td>19.200</td>\n",
       "      <td>1362085200</td>\n",
       "    </tr>\n",
       "    <tr>\n",
       "      <th>53</th>\n",
       "      <td>102781</td>\n",
       "      <td>2013-03-01 05:00:00</td>\n",
       "      <td>13676.971000</td>\n",
       "      <td>19.000</td>\n",
       "      <td>1362088800</td>\n",
       "    </tr>\n",
       "    <tr>\n",
       "      <th>54</th>\n",
       "      <td>102781</td>\n",
       "      <td>2013-03-01 06:00:00</td>\n",
       "      <td>36805.704009</td>\n",
       "      <td>19.000</td>\n",
       "      <td>1362092400</td>\n",
       "    </tr>\n",
       "    <tr>\n",
       "      <th>55</th>\n",
       "      <td>102781</td>\n",
       "      <td>2013-03-01 07:00:00</td>\n",
       "      <td>89073.337857</td>\n",
       "      <td>19.050</td>\n",
       "      <td>1362096000</td>\n",
       "    </tr>\n",
       "    <tr>\n",
       "      <th>56</th>\n",
       "      <td>102781</td>\n",
       "      <td>2013-03-01 08:00:00</td>\n",
       "      <td>98375.739727</td>\n",
       "      <td>19.000</td>\n",
       "      <td>1362099600</td>\n",
       "    </tr>\n",
       "    <tr>\n",
       "      <th>57</th>\n",
       "      <td>102781</td>\n",
       "      <td>2013-03-01 09:00:00</td>\n",
       "      <td>103370.889714</td>\n",
       "      <td>19.000</td>\n",
       "      <td>1362103200</td>\n",
       "    </tr>\n",
       "    <tr>\n",
       "      <th>58</th>\n",
       "      <td>102781</td>\n",
       "      <td>2013-03-01 10:00:00</td>\n",
       "      <td>105591.306985</td>\n",
       "      <td>20.200</td>\n",
       "      <td>1362106800</td>\n",
       "    </tr>\n",
       "    <tr>\n",
       "      <th>59</th>\n",
       "      <td>102781</td>\n",
       "      <td>2013-03-01 11:00:00</td>\n",
       "      <td>99782.039060</td>\n",
       "      <td>21.000</td>\n",
       "      <td>1362110400</td>\n",
       "    </tr>\n",
       "    <tr>\n",
       "      <th>60</th>\n",
       "      <td>102781</td>\n",
       "      <td>2013-03-01 12:00:00</td>\n",
       "      <td>95583.125868</td>\n",
       "      <td>22.000</td>\n",
       "      <td>1362114000</td>\n",
       "    </tr>\n",
       "    <tr>\n",
       "      <th>61</th>\n",
       "      <td>102781</td>\n",
       "      <td>2013-03-01 13:00:00</td>\n",
       "      <td>98823.820143</td>\n",
       "      <td>22.100</td>\n",
       "      <td>1362117600</td>\n",
       "    </tr>\n",
       "    <tr>\n",
       "      <th>62</th>\n",
       "      <td>102781</td>\n",
       "      <td>2013-03-01 14:00:00</td>\n",
       "      <td>87672.297683</td>\n",
       "      <td>22.000</td>\n",
       "      <td>1362121200</td>\n",
       "    </tr>\n",
       "    <tr>\n",
       "      <th>63</th>\n",
       "      <td>102781</td>\n",
       "      <td>2013-03-01 15:00:00</td>\n",
       "      <td>84580.963548</td>\n",
       "      <td>23.000</td>\n",
       "      <td>1362124800</td>\n",
       "    </tr>\n",
       "    <tr>\n",
       "      <th>64</th>\n",
       "      <td>102781</td>\n",
       "      <td>2013-03-01 16:00:00</td>\n",
       "      <td>73520.950469</td>\n",
       "      <td>22.250</td>\n",
       "      <td>1362128400</td>\n",
       "    </tr>\n",
       "    <tr>\n",
       "      <th>65</th>\n",
       "      <td>102781</td>\n",
       "      <td>2013-03-01 17:00:00</td>\n",
       "      <td>62160.113449</td>\n",
       "      <td>22.000</td>\n",
       "      <td>1362132000</td>\n",
       "    </tr>\n",
       "    <tr>\n",
       "      <th>66</th>\n",
       "      <td>102781</td>\n",
       "      <td>2013-03-01 18:00:00</td>\n",
       "      <td>52205.575762</td>\n",
       "      <td>21.000</td>\n",
       "      <td>1362135600</td>\n",
       "    </tr>\n",
       "    <tr>\n",
       "      <th>67</th>\n",
       "      <td>102781</td>\n",
       "      <td>2013-03-01 19:00:00</td>\n",
       "      <td>14183.954005</td>\n",
       "      <td>20.100</td>\n",
       "      <td>1362139200</td>\n",
       "    </tr>\n",
       "    <tr>\n",
       "      <th>68</th>\n",
       "      <td>102781</td>\n",
       "      <td>2013-03-01 20:00:00</td>\n",
       "      <td>12098.171225</td>\n",
       "      <td>19.000</td>\n",
       "      <td>1362142800</td>\n",
       "    </tr>\n",
       "    <tr>\n",
       "      <th>69</th>\n",
       "      <td>102781</td>\n",
       "      <td>2013-03-01 21:00:00</td>\n",
       "      <td>13121.603724</td>\n",
       "      <td>19.000</td>\n",
       "      <td>1362146400</td>\n",
       "    </tr>\n",
       "    <tr>\n",
       "      <th>70</th>\n",
       "      <td>102781</td>\n",
       "      <td>2013-03-01 22:00:00</td>\n",
       "      <td>12634.605526</td>\n",
       "      <td>18.900</td>\n",
       "      <td>1362150000</td>\n",
       "    </tr>\n",
       "    <tr>\n",
       "      <th>71</th>\n",
       "      <td>102781</td>\n",
       "      <td>2013-03-01 23:00:00</td>\n",
       "      <td>13062.701134</td>\n",
       "      <td>19.000</td>\n",
       "      <td>1362153600</td>\n",
       "    </tr>\n",
       "    <tr>\n",
       "      <th>72</th>\n",
       "      <td>102781</td>\n",
       "      <td>2013-03-02 00:00:00</td>\n",
       "      <td>15176.883377</td>\n",
       "      <td>19.000</td>\n",
       "      <td>1362157200</td>\n",
       "    </tr>\n",
       "    <tr>\n",
       "      <th>73</th>\n",
       "      <td>102781</td>\n",
       "      <td>2013-03-02 01:00:00</td>\n",
       "      <td>18262.958353</td>\n",
       "      <td>18.950</td>\n",
       "      <td>1362160800</td>\n",
       "    </tr>\n",
       "    <tr>\n",
       "      <th>74</th>\n",
       "      <td>102781</td>\n",
       "      <td>2013-03-02 02:00:00</td>\n",
       "      <td>17193.245248</td>\n",
       "      <td>19.000</td>\n",
       "      <td>1362164400</td>\n",
       "    </tr>\n",
       "    <tr>\n",
       "      <th>75</th>\n",
       "      <td>102781</td>\n",
       "      <td>2013-03-02 03:00:00</td>\n",
       "      <td>15608.134482</td>\n",
       "      <td>19.000</td>\n",
       "      <td>1362168000</td>\n",
       "    </tr>\n",
       "    <tr>\n",
       "      <th>76</th>\n",
       "      <td>102781</td>\n",
       "      <td>2013-03-02 04:00:00</td>\n",
       "      <td>14946.532178</td>\n",
       "      <td>18.200</td>\n",
       "      <td>1362171600</td>\n",
       "    </tr>\n",
       "    <tr>\n",
       "      <th>77</th>\n",
       "      <td>102781</td>\n",
       "      <td>2013-03-02 05:00:00</td>\n",
       "      <td>15108.514300</td>\n",
       "      <td>18.000</td>\n",
       "      <td>1362175200</td>\n",
       "    </tr>\n",
       "    <tr>\n",
       "      <th>78</th>\n",
       "      <td>102781</td>\n",
       "      <td>2013-03-02 06:00:00</td>\n",
       "      <td>14591.012975</td>\n",
       "      <td>18.000</td>\n",
       "      <td>1362178800</td>\n",
       "    </tr>\n",
       "    <tr>\n",
       "      <th>79</th>\n",
       "      <td>102781</td>\n",
       "      <td>2013-03-02 07:00:00</td>\n",
       "      <td>13843.160450</td>\n",
       "      <td>17.600</td>\n",
       "      <td>1362182400</td>\n",
       "    </tr>\n",
       "    <tr>\n",
       "      <th>80</th>\n",
       "      <td>102781</td>\n",
       "      <td>2013-03-02 08:00:00</td>\n",
       "      <td>13047.975487</td>\n",
       "      <td>17.000</td>\n",
       "      <td>1362186000</td>\n",
       "    </tr>\n",
       "    <tr>\n",
       "      <th>81</th>\n",
       "      <td>102781</td>\n",
       "      <td>2013-03-02 09:00:00</td>\n",
       "      <td>12550.458969</td>\n",
       "      <td>20.000</td>\n",
       "      <td>1362189600</td>\n",
       "    </tr>\n",
       "    <tr>\n",
       "      <th>82</th>\n",
       "      <td>102781</td>\n",
       "      <td>2013-03-02 10:00:00</td>\n",
       "      <td>12901.770844</td>\n",
       "      <td>20.850</td>\n",
       "      <td>1362193200</td>\n",
       "    </tr>\n",
       "    <tr>\n",
       "      <th>83</th>\n",
       "      <td>102781</td>\n",
       "      <td>2013-03-02 11:00:00</td>\n",
       "      <td>13069.012126</td>\n",
       "      <td>21.000</td>\n",
       "      <td>1362196800</td>\n",
       "    </tr>\n",
       "    <tr>\n",
       "      <th>84</th>\n",
       "      <td>102781</td>\n",
       "      <td>2013-03-02 12:00:00</td>\n",
       "      <td>15381.990610</td>\n",
       "      <td>23.000</td>\n",
       "      <td>1362200400</td>\n",
       "    </tr>\n",
       "    <tr>\n",
       "      <th>85</th>\n",
       "      <td>102781</td>\n",
       "      <td>2013-03-02 13:00:00</td>\n",
       "      <td>18237.714386</td>\n",
       "      <td>22.050</td>\n",
       "      <td>1362204000</td>\n",
       "    </tr>\n",
       "    <tr>\n",
       "      <th>86</th>\n",
       "      <td>102781</td>\n",
       "      <td>2013-03-02 14:00:00</td>\n",
       "      <td>17126.979835</td>\n",
       "      <td>23.000</td>\n",
       "      <td>1362207600</td>\n",
       "    </tr>\n",
       "    <tr>\n",
       "      <th>87</th>\n",
       "      <td>102781</td>\n",
       "      <td>2013-03-02 15:00:00</td>\n",
       "      <td>16104.599168</td>\n",
       "      <td>23.000</td>\n",
       "      <td>1362211200</td>\n",
       "    </tr>\n",
       "    <tr>\n",
       "      <th>88</th>\n",
       "      <td>102781</td>\n",
       "      <td>2013-03-02 16:00:00</td>\n",
       "      <td>19378.952065</td>\n",
       "      <td>23.050</td>\n",
       "      <td>1362214800</td>\n",
       "    </tr>\n",
       "    <tr>\n",
       "      <th>89</th>\n",
       "      <td>102781</td>\n",
       "      <td>2013-03-02 17:00:00</td>\n",
       "      <td>19599.836777</td>\n",
       "      <td>22.000</td>\n",
       "      <td>1362218400</td>\n",
       "    </tr>\n",
       "    <tr>\n",
       "      <th>90</th>\n",
       "      <td>102781</td>\n",
       "      <td>2013-03-02 18:00:00</td>\n",
       "      <td>16455.911043</td>\n",
       "      <td>22.000</td>\n",
       "      <td>1362222000</td>\n",
       "    </tr>\n",
       "    <tr>\n",
       "      <th>91</th>\n",
       "      <td>102781</td>\n",
       "      <td>2013-03-02 19:00:00</td>\n",
       "      <td>16595.804694</td>\n",
       "      <td>21.000</td>\n",
       "      <td>1362225600</td>\n",
       "    </tr>\n",
       "    <tr>\n",
       "      <th>92</th>\n",
       "      <td>102781</td>\n",
       "      <td>2013-03-02 20:00:00</td>\n",
       "      <td>18299.772472</td>\n",
       "      <td>20.000</td>\n",
       "      <td>1362229200</td>\n",
       "    </tr>\n",
       "    <tr>\n",
       "      <th>93</th>\n",
       "      <td>102781</td>\n",
       "      <td>2013-03-02 21:00:00</td>\n",
       "      <td>15130.602771</td>\n",
       "      <td>19.000</td>\n",
       "      <td>1362232800</td>\n",
       "    </tr>\n",
       "    <tr>\n",
       "      <th>94</th>\n",
       "      <td>102781</td>\n",
       "      <td>2013-03-02 22:00:00</td>\n",
       "      <td>14411.149709</td>\n",
       "      <td>18.800</td>\n",
       "      <td>1362236400</td>\n",
       "    </tr>\n",
       "    <tr>\n",
       "      <th>95</th>\n",
       "      <td>102781</td>\n",
       "      <td>2013-03-02 23:00:00</td>\n",
       "      <td>14486.881610</td>\n",
       "      <td>19.000</td>\n",
       "      <td>1362240000</td>\n",
       "    </tr>\n",
       "  </tbody>\n",
       "</table>\n",
       "</div>"
      ],
      "text/plain": [
       "    series_id            timestamp    consumption  temperature  microsecond\n",
       "0      102781  2013-02-27 00:00:00   15295.740389       17.000   1361898000\n",
       "1      102781  2013-02-27 01:00:00   15163.209562       18.250   1361901600\n",
       "2      102781  2013-02-27 02:00:00   15022.264079       18.000   1361905200\n",
       "3      102781  2013-02-27 03:00:00   15370.420458       17.000   1361908800\n",
       "4      102781  2013-02-27 04:00:00   15303.103213       16.900   1361912400\n",
       "5      102781  2013-02-27 05:00:00   14553.147024       17.000   1361916000\n",
       "6      102781  2013-02-27 06:00:00   40747.970202       17.000   1361919600\n",
       "7      102781  2013-02-27 07:00:00   91624.030364       16.900   1361923200\n",
       "8      102781  2013-02-27 08:00:00   99778.883564       17.000   1361926800\n",
       "9      102781  2013-02-27 09:00:00  104295.450008       19.000   1361930400\n",
       "10     102781  2013-02-27 10:00:00  109748.146899       21.050   1361934000\n",
       "11     102781  2013-02-27 11:00:00  108301.877951       21.000   1361937600\n",
       "12     102781  2013-02-27 12:00:00  110916.732208       23.000   1361941200\n",
       "13     102781  2013-02-27 13:00:00  108521.710831       24.100   1361944800\n",
       "14     102781  2013-02-27 14:00:00  106486.415985       25.000   1361948400\n",
       "15     102781  2013-02-27 15:00:00  105664.935223       25.000   1361952000\n",
       "16     102781  2013-02-27 16:00:00  105741.718956       24.200   1361955600\n",
       "17     102781  2013-02-27 17:00:00   88365.454946       23.000   1361959200\n",
       "18     102781  2013-02-27 18:00:00   70688.366996       24.000   1361962800\n",
       "19     102781  2013-02-27 19:00:00   24803.249492       21.700   1361966400\n",
       "20     102781  2013-02-27 20:00:00   18551.160311       21.000   1361970000\n",
       "21     102781  2013-02-27 21:00:00   14275.463386       19.000   1361973600\n",
       "22     102781  2013-02-27 22:00:00   13638.053217       18.200   1361977200\n",
       "23     102781  2013-02-27 23:00:00   12617.776214       19.000   1361980800\n",
       "24     102781  2013-02-28 00:00:00   15790.101411       19.000   1361984400\n",
       "25     102781  2013-02-28 01:00:00   17232.163031       17.950   1361988000\n",
       "26     102781  2013-02-28 02:00:00   16065.681385       17.000   1361991600\n",
       "27     102781  2013-02-28 03:00:00   15454.567015       17.000   1361995200\n",
       "28     102781  2013-02-28 04:00:00   15405.130913       16.150   1361998800\n",
       "29     102781  2013-02-28 05:00:00   16162.449926       17.000   1362002400\n",
       "30     102781  2013-02-28 06:00:00   30250.687223       16.000   1362006000\n",
       "31     102781  2013-02-28 07:00:00  106333.900350       16.200   1362009600\n",
       "32     102781  2013-02-28 08:00:00  111332.205833       17.000   1362013200\n",
       "33     102781  2013-02-28 09:00:00  118859.115352       18.000   1362016800\n",
       "34     102781  2013-02-28 10:00:00  119989.834711       19.400   1362020400\n",
       "35     102781  2013-02-28 11:00:00  124084.616539       21.000   1362024000\n",
       "36     102781  2013-02-28 12:00:00  121735.875768       21.000   1362027600\n",
       "37     102781  2013-02-28 13:00:00  119073.689072       21.850   1362031200\n",
       "38     102781  2013-02-28 14:00:00  115123.008224       24.000   1362034800\n",
       "39     102781  2013-02-28 15:00:00  115535.326353       23.325   1362038400\n",
       "40     102781  2013-02-28 16:00:00  109239.060229       22.650   1362042000\n",
       "41     102781  2013-02-28 17:00:00   88411.735553       23.000   1362045600\n",
       "42     102781  2013-02-28 18:00:00   64843.336784       22.000   1362049200\n",
       "43     102781  2013-02-28 19:00:00   19683.983334       20.900   1362052800\n",
       "44     102781  2013-02-28 20:00:00   15065.389189       20.000   1362056400\n",
       "45     102781  2013-02-28 21:00:00   12626.190870       19.000   1362060000\n",
       "46     102781  2013-02-28 22:00:00   12021.387492       18.950   1362063600\n",
       "47     102781  2013-02-28 23:00:00   11490.212351       19.000   1362067200\n",
       "48     102781  2013-03-01 00:00:00   15000.175608       19.000   1362070800\n",
       "49     102781  2013-03-01 01:00:00   16490.621498       19.150   1362074400\n",
       "50     102781  2013-03-01 02:00:00   14932.858362       20.000   1362078000\n",
       "51     102781  2013-03-01 03:00:00   14393.268566       20.000   1362081600\n",
       "52     102781  2013-03-01 04:00:00   13882.078232       19.200   1362085200\n",
       "53     102781  2013-03-01 05:00:00   13676.971000       19.000   1362088800\n",
       "54     102781  2013-03-01 06:00:00   36805.704009       19.000   1362092400\n",
       "55     102781  2013-03-01 07:00:00   89073.337857       19.050   1362096000\n",
       "56     102781  2013-03-01 08:00:00   98375.739727       19.000   1362099600\n",
       "57     102781  2013-03-01 09:00:00  103370.889714       19.000   1362103200\n",
       "58     102781  2013-03-01 10:00:00  105591.306985       20.200   1362106800\n",
       "59     102781  2013-03-01 11:00:00   99782.039060       21.000   1362110400\n",
       "60     102781  2013-03-01 12:00:00   95583.125868       22.000   1362114000\n",
       "61     102781  2013-03-01 13:00:00   98823.820143       22.100   1362117600\n",
       "62     102781  2013-03-01 14:00:00   87672.297683       22.000   1362121200\n",
       "63     102781  2013-03-01 15:00:00   84580.963548       23.000   1362124800\n",
       "64     102781  2013-03-01 16:00:00   73520.950469       22.250   1362128400\n",
       "65     102781  2013-03-01 17:00:00   62160.113449       22.000   1362132000\n",
       "66     102781  2013-03-01 18:00:00   52205.575762       21.000   1362135600\n",
       "67     102781  2013-03-01 19:00:00   14183.954005       20.100   1362139200\n",
       "68     102781  2013-03-01 20:00:00   12098.171225       19.000   1362142800\n",
       "69     102781  2013-03-01 21:00:00   13121.603724       19.000   1362146400\n",
       "70     102781  2013-03-01 22:00:00   12634.605526       18.900   1362150000\n",
       "71     102781  2013-03-01 23:00:00   13062.701134       19.000   1362153600\n",
       "72     102781  2013-03-02 00:00:00   15176.883377       19.000   1362157200\n",
       "73     102781  2013-03-02 01:00:00   18262.958353       18.950   1362160800\n",
       "74     102781  2013-03-02 02:00:00   17193.245248       19.000   1362164400\n",
       "75     102781  2013-03-02 03:00:00   15608.134482       19.000   1362168000\n",
       "76     102781  2013-03-02 04:00:00   14946.532178       18.200   1362171600\n",
       "77     102781  2013-03-02 05:00:00   15108.514300       18.000   1362175200\n",
       "78     102781  2013-03-02 06:00:00   14591.012975       18.000   1362178800\n",
       "79     102781  2013-03-02 07:00:00   13843.160450       17.600   1362182400\n",
       "80     102781  2013-03-02 08:00:00   13047.975487       17.000   1362186000\n",
       "81     102781  2013-03-02 09:00:00   12550.458969       20.000   1362189600\n",
       "82     102781  2013-03-02 10:00:00   12901.770844       20.850   1362193200\n",
       "83     102781  2013-03-02 11:00:00   13069.012126       21.000   1362196800\n",
       "84     102781  2013-03-02 12:00:00   15381.990610       23.000   1362200400\n",
       "85     102781  2013-03-02 13:00:00   18237.714386       22.050   1362204000\n",
       "86     102781  2013-03-02 14:00:00   17126.979835       23.000   1362207600\n",
       "87     102781  2013-03-02 15:00:00   16104.599168       23.000   1362211200\n",
       "88     102781  2013-03-02 16:00:00   19378.952065       23.050   1362214800\n",
       "89     102781  2013-03-02 17:00:00   19599.836777       22.000   1362218400\n",
       "90     102781  2013-03-02 18:00:00   16455.911043       22.000   1362222000\n",
       "91     102781  2013-03-02 19:00:00   16595.804694       21.000   1362225600\n",
       "92     102781  2013-03-02 20:00:00   18299.772472       20.000   1362229200\n",
       "93     102781  2013-03-02 21:00:00   15130.602771       19.000   1362232800\n",
       "94     102781  2013-03-02 22:00:00   14411.149709       18.800   1362236400\n",
       "95     102781  2013-03-02 23:00:00   14486.881610       19.000   1362240000"
      ]
     },
     "execution_count": 75,
     "metadata": {},
     "output_type": "execute_result"
    }
   ],
   "source": [
    "test[test.series_id == 102781]"
   ]
  }
 ],
 "metadata": {
  "kernelspec": {
   "display_name": "Python 3",
   "language": "python",
   "name": "python3"
  },
  "language_info": {
   "codemirror_mode": {
    "name": "ipython",
    "version": 3
   },
   "file_extension": ".py",
   "mimetype": "text/x-python",
   "name": "python",
   "nbconvert_exporter": "python",
   "pygments_lexer": "ipython3",
   "version": "3.6.2"
  }
 },
 "nbformat": 4,
 "nbformat_minor": 2
}
